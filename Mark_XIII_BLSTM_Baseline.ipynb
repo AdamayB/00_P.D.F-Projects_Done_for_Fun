{
  "cells": [
    {
      "cell_type": "markdown",
      "metadata": {
        "id": "view-in-github",
        "colab_type": "text"
      },
      "source": [
        "<a href=\"https://colab.research.google.com/github/AdamayB/00_P.D.F-Projects_Done_for_Fun/blob/main/Mark_XIII_BLSTM_Baseline.ipynb\" target=\"_parent\"><img src=\"https://colab.research.google.com/assets/colab-badge.svg\" alt=\"Open In Colab\"/></a>"
      ]
    },
    {
      "cell_type": "code",
      "execution_count": null,
      "id": "j36zKaZ0AM49",
      "metadata": {
        "id": "j36zKaZ0AM49"
      },
      "outputs": [],
      "source": [
        "# !pip install pandas numpy seaborn tensorflow matplotlib"
      ]
    },
    {
      "cell_type": "code",
      "execution_count": null,
      "id": "488ab233",
      "metadata": {
        "id": "488ab233"
      },
      "outputs": [],
      "source": [
        "import pandas as pd\n",
        "import numpy as np\n",
        "import seaborn as sns\n",
        "import matplotlib.pyplot as plt\n",
        "%matplotlib inline"
      ]
    },
    {
      "cell_type": "code",
      "execution_count": null,
      "id": "efbda926",
      "metadata": {
        "id": "efbda926"
      },
      "outputs": [],
      "source": [
        "from sklearn.preprocessing import StandardScaler, LabelEncoder"
      ]
    },
    {
      "cell_type": "code",
      "execution_count": null,
      "id": "825bb4f4",
      "metadata": {
        "id": "825bb4f4"
      },
      "outputs": [],
      "source": [
        "le=LabelEncoder()"
      ]
    },
    {
      "cell_type": "code",
      "execution_count": null,
      "id": "92f11bae",
      "metadata": {
        "id": "92f11bae"
      },
      "outputs": [],
      "source": [
        "data = pd.read_csv(\"dataset.csv\")"
      ]
    },
    {
      "cell_type": "code",
      "execution_count": null,
      "id": "7b331bd2",
      "metadata": {
        "colab": {
          "base_uri": "https://localhost:8080/",
          "height": 446
        },
        "id": "7b331bd2",
        "outputId": "6a2509a1-b64b-4e11-ce9b-0ba4eae3c39d"
      },
      "outputs": [
        {
          "output_type": "execute_result",
          "data": {
            "text/plain": [
              "   S.NO      Age  Months Sex Lab No.         DOA Fever (P/A)  \\\n",
              "0     1  2Y0M28D      24   F  AUF001  19-06-2022           P   \n",
              "1     2  4Y11M7D      59   M  AUF004  21-06-2022           P   \n",
              "2     3      44Y     528   F  AUF006         NaN           P   \n",
              "3     4      41Y     492   M  AUF007         NaN           P   \n",
              "4     5      75Y     900   M  AUF008         NaN           A   \n",
              "\n",
              "   Duration of fever (days) Headache (P/A)  Duration of headache  ...  \\\n",
              "0                       3.0              A                   NaN  ...   \n",
              "1                       4.0              A                   NaN  ...   \n",
              "2                       7.0              P                  30.0  ...   \n",
              "3                       4.0              A                   NaN  ...   \n",
              "4                       NaN              A                   NaN  ...   \n",
              "\n",
              "  Malarial parasites (Done/Not done)  Malaria report  \\\n",
              "0                                NaN             NaN   \n",
              "1                                NaN             NaN   \n",
              "2                                NaN             NaN   \n",
              "3                                NaN             NaN   \n",
              "4                                NaN             NaN   \n",
              "\n",
              "  ELISA for leptospirosis (Done/Not done)  Lepto report CXR (Done/Not done)  \\\n",
              "0                                     NaN           NaN                 NaN   \n",
              "1                                     NaN           NaN                   D   \n",
              "2                                     NaN           NaN                   D   \n",
              "3                                     NaN           NaN                   D   \n",
              "4                                     NaN           NaN                   D   \n",
              "\n",
              "    Xray report  USG Abdomen (Done/Not done)  \\\n",
              "0           NaN                            D   \n",
              "1  Normal study                            D   \n",
              "2  Normal study                            D   \n",
              "3  Normal study                          NaN   \n",
              "4  Normal study                          NaN   \n",
              "\n",
              "                                      USG Abd report         Final Diagnosis  \\\n",
              "0                                       Normal study  Probable viral illness   \n",
              "1  Mild diffude bladder wall thickening s/o Dysfu...  Probable viral illness   \n",
              "2  Mild hepatosplenomegaly, minimal free fluid in...                     NaN   \n",
              "3                                                NaN                     NaN   \n",
              "4                                                NaN                     NaN   \n",
              "\n",
              "                AUF Result  \n",
              "0                 Negative  \n",
              "1                 Positive  \n",
              "2                 Negative  \n",
              "3                 Negative  \n",
              "4  Inconclusive for Dengue  \n",
              "\n",
              "[5 rows x 71 columns]"
            ],
            "text/html": [
              "\n",
              "  <div id=\"df-5f08d8d0-7ad7-41b8-875f-55bcd648e8ef\" class=\"colab-df-container\">\n",
              "    <div>\n",
              "<style scoped>\n",
              "    .dataframe tbody tr th:only-of-type {\n",
              "        vertical-align: middle;\n",
              "    }\n",
              "\n",
              "    .dataframe tbody tr th {\n",
              "        vertical-align: top;\n",
              "    }\n",
              "\n",
              "    .dataframe thead th {\n",
              "        text-align: right;\n",
              "    }\n",
              "</style>\n",
              "<table border=\"1\" class=\"dataframe\">\n",
              "  <thead>\n",
              "    <tr style=\"text-align: right;\">\n",
              "      <th></th>\n",
              "      <th>S.NO</th>\n",
              "      <th>Age</th>\n",
              "      <th>Months</th>\n",
              "      <th>Sex</th>\n",
              "      <th>Lab No.</th>\n",
              "      <th>DOA</th>\n",
              "      <th>Fever (P/A)</th>\n",
              "      <th>Duration of fever (days)</th>\n",
              "      <th>Headache (P/A)</th>\n",
              "      <th>Duration of headache</th>\n",
              "      <th>...</th>\n",
              "      <th>Malarial parasites (Done/Not done)</th>\n",
              "      <th>Malaria report</th>\n",
              "      <th>ELISA for leptospirosis (Done/Not done)</th>\n",
              "      <th>Lepto report</th>\n",
              "      <th>CXR (Done/Not done)</th>\n",
              "      <th>Xray report</th>\n",
              "      <th>USG Abdomen (Done/Not done)</th>\n",
              "      <th>USG Abd report</th>\n",
              "      <th>Final Diagnosis</th>\n",
              "      <th>AUF Result</th>\n",
              "    </tr>\n",
              "  </thead>\n",
              "  <tbody>\n",
              "    <tr>\n",
              "      <th>0</th>\n",
              "      <td>1</td>\n",
              "      <td>2Y0M28D</td>\n",
              "      <td>24</td>\n",
              "      <td>F</td>\n",
              "      <td>AUF001</td>\n",
              "      <td>19-06-2022</td>\n",
              "      <td>P</td>\n",
              "      <td>3.0</td>\n",
              "      <td>A</td>\n",
              "      <td>NaN</td>\n",
              "      <td>...</td>\n",
              "      <td>NaN</td>\n",
              "      <td>NaN</td>\n",
              "      <td>NaN</td>\n",
              "      <td>NaN</td>\n",
              "      <td>NaN</td>\n",
              "      <td>NaN</td>\n",
              "      <td>D</td>\n",
              "      <td>Normal study</td>\n",
              "      <td>Probable viral illness</td>\n",
              "      <td>Negative</td>\n",
              "    </tr>\n",
              "    <tr>\n",
              "      <th>1</th>\n",
              "      <td>2</td>\n",
              "      <td>4Y11M7D</td>\n",
              "      <td>59</td>\n",
              "      <td>M</td>\n",
              "      <td>AUF004</td>\n",
              "      <td>21-06-2022</td>\n",
              "      <td>P</td>\n",
              "      <td>4.0</td>\n",
              "      <td>A</td>\n",
              "      <td>NaN</td>\n",
              "      <td>...</td>\n",
              "      <td>NaN</td>\n",
              "      <td>NaN</td>\n",
              "      <td>NaN</td>\n",
              "      <td>NaN</td>\n",
              "      <td>D</td>\n",
              "      <td>Normal study</td>\n",
              "      <td>D</td>\n",
              "      <td>Mild diffude bladder wall thickening s/o Dysfu...</td>\n",
              "      <td>Probable viral illness</td>\n",
              "      <td>Positive</td>\n",
              "    </tr>\n",
              "    <tr>\n",
              "      <th>2</th>\n",
              "      <td>3</td>\n",
              "      <td>44Y</td>\n",
              "      <td>528</td>\n",
              "      <td>F</td>\n",
              "      <td>AUF006</td>\n",
              "      <td>NaN</td>\n",
              "      <td>P</td>\n",
              "      <td>7.0</td>\n",
              "      <td>P</td>\n",
              "      <td>30.0</td>\n",
              "      <td>...</td>\n",
              "      <td>NaN</td>\n",
              "      <td>NaN</td>\n",
              "      <td>NaN</td>\n",
              "      <td>NaN</td>\n",
              "      <td>D</td>\n",
              "      <td>Normal study</td>\n",
              "      <td>D</td>\n",
              "      <td>Mild hepatosplenomegaly, minimal free fluid in...</td>\n",
              "      <td>NaN</td>\n",
              "      <td>Negative</td>\n",
              "    </tr>\n",
              "    <tr>\n",
              "      <th>3</th>\n",
              "      <td>4</td>\n",
              "      <td>41Y</td>\n",
              "      <td>492</td>\n",
              "      <td>M</td>\n",
              "      <td>AUF007</td>\n",
              "      <td>NaN</td>\n",
              "      <td>P</td>\n",
              "      <td>4.0</td>\n",
              "      <td>A</td>\n",
              "      <td>NaN</td>\n",
              "      <td>...</td>\n",
              "      <td>NaN</td>\n",
              "      <td>NaN</td>\n",
              "      <td>NaN</td>\n",
              "      <td>NaN</td>\n",
              "      <td>D</td>\n",
              "      <td>Normal study</td>\n",
              "      <td>NaN</td>\n",
              "      <td>NaN</td>\n",
              "      <td>NaN</td>\n",
              "      <td>Negative</td>\n",
              "    </tr>\n",
              "    <tr>\n",
              "      <th>4</th>\n",
              "      <td>5</td>\n",
              "      <td>75Y</td>\n",
              "      <td>900</td>\n",
              "      <td>M</td>\n",
              "      <td>AUF008</td>\n",
              "      <td>NaN</td>\n",
              "      <td>A</td>\n",
              "      <td>NaN</td>\n",
              "      <td>A</td>\n",
              "      <td>NaN</td>\n",
              "      <td>...</td>\n",
              "      <td>NaN</td>\n",
              "      <td>NaN</td>\n",
              "      <td>NaN</td>\n",
              "      <td>NaN</td>\n",
              "      <td>D</td>\n",
              "      <td>Normal study</td>\n",
              "      <td>NaN</td>\n",
              "      <td>NaN</td>\n",
              "      <td>NaN</td>\n",
              "      <td>Inconclusive for Dengue</td>\n",
              "    </tr>\n",
              "  </tbody>\n",
              "</table>\n",
              "<p>5 rows × 71 columns</p>\n",
              "</div>\n",
              "    <div class=\"colab-df-buttons\">\n",
              "\n",
              "  <div class=\"colab-df-container\">\n",
              "    <button class=\"colab-df-convert\" onclick=\"convertToInteractive('df-5f08d8d0-7ad7-41b8-875f-55bcd648e8ef')\"\n",
              "            title=\"Convert this dataframe to an interactive table.\"\n",
              "            style=\"display:none;\">\n",
              "\n",
              "  <svg xmlns=\"http://www.w3.org/2000/svg\" height=\"24px\" viewBox=\"0 -960 960 960\">\n",
              "    <path d=\"M120-120v-720h720v720H120Zm60-500h600v-160H180v160Zm220 220h160v-160H400v160Zm0 220h160v-160H400v160ZM180-400h160v-160H180v160Zm440 0h160v-160H620v160ZM180-180h160v-160H180v160Zm440 0h160v-160H620v160Z\"/>\n",
              "  </svg>\n",
              "    </button>\n",
              "\n",
              "  <style>\n",
              "    .colab-df-container {\n",
              "      display:flex;\n",
              "      gap: 12px;\n",
              "    }\n",
              "\n",
              "    .colab-df-convert {\n",
              "      background-color: #E8F0FE;\n",
              "      border: none;\n",
              "      border-radius: 50%;\n",
              "      cursor: pointer;\n",
              "      display: none;\n",
              "      fill: #1967D2;\n",
              "      height: 32px;\n",
              "      padding: 0 0 0 0;\n",
              "      width: 32px;\n",
              "    }\n",
              "\n",
              "    .colab-df-convert:hover {\n",
              "      background-color: #E2EBFA;\n",
              "      box-shadow: 0px 1px 2px rgba(60, 64, 67, 0.3), 0px 1px 3px 1px rgba(60, 64, 67, 0.15);\n",
              "      fill: #174EA6;\n",
              "    }\n",
              "\n",
              "    .colab-df-buttons div {\n",
              "      margin-bottom: 4px;\n",
              "    }\n",
              "\n",
              "    [theme=dark] .colab-df-convert {\n",
              "      background-color: #3B4455;\n",
              "      fill: #D2E3FC;\n",
              "    }\n",
              "\n",
              "    [theme=dark] .colab-df-convert:hover {\n",
              "      background-color: #434B5C;\n",
              "      box-shadow: 0px 1px 3px 1px rgba(0, 0, 0, 0.15);\n",
              "      filter: drop-shadow(0px 1px 2px rgba(0, 0, 0, 0.3));\n",
              "      fill: #FFFFFF;\n",
              "    }\n",
              "  </style>\n",
              "\n",
              "    <script>\n",
              "      const buttonEl =\n",
              "        document.querySelector('#df-5f08d8d0-7ad7-41b8-875f-55bcd648e8ef button.colab-df-convert');\n",
              "      buttonEl.style.display =\n",
              "        google.colab.kernel.accessAllowed ? 'block' : 'none';\n",
              "\n",
              "      async function convertToInteractive(key) {\n",
              "        const element = document.querySelector('#df-5f08d8d0-7ad7-41b8-875f-55bcd648e8ef');\n",
              "        const dataTable =\n",
              "          await google.colab.kernel.invokeFunction('convertToInteractive',\n",
              "                                                    [key], {});\n",
              "        if (!dataTable) return;\n",
              "\n",
              "        const docLinkHtml = 'Like what you see? Visit the ' +\n",
              "          '<a target=\"_blank\" href=https://colab.research.google.com/notebooks/data_table.ipynb>data table notebook</a>'\n",
              "          + ' to learn more about interactive tables.';\n",
              "        element.innerHTML = '';\n",
              "        dataTable['output_type'] = 'display_data';\n",
              "        await google.colab.output.renderOutput(dataTable, element);\n",
              "        const docLink = document.createElement('div');\n",
              "        docLink.innerHTML = docLinkHtml;\n",
              "        element.appendChild(docLink);\n",
              "      }\n",
              "    </script>\n",
              "  </div>\n",
              "\n",
              "\n",
              "<div id=\"df-91baec30-9108-4fec-88ea-a3b8fe8a477b\">\n",
              "  <button class=\"colab-df-quickchart\" onclick=\"quickchart('df-91baec30-9108-4fec-88ea-a3b8fe8a477b')\"\n",
              "            title=\"Suggest charts\"\n",
              "            style=\"display:none;\">\n",
              "\n",
              "<svg xmlns=\"http://www.w3.org/2000/svg\" height=\"24px\"viewBox=\"0 0 24 24\"\n",
              "     width=\"24px\">\n",
              "    <g>\n",
              "        <path d=\"M19 3H5c-1.1 0-2 .9-2 2v14c0 1.1.9 2 2 2h14c1.1 0 2-.9 2-2V5c0-1.1-.9-2-2-2zM9 17H7v-7h2v7zm4 0h-2V7h2v10zm4 0h-2v-4h2v4z\"/>\n",
              "    </g>\n",
              "</svg>\n",
              "  </button>\n",
              "\n",
              "<style>\n",
              "  .colab-df-quickchart {\n",
              "      --bg-color: #E8F0FE;\n",
              "      --fill-color: #1967D2;\n",
              "      --hover-bg-color: #E2EBFA;\n",
              "      --hover-fill-color: #174EA6;\n",
              "      --disabled-fill-color: #AAA;\n",
              "      --disabled-bg-color: #DDD;\n",
              "  }\n",
              "\n",
              "  [theme=dark] .colab-df-quickchart {\n",
              "      --bg-color: #3B4455;\n",
              "      --fill-color: #D2E3FC;\n",
              "      --hover-bg-color: #434B5C;\n",
              "      --hover-fill-color: #FFFFFF;\n",
              "      --disabled-bg-color: #3B4455;\n",
              "      --disabled-fill-color: #666;\n",
              "  }\n",
              "\n",
              "  .colab-df-quickchart {\n",
              "    background-color: var(--bg-color);\n",
              "    border: none;\n",
              "    border-radius: 50%;\n",
              "    cursor: pointer;\n",
              "    display: none;\n",
              "    fill: var(--fill-color);\n",
              "    height: 32px;\n",
              "    padding: 0;\n",
              "    width: 32px;\n",
              "  }\n",
              "\n",
              "  .colab-df-quickchart:hover {\n",
              "    background-color: var(--hover-bg-color);\n",
              "    box-shadow: 0 1px 2px rgba(60, 64, 67, 0.3), 0 1px 3px 1px rgba(60, 64, 67, 0.15);\n",
              "    fill: var(--button-hover-fill-color);\n",
              "  }\n",
              "\n",
              "  .colab-df-quickchart-complete:disabled,\n",
              "  .colab-df-quickchart-complete:disabled:hover {\n",
              "    background-color: var(--disabled-bg-color);\n",
              "    fill: var(--disabled-fill-color);\n",
              "    box-shadow: none;\n",
              "  }\n",
              "\n",
              "  .colab-df-spinner {\n",
              "    border: 2px solid var(--fill-color);\n",
              "    border-color: transparent;\n",
              "    border-bottom-color: var(--fill-color);\n",
              "    animation:\n",
              "      spin 1s steps(1) infinite;\n",
              "  }\n",
              "\n",
              "  @keyframes spin {\n",
              "    0% {\n",
              "      border-color: transparent;\n",
              "      border-bottom-color: var(--fill-color);\n",
              "      border-left-color: var(--fill-color);\n",
              "    }\n",
              "    20% {\n",
              "      border-color: transparent;\n",
              "      border-left-color: var(--fill-color);\n",
              "      border-top-color: var(--fill-color);\n",
              "    }\n",
              "    30% {\n",
              "      border-color: transparent;\n",
              "      border-left-color: var(--fill-color);\n",
              "      border-top-color: var(--fill-color);\n",
              "      border-right-color: var(--fill-color);\n",
              "    }\n",
              "    40% {\n",
              "      border-color: transparent;\n",
              "      border-right-color: var(--fill-color);\n",
              "      border-top-color: var(--fill-color);\n",
              "    }\n",
              "    60% {\n",
              "      border-color: transparent;\n",
              "      border-right-color: var(--fill-color);\n",
              "    }\n",
              "    80% {\n",
              "      border-color: transparent;\n",
              "      border-right-color: var(--fill-color);\n",
              "      border-bottom-color: var(--fill-color);\n",
              "    }\n",
              "    90% {\n",
              "      border-color: transparent;\n",
              "      border-bottom-color: var(--fill-color);\n",
              "    }\n",
              "  }\n",
              "</style>\n",
              "\n",
              "  <script>\n",
              "    async function quickchart(key) {\n",
              "      const quickchartButtonEl =\n",
              "        document.querySelector('#' + key + ' button');\n",
              "      quickchartButtonEl.disabled = true;  // To prevent multiple clicks.\n",
              "      quickchartButtonEl.classList.add('colab-df-spinner');\n",
              "      try {\n",
              "        const charts = await google.colab.kernel.invokeFunction(\n",
              "            'suggestCharts', [key], {});\n",
              "      } catch (error) {\n",
              "        console.error('Error during call to suggestCharts:', error);\n",
              "      }\n",
              "      quickchartButtonEl.classList.remove('colab-df-spinner');\n",
              "      quickchartButtonEl.classList.add('colab-df-quickchart-complete');\n",
              "    }\n",
              "    (() => {\n",
              "      let quickchartButtonEl =\n",
              "        document.querySelector('#df-91baec30-9108-4fec-88ea-a3b8fe8a477b button');\n",
              "      quickchartButtonEl.style.display =\n",
              "        google.colab.kernel.accessAllowed ? 'block' : 'none';\n",
              "    })();\n",
              "  </script>\n",
              "</div>\n",
              "\n",
              "    </div>\n",
              "  </div>\n"
            ],
            "application/vnd.google.colaboratory.intrinsic+json": {
              "type": "dataframe",
              "variable_name": "data"
            }
          },
          "metadata": {},
          "execution_count": 6
        }
      ],
      "source": [
        "data.head()"
      ]
    },
    {
      "cell_type": "code",
      "execution_count": null,
      "id": "2a20af1a",
      "metadata": {
        "id": "2a20af1a"
      },
      "outputs": [],
      "source": [
        "data.drop(['S.NO','Age','Lab No.'],axis=1,inplace=True)"
      ]
    },
    {
      "cell_type": "code",
      "execution_count": null,
      "id": "8c58b52a",
      "metadata": {
        "colab": {
          "base_uri": "https://localhost:8080/",
          "height": 446
        },
        "id": "8c58b52a",
        "outputId": "8b376b15-6b87-487d-83d0-c7d4eb3cd09c"
      },
      "outputs": [
        {
          "output_type": "execute_result",
          "data": {
            "text/plain": [
              "   Months Sex         DOA Fever (P/A)  Duration of fever (days)  \\\n",
              "0      24   F  19-06-2022           P                       3.0   \n",
              "1      59   M  21-06-2022           P                       4.0   \n",
              "2     528   F         NaN           P                       7.0   \n",
              "3     492   M         NaN           P                       4.0   \n",
              "4     900   M         NaN           A                       NaN   \n",
              "\n",
              "  Headache (P/A)  Duration of headache Myalgia (P/A)  Duration of myalgia  \\\n",
              "0              A                   NaN             A                  NaN   \n",
              "1              A                   NaN             A                  NaN   \n",
              "2              P                  30.0             P                  5.0   \n",
              "3              A                   NaN             P                  4.0   \n",
              "4              A                   NaN             A                  NaN   \n",
              "\n",
              "  Cough (P/A)  ...  Malarial parasites (Done/Not done) Malaria report  \\\n",
              "0           A  ...                                 NaN            NaN   \n",
              "1           A  ...                                 NaN            NaN   \n",
              "2           P  ...                                 NaN            NaN   \n",
              "3           A  ...                                 NaN            NaN   \n",
              "4           A  ...                                 NaN            NaN   \n",
              "\n",
              "  ELISA for leptospirosis (Done/Not done)  Lepto report CXR (Done/Not done)  \\\n",
              "0                                     NaN           NaN                 NaN   \n",
              "1                                     NaN           NaN                   D   \n",
              "2                                     NaN           NaN                   D   \n",
              "3                                     NaN           NaN                   D   \n",
              "4                                     NaN           NaN                   D   \n",
              "\n",
              "    Xray report USG Abdomen (Done/Not done)  \\\n",
              "0           NaN                           D   \n",
              "1  Normal study                           D   \n",
              "2  Normal study                           D   \n",
              "3  Normal study                         NaN   \n",
              "4  Normal study                         NaN   \n",
              "\n",
              "                                      USG Abd report         Final Diagnosis  \\\n",
              "0                                       Normal study  Probable viral illness   \n",
              "1  Mild diffude bladder wall thickening s/o Dysfu...  Probable viral illness   \n",
              "2  Mild hepatosplenomegaly, minimal free fluid in...                     NaN   \n",
              "3                                                NaN                     NaN   \n",
              "4                                                NaN                     NaN   \n",
              "\n",
              "                AUF Result  \n",
              "0                 Negative  \n",
              "1                 Positive  \n",
              "2                 Negative  \n",
              "3                 Negative  \n",
              "4  Inconclusive for Dengue  \n",
              "\n",
              "[5 rows x 68 columns]"
            ],
            "text/html": [
              "\n",
              "  <div id=\"df-053c0edd-8f0b-4f0b-9816-266c14c22f02\" class=\"colab-df-container\">\n",
              "    <div>\n",
              "<style scoped>\n",
              "    .dataframe tbody tr th:only-of-type {\n",
              "        vertical-align: middle;\n",
              "    }\n",
              "\n",
              "    .dataframe tbody tr th {\n",
              "        vertical-align: top;\n",
              "    }\n",
              "\n",
              "    .dataframe thead th {\n",
              "        text-align: right;\n",
              "    }\n",
              "</style>\n",
              "<table border=\"1\" class=\"dataframe\">\n",
              "  <thead>\n",
              "    <tr style=\"text-align: right;\">\n",
              "      <th></th>\n",
              "      <th>Months</th>\n",
              "      <th>Sex</th>\n",
              "      <th>DOA</th>\n",
              "      <th>Fever (P/A)</th>\n",
              "      <th>Duration of fever (days)</th>\n",
              "      <th>Headache (P/A)</th>\n",
              "      <th>Duration of headache</th>\n",
              "      <th>Myalgia (P/A)</th>\n",
              "      <th>Duration of myalgia</th>\n",
              "      <th>Cough (P/A)</th>\n",
              "      <th>...</th>\n",
              "      <th>Malarial parasites (Done/Not done)</th>\n",
              "      <th>Malaria report</th>\n",
              "      <th>ELISA for leptospirosis (Done/Not done)</th>\n",
              "      <th>Lepto report</th>\n",
              "      <th>CXR (Done/Not done)</th>\n",
              "      <th>Xray report</th>\n",
              "      <th>USG Abdomen (Done/Not done)</th>\n",
              "      <th>USG Abd report</th>\n",
              "      <th>Final Diagnosis</th>\n",
              "      <th>AUF Result</th>\n",
              "    </tr>\n",
              "  </thead>\n",
              "  <tbody>\n",
              "    <tr>\n",
              "      <th>0</th>\n",
              "      <td>24</td>\n",
              "      <td>F</td>\n",
              "      <td>19-06-2022</td>\n",
              "      <td>P</td>\n",
              "      <td>3.0</td>\n",
              "      <td>A</td>\n",
              "      <td>NaN</td>\n",
              "      <td>A</td>\n",
              "      <td>NaN</td>\n",
              "      <td>A</td>\n",
              "      <td>...</td>\n",
              "      <td>NaN</td>\n",
              "      <td>NaN</td>\n",
              "      <td>NaN</td>\n",
              "      <td>NaN</td>\n",
              "      <td>NaN</td>\n",
              "      <td>NaN</td>\n",
              "      <td>D</td>\n",
              "      <td>Normal study</td>\n",
              "      <td>Probable viral illness</td>\n",
              "      <td>Negative</td>\n",
              "    </tr>\n",
              "    <tr>\n",
              "      <th>1</th>\n",
              "      <td>59</td>\n",
              "      <td>M</td>\n",
              "      <td>21-06-2022</td>\n",
              "      <td>P</td>\n",
              "      <td>4.0</td>\n",
              "      <td>A</td>\n",
              "      <td>NaN</td>\n",
              "      <td>A</td>\n",
              "      <td>NaN</td>\n",
              "      <td>A</td>\n",
              "      <td>...</td>\n",
              "      <td>NaN</td>\n",
              "      <td>NaN</td>\n",
              "      <td>NaN</td>\n",
              "      <td>NaN</td>\n",
              "      <td>D</td>\n",
              "      <td>Normal study</td>\n",
              "      <td>D</td>\n",
              "      <td>Mild diffude bladder wall thickening s/o Dysfu...</td>\n",
              "      <td>Probable viral illness</td>\n",
              "      <td>Positive</td>\n",
              "    </tr>\n",
              "    <tr>\n",
              "      <th>2</th>\n",
              "      <td>528</td>\n",
              "      <td>F</td>\n",
              "      <td>NaN</td>\n",
              "      <td>P</td>\n",
              "      <td>7.0</td>\n",
              "      <td>P</td>\n",
              "      <td>30.0</td>\n",
              "      <td>P</td>\n",
              "      <td>5.0</td>\n",
              "      <td>P</td>\n",
              "      <td>...</td>\n",
              "      <td>NaN</td>\n",
              "      <td>NaN</td>\n",
              "      <td>NaN</td>\n",
              "      <td>NaN</td>\n",
              "      <td>D</td>\n",
              "      <td>Normal study</td>\n",
              "      <td>D</td>\n",
              "      <td>Mild hepatosplenomegaly, minimal free fluid in...</td>\n",
              "      <td>NaN</td>\n",
              "      <td>Negative</td>\n",
              "    </tr>\n",
              "    <tr>\n",
              "      <th>3</th>\n",
              "      <td>492</td>\n",
              "      <td>M</td>\n",
              "      <td>NaN</td>\n",
              "      <td>P</td>\n",
              "      <td>4.0</td>\n",
              "      <td>A</td>\n",
              "      <td>NaN</td>\n",
              "      <td>P</td>\n",
              "      <td>4.0</td>\n",
              "      <td>A</td>\n",
              "      <td>...</td>\n",
              "      <td>NaN</td>\n",
              "      <td>NaN</td>\n",
              "      <td>NaN</td>\n",
              "      <td>NaN</td>\n",
              "      <td>D</td>\n",
              "      <td>Normal study</td>\n",
              "      <td>NaN</td>\n",
              "      <td>NaN</td>\n",
              "      <td>NaN</td>\n",
              "      <td>Negative</td>\n",
              "    </tr>\n",
              "    <tr>\n",
              "      <th>4</th>\n",
              "      <td>900</td>\n",
              "      <td>M</td>\n",
              "      <td>NaN</td>\n",
              "      <td>A</td>\n",
              "      <td>NaN</td>\n",
              "      <td>A</td>\n",
              "      <td>NaN</td>\n",
              "      <td>A</td>\n",
              "      <td>NaN</td>\n",
              "      <td>A</td>\n",
              "      <td>...</td>\n",
              "      <td>NaN</td>\n",
              "      <td>NaN</td>\n",
              "      <td>NaN</td>\n",
              "      <td>NaN</td>\n",
              "      <td>D</td>\n",
              "      <td>Normal study</td>\n",
              "      <td>NaN</td>\n",
              "      <td>NaN</td>\n",
              "      <td>NaN</td>\n",
              "      <td>Inconclusive for Dengue</td>\n",
              "    </tr>\n",
              "  </tbody>\n",
              "</table>\n",
              "<p>5 rows × 68 columns</p>\n",
              "</div>\n",
              "    <div class=\"colab-df-buttons\">\n",
              "\n",
              "  <div class=\"colab-df-container\">\n",
              "    <button class=\"colab-df-convert\" onclick=\"convertToInteractive('df-053c0edd-8f0b-4f0b-9816-266c14c22f02')\"\n",
              "            title=\"Convert this dataframe to an interactive table.\"\n",
              "            style=\"display:none;\">\n",
              "\n",
              "  <svg xmlns=\"http://www.w3.org/2000/svg\" height=\"24px\" viewBox=\"0 -960 960 960\">\n",
              "    <path d=\"M120-120v-720h720v720H120Zm60-500h600v-160H180v160Zm220 220h160v-160H400v160Zm0 220h160v-160H400v160ZM180-400h160v-160H180v160Zm440 0h160v-160H620v160ZM180-180h160v-160H180v160Zm440 0h160v-160H620v160Z\"/>\n",
              "  </svg>\n",
              "    </button>\n",
              "\n",
              "  <style>\n",
              "    .colab-df-container {\n",
              "      display:flex;\n",
              "      gap: 12px;\n",
              "    }\n",
              "\n",
              "    .colab-df-convert {\n",
              "      background-color: #E8F0FE;\n",
              "      border: none;\n",
              "      border-radius: 50%;\n",
              "      cursor: pointer;\n",
              "      display: none;\n",
              "      fill: #1967D2;\n",
              "      height: 32px;\n",
              "      padding: 0 0 0 0;\n",
              "      width: 32px;\n",
              "    }\n",
              "\n",
              "    .colab-df-convert:hover {\n",
              "      background-color: #E2EBFA;\n",
              "      box-shadow: 0px 1px 2px rgba(60, 64, 67, 0.3), 0px 1px 3px 1px rgba(60, 64, 67, 0.15);\n",
              "      fill: #174EA6;\n",
              "    }\n",
              "\n",
              "    .colab-df-buttons div {\n",
              "      margin-bottom: 4px;\n",
              "    }\n",
              "\n",
              "    [theme=dark] .colab-df-convert {\n",
              "      background-color: #3B4455;\n",
              "      fill: #D2E3FC;\n",
              "    }\n",
              "\n",
              "    [theme=dark] .colab-df-convert:hover {\n",
              "      background-color: #434B5C;\n",
              "      box-shadow: 0px 1px 3px 1px rgba(0, 0, 0, 0.15);\n",
              "      filter: drop-shadow(0px 1px 2px rgba(0, 0, 0, 0.3));\n",
              "      fill: #FFFFFF;\n",
              "    }\n",
              "  </style>\n",
              "\n",
              "    <script>\n",
              "      const buttonEl =\n",
              "        document.querySelector('#df-053c0edd-8f0b-4f0b-9816-266c14c22f02 button.colab-df-convert');\n",
              "      buttonEl.style.display =\n",
              "        google.colab.kernel.accessAllowed ? 'block' : 'none';\n",
              "\n",
              "      async function convertToInteractive(key) {\n",
              "        const element = document.querySelector('#df-053c0edd-8f0b-4f0b-9816-266c14c22f02');\n",
              "        const dataTable =\n",
              "          await google.colab.kernel.invokeFunction('convertToInteractive',\n",
              "                                                    [key], {});\n",
              "        if (!dataTable) return;\n",
              "\n",
              "        const docLinkHtml = 'Like what you see? Visit the ' +\n",
              "          '<a target=\"_blank\" href=https://colab.research.google.com/notebooks/data_table.ipynb>data table notebook</a>'\n",
              "          + ' to learn more about interactive tables.';\n",
              "        element.innerHTML = '';\n",
              "        dataTable['output_type'] = 'display_data';\n",
              "        await google.colab.output.renderOutput(dataTable, element);\n",
              "        const docLink = document.createElement('div');\n",
              "        docLink.innerHTML = docLinkHtml;\n",
              "        element.appendChild(docLink);\n",
              "      }\n",
              "    </script>\n",
              "  </div>\n",
              "\n",
              "\n",
              "<div id=\"df-cdedeb5a-7016-4fd9-8c04-222782d59f73\">\n",
              "  <button class=\"colab-df-quickchart\" onclick=\"quickchart('df-cdedeb5a-7016-4fd9-8c04-222782d59f73')\"\n",
              "            title=\"Suggest charts\"\n",
              "            style=\"display:none;\">\n",
              "\n",
              "<svg xmlns=\"http://www.w3.org/2000/svg\" height=\"24px\"viewBox=\"0 0 24 24\"\n",
              "     width=\"24px\">\n",
              "    <g>\n",
              "        <path d=\"M19 3H5c-1.1 0-2 .9-2 2v14c0 1.1.9 2 2 2h14c1.1 0 2-.9 2-2V5c0-1.1-.9-2-2-2zM9 17H7v-7h2v7zm4 0h-2V7h2v10zm4 0h-2v-4h2v4z\"/>\n",
              "    </g>\n",
              "</svg>\n",
              "  </button>\n",
              "\n",
              "<style>\n",
              "  .colab-df-quickchart {\n",
              "      --bg-color: #E8F0FE;\n",
              "      --fill-color: #1967D2;\n",
              "      --hover-bg-color: #E2EBFA;\n",
              "      --hover-fill-color: #174EA6;\n",
              "      --disabled-fill-color: #AAA;\n",
              "      --disabled-bg-color: #DDD;\n",
              "  }\n",
              "\n",
              "  [theme=dark] .colab-df-quickchart {\n",
              "      --bg-color: #3B4455;\n",
              "      --fill-color: #D2E3FC;\n",
              "      --hover-bg-color: #434B5C;\n",
              "      --hover-fill-color: #FFFFFF;\n",
              "      --disabled-bg-color: #3B4455;\n",
              "      --disabled-fill-color: #666;\n",
              "  }\n",
              "\n",
              "  .colab-df-quickchart {\n",
              "    background-color: var(--bg-color);\n",
              "    border: none;\n",
              "    border-radius: 50%;\n",
              "    cursor: pointer;\n",
              "    display: none;\n",
              "    fill: var(--fill-color);\n",
              "    height: 32px;\n",
              "    padding: 0;\n",
              "    width: 32px;\n",
              "  }\n",
              "\n",
              "  .colab-df-quickchart:hover {\n",
              "    background-color: var(--hover-bg-color);\n",
              "    box-shadow: 0 1px 2px rgba(60, 64, 67, 0.3), 0 1px 3px 1px rgba(60, 64, 67, 0.15);\n",
              "    fill: var(--button-hover-fill-color);\n",
              "  }\n",
              "\n",
              "  .colab-df-quickchart-complete:disabled,\n",
              "  .colab-df-quickchart-complete:disabled:hover {\n",
              "    background-color: var(--disabled-bg-color);\n",
              "    fill: var(--disabled-fill-color);\n",
              "    box-shadow: none;\n",
              "  }\n",
              "\n",
              "  .colab-df-spinner {\n",
              "    border: 2px solid var(--fill-color);\n",
              "    border-color: transparent;\n",
              "    border-bottom-color: var(--fill-color);\n",
              "    animation:\n",
              "      spin 1s steps(1) infinite;\n",
              "  }\n",
              "\n",
              "  @keyframes spin {\n",
              "    0% {\n",
              "      border-color: transparent;\n",
              "      border-bottom-color: var(--fill-color);\n",
              "      border-left-color: var(--fill-color);\n",
              "    }\n",
              "    20% {\n",
              "      border-color: transparent;\n",
              "      border-left-color: var(--fill-color);\n",
              "      border-top-color: var(--fill-color);\n",
              "    }\n",
              "    30% {\n",
              "      border-color: transparent;\n",
              "      border-left-color: var(--fill-color);\n",
              "      border-top-color: var(--fill-color);\n",
              "      border-right-color: var(--fill-color);\n",
              "    }\n",
              "    40% {\n",
              "      border-color: transparent;\n",
              "      border-right-color: var(--fill-color);\n",
              "      border-top-color: var(--fill-color);\n",
              "    }\n",
              "    60% {\n",
              "      border-color: transparent;\n",
              "      border-right-color: var(--fill-color);\n",
              "    }\n",
              "    80% {\n",
              "      border-color: transparent;\n",
              "      border-right-color: var(--fill-color);\n",
              "      border-bottom-color: var(--fill-color);\n",
              "    }\n",
              "    90% {\n",
              "      border-color: transparent;\n",
              "      border-bottom-color: var(--fill-color);\n",
              "    }\n",
              "  }\n",
              "</style>\n",
              "\n",
              "  <script>\n",
              "    async function quickchart(key) {\n",
              "      const quickchartButtonEl =\n",
              "        document.querySelector('#' + key + ' button');\n",
              "      quickchartButtonEl.disabled = true;  // To prevent multiple clicks.\n",
              "      quickchartButtonEl.classList.add('colab-df-spinner');\n",
              "      try {\n",
              "        const charts = await google.colab.kernel.invokeFunction(\n",
              "            'suggestCharts', [key], {});\n",
              "      } catch (error) {\n",
              "        console.error('Error during call to suggestCharts:', error);\n",
              "      }\n",
              "      quickchartButtonEl.classList.remove('colab-df-spinner');\n",
              "      quickchartButtonEl.classList.add('colab-df-quickchart-complete');\n",
              "    }\n",
              "    (() => {\n",
              "      let quickchartButtonEl =\n",
              "        document.querySelector('#df-cdedeb5a-7016-4fd9-8c04-222782d59f73 button');\n",
              "      quickchartButtonEl.style.display =\n",
              "        google.colab.kernel.accessAllowed ? 'block' : 'none';\n",
              "    })();\n",
              "  </script>\n",
              "</div>\n",
              "\n",
              "    </div>\n",
              "  </div>\n"
            ],
            "application/vnd.google.colaboratory.intrinsic+json": {
              "type": "dataframe",
              "variable_name": "data"
            }
          },
          "metadata": {},
          "execution_count": 8
        }
      ],
      "source": [
        "data.head()"
      ]
    },
    {
      "cell_type": "code",
      "execution_count": null,
      "id": "33dd31da",
      "metadata": {
        "colab": {
          "base_uri": "https://localhost:8080/"
        },
        "id": "33dd31da",
        "outputId": "f082ced7-263b-4884-bc34-0ec1504e38b4"
      },
      "outputs": [
        {
          "output_type": "execute_result",
          "data": {
            "text/plain": [
              "Index(['Months', 'Sex', 'DOA', 'Fever (P/A)', 'Duration of fever (days)',\n",
              "       'Headache (P/A)', 'Duration of headache', 'Myalgia (P/A)',\n",
              "       'Duration of myalgia', 'Cough (P/A)', 'Duration of cough',\n",
              "       'Productive/Non productive (P/NP)', 'Dyspnea (P/A)',\n",
              "       'Duration of dyspnea', 'Vomiting (P/A)', 'Duration of vomiting',\n",
              "       'Hematuria (P/A)', 'Duration of hematuria', 'Edema (P/A)',\n",
              "       'Duration of edema', 'Anorexia (P/A)', 'Nausea (P/A)',\n",
              "       'Diarrhoea (P/A)', 'Past illness (P/A)', 'Comorbidities',\n",
              "       'Similar illness in family (P/A)',\n",
              "       'Any rodent bite/scratch/contact with rodent droppings (Y/N)', 'BP',\n",
              "       'RR', 'PR', 'Temperature', 'Crepitus/Rhonchi (P/A)', 'Petechiae (P/A)',\n",
              "       'Additional physical finding', 'Any specific renal sign', 'Total count',\n",
              "       'Hb/PCV', 'Differential count', 'Platelet count', 'Prothrombin time',\n",
              "       'SGOT', 'SGPT', 'Bilirubin', 'S. protein (g%)', 'S. albumin (g%)',\n",
              "       'A/G ratio', 'S. creatinine (mg%)', 'Urine protein (mg)',\n",
              "       'Urine output (24 hr) (ml/Kg/Hr)', 'Other Investigations if any',\n",
              "       'Bacterial culture & sensitivity (Positive / Negative / not done )',\n",
              "       'If positive, Organism', 'Dengue Viral Immunoassay (IgM) (Done/NA )',\n",
              "       'Dengue Viral Immunoassay (IgM) (Positive/Negative)',\n",
              "       'Typhidot / Widal (Done/Not done)', 'Typhi dot/ WIDAL Report',\n",
              "       'Weil Felix/Scrub typhus IgM (Done/Not done)', 'Scrub typhus Report',\n",
              "       'Malarial parasites (Done/Not done)', 'Malaria report',\n",
              "       'ELISA for leptospirosis (Done/Not done)', 'Lepto report',\n",
              "       'CXR (Done/Not done)', 'Xray report', 'USG Abdomen (Done/Not done)',\n",
              "       'USG Abd report', 'Final Diagnosis', 'AUF Result'],\n",
              "      dtype='object')"
            ]
          },
          "metadata": {},
          "execution_count": 9
        }
      ],
      "source": [
        "data.columns\n"
      ]
    },
    {
      "cell_type": "code",
      "execution_count": null,
      "id": "0c45c284",
      "metadata": {
        "colab": {
          "base_uri": "https://localhost:8080/"
        },
        "id": "0c45c284",
        "outputId": "3e97346a-4fd8-461f-8052-9f767f588c8b"
      },
      "outputs": [
        {
          "output_type": "stream",
          "name": "stdout",
          "text": [
            "<class 'pandas.core.frame.DataFrame'>\n",
            "RangeIndex: 361 entries, 0 to 360\n",
            "Data columns (total 68 columns):\n",
            " #   Column                                                             Non-Null Count  Dtype  \n",
            "---  ------                                                             --------------  -----  \n",
            " 0   Months                                                             361 non-null    int64  \n",
            " 1   Sex                                                                361 non-null    object \n",
            " 2   DOA                                                                312 non-null    object \n",
            " 3   Fever (P/A)                                                        361 non-null    object \n",
            " 4   Duration of fever (days)                                           356 non-null    float64\n",
            " 5   Headache (P/A)                                                     361 non-null    object \n",
            " 6   Duration of headache                                               95 non-null     float64\n",
            " 7   Myalgia (P/A)                                                      361 non-null    object \n",
            " 8   Duration of myalgia                                                111 non-null    float64\n",
            " 9   Cough (P/A)                                                        361 non-null    object \n",
            " 10  Duration of cough                                                  110 non-null    float64\n",
            " 11  Productive/Non productive (P/NP)                                   127 non-null    object \n",
            " 12  Dyspnea (P/A)                                                      360 non-null    object \n",
            " 13  Duration of dyspnea                                                37 non-null     float64\n",
            " 14  Vomiting (P/A)                                                     360 non-null    object \n",
            " 15  Duration of vomiting                                               171 non-null    float64\n",
            " 16  Hematuria (P/A)                                                    360 non-null    object \n",
            " 17  Duration of hematuria                                              10 non-null     float64\n",
            " 18  Edema (P/A)                                                        361 non-null    object \n",
            " 19  Duration of edema                                                  16 non-null     float64\n",
            " 20  Anorexia (P/A)                                                     361 non-null    object \n",
            " 21  Nausea (P/A)                                                       361 non-null    object \n",
            " 22  Diarrhoea (P/A)                                                    360 non-null    object \n",
            " 23  Past illness (P/A)                                                 355 non-null    object \n",
            " 24  Comorbidities                                                      360 non-null    object \n",
            " 25  Similar illness in family (P/A)                                    360 non-null    object \n",
            " 26  Any rodent bite/scratch/contact with rodent droppings (Y/N)        359 non-null    object \n",
            " 27  BP                                                                 358 non-null    object \n",
            " 28  RR                                                                 359 non-null    object \n",
            " 29  PR                                                                 359 non-null    object \n",
            " 30  Temperature                                                        360 non-null    object \n",
            " 31  Crepitus/Rhonchi (P/A)                                             361 non-null    object \n",
            " 32  Petechiae (P/A)                                                    361 non-null    object \n",
            " 33  Additional physical finding                                        361 non-null    object \n",
            " 34  Any specific renal sign                                            360 non-null    object \n",
            " 35  Total count                                                        234 non-null    float64\n",
            " 36  Hb/PCV                                                             334 non-null    object \n",
            " 37  Differential count                                                 234 non-null    object \n",
            " 38  Platelet count                                                     358 non-null    object \n",
            " 39  Prothrombin time                                                   96 non-null     object \n",
            " 40  SGOT                                                               341 non-null    object \n",
            " 41  SGPT                                                               341 non-null    object \n",
            " 42  Bilirubin                                                          197 non-null    object \n",
            " 43  S. protein (g%)                                                    189 non-null    object \n",
            " 44  S. albumin (g%)                                                    193 non-null    object \n",
            " 45  A/G ratio                                                          144 non-null    object \n",
            " 46  S. creatinine (mg%)                                                295 non-null    float64\n",
            " 47  Urine protein (mg)                                                 147 non-null    object \n",
            " 48  Urine output (24 hr) (ml/Kg/Hr)                                    66 non-null     object \n",
            " 49  Other Investigations if any                                        72 non-null     object \n",
            " 50  Bacterial culture & sensitivity (Positive / Negative / not done )  209 non-null    object \n",
            " 51  If positive, Organism                                              211 non-null    object \n",
            " 52  Dengue Viral Immunoassay (IgM) (Done/NA )                          211 non-null    object \n",
            " 53  Dengue Viral Immunoassay (IgM) (Positive/Negative)                 209 non-null    object \n",
            " 54  Typhidot / Widal (Done/Not done)                                   62 non-null     object \n",
            " 55  Typhi dot/ WIDAL Report                                            62 non-null     object \n",
            " 56  Weil Felix/Scrub typhus IgM (Done/Not done)                        79 non-null     object \n",
            " 57  Scrub typhus Report                                                79 non-null     object \n",
            " 58  Malarial parasites (Done/Not done)                                 51 non-null     object \n",
            " 59  Malaria report                                                     50 non-null     object \n",
            " 60  ELISA for leptospirosis (Done/Not done)                            77 non-null     object \n",
            " 61  Lepto report                                                       94 non-null     object \n",
            " 62  CXR (Done/Not done)                                                173 non-null    object \n",
            " 63  Xray report                                                        175 non-null    object \n",
            " 64  USG Abdomen (Done/Not done)                                        101 non-null    object \n",
            " 65  USG Abd report                                                     101 non-null    object \n",
            " 66  Final Diagnosis                                                    333 non-null    object \n",
            " 67  AUF Result                                                         360 non-null    object \n",
            "dtypes: float64(10), int64(1), object(57)\n",
            "memory usage: 191.9+ KB\n"
          ]
        }
      ],
      "source": [
        "data.info()"
      ]
    },
    {
      "cell_type": "code",
      "source": [
        "dNull={}\n",
        "for i in data.columns:\n",
        "  dNull[i]=data[i].isna().sum()"
      ],
      "metadata": {
        "id": "bknbvk9m2tWZ"
      },
      "id": "bknbvk9m2tWZ",
      "execution_count": null,
      "outputs": []
    },
    {
      "cell_type": "code",
      "source": [
        "dNull"
      ],
      "metadata": {
        "colab": {
          "base_uri": "https://localhost:8080/"
        },
        "id": "GnYsg-La3C51",
        "outputId": "1ca41888-7927-4f55-bed5-d2e661190dae"
      },
      "id": "GnYsg-La3C51",
      "execution_count": null,
      "outputs": [
        {
          "output_type": "execute_result",
          "data": {
            "text/plain": [
              "{'Months': 0,\n",
              " 'Sex': 0,\n",
              " 'DOA': 49,\n",
              " 'Fever (P/A)': 0,\n",
              " 'Duration of fever (days)': 5,\n",
              " 'Headache (P/A)': 0,\n",
              " 'Duration of headache': 266,\n",
              " 'Myalgia (P/A)': 0,\n",
              " 'Duration of myalgia': 250,\n",
              " 'Cough (P/A)': 0,\n",
              " 'Duration of cough': 251,\n",
              " 'Productive/Non productive (P/NP)': 234,\n",
              " 'Dyspnea (P/A)': 1,\n",
              " 'Duration of dyspnea': 324,\n",
              " 'Vomiting (P/A)': 1,\n",
              " 'Duration of vomiting': 190,\n",
              " 'Hematuria (P/A)': 1,\n",
              " 'Duration of hematuria': 351,\n",
              " 'Edema (P/A)': 0,\n",
              " 'Duration of edema': 345,\n",
              " 'Anorexia (P/A)': 0,\n",
              " 'Nausea (P/A)': 0,\n",
              " 'Diarrhoea (P/A)': 1,\n",
              " 'Past illness (P/A)': 6,\n",
              " 'Comorbidities': 1,\n",
              " 'Similar illness in family (P/A)': 1,\n",
              " 'Any rodent bite/scratch/contact with rodent droppings (Y/N)': 2,\n",
              " 'BP': 3,\n",
              " 'RR': 2,\n",
              " 'PR': 2,\n",
              " 'Temperature': 1,\n",
              " 'Crepitus/Rhonchi (P/A)': 0,\n",
              " 'Petechiae (P/A)': 0,\n",
              " 'Additional physical finding': 0,\n",
              " 'Any specific renal sign': 1,\n",
              " 'Total count': 127,\n",
              " 'Hb/PCV': 27,\n",
              " 'Differential count': 127,\n",
              " 'Platelet count': 3,\n",
              " 'Prothrombin time': 265,\n",
              " 'SGOT': 20,\n",
              " 'SGPT': 20,\n",
              " 'Bilirubin': 164,\n",
              " 'S. protein (g%)': 172,\n",
              " 'S. albumin (g%)': 168,\n",
              " 'A/G ratio': 217,\n",
              " 'S. creatinine (mg%)': 66,\n",
              " 'Urine protein (mg)': 214,\n",
              " 'Urine output (24 hr) (ml/Kg/Hr)': 295,\n",
              " 'Other Investigations if any': 289,\n",
              " 'Bacterial culture & sensitivity (Positive / Negative / not done )': 152,\n",
              " 'If positive, Organism': 150,\n",
              " 'Dengue Viral Immunoassay (IgM) (Done/NA )': 150,\n",
              " 'Dengue Viral Immunoassay (IgM) (Positive/Negative)': 152,\n",
              " 'Typhidot / Widal (Done/Not done)': 299,\n",
              " 'Typhi dot/ WIDAL Report': 299,\n",
              " 'Weil Felix/Scrub typhus IgM (Done/Not done)': 282,\n",
              " 'Scrub typhus Report': 282,\n",
              " 'Malarial parasites (Done/Not done)': 310,\n",
              " 'Malaria report': 311,\n",
              " 'ELISA for leptospirosis (Done/Not done)': 284,\n",
              " 'Lepto report': 267,\n",
              " 'CXR (Done/Not done)': 188,\n",
              " 'Xray report': 186,\n",
              " 'USG Abdomen (Done/Not done)': 260,\n",
              " 'USG Abd report': 260,\n",
              " 'Final Diagnosis': 28,\n",
              " 'AUF Result': 1}"
            ]
          },
          "metadata": {},
          "execution_count": 12
        }
      ]
    },
    {
      "cell_type": "code",
      "source": [
        "for i in dNull.keys():\n",
        "  if dNull[i]>200:\n",
        "    print(i,dNull[i])"
      ],
      "metadata": {
        "colab": {
          "base_uri": "https://localhost:8080/"
        },
        "id": "OmqntWQz3FWn",
        "outputId": "3d355f50-8533-42cc-bfb7-d9affc7f66eb"
      },
      "id": "OmqntWQz3FWn",
      "execution_count": null,
      "outputs": [
        {
          "output_type": "stream",
          "name": "stdout",
          "text": [
            "Duration of headache 266\n",
            "Duration of myalgia 250\n",
            "Duration of cough 251\n",
            "Productive/Non productive (P/NP) 234\n",
            "Duration of dyspnea 324\n",
            "Duration of hematuria 351\n",
            "Duration of edema 345\n",
            "Prothrombin time 265\n",
            "A/G ratio 217\n",
            "Urine protein (mg) 214\n",
            "Urine output (24 hr) (ml/Kg/Hr) 295\n",
            "Other Investigations if any 289\n",
            "Typhidot / Widal (Done/Not done) 299\n",
            "Typhi dot/ WIDAL Report 299\n",
            "Weil Felix/Scrub typhus IgM (Done/Not done) 282\n",
            "Scrub typhus Report 282\n",
            "Malarial parasites (Done/Not done) 310\n",
            "Malaria report 311\n",
            "ELISA for leptospirosis (Done/Not done) 284\n",
            "Lepto report 267\n",
            "USG Abdomen (Done/Not done) 260\n",
            "USG Abd report 260\n"
          ]
        }
      ]
    },
    {
      "cell_type": "markdown",
      "id": "25b89460",
      "metadata": {
        "id": "25b89460"
      },
      "source": [
        "### SEX ENCODING"
      ]
    },
    {
      "cell_type": "code",
      "execution_count": null,
      "id": "416d49fa",
      "metadata": {
        "colab": {
          "base_uri": "https://localhost:8080/"
        },
        "id": "416d49fa",
        "outputId": "db818911-601c-4182-dcb4-f22bc763f84e"
      },
      "outputs": [
        {
          "output_type": "stream",
          "name": "stdout",
          "text": [
            "Sex\n",
            "M    204\n",
            "F    157\n",
            "Name: count, dtype: int64\n",
            "================================================\n"
          ]
        }
      ],
      "source": [
        "print(data['Sex'].value_counts())\n",
        "print('================================================')"
      ]
    },
    {
      "cell_type": "code",
      "source": [
        "le=LabelEncoder()"
      ],
      "metadata": {
        "id": "pKtWKqc9YYih"
      },
      "id": "pKtWKqc9YYih",
      "execution_count": null,
      "outputs": []
    },
    {
      "cell_type": "code",
      "execution_count": null,
      "id": "a1a3e612",
      "metadata": {
        "id": "a1a3e612"
      },
      "outputs": [],
      "source": [
        "data['Sex']=le.fit_transform(data['Sex'])"
      ]
    },
    {
      "cell_type": "code",
      "source": [
        "data['Sex'].value_counts()"
      ],
      "metadata": {
        "colab": {
          "base_uri": "https://localhost:8080/"
        },
        "id": "jbe0fquKZiab",
        "outputId": "c2adc7aa-a4bf-4a1b-d555-466b2fa111e8"
      },
      "id": "jbe0fquKZiab",
      "execution_count": null,
      "outputs": [
        {
          "output_type": "execute_result",
          "data": {
            "text/plain": [
              "Sex\n",
              "1    204\n",
              "0    157\n",
              "Name: count, dtype: int64"
            ]
          },
          "metadata": {},
          "execution_count": 17
        }
      ]
    },
    {
      "cell_type": "markdown",
      "id": "77d5cbf5",
      "metadata": {
        "id": "77d5cbf5"
      },
      "source": [
        "### DOA Encoding"
      ]
    },
    {
      "cell_type": "code",
      "execution_count": null,
      "id": "f6c2886b",
      "metadata": {
        "colab": {
          "base_uri": "https://localhost:8080/"
        },
        "id": "f6c2886b",
        "outputId": "ce9197b0-d145-4773-a0e8-b90351eef0e4"
      },
      "outputs": [
        {
          "output_type": "execute_result",
          "data": {
            "text/plain": [
              "DOA\n",
              "05-01-2023    12\n",
              "09-01-2023     8\n",
              "02-01-2023     8\n",
              "16-01-2023     5\n",
              "17-01-2023     5\n",
              "              ..\n",
              "18-08-2022     1\n",
              "24-10-2022     1\n",
              "22-10-2022     1\n",
              "21-10-2022     1\n",
              "09-12-23       1\n",
              "Name: count, Length: 180, dtype: int64"
            ]
          },
          "metadata": {},
          "execution_count": 18
        }
      ],
      "source": [
        "data['DOA'].value_counts()"
      ]
    },
    {
      "cell_type": "code",
      "execution_count": null,
      "id": "53d877c1",
      "metadata": {
        "colab": {
          "base_uri": "https://localhost:8080/"
        },
        "id": "53d877c1",
        "outputId": "3261c155-3fde-40be-bdc0-5b2cce3d13f4"
      },
      "outputs": [
        {
          "output_type": "execute_result",
          "data": {
            "text/plain": [
              "49"
            ]
          },
          "metadata": {},
          "execution_count": 19
        }
      ],
      "source": [
        "data['DOA'].isna().sum()"
      ]
    },
    {
      "cell_type": "code",
      "execution_count": null,
      "id": "b0aebb27",
      "metadata": {
        "id": "b0aebb27"
      },
      "outputs": [],
      "source": [
        "data['DOA']=data['DOA'].fillna('0')"
      ]
    },
    {
      "cell_type": "code",
      "execution_count": null,
      "id": "702cd377",
      "metadata": {
        "id": "702cd377"
      },
      "outputs": [],
      "source": [
        "def doa(column):\n",
        "    pa=column\n",
        "    if pa!='0':\n",
        "        if '-' in pa:\n",
        "            l=pa.split('-')\n",
        "            if len(l[2])==4:\n",
        "                l[2]=l[2][2::]\n",
        "                return int(''.join(l))\n",
        "            else:\n",
        "                return int(''.join(l))\n",
        "        if '.' in pa:\n",
        "            l=pa.split('.')\n",
        "            if len(l[2])==4:\n",
        "                l[2]=l[2][2::]\n",
        "                return int(''.join(l))\n",
        "            else:\n",
        "                return int(''.join(l))\n",
        "    else:\n",
        "        return 0"
      ]
    },
    {
      "cell_type": "code",
      "execution_count": null,
      "id": "4f1b0811",
      "metadata": {
        "id": "4f1b0811"
      },
      "outputs": [],
      "source": [
        "data['DOA']=data['DOA'].apply(doa)"
      ]
    },
    {
      "cell_type": "code",
      "execution_count": null,
      "id": "5fc9e317",
      "metadata": {
        "colab": {
          "base_uri": "https://localhost:8080/"
        },
        "id": "5fc9e317",
        "outputId": "baf736ea-5f6e-456e-9bf5-aaa5a70adbdc"
      },
      "outputs": [
        {
          "output_type": "execute_result",
          "data": {
            "text/plain": [
              "0"
            ]
          },
          "metadata": {},
          "execution_count": 23
        }
      ],
      "source": [
        "data['DOA'].isna().sum()"
      ]
    },
    {
      "cell_type": "code",
      "execution_count": null,
      "id": "e4337e2d",
      "metadata": {
        "colab": {
          "base_uri": "https://localhost:8080/"
        },
        "id": "e4337e2d",
        "outputId": "91683c82-79ac-41dc-b09d-12378af76a30"
      },
      "outputs": [
        {
          "output_type": "execute_result",
          "data": {
            "text/plain": [
              "190622"
            ]
          },
          "metadata": {},
          "execution_count": 24
        }
      ],
      "source": [
        "data['DOA'][0]"
      ]
    },
    {
      "cell_type": "markdown",
      "id": "55bba17f",
      "metadata": {
        "id": "55bba17f"
      },
      "source": [
        "### Handling P/A values"
      ]
    },
    {
      "cell_type": "code",
      "execution_count": null,
      "id": "f76e3952",
      "metadata": {
        "id": "f76e3952"
      },
      "outputs": [],
      "source": [
        "pacolumns=['Fever (P/A)','Headache (P/A)','Myalgia (P/A)','Cough (P/A)','Dyspnea (P/A)','Vomiting (P/A)','Hematuria (P/A)','Edema (P/A)','Anorexia (P/A)','Nausea (P/A)','Diarrhoea (P/A)','Crepitus/Rhonchi (P/A)','Petechiae (P/A)']"
      ]
    },
    {
      "cell_type": "code",
      "execution_count": null,
      "id": "3cc8c131",
      "metadata": {
        "colab": {
          "base_uri": "https://localhost:8080/"
        },
        "id": "3cc8c131",
        "outputId": "a1d75a2d-ed48-4551-eb2c-73eea6dfa52a"
      },
      "outputs": [
        {
          "output_type": "stream",
          "name": "stdout",
          "text": [
            "Fever (P/A)\n",
            "P    328\n",
            "p     27\n",
            "A      6\n",
            "Name: count, dtype: int64\n",
            "=================\n",
            "Headache (P/A)\n",
            "A    261\n",
            "P     95\n",
            "p      4\n",
            "5      1\n",
            "Name: count, dtype: int64\n",
            "=================\n",
            "Myalgia (P/A)\n",
            "A    245\n",
            "P    113\n",
            "p      3\n",
            "Name: count, dtype: int64\n",
            "=================\n",
            "Cough (P/A)\n",
            "A    248\n",
            "P    111\n",
            "p      2\n",
            "Name: count, dtype: int64\n",
            "=================\n",
            "Dyspnea (P/A)\n",
            "A    318\n",
            "P     40\n",
            "p      2\n",
            "Name: count, dtype: int64\n",
            "=================\n",
            "Vomiting (P/A)\n",
            "A    184\n",
            "P    175\n",
            "p      1\n",
            "Name: count, dtype: int64\n",
            "=================\n",
            "Hematuria (P/A)\n",
            "A    346\n",
            "P     13\n",
            "p      1\n",
            "Name: count, dtype: int64\n",
            "=================\n",
            "Edema (P/A)\n",
            "A    339\n",
            "P     22\n",
            "Name: count, dtype: int64\n",
            "=================\n",
            "Anorexia (P/A)\n",
            "A    232\n",
            "P    126\n",
            "-      2\n",
            "p      1\n",
            "Name: count, dtype: int64\n",
            "=================\n",
            "Nausea (P/A)\n",
            "A    312\n",
            "P     49\n",
            "Name: count, dtype: int64\n",
            "=================\n",
            "Diarrhoea (P/A)\n",
            "A    300\n",
            "P     60\n",
            "Name: count, dtype: int64\n",
            "=================\n",
            "Crepitus/Rhonchi (P/A)\n",
            "A                             321\n",
            "P                              37\n",
            "p                               1\n",
            "Bilateral scattered wheeze      1\n",
            "Occasional crepts+              1\n",
            "Name: count, dtype: int64\n",
            "=================\n",
            "Petechiae (P/A)\n",
            "A                              348\n",
            "P                               11\n",
            "P (in face and extremities)      1\n",
            "P (All over the body)            1\n",
            "Name: count, dtype: int64\n",
            "=================\n"
          ]
        }
      ],
      "source": [
        "for i in pacolumns:\n",
        "    print(data[i].value_counts())\n",
        "    print('=================')"
      ]
    },
    {
      "cell_type": "code",
      "execution_count": null,
      "id": "6adb1be4",
      "metadata": {
        "id": "6adb1be4"
      },
      "outputs": [],
      "source": [
        "def paencode(column):\n",
        "    pa=str(column)[0]\n",
        "    if pa.lower()=='a':\n",
        "        return 0\n",
        "    else:\n",
        "        return 1"
      ]
    },
    {
      "cell_type": "code",
      "execution_count": null,
      "id": "c004c7a3",
      "metadata": {
        "id": "c004c7a3"
      },
      "outputs": [],
      "source": [
        "for i in pacolumns:\n",
        "    data[i]=data[i].apply(paencode)"
      ]
    },
    {
      "cell_type": "code",
      "execution_count": null,
      "id": "25fdfea4",
      "metadata": {
        "colab": {
          "base_uri": "https://localhost:8080/"
        },
        "id": "25fdfea4",
        "outputId": "f707ad4d-9349-4c33-d095-52ae118cc2b1"
      },
      "outputs": [
        {
          "output_type": "execute_result",
          "data": {
            "text/plain": [
              "Fever (P/A)\n",
              "1    355\n",
              "0      6\n",
              "Name: count, dtype: int64"
            ]
          },
          "metadata": {},
          "execution_count": 29
        }
      ],
      "source": [
        "data['Fever (P/A)'].value_counts()"
      ]
    },
    {
      "cell_type": "code",
      "execution_count": null,
      "id": "33eabe1e",
      "metadata": {
        "colab": {
          "base_uri": "https://localhost:8080/"
        },
        "id": "33eabe1e",
        "outputId": "c8f5a4c0-10d9-4826-ee09-385ba78cd10e"
      },
      "outputs": [
        {
          "output_type": "stream",
          "name": "stdout",
          "text": [
            "Fever (P/A)\n",
            "1    355\n",
            "0      6\n",
            "Name: count, dtype: int64\n",
            "=================\n",
            "Headache (P/A)\n",
            "0    261\n",
            "1    100\n",
            "Name: count, dtype: int64\n",
            "=================\n",
            "Myalgia (P/A)\n",
            "0    245\n",
            "1    116\n",
            "Name: count, dtype: int64\n",
            "=================\n",
            "Cough (P/A)\n",
            "0    248\n",
            "1    113\n",
            "Name: count, dtype: int64\n",
            "=================\n",
            "Dyspnea (P/A)\n",
            "0    318\n",
            "1     43\n",
            "Name: count, dtype: int64\n",
            "=================\n",
            "Vomiting (P/A)\n",
            "0    184\n",
            "1    177\n",
            "Name: count, dtype: int64\n",
            "=================\n",
            "Hematuria (P/A)\n",
            "0    346\n",
            "1     15\n",
            "Name: count, dtype: int64\n",
            "=================\n",
            "Edema (P/A)\n",
            "0    339\n",
            "1     22\n",
            "Name: count, dtype: int64\n",
            "=================\n",
            "Anorexia (P/A)\n",
            "0    232\n",
            "1    129\n",
            "Name: count, dtype: int64\n",
            "=================\n",
            "Nausea (P/A)\n",
            "0    312\n",
            "1     49\n",
            "Name: count, dtype: int64\n",
            "=================\n",
            "Diarrhoea (P/A)\n",
            "0    300\n",
            "1     61\n",
            "Name: count, dtype: int64\n",
            "=================\n",
            "Crepitus/Rhonchi (P/A)\n",
            "0    321\n",
            "1     40\n",
            "Name: count, dtype: int64\n",
            "=================\n",
            "Petechiae (P/A)\n",
            "0    348\n",
            "1     13\n",
            "Name: count, dtype: int64\n",
            "=================\n"
          ]
        }
      ],
      "source": [
        "for i in pacolumns:\n",
        "    print(data[i].value_counts())\n",
        "    print('=================')"
      ]
    },
    {
      "cell_type": "markdown",
      "id": "a630f9d0",
      "metadata": {
        "id": "a630f9d0"
      },
      "source": [
        "### Handling Duration columns"
      ]
    },
    {
      "cell_type": "code",
      "execution_count": null,
      "id": "6e6719aa",
      "metadata": {
        "id": "6e6719aa"
      },
      "outputs": [],
      "source": [
        "durationcolumns=['Duration of fever (days)','Duration of headache','Duration of myalgia','Duration of cough','Duration of dyspnea','Duration of vomiting','Duration of hematuria','Duration of edema']"
      ]
    },
    {
      "cell_type": "code",
      "execution_count": null,
      "id": "539b5a36",
      "metadata": {
        "colab": {
          "base_uri": "https://localhost:8080/"
        },
        "id": "539b5a36",
        "outputId": "7106c224-0758-4fdd-87b7-96a6d4dbbe75"
      },
      "outputs": [
        {
          "output_type": "stream",
          "name": "stdout",
          "text": [
            "Duration of fever (days)\n",
            "5.0     80\n",
            "3.0     65\n",
            "4.0     51\n",
            "7.0     39\n",
            "2.0     36\n",
            "6.0     27\n",
            "1.0     16\n",
            "8.0     14\n",
            "10.0     9\n",
            "12.0     4\n",
            "9.0      3\n",
            "15.0     3\n",
            "13.0     2\n",
            "14.0     2\n",
            "0.0      2\n",
            "11.0     1\n",
            "20.0     1\n",
            "30.0     1\n",
            "Name: count, dtype: int64\n",
            "Null values:\n",
            "5\n",
            "=================\n",
            "Duration of headache\n",
            "5.0     21\n",
            "2.0     18\n",
            "4.0     15\n",
            "3.0     14\n",
            "1.0     14\n",
            "7.0      8\n",
            "6.0      3\n",
            "30.0     1\n",
            "9.0      1\n",
            "Name: count, dtype: int64\n",
            "Null values:\n",
            "266\n",
            "=================\n",
            "Duration of myalgia\n",
            "5.0     24\n",
            "2.0     24\n",
            "3.0     18\n",
            "4.0     17\n",
            "1.0     15\n",
            "7.0     10\n",
            "6.0      2\n",
            "10.0     1\n",
            "Name: count, dtype: int64\n",
            "Null values:\n",
            "250\n",
            "=================\n",
            "Duration of cough\n",
            "3.0     24\n",
            "4.0     19\n",
            "2.0     18\n",
            "5.0     16\n",
            "7.0     12\n",
            "1.0      7\n",
            "6.0      4\n",
            "14.0     3\n",
            "10.0     3\n",
            "15.0     2\n",
            "20.0     1\n",
            "30.0     1\n",
            "Name: count, dtype: int64\n",
            "Null values:\n",
            "251\n",
            "=================\n",
            "Duration of dyspnea\n",
            "1.0    11\n",
            "3.0     9\n",
            "2.0     7\n",
            "5.0     5\n",
            "4.0     4\n",
            "7.0     1\n",
            "Name: count, dtype: int64\n",
            "Null values:\n",
            "324\n",
            "=================\n",
            "Duration of vomiting\n",
            "1.0     60\n",
            "2.0     56\n",
            "3.0     20\n",
            "4.0     15\n",
            "5.0      8\n",
            "7.0      4\n",
            "6.0      4\n",
            "8.0      2\n",
            "10.0     1\n",
            "0.0      1\n",
            "Name: count, dtype: int64\n",
            "Null values:\n",
            "190\n",
            "=================\n",
            "Duration of hematuria\n",
            "1.0    6\n",
            "2.0    3\n",
            "4.0    1\n",
            "Name: count, dtype: int64\n",
            "Null values:\n",
            "351\n",
            "=================\n",
            "Duration of edema\n",
            "2.0     6\n",
            "5.0     4\n",
            "6.0     2\n",
            "30.0    2\n",
            "7.0     1\n",
            "4.0     1\n",
            "Name: count, dtype: int64\n",
            "Null values:\n",
            "345\n",
            "=================\n"
          ]
        }
      ],
      "source": [
        "for i in durationcolumns:\n",
        "    print(data[i].value_counts())\n",
        "    print('Null values:')\n",
        "    print(data[i].isna().sum())\n",
        "    print('=================')"
      ]
    },
    {
      "cell_type": "code",
      "execution_count": null,
      "id": "939643ec",
      "metadata": {
        "id": "939643ec"
      },
      "outputs": [],
      "source": [
        "for i in durationcolumns:\n",
        "    data[i].fillna(data[i].median(),inplace=True)"
      ]
    },
    {
      "cell_type": "code",
      "execution_count": null,
      "id": "227edae0",
      "metadata": {
        "colab": {
          "base_uri": "https://localhost:8080/"
        },
        "id": "227edae0",
        "outputId": "f847699f-3338-4d37-d66e-abbd1f241a4a"
      },
      "outputs": [
        {
          "output_type": "stream",
          "name": "stdout",
          "text": [
            "0\n",
            "=================\n",
            "0\n",
            "=================\n",
            "0\n",
            "=================\n",
            "0\n",
            "=================\n",
            "0\n",
            "=================\n",
            "0\n",
            "=================\n",
            "0\n",
            "=================\n",
            "0\n",
            "=================\n"
          ]
        }
      ],
      "source": [
        "for i in durationcolumns:\n",
        "    print(data[i].isna().sum())\n",
        "    print('=================')"
      ]
    },
    {
      "cell_type": "code",
      "execution_count": null,
      "id": "b4b05a1b",
      "metadata": {
        "id": "b4b05a1b"
      },
      "outputs": [],
      "source": [
        "def cleaning(column):\n",
        "    p=column\n",
        "    if type(p)!=float and p.isalpha():\n",
        "        return None\n",
        "    else:\n",
        "        return float(p)"
      ]
    },
    {
      "cell_type": "code",
      "execution_count": null,
      "id": "0d0a7038",
      "metadata": {
        "id": "0d0a7038"
      },
      "outputs": [],
      "source": [
        "data['Bilirubin']=data['Bilirubin'].apply(cleaning)"
      ]
    },
    {
      "cell_type": "code",
      "execution_count": null,
      "id": "f449bb26",
      "metadata": {
        "id": "f449bb26"
      },
      "outputs": [],
      "source": [
        "data['Bilirubin'].fillna(data['Bilirubin'].median(),inplace=True)"
      ]
    },
    {
      "cell_type": "code",
      "execution_count": null,
      "id": "55bab374",
      "metadata": {
        "colab": {
          "base_uri": "https://localhost:8080/"
        },
        "id": "55bab374",
        "outputId": "be8151b3-4bf9-4fce-bcb5-8b21aedba234"
      },
      "outputs": [
        {
          "output_type": "execute_result",
          "data": {
            "text/plain": [
              "0      0.59\n",
              "1      0.59\n",
              "2      3.19\n",
              "3      2.43\n",
              "4      1.97\n",
              "       ... \n",
              "356    0.59\n",
              "357    0.50\n",
              "358    0.59\n",
              "359    0.59\n",
              "360    0.59\n",
              "Name: Bilirubin, Length: 361, dtype: float64"
            ]
          },
          "metadata": {},
          "execution_count": 38
        }
      ],
      "source": [
        "data['Bilirubin']"
      ]
    },
    {
      "cell_type": "code",
      "execution_count": null,
      "id": "6262d29e",
      "metadata": {
        "colab": {
          "base_uri": "https://localhost:8080/"
        },
        "id": "6262d29e",
        "outputId": "c2964c7b-db4a-4992-aed6-df3c50b805ce"
      },
      "outputs": [
        {
          "output_type": "execute_result",
          "data": {
            "text/plain": [
              "0"
            ]
          },
          "metadata": {},
          "execution_count": 39
        }
      ],
      "source": [
        "data['Bilirubin'].isna().sum()"
      ]
    },
    {
      "cell_type": "code",
      "execution_count": null,
      "id": "5821783e",
      "metadata": {
        "id": "5821783e"
      },
      "outputs": [],
      "source": [
        "data['S. protein (g%)']=data['S. protein (g%)'].apply(cleaning)"
      ]
    },
    {
      "cell_type": "code",
      "execution_count": null,
      "id": "36d8bf76",
      "metadata": {
        "id": "36d8bf76"
      },
      "outputs": [],
      "source": [
        "data['S. protein (g%)'].fillna(data['S. protein (g%)'].median(),inplace=True)"
      ]
    },
    {
      "cell_type": "code",
      "execution_count": null,
      "id": "66a20106",
      "metadata": {
        "colab": {
          "base_uri": "https://localhost:8080/"
        },
        "id": "66a20106",
        "outputId": "53603e20-c6e8-4b68-d8f0-faa5ce0c9b41"
      },
      "outputs": [
        {
          "output_type": "execute_result",
          "data": {
            "text/plain": [
              "0"
            ]
          },
          "metadata": {},
          "execution_count": 42
        }
      ],
      "source": [
        "data['S. protein (g%)'].isna().sum()"
      ]
    },
    {
      "cell_type": "code",
      "execution_count": null,
      "id": "98d13587",
      "metadata": {
        "colab": {
          "base_uri": "https://localhost:8080/"
        },
        "id": "98d13587",
        "outputId": "6ab80fa1-8b14-45d8-ff92-1538a79a78ea"
      },
      "outputs": [
        {
          "output_type": "execute_result",
          "data": {
            "text/plain": [
              "0       NaN\n",
              "1       NaN\n",
              "2       2.3\n",
              "3      3.23\n",
              "4      2.32\n",
              "       ... \n",
              "356     NaN\n",
              "357     2.6\n",
              "358     NaN\n",
              "359     NaN\n",
              "360     NaN\n",
              "Name: S. albumin (g%), Length: 361, dtype: object"
            ]
          },
          "metadata": {},
          "execution_count": 43
        }
      ],
      "source": [
        "data['S. albumin (g%)']"
      ]
    },
    {
      "cell_type": "code",
      "execution_count": null,
      "id": "b14cd89f",
      "metadata": {
        "id": "b14cd89f"
      },
      "outputs": [],
      "source": [
        "data['S. albumin (g%)']=data['S. albumin (g%)'].apply(cleaning)"
      ]
    },
    {
      "cell_type": "code",
      "execution_count": null,
      "id": "3cb9e994",
      "metadata": {
        "id": "3cb9e994"
      },
      "outputs": [],
      "source": [
        "data['S. albumin (g%)'].fillna(data['S. albumin (g%)'].median(),inplace=True)"
      ]
    },
    {
      "cell_type": "code",
      "execution_count": null,
      "id": "fce89001",
      "metadata": {
        "colab": {
          "base_uri": "https://localhost:8080/"
        },
        "id": "fce89001",
        "outputId": "7e6a7f72-5364-476d-bf3a-fddec5c9bde6"
      },
      "outputs": [
        {
          "output_type": "execute_result",
          "data": {
            "text/plain": [
              "0"
            ]
          },
          "metadata": {},
          "execution_count": 46
        }
      ],
      "source": [
        "data['S. albumin (g%)'].isna().sum()"
      ]
    },
    {
      "cell_type": "markdown",
      "id": "4dacb169",
      "metadata": {
        "id": "4dacb169"
      },
      "source": [
        "### Done/Not Done Columns"
      ]
    },
    {
      "cell_type": "code",
      "execution_count": null,
      "id": "4a45dcb4",
      "metadata": {
        "id": "4a45dcb4"
      },
      "outputs": [],
      "source": [
        "dnacolumns=['Malarial parasites (Done/Not done)','ELISA for leptospirosis (Done/Not done)','CXR (Done/Not done)','USG Abdomen (Done/Not done)']"
      ]
    },
    {
      "cell_type": "code",
      "execution_count": null,
      "id": "ef5a3eae",
      "metadata": {
        "colab": {
          "base_uri": "https://localhost:8080/"
        },
        "id": "ef5a3eae",
        "outputId": "237b4c0b-6519-445e-cacd-d1d3422ef48f"
      },
      "outputs": [
        {
          "output_type": "stream",
          "name": "stdout",
          "text": [
            "Malarial parasites (Done/Not done)\n",
            "D           50\n",
            "NEGATIVE     1\n",
            "Name: count, dtype: int64\n",
            "Null values:\n",
            "310\n",
            "=================\n",
            "ELISA for leptospirosis (Done/Not done)\n",
            "D           75\n",
            "NEGATIVE     2\n",
            "Name: count, dtype: int64\n",
            "Null values:\n",
            "284\n",
            "=================\n",
            "CXR (Done/Not done)\n",
            "D    173\n",
            "Name: count, dtype: int64\n",
            "Null values:\n",
            "188\n",
            "=================\n",
            "USG Abdomen (Done/Not done)\n",
            "D    101\n",
            "Name: count, dtype: int64\n",
            "Null values:\n",
            "260\n",
            "=================\n"
          ]
        }
      ],
      "source": [
        "for i in dnacolumns:\n",
        "    print(data[i].value_counts())\n",
        "    print('Null values:')\n",
        "    print(data[i].isna().sum())\n",
        "    print('=================')"
      ]
    },
    {
      "cell_type": "code",
      "execution_count": null,
      "id": "c6c10582",
      "metadata": {
        "id": "c6c10582"
      },
      "outputs": [],
      "source": [
        "def dnaclean(column):\n",
        "    dna=column\n",
        "    if dna!='0':\n",
        "        return 1\n",
        "    else:\n",
        "        return 0"
      ]
    },
    {
      "cell_type": "code",
      "execution_count": null,
      "id": "4043c074",
      "metadata": {
        "id": "4043c074"
      },
      "outputs": [],
      "source": [
        "data['Dengue Viral Immunoassay (IgM) (Done/NA )'].fillna('0',inplace=True)"
      ]
    },
    {
      "cell_type": "code",
      "execution_count": null,
      "id": "a51b1f02",
      "metadata": {
        "colab": {
          "base_uri": "https://localhost:8080/"
        },
        "id": "a51b1f02",
        "outputId": "451386e8-01e7-4871-cc71-1995cb64d02d"
      },
      "outputs": [
        {
          "output_type": "execute_result",
          "data": {
            "text/plain": [
              "Dengue Viral Immunoassay (IgM) (Done/NA )\n",
              "D                                           167\n",
              "0                                           150\n",
              "Dengue IGM Positive                           9\n",
              "Positive                                      7\n",
              "not done                                      3\n",
              "Negative                                      2\n",
              "Dengue IGM positive                           2\n",
              "Dengue RNA PCR Positive                       2\n",
              "Dengue Ns1 positive                           2\n",
              "NEGATIVE                                      1\n",
              "Dengue NS1 IGG positive                       1\n",
              "Dengue NS1AG positive                         1\n",
              "Dengue Ns1AG + IGM positive                   1\n",
              "Dengue Ns1 AG positive                        1\n",
              "Dengue Ns1 Positive                           1\n",
              "Dengue Ns1Positive                            1\n",
              "Dengue IGG positive                           1\n",
              "Dengue Ns1 aNA IGM positive                   1\n",
              "Dengue NS1ag IGM positive                     1\n",
              "Dengue Ns1 AG aNA IGM positive                1\n",
              "negative                                      1\n",
              "Dengue NS1ag IGM negative RTPCR Positive      1\n",
              "Dengue NS1 Positive                           1\n",
              "Dengue PCR Positive                           1\n",
              "POSITIVE                                      1\n",
              "Dengue Negative                               1\n",
              "Name: count, dtype: int64"
            ]
          },
          "metadata": {},
          "execution_count": 51
        }
      ],
      "source": [
        "data['Dengue Viral Immunoassay (IgM) (Done/NA )'].value_counts()"
      ]
    },
    {
      "cell_type": "code",
      "execution_count": null,
      "id": "724b21c8",
      "metadata": {
        "id": "724b21c8"
      },
      "outputs": [],
      "source": [
        "data['Dengue Viral Immunoassay (IgM) (Done/NA )']=data['Dengue Viral Immunoassay (IgM) (Done/NA )'].apply(dnaclean)"
      ]
    },
    {
      "cell_type": "code",
      "execution_count": null,
      "id": "a8c8c05e",
      "metadata": {
        "colab": {
          "base_uri": "https://localhost:8080/"
        },
        "id": "a8c8c05e",
        "outputId": "edeffaa4-f1da-453b-b6fa-6c9dc71cbe89"
      },
      "outputs": [
        {
          "output_type": "execute_result",
          "data": {
            "text/plain": [
              "0"
            ]
          },
          "metadata": {},
          "execution_count": 53
        }
      ],
      "source": [
        "data['Dengue Viral Immunoassay (IgM) (Done/NA )'].isna().sum()"
      ]
    },
    {
      "cell_type": "code",
      "execution_count": null,
      "id": "e272b0bd",
      "metadata": {
        "colab": {
          "base_uri": "https://localhost:8080/"
        },
        "id": "e272b0bd",
        "outputId": "7ff6ca32-e1d2-40b6-87b8-223386a07b58"
      },
      "outputs": [
        {
          "output_type": "execute_result",
          "data": {
            "text/plain": [
              "Dengue Viral Immunoassay (IgM) (Done/NA )\n",
              "1    211\n",
              "0    150\n",
              "Name: count, dtype: int64"
            ]
          },
          "metadata": {},
          "execution_count": 54
        }
      ],
      "source": [
        "data['Dengue Viral Immunoassay (IgM) (Done/NA )'].value_counts()"
      ]
    },
    {
      "cell_type": "code",
      "execution_count": null,
      "id": "d3224f44",
      "metadata": {
        "id": "d3224f44"
      },
      "outputs": [],
      "source": [
        "data['Typhidot / Widal (Done/Not done)'].fillna('0',inplace=True)"
      ]
    },
    {
      "cell_type": "code",
      "execution_count": null,
      "id": "b5f035aa",
      "metadata": {
        "colab": {
          "base_uri": "https://localhost:8080/"
        },
        "id": "b5f035aa",
        "outputId": "65d44e23-0c45-4d62-d26a-e41e14d38248"
      },
      "outputs": [
        {
          "output_type": "execute_result",
          "data": {
            "text/plain": [
              "Typhidot / Widal (Done/Not done)\n",
              "0           299\n",
              "D            61\n",
              "D(WIDAL)      1\n",
              "Name: count, dtype: int64"
            ]
          },
          "metadata": {},
          "execution_count": 56
        }
      ],
      "source": [
        "data['Typhidot / Widal (Done/Not done)'].value_counts()"
      ]
    },
    {
      "cell_type": "code",
      "execution_count": null,
      "id": "78bfdc6c",
      "metadata": {
        "id": "78bfdc6c"
      },
      "outputs": [],
      "source": [
        "data['Typhidot / Widal (Done/Not done)']=data['Typhidot / Widal (Done/Not done)'].apply(dnaclean)"
      ]
    },
    {
      "cell_type": "code",
      "execution_count": null,
      "id": "85e26fb3",
      "metadata": {
        "colab": {
          "base_uri": "https://localhost:8080/"
        },
        "id": "85e26fb3",
        "outputId": "c94d1d45-b210-4135-e09e-f4967a9062e5"
      },
      "outputs": [
        {
          "output_type": "execute_result",
          "data": {
            "text/plain": [
              "0"
            ]
          },
          "metadata": {},
          "execution_count": 58
        }
      ],
      "source": [
        "data['Typhidot / Widal (Done/Not done)'].isna().sum()"
      ]
    },
    {
      "cell_type": "code",
      "execution_count": null,
      "id": "18e9392e",
      "metadata": {
        "colab": {
          "base_uri": "https://localhost:8080/"
        },
        "id": "18e9392e",
        "outputId": "8a4a7022-06f8-431a-b82a-374d048e8cee"
      },
      "outputs": [
        {
          "output_type": "execute_result",
          "data": {
            "text/plain": [
              "Typhidot / Widal (Done/Not done)\n",
              "0    299\n",
              "1     62\n",
              "Name: count, dtype: int64"
            ]
          },
          "metadata": {},
          "execution_count": 59
        }
      ],
      "source": [
        "data['Typhidot / Widal (Done/Not done)'].value_counts()"
      ]
    },
    {
      "cell_type": "code",
      "execution_count": null,
      "id": "ba855dab",
      "metadata": {
        "id": "ba855dab"
      },
      "outputs": [],
      "source": [
        "data['Weil Felix/Scrub typhus IgM (Done/Not done)'].fillna('0',inplace=True)"
      ]
    },
    {
      "cell_type": "code",
      "execution_count": null,
      "id": "ab72f9c8",
      "metadata": {
        "colab": {
          "base_uri": "https://localhost:8080/"
        },
        "id": "ab72f9c8",
        "outputId": "a205d4eb-f9d9-4662-fdcf-7576aaf14d38"
      },
      "outputs": [
        {
          "output_type": "execute_result",
          "data": {
            "text/plain": [
              "Weil Felix/Scrub typhus IgM (Done/Not done)\n",
              "0    282\n",
              "D     79\n",
              "Name: count, dtype: int64"
            ]
          },
          "metadata": {},
          "execution_count": 61
        }
      ],
      "source": [
        "data['Weil Felix/Scrub typhus IgM (Done/Not done)'].value_counts()"
      ]
    },
    {
      "cell_type": "code",
      "execution_count": null,
      "id": "f4b22c14",
      "metadata": {
        "id": "f4b22c14"
      },
      "outputs": [],
      "source": [
        "data['Weil Felix/Scrub typhus IgM (Done/Not done)']=data['Weil Felix/Scrub typhus IgM (Done/Not done)'].apply(dnaclean)"
      ]
    },
    {
      "cell_type": "code",
      "execution_count": null,
      "id": "05011fcf",
      "metadata": {
        "colab": {
          "base_uri": "https://localhost:8080/"
        },
        "id": "05011fcf",
        "outputId": "0df2c3be-d45e-40e3-fb92-4dece8df9390"
      },
      "outputs": [
        {
          "output_type": "execute_result",
          "data": {
            "text/plain": [
              "0"
            ]
          },
          "metadata": {},
          "execution_count": 63
        }
      ],
      "source": [
        "data['Weil Felix/Scrub typhus IgM (Done/Not done)'].isna().sum()"
      ]
    },
    {
      "cell_type": "code",
      "execution_count": null,
      "id": "be66f0ea",
      "metadata": {
        "colab": {
          "base_uri": "https://localhost:8080/"
        },
        "id": "be66f0ea",
        "outputId": "1f9555f8-3834-4eaf-a1b5-d94a610afa4a"
      },
      "outputs": [
        {
          "output_type": "execute_result",
          "data": {
            "text/plain": [
              "Weil Felix/Scrub typhus IgM (Done/Not done)\n",
              "0    282\n",
              "1     79\n",
              "Name: count, dtype: int64"
            ]
          },
          "metadata": {},
          "execution_count": 64
        }
      ],
      "source": [
        "data['Weil Felix/Scrub typhus IgM (Done/Not done)'].value_counts()"
      ]
    },
    {
      "cell_type": "code",
      "execution_count": null,
      "id": "31e661ae",
      "metadata": {
        "id": "31e661ae"
      },
      "outputs": [],
      "source": [
        "for i in dnacolumns:\n",
        "    data[i].fillna('0',inplace=True)\n",
        "    data[i]=data[i].apply(dnaclean)"
      ]
    },
    {
      "cell_type": "code",
      "execution_count": null,
      "id": "b631dc8b",
      "metadata": {
        "colab": {
          "base_uri": "https://localhost:8080/"
        },
        "id": "b631dc8b",
        "outputId": "5b1cc76a-ab21-47df-a8f8-563a35b1ea4e"
      },
      "outputs": [
        {
          "output_type": "stream",
          "name": "stdout",
          "text": [
            "0\n",
            "Malarial parasites (Done/Not done)\n",
            "0    310\n",
            "1     51\n",
            "Name: count, dtype: int64\n",
            "=============================\n",
            "0\n",
            "ELISA for leptospirosis (Done/Not done)\n",
            "0    284\n",
            "1     77\n",
            "Name: count, dtype: int64\n",
            "=============================\n",
            "0\n",
            "CXR (Done/Not done)\n",
            "0    188\n",
            "1    173\n",
            "Name: count, dtype: int64\n",
            "=============================\n",
            "0\n",
            "USG Abdomen (Done/Not done)\n",
            "0    260\n",
            "1    101\n",
            "Name: count, dtype: int64\n",
            "=============================\n"
          ]
        }
      ],
      "source": [
        "for i in dnacolumns:\n",
        "    print(data[i].isna().sum())\n",
        "    print(data[i].value_counts())\n",
        "    print(\"=============================\")"
      ]
    },
    {
      "cell_type": "markdown",
      "id": "1ed808ab",
      "metadata": {
        "id": "1ed808ab"
      },
      "source": [
        "### String Encoding Function"
      ]
    },
    {
      "cell_type": "code",
      "execution_count": null,
      "id": "982ccd4f",
      "metadata": {
        "colab": {
          "base_uri": "https://localhost:8080/"
        },
        "id": "982ccd4f",
        "outputId": "abbe6d33-8eb4-4dd2-9647-918082b5421b"
      },
      "outputs": [
        {
          "output_type": "execute_result",
          "data": {
            "text/plain": [
              "162"
            ]
          },
          "metadata": {},
          "execution_count": 67
        }
      ],
      "source": [
        "int(bin(ord('a')+ord('A')),2)"
      ]
    },
    {
      "cell_type": "code",
      "execution_count": null,
      "id": "926142a8",
      "metadata": {
        "id": "926142a8"
      },
      "outputs": [],
      "source": [
        "def strencode(column):\n",
        "    pa=column\n",
        "    ans=0\n",
        "\n",
        "    for i in pa:\n",
        "        ans+=ord(i)\n",
        "    return ans\n",
        "#     pa_encode=pa.encode('utf_16','strict')\n",
        "#     integer = int.from_bytes(pa_encode, byteorder='little')\n",
        "\n",
        "    #return integer//len(pa_encode)"
      ]
    },
    {
      "cell_type": "code",
      "execution_count": null,
      "id": "7a87eac2",
      "metadata": {
        "id": "7a87eac2"
      },
      "outputs": [],
      "source": [
        "def strencodegeneral(stri):\n",
        "    ans=0\n",
        "    for i in stri:\n",
        "        ans+=ord(i)\n",
        "    return ans"
      ]
    },
    {
      "cell_type": "markdown",
      "id": "b97676ee",
      "metadata": {
        "id": "b97676ee"
      },
      "source": [
        "str=\"Hello! Welcome to Tutorialspoint.\"\n",
        "str_encoded= str.encode('utf_16','strict')\n",
        "print(\"The encoded string is: \", str_encoded)"
      ]
    },
    {
      "cell_type": "markdown",
      "id": "39d85cbd",
      "metadata": {
        "id": "39d85cbd"
      },
      "source": [
        "bytes = str_encoded\n",
        "integer = int.from_bytes(bytes, byteorder='little')\n",
        "print(integer)"
      ]
    },
    {
      "cell_type": "code",
      "source": [
        "def comoor(column):\n",
        "  co=column\n",
        "  if co!='A':\n",
        "    return 'P'\n",
        "  else:\n",
        "    return 'A'"
      ],
      "metadata": {
        "id": "PZzlbxjVbeZp"
      },
      "id": "PZzlbxjVbeZp",
      "execution_count": null,
      "outputs": []
    },
    {
      "cell_type": "code",
      "execution_count": null,
      "id": "bf9a5f72",
      "metadata": {
        "colab": {
          "base_uri": "https://localhost:8080/"
        },
        "id": "bf9a5f72",
        "outputId": "207222e2-28bc-4062-9f83-08004e053872"
      },
      "outputs": [
        {
          "output_type": "execute_result",
          "data": {
            "text/plain": [
              "Comorbidities\n",
              "A                                                                                                                                 236\n",
              "DM,HT                                                                                                                              45\n",
              "DM                                                                                                                                 17\n",
              "NIL                                                                                                                                11\n",
              "HT                                                                                                                                  8\n",
              "DM ,                                                                                                                                2\n",
              "CHD                                                                                                                                 2\n",
              "Bronchial asuthuma                                                                                                                  2\n",
              "DM,CKD,TIA NOCM                                                                                                                     2\n",
              "NP                                                                                                                                  1\n",
              "Has congenital bilateral preauricular pits which gets swollen during episodes of fever and cols                                     1\n",
              "H/o of Allergic Rhinitis- on Metaspray                                                                                              1\n",
              "Genetically proven white matter disease in April 2022                                                                               1\n",
              "High Myopic                                                                                                                         1\n",
              "Primary nocturnal eneurisis with constipation                                                                                       1\n",
              "Constipated                                                                                                                         1\n",
              "Mild motor developemenal delay                                                                                                      1\n",
              "Both weight and height < 3rd centile                                                                                                1\n",
              "CA BRESST                                                                                                                           1\n",
              "Child was diagnosed to have corpus callossum agenesis on D3 of life- Developmentally normal child                                   1\n",
              "Fatty liver                                                                                                                         1\n",
              "Seizure disorder since 2020                                                                                                         1\n",
              "Horseshoe kidney diagnosed at 1 1/2yrs of age- on uroprophylaxis- now discontinued                                                  1\n",
              "COPD, Mild renal dysfuction, CA Prostate                                                                                            1\n",
              "DM,HT LV                                                                                                                            1\n",
              "K/C/O wheezer for the past 1 year on MDI SOS                                                                                        1\n",
              "HT,COPD                                                                                                                             1\n",
              "Known wheezer                                                                                                                       1\n",
              "DM,DYSLIPDEMIA                                                                                                                      1\n",
              "Right focal seizures at 1 1/2yrs of age-- on medication                                                                             1\n",
              "K/C/O Congenital Hypothyroidism                                                                                                     1\n",
              "Had one episode of simple febrile seizure                                                                                           1\n",
              "K/C/O of Developmental delay                                                                                                        1\n",
              "Short stature                                                                                                                       1\n",
              "Hyperthyroidism                                                                                                                     1\n",
              "LBBB,AF                                                                                                                             1\n",
              "Hepatitis                                                                                                                           1\n",
              "Diagnosed to have dimorphic anemia in 2021- probable immune cytopenia                                                               1\n",
              "Diagnosed with Pre B ALL at 2 1/2 yrs of age- completed chemotherapy in May 2022; also has H/O Febrile seizures on prophylaxis      1\n",
              "P (Autoimmiune Thyroiditis)                                                                                                         1\n",
              "SCN1A Mutation- genetic epilepsy with Febrile seizure plus Type 2 Syndrome                                                          1\n",
              "Diagnosed with nephrotic syndrome at 1 1/ yrs of age, has been having frequent replapses since then                                 1\n",
              "CKD                                                                                                                                 1\n",
              "YES                                                                                                                                 1\n",
              "Name: count, dtype: int64"
            ]
          },
          "metadata": {},
          "execution_count": 71
        }
      ],
      "source": [
        "data['Comorbidities'].value_counts()"
      ]
    },
    {
      "cell_type": "code",
      "source": [
        "data['Comorbidities']=data['Comorbidities'].apply(comoor)"
      ],
      "metadata": {
        "id": "OF8Dh1Isb4Xe"
      },
      "id": "OF8Dh1Isb4Xe",
      "execution_count": null,
      "outputs": []
    },
    {
      "cell_type": "code",
      "execution_count": null,
      "id": "81428eb7",
      "metadata": {
        "id": "81428eb7"
      },
      "outputs": [],
      "source": [
        "data['Comorbidities']=le.fit_transform(data['Comorbidities'])"
      ]
    },
    {
      "cell_type": "markdown",
      "id": "e35f6308",
      "metadata": {
        "id": "e35f6308"
      },
      "source": [
        "### Additional physical findings"
      ]
    },
    {
      "cell_type": "code",
      "execution_count": null,
      "id": "6ad6743f",
      "metadata": {
        "colab": {
          "base_uri": "https://localhost:8080/"
        },
        "id": "6ad6743f",
        "outputId": "7a24bee1-39bb-4ab9-dba9-fb420dcbb0e2"
      },
      "outputs": [
        {
          "output_type": "execute_result",
          "data": {
            "text/plain": [
              "Additional physical finding\n",
              "A                                                                      144\n",
              "Lethargic                                                               10\n",
              "Sick looking                                                             7\n",
              "Mild hepatomegaly                                                        6\n",
              "Right hypochondriac tenderness                                           4\n",
              "                                                                      ... \n",
              "Hepatomegaly, Respiratory distress and compensated shock                 1\n",
              "Sick kooing, bilateral enralrged tonsils with mild facial puffiness      1\n",
              "Sick looking, flushed with mild hepatomegaly                             1\n",
              "Dull looking, PSM Murmer                                                 1\n",
              "Tenderness in right hypocondrial region                                  1\n",
              "Name: count, Length: 180, dtype: int64"
            ]
          },
          "metadata": {},
          "execution_count": 74
        }
      ],
      "source": [
        "data['Additional physical finding'].value_counts()"
      ]
    },
    {
      "cell_type": "code",
      "source": [
        "data['Additional physical finding']=data['Additional physical finding'].apply(comoor)"
      ],
      "metadata": {
        "id": "7J5kodYDcTKe"
      },
      "id": "7J5kodYDcTKe",
      "execution_count": null,
      "outputs": []
    },
    {
      "cell_type": "code",
      "execution_count": null,
      "id": "c9d5278c",
      "metadata": {
        "id": "c9d5278c"
      },
      "outputs": [],
      "source": [
        "data['Additional physical finding']=le.fit_transform(data['Additional physical finding'])"
      ]
    },
    {
      "cell_type": "code",
      "source": [
        "def renal(column):\n",
        "    r=column\n",
        "    if r=='A' and r=='NIL':\n",
        "        return 'A'\n",
        "    else:\n",
        "        return 'P'"
      ],
      "metadata": {
        "id": "MXGyRQECcyRY"
      },
      "id": "MXGyRQECcyRY",
      "execution_count": null,
      "outputs": []
    },
    {
      "cell_type": "code",
      "execution_count": null,
      "id": "d1ebb379",
      "metadata": {
        "colab": {
          "base_uri": "https://localhost:8080/"
        },
        "id": "d1ebb379",
        "outputId": "ebe63f70-1cea-4c58-81f5-e8b8f036decf"
      },
      "outputs": [
        {
          "output_type": "execute_result",
          "data": {
            "text/plain": [
              "Any specific renal sign\n",
              "A                                                                                                                          351\n",
              "Pedal edema                                                                                                                  3\n",
              "edema                                                                                                                        2\n",
              "NIL                                                                                                                          2\n",
              "Had Acute kidney injury stage 3 with anuria, fluid overload and persistent metabolic acidosis and was commenced on CRRT      1\n",
              "AKI                                                                                                                          1\n",
              "Name: count, dtype: int64"
            ]
          },
          "metadata": {},
          "execution_count": 78
        }
      ],
      "source": [
        "data['Any specific renal sign'].value_counts()"
      ]
    },
    {
      "cell_type": "code",
      "execution_count": null,
      "id": "c149aa86",
      "metadata": {
        "colab": {
          "base_uri": "https://localhost:8080/"
        },
        "id": "c149aa86",
        "outputId": "797a20d7-620f-4167-a184-c0625d8553fc"
      },
      "outputs": [
        {
          "output_type": "execute_result",
          "data": {
            "text/plain": [
              "1"
            ]
          },
          "metadata": {},
          "execution_count": 79
        }
      ],
      "source": [
        "data['Any specific renal sign'].isna().sum()"
      ]
    },
    {
      "cell_type": "markdown",
      "id": "1337dc58",
      "metadata": {
        "id": "1337dc58"
      },
      "source": [
        "### Function to fill NA values in string datatype columns"
      ]
    },
    {
      "cell_type": "code",
      "execution_count": null,
      "id": "28343091",
      "metadata": {
        "id": "28343091"
      },
      "outputs": [],
      "source": [
        "data['Any specific renal sign']=data['Any specific renal sign'].fillna('-')"
      ]
    },
    {
      "cell_type": "code",
      "execution_count": null,
      "id": "9df3fd89",
      "metadata": {
        "id": "9df3fd89"
      },
      "outputs": [],
      "source": [
        "data['Any specific renal sign']=data['Any specific renal sign'].apply(renal)"
      ]
    },
    {
      "cell_type": "code",
      "source": [
        "data['Any specific renal sign']=le.fit_transform(data['Any specific renal sign'])"
      ],
      "metadata": {
        "id": "LYfTzUHZdSrA"
      },
      "id": "LYfTzUHZdSrA",
      "execution_count": null,
      "outputs": []
    },
    {
      "cell_type": "code",
      "execution_count": null,
      "id": "91d8a03a",
      "metadata": {
        "colab": {
          "base_uri": "https://localhost:8080/"
        },
        "id": "91d8a03a",
        "outputId": "5e98c17f-63c3-4cbd-d6e4-c836669734b8"
      },
      "outputs": [
        {
          "output_type": "execute_result",
          "data": {
            "text/plain": [
              "Any specific renal sign\n",
              "0    361\n",
              "Name: count, dtype: int64"
            ]
          },
          "metadata": {},
          "execution_count": 83
        }
      ],
      "source": [
        "data['Any specific renal sign'].value_counts()"
      ]
    },
    {
      "cell_type": "markdown",
      "id": "285f3218",
      "metadata": {
        "id": "285f3218"
      },
      "source": [
        "### Differential count"
      ]
    },
    {
      "cell_type": "code",
      "execution_count": null,
      "id": "fa65206e",
      "metadata": {
        "colab": {
          "base_uri": "https://localhost:8080/"
        },
        "id": "fa65206e",
        "outputId": "09af52de-009d-43e6-9fff-043b1cf5e51f"
      },
      "outputs": [
        {
          "output_type": "execute_result",
          "data": {
            "text/plain": [
              "Differential count\n",
              "N60L38M2      6\n",
              "N36L60M4      5\n",
              "N60L37M3      3\n",
              "N69L28M3      3\n",
              "N63L35M2      3\n",
              "             ..\n",
              "N75L24M1      1\n",
              "N45L49M6      1\n",
              "N93L7         1\n",
              "N55L42M1E2    1\n",
              "N44L50M05     1\n",
              "Name: count, Length: 191, dtype: int64"
            ]
          },
          "metadata": {},
          "execution_count": 84
        }
      ],
      "source": [
        "data['Differential count'].value_counts()"
      ]
    },
    {
      "cell_type": "code",
      "execution_count": null,
      "id": "3996afbd",
      "metadata": {
        "colab": {
          "base_uri": "https://localhost:8080/"
        },
        "id": "3996afbd",
        "outputId": "ae8e8d99-676a-4ff7-d9aa-c0538458a7bf"
      },
      "outputs": [
        {
          "output_type": "execute_result",
          "data": {
            "text/plain": [
              "127"
            ]
          },
          "metadata": {},
          "execution_count": 85
        }
      ],
      "source": [
        "data['Differential count'].isna().sum()"
      ]
    },
    {
      "cell_type": "code",
      "execution_count": null,
      "id": "f48e68a8",
      "metadata": {
        "id": "f48e68a8"
      },
      "outputs": [],
      "source": [
        "data['Differential count']=data['Differential count'].fillna('0')"
      ]
    },
    {
      "cell_type": "code",
      "execution_count": null,
      "id": "ad3a587e",
      "metadata": {
        "colab": {
          "base_uri": "https://localhost:8080/"
        },
        "id": "ad3a587e",
        "outputId": "c0948932-2d19-4dc6-b8a3-8d701c9a026f"
      },
      "outputs": [
        {
          "output_type": "execute_result",
          "data": {
            "text/plain": [
              "0"
            ]
          },
          "metadata": {},
          "execution_count": 87
        }
      ],
      "source": [
        "data['Differential count'].isna().sum()"
      ]
    },
    {
      "cell_type": "code",
      "execution_count": null,
      "id": "b392198f",
      "metadata": {
        "id": "b392198f"
      },
      "outputs": [],
      "source": [
        "data['Differential count']=data['Differential count'].apply(strencode)"
      ]
    },
    {
      "cell_type": "code",
      "execution_count": null,
      "id": "3f6944fb",
      "metadata": {
        "colab": {
          "base_uri": "https://localhost:8080/"
        },
        "id": "3f6944fb",
        "outputId": "4886a37a-aabe-4186-87b3-00084aba0dd8"
      },
      "outputs": [
        {
          "output_type": "execute_result",
          "data": {
            "text/plain": [
              "Differential count\n",
              "48     127\n",
              "490    117\n",
              "607     29\n",
              "538     24\n",
              "499     18\n",
              "703      5\n",
              "365      4\n",
              "616      4\n",
              "442      3\n",
              "547      3\n",
              "361      2\n",
              "485      2\n",
              "493      2\n",
              "570      2\n",
              "65       2\n",
              "451      1\n",
              "657      1\n",
              "356      1\n",
              "541      1\n",
              "608      1\n",
              "532      1\n",
              "568      1\n",
              "434      1\n",
              "559      1\n",
              "360      1\n",
              "317      1\n",
              "363      1\n",
              "489      1\n",
              "355      1\n",
              "370      1\n",
              "712      1\n",
              "537      1\n",
              "Name: count, dtype: int64"
            ]
          },
          "metadata": {},
          "execution_count": 89
        }
      ],
      "source": [
        "data['Differential count'].value_counts()"
      ]
    },
    {
      "cell_type": "code",
      "execution_count": null,
      "id": "8aea0a9c",
      "metadata": {
        "colab": {
          "base_uri": "https://localhost:8080/"
        },
        "id": "8aea0a9c",
        "outputId": "f542069d-edf2-44a9-c780-9b2a6ebb4435"
      },
      "outputs": [
        {
          "output_type": "execute_result",
          "data": {
            "text/plain": [
              "0                      Negative\n",
              "1                           NaN\n",
              "2                           NaN\n",
              "3                           NaN\n",
              "4                           NaN\n",
              "                 ...           \n",
              "356    Dengue Ns1 +IGM Positive\n",
              "357       Dengue Ns1AG positive\n",
              "358     Dengue NS1 IGG Positive\n",
              "359                    Negative\n",
              "360         Dengue Ns1 Positive\n",
              "Name: Dengue Viral Immunoassay (IgM) (Positive/Negative), Length: 361, dtype: object"
            ]
          },
          "metadata": {},
          "execution_count": 90
        }
      ],
      "source": [
        "data['Dengue Viral Immunoassay (IgM) (Positive/Negative)']"
      ]
    },
    {
      "cell_type": "code",
      "execution_count": null,
      "id": "6026a641",
      "metadata": {
        "colab": {
          "base_uri": "https://localhost:8080/"
        },
        "id": "6026a641",
        "outputId": "5b3931c3-287a-47a8-f9d7-2c2a2acb47e4"
      },
      "outputs": [
        {
          "output_type": "execute_result",
          "data": {
            "text/plain": [
              "Dengue Viral Immunoassay (IgM) (Positive/Negative)\n",
              "Negative                                       57\n",
              "NS1 and IgM Negative                           17\n",
              "NS1 and IgM Positive                           16\n",
              "NS1 Positive and IgM Negative                  12\n",
              "Positive                                       10\n",
              "Dengue IGM Positive                             8\n",
              "NS1 Negative IgM Positive                       8\n",
              "NS1 Positive IgM Negative                       6\n",
              "D                                               6\n",
              "IGM Positive                                    5\n",
              "NS1 and IgM Negative, IgG Positive              4\n",
              "NS1, IgM and IgG Positive                       3\n",
              "Dengue NS1 positive                             3\n",
              "NS1 Negative                                    3\n",
              "NS1 Negative and IgM Positive                   3\n",
              "NS1 and IgM Negative; IgG Positive              3\n",
              "-                                               3\n",
              "NS1 Positive                                    3\n",
              "NS1 and IgM Negative IgG Positive               2\n",
              "NS1 Positive and Igm Negative                   2\n",
              "Dengue Ns1AG positive                           2\n",
              "Dengue RNA PCR Positive                         2\n",
              "NEGATIVE                                        2\n",
              "POSITIVE                                        2\n",
              "NS1 Positive, IgM Negative                      2\n",
              "NS1 Positive, IgM Negative and IgG Positive     2\n",
              "NS1 Positive, IgM Negative, IgG Positive        2\n",
              "NS1 Negative, IgM Positive                      2\n",
              "NS1 Negative, IgM Positive and IgG Negative     1\n",
              "Not done                                        1\n",
              "Dengue NS1 IGG Positive                         1\n",
              "Dengue Ns1 +IGM Positive                        1\n",
              "Dengue IGM positive                             1\n",
              "NS1 Positive, Igm and IgG Negative              1\n",
              "Igm Negative IgG Positive                       1\n",
              "NS1 Negative Igm Positive                       1\n",
              "IGG Positive                                    1\n",
              "NS1 Negative, IgM and IgG Positive              1\n",
              "NS1 Negative IgM Positive and IgG Positive      1\n",
              "Dengue RNA PCR positive                         1\n",
              "NS1 positive IgM Negative                       1\n",
              "Dengue PCR Positive                             1\n",
              "NS1 is Negative, IgM Positive                   1\n",
              "NS1 and Igm Negative                            1\n",
              "Positive(34.9)                                  1\n",
              "NS1 and IgM Negative, IgG positive              1\n",
              "Dengue Ns1 Positive                             1\n",
              "Name: count, dtype: int64"
            ]
          },
          "metadata": {},
          "execution_count": 91
        }
      ],
      "source": [
        "data['Dengue Viral Immunoassay (IgM) (Positive/Negative)'].value_counts()"
      ]
    },
    {
      "cell_type": "code",
      "execution_count": null,
      "id": "af094ae0",
      "metadata": {
        "id": "af094ae0"
      },
      "outputs": [],
      "source": [
        "#IgM,NS1,IgG Possitive=2, negative=1, Not done=3\n",
        "d={'Negative':133,'NEGATIVE':133,\n",
        "'NS1 and IgM Negative':113,\n",
        "'NS1 and IgM Positive':223,\n",
        "'NS1 Positive and IgM Negative':213,\n",
        "'Positive':233,\n",
        "'Dengue IGM Positive':233,\n",
        "'NS1 Negative IgM Positive':213,\n",
        "'NS1 Positive IgM Negative':213,\n",
        "'D':333,\n",
        "'IGM Positive':233,\n",
        "'NS1 and IgM Negative, IgG Positive':112,\n",
        "'NS1, IgM and IgG Positive':222,\n",
        "'Dengue NS1 positive':323,\n",
        "'NS1 Negative':313,\n",
        "'NS1 Negative and IgM Positive':213,\n",
        "'NS1 and IgM Negative; IgG Positive':112,\n",
        "'-':333,\n",
        "'NS1 Positive':323,\n",
        "'NS1 and IgM Negative IgG Positive':112,\n",
        "'NS1 Positive and Igm Negative':123,\n",
        "'Dengue Ns1AG positive':323,\n",
        "'Dengue RNA PCR Positive':4,\n",
        "'POSITIVE':233,\n",
        "'NS1 Positive, IgM Negative':123,\n",
        "'NS1 Positive, IgM Negative and IgG Positive':122,\n",
        "'NS1 Positive, IgM Negative, IgG Positive':122,\n",
        "'NS1 Negative, IgM Positive':213,\n",
        "'NS1 Negative, IgM Positive and IgG Negative':211,\n",
        "'Not done':-1,\n",
        "'Dengue NS1 IGG Positive':122,\n",
        "'Dengue Ns1 +IGM Positive':223,\n",
        "'Dengue IGM positive':233,\n",
        "'NS1 Positive, Igm and IgG Negative':121,\n",
        "'Igm Negative IgG Positive':132,\n",
        "'NS1 Negative Igm Positive':213,\n",
        "'IGG Positive':332,\n",
        "'NS1 Negative, IgM and IgG Positive':212,\n",
        "'NS1 Negative IgM Positive and IgG Positive':212,\n",
        "'Dengue RNA PCR positive':233,\n",
        "'NS1 positive IgM Negative':123,\n",
        "'Dengue PCR Positive':233,\n",
        "'NS1 is Negative, IgM Positive':213,\n",
        "'NS1 and Igm Negative':113,\n",
        "'Positive':233,\n",
        "'NS1 and IgM Negative, IgG positive':112,\n",
        "'Dengue Ns1 Positive':323}"
      ]
    },
    {
      "cell_type": "code",
      "execution_count": null,
      "id": "34697a42",
      "metadata": {
        "id": "34697a42"
      },
      "outputs": [],
      "source": [
        "def igm(column):\n",
        "    ig=column\n",
        "    if ig in d.keys():\n",
        "        return d[ig]\n",
        "    else:\n",
        "        return -1"
      ]
    },
    {
      "cell_type": "code",
      "execution_count": null,
      "id": "cd8eac8e",
      "metadata": {
        "id": "cd8eac8e"
      },
      "outputs": [],
      "source": [
        "data['Dengue Viral Immunoassay (IgM) (Positive/Negative)']=data['Dengue Viral Immunoassay (IgM) (Positive/Negative)'].apply(igm)"
      ]
    },
    {
      "cell_type": "code",
      "execution_count": null,
      "id": "416fe023",
      "metadata": {
        "colab": {
          "base_uri": "https://localhost:8080/"
        },
        "id": "416fe023",
        "outputId": "82ba3d51-d969-4aad-95d2-ffb1f19b2e8f"
      },
      "outputs": [
        {
          "output_type": "execute_result",
          "data": {
            "text/plain": [
              "0"
            ]
          },
          "metadata": {},
          "execution_count": 95
        }
      ],
      "source": [
        "data['Dengue Viral Immunoassay (IgM) (Positive/Negative)'].isna().sum()"
      ]
    },
    {
      "cell_type": "code",
      "execution_count": null,
      "id": "4ddcfec5",
      "metadata": {
        "id": "4ddcfec5"
      },
      "outputs": [],
      "source": [
        "def posneg(column):\n",
        "    pn=column\n",
        "    if pn in ['Positive','O (1 in 160) and H (1 in 640) Positive','O & H Positive','Positive (3.50)','D']:\n",
        "        return 2\n",
        "    elif pn in ['Negative','All Negative','NEGATIVE',]:\n",
        "        return 1\n",
        "    else:\n",
        "        return 0"
      ]
    },
    {
      "cell_type": "code",
      "execution_count": null,
      "id": "e33e1995",
      "metadata": {
        "colab": {
          "base_uri": "https://localhost:8080/"
        },
        "id": "e33e1995",
        "outputId": "5daab806-68ac-4ea2-b73c-3ee3bd78aabb"
      },
      "outputs": [
        {
          "output_type": "execute_result",
          "data": {
            "text/plain": [
              "Typhi dot/ WIDAL Report\n",
              "Negative                                  53\n",
              "Positive                                   3\n",
              "All Negative                               2\n",
              "NEGATIVE                                   2\n",
              "O (1 in 160) and H (1 in 640) Positive     1\n",
              "O & H Positive                             1\n",
              "Name: count, dtype: int64"
            ]
          },
          "metadata": {},
          "execution_count": 97
        }
      ],
      "source": [
        "data['Typhi dot/ WIDAL Report'].value_counts()"
      ]
    },
    {
      "cell_type": "code",
      "execution_count": null,
      "id": "171e51e1",
      "metadata": {
        "colab": {
          "base_uri": "https://localhost:8080/"
        },
        "id": "171e51e1",
        "outputId": "dd9ec9b5-318d-4c87-e2f3-dafa0f7f9119"
      },
      "outputs": [
        {
          "output_type": "execute_result",
          "data": {
            "text/plain": [
              "299"
            ]
          },
          "metadata": {},
          "execution_count": 98
        }
      ],
      "source": [
        "data['Typhi dot/ WIDAL Report'].isna().sum()"
      ]
    },
    {
      "cell_type": "code",
      "execution_count": null,
      "id": "38488ff4",
      "metadata": {
        "id": "38488ff4"
      },
      "outputs": [],
      "source": [
        "data['Typhi dot/ WIDAL Report']=data['Typhi dot/ WIDAL Report'].apply(posneg)"
      ]
    },
    {
      "cell_type": "code",
      "execution_count": null,
      "id": "5f07e101",
      "metadata": {
        "colab": {
          "base_uri": "https://localhost:8080/"
        },
        "id": "5f07e101",
        "outputId": "1309124a-f015-4e63-b937-e85bba53ac4c"
      },
      "outputs": [
        {
          "output_type": "execute_result",
          "data": {
            "text/plain": [
              "Typhi dot/ WIDAL Report\n",
              "0    299\n",
              "1     57\n",
              "2      5\n",
              "Name: count, dtype: int64"
            ]
          },
          "metadata": {},
          "execution_count": 100
        }
      ],
      "source": [
        "data['Typhi dot/ WIDAL Report'].value_counts()"
      ]
    },
    {
      "cell_type": "code",
      "execution_count": null,
      "id": "6669ad4f",
      "metadata": {
        "id": "6669ad4f"
      },
      "outputs": [],
      "source": []
    },
    {
      "cell_type": "code",
      "execution_count": null,
      "id": "d1c5c71f",
      "metadata": {
        "colab": {
          "base_uri": "https://localhost:8080/"
        },
        "id": "d1c5c71f",
        "outputId": "cb1a6e20-ee1e-4ef4-ace7-8fb4011d1cd2"
      },
      "outputs": [
        {
          "output_type": "execute_result",
          "data": {
            "text/plain": [
              "Scrub typhus Report\n",
              "Negative           65\n",
              "Positive           12\n",
              "Positive (3.50)     1\n",
              "NEGATIVE            1\n",
              "Name: count, dtype: int64"
            ]
          },
          "metadata": {},
          "execution_count": 101
        }
      ],
      "source": [
        "data['Scrub typhus Report'].value_counts()"
      ]
    },
    {
      "cell_type": "code",
      "execution_count": null,
      "id": "8ee9cb92",
      "metadata": {
        "colab": {
          "base_uri": "https://localhost:8080/"
        },
        "id": "8ee9cb92",
        "outputId": "30405c49-7831-4dcb-9d46-054994158175"
      },
      "outputs": [
        {
          "output_type": "execute_result",
          "data": {
            "text/plain": [
              "282"
            ]
          },
          "metadata": {},
          "execution_count": 102
        }
      ],
      "source": [
        "data['Scrub typhus Report'].isna().sum()"
      ]
    },
    {
      "cell_type": "code",
      "execution_count": null,
      "id": "1f98c7ed",
      "metadata": {
        "id": "1f98c7ed"
      },
      "outputs": [],
      "source": [
        "data['Scrub typhus Report']=data['Scrub typhus Report'].apply(posneg)"
      ]
    },
    {
      "cell_type": "code",
      "execution_count": null,
      "id": "118a8b35",
      "metadata": {
        "colab": {
          "base_uri": "https://localhost:8080/"
        },
        "id": "118a8b35",
        "outputId": "8f26ea71-ae0d-4ff8-82d7-e6acaf368bec"
      },
      "outputs": [
        {
          "output_type": "execute_result",
          "data": {
            "text/plain": [
              "0"
            ]
          },
          "metadata": {},
          "execution_count": 104
        }
      ],
      "source": [
        "data['Scrub typhus Report'].isna().sum()"
      ]
    },
    {
      "cell_type": "code",
      "execution_count": null,
      "id": "692c41cd",
      "metadata": {
        "id": "692c41cd"
      },
      "outputs": [],
      "source": []
    },
    {
      "cell_type": "code",
      "execution_count": null,
      "id": "3dde8b04",
      "metadata": {
        "colab": {
          "base_uri": "https://localhost:8080/"
        },
        "id": "3dde8b04",
        "outputId": "f8319c37-7347-41bf-b129-daeb1a685593"
      },
      "outputs": [
        {
          "output_type": "execute_result",
          "data": {
            "text/plain": [
              "Malaria report\n",
              "Negative    44\n",
              "NEGATIVE     3\n",
              "NOT SEEN     2\n",
              "D            1\n",
              "Name: count, dtype: int64"
            ]
          },
          "metadata": {},
          "execution_count": 105
        }
      ],
      "source": [
        "data['Malaria report'].value_counts()"
      ]
    },
    {
      "cell_type": "code",
      "execution_count": null,
      "id": "e148d6a4",
      "metadata": {
        "colab": {
          "base_uri": "https://localhost:8080/"
        },
        "id": "e148d6a4",
        "outputId": "94c0c4c7-9c32-4e7e-b80e-8f6a2f561d2f"
      },
      "outputs": [
        {
          "output_type": "execute_result",
          "data": {
            "text/plain": [
              "311"
            ]
          },
          "metadata": {},
          "execution_count": 106
        }
      ],
      "source": [
        "data['Malaria report'].isna().sum()"
      ]
    },
    {
      "cell_type": "code",
      "execution_count": null,
      "id": "43a3b7cf",
      "metadata": {
        "id": "43a3b7cf"
      },
      "outputs": [],
      "source": [
        "data['Malaria report']=data['Malaria report'].apply(posneg)"
      ]
    },
    {
      "cell_type": "code",
      "execution_count": null,
      "id": "07155859",
      "metadata": {
        "colab": {
          "base_uri": "https://localhost:8080/"
        },
        "id": "07155859",
        "outputId": "e2d272da-3397-4b21-cff6-9057dc1839e2"
      },
      "outputs": [
        {
          "output_type": "execute_result",
          "data": {
            "text/plain": [
              "0"
            ]
          },
          "metadata": {},
          "execution_count": 108
        }
      ],
      "source": [
        "data['Malaria report'].isna().sum()"
      ]
    },
    {
      "cell_type": "code",
      "execution_count": null,
      "id": "54c3fd4f",
      "metadata": {
        "colab": {
          "base_uri": "https://localhost:8080/"
        },
        "id": "54c3fd4f",
        "outputId": "3f7092f9-47c0-4965-84c6-289cb5401995"
      },
      "outputs": [
        {
          "output_type": "execute_result",
          "data": {
            "text/plain": [
              "Malaria report\n",
              "0    313\n",
              "1     47\n",
              "2      1\n",
              "Name: count, dtype: int64"
            ]
          },
          "metadata": {},
          "execution_count": 109
        }
      ],
      "source": [
        "data['Malaria report'].value_counts()"
      ]
    },
    {
      "cell_type": "code",
      "execution_count": null,
      "id": "755f629a",
      "metadata": {
        "id": "755f629a"
      },
      "outputs": [],
      "source": []
    },
    {
      "cell_type": "code",
      "execution_count": null,
      "id": "af726cd6",
      "metadata": {
        "colab": {
          "base_uri": "https://localhost:8080/"
        },
        "id": "af726cd6",
        "outputId": "28d0af2b-1994-4933-d2a1-cd074d37d375"
      },
      "outputs": [
        {
          "output_type": "execute_result",
          "data": {
            "text/plain": [
              "Lepto report\n",
              "Negative    60\n",
              "D           19\n",
              "Positive    10\n",
              "NEGATIVE     5\n",
              "Name: count, dtype: int64"
            ]
          },
          "metadata": {},
          "execution_count": 110
        }
      ],
      "source": [
        "data['Lepto report'].value_counts()"
      ]
    },
    {
      "cell_type": "code",
      "execution_count": null,
      "id": "958a1df8",
      "metadata": {
        "id": "958a1df8"
      },
      "outputs": [],
      "source": [
        "data['Lepto report']=data['Lepto report'].apply(posneg)"
      ]
    },
    {
      "cell_type": "code",
      "execution_count": null,
      "id": "1fac48d3",
      "metadata": {
        "colab": {
          "base_uri": "https://localhost:8080/"
        },
        "id": "1fac48d3",
        "outputId": "1eae14e0-3979-462d-af1d-25eb6bfab4cc"
      },
      "outputs": [
        {
          "output_type": "execute_result",
          "data": {
            "text/plain": [
              "0"
            ]
          },
          "metadata": {},
          "execution_count": 112
        }
      ],
      "source": [
        "data['Lepto report'].isna().sum()"
      ]
    },
    {
      "cell_type": "code",
      "execution_count": null,
      "id": "f7356f40",
      "metadata": {
        "colab": {
          "base_uri": "https://localhost:8080/"
        },
        "id": "f7356f40",
        "outputId": "0369c29b-289d-46d6-ad2c-64e56ab452fd"
      },
      "outputs": [
        {
          "output_type": "execute_result",
          "data": {
            "text/plain": [
              "Lepto report\n",
              "0    267\n",
              "1     65\n",
              "2     29\n",
              "Name: count, dtype: int64"
            ]
          },
          "metadata": {},
          "execution_count": 113
        }
      ],
      "source": [
        "data['Lepto report'].value_counts()"
      ]
    },
    {
      "cell_type": "code",
      "execution_count": null,
      "id": "fddbc659",
      "metadata": {
        "id": "fddbc659"
      },
      "outputs": [],
      "source": []
    },
    {
      "cell_type": "code",
      "execution_count": null,
      "id": "c570c7d9",
      "metadata": {
        "colab": {
          "base_uri": "https://localhost:8080/"
        },
        "id": "c570c7d9",
        "outputId": "7564cb8d-1c22-48e4-9b11-53ccc2a2be44"
      },
      "outputs": [
        {
          "output_type": "execute_result",
          "data": {
            "text/plain": [
              "Xray report\n",
              "Normal study                                                                                                                       47\n",
              "Normal                                                                                                                             41\n",
              "NORMAL                                                                                                                             15\n",
              "BVM with infiltrates                                                                                                               11\n",
              "B/L Infiltrates                                                                                                                     4\n",
              "UNREMARKABLE                                                                                                                        3\n",
              "-                                                                                                                                   3\n",
              "Bvm with infiltrates                                                                                                                3\n",
              "Pleural effusion                                                                                                                    2\n",
              "Prominent bronchovascular markings with peribronchial infiltrates. A tiny right pleural effusion                                    2\n",
              "Pleural effuaion                                                                                                                    2\n",
              "Unremarkable                                                                                                                        2\n",
              "Right pleural effusion                                                                                                              2\n",
              "Bilateral prominent bronchovascular markings with perihilar infiltrates                                                             1\n",
              "Both lungs show prominent bronchovascular markings with peribronchial infiltrates                                                   1\n",
              "Both lungs show prominent bronchovascular markings                                                                                  1\n",
              "Lt lower lobe consolidation                                                                                                         1\n",
              "Prominent bronchovascular markings                                                                                                  1\n",
              "Lower lone pneumonia                                                                                                                1\n",
              "Trachea shifted to right                                                                                                            1\n",
              "Patchy infiltrates                                                                                                                  1\n",
              "Right sided massive pleural effussion                                                                                               1\n",
              "BVM Iinfiltrates                                                                                                                    1\n",
              "Rt lung haziness                                                                                                                    1\n",
              "UNREMARABLE                                                                                                                         1\n",
              "SLIDING HERINA                                                                                                                      1\n",
              "Left lung consoddtion                                                                                                               1\n",
              "Bilateral prominent bronchovascular markings with bilateral minimal pleural effusion                                                1\n",
              "Bilateral mild pleural effusion                                                                                                     1\n",
              "Right upper lobe consolidation, Left hemithorax opaque, Left ICD in situ                                                            1\n",
              "Bilateral pleural effusion                                                                                                          1\n",
              "Bvm with fultrates                                                                                                                  1\n",
              "Bilateral interstitial infiltrates                                                                                                  1\n",
              "Bilateral bronchial wall thickening                                                                                                 1\n",
              "Bilateral lower lobe pneumonia                                                                                                      1\n",
              "Consolidation in left lower lobe with small pleural effusion                                                                        1\n",
              "Consolidation in Right upper lobe with some volume loss, patchy infiltrates in Right middle lobe, A tiny right pleural effusion     1\n",
              "LT Pleural effusion                                                                                                                 1\n",
              "Patchy infiltrates seen in right lower lobe                                                                                         1\n",
              "Both lungs hyperinflated                                                                                                            1\n",
              "Lungs show prominent bronchovascular markings                                                                                       1\n",
              "Bilateral Perihilar Infiltrates (More on Right Upper zone)                                                                          1\n",
              "Prminent Brochovascular markings                                                                                                    1\n",
              "Prominent Bronchovascular markings                                                                                                  1\n",
              "Left lower lobe consolidation with Bilateral pleural effusion                                                                       1\n",
              "Bilateral bronchial wall thickening. No focal consolidation                                                                         1\n",
              "There is consolidation in left lower lobe                                                                                           1\n",
              "Right sided pleural effusion                                                                                                        1\n",
              "Bilateral perihilar infiltrates and peribroncial infiltrates                                                                        1\n",
              "Right sided pleural effusion and right lower lobe collapse                                                                          1\n",
              "A tiny effusion is seen on both sides                                                                                               1\n",
              "Name: count, dtype: int64"
            ]
          },
          "metadata": {},
          "execution_count": 114
        }
      ],
      "source": [
        "data['Xray report'].value_counts()"
      ]
    },
    {
      "cell_type": "code",
      "execution_count": null,
      "id": "f6bda381",
      "metadata": {
        "id": "f6bda381"
      },
      "outputs": [],
      "source": [
        "def xray(column):\n",
        "    x=column\n",
        "    if x in ['Normal study','Normal','NORMAL','UNREMARKABLE','Unremarkable','UNREMARABLE']:\n",
        "        return 0\n",
        "    elif x=='-':\n",
        "        return -1\n",
        "    elif type(x)==float:\n",
        "        return -1\n",
        "    else:\n",
        "        return strencodegeneral(x)"
      ]
    },
    {
      "cell_type": "code",
      "execution_count": null,
      "id": "86bd8afe",
      "metadata": {
        "id": "86bd8afe"
      },
      "outputs": [],
      "source": [
        "data['Xray report']=data['Xray report'].apply(xray)"
      ]
    },
    {
      "cell_type": "code",
      "execution_count": null,
      "id": "8466a037",
      "metadata": {
        "colab": {
          "base_uri": "https://localhost:8080/"
        },
        "id": "8466a037",
        "outputId": "ee5f7d0b-f435-47a9-af79-d920a32b15ad"
      },
      "outputs": [
        {
          "output_type": "execute_result",
          "data": {
            "text/plain": [
              "Xray report\n",
              "-1        189\n",
              " 0        109\n",
              " 1926      11\n",
              " 1378       4\n",
              " 1990       3\n",
              " 1620       2\n",
              " 1602       2\n",
              " 9484       2\n",
              " 2194       2\n",
              " 5019       1\n",
              " 6688       1\n",
              " 3654       1\n",
              " 8379       1\n",
              " 7157       1\n",
              " 3492       1\n",
              " 8126       1\n",
              " 1838       1\n",
              " 2657       1\n",
              " 2304       1\n",
              " 1987       1\n",
              " 1523       1\n",
              " 1569       1\n",
              " 993        1\n",
              " 2085       1\n",
              " 2596       1\n",
              " 5578       1\n",
              " 3050       1\n",
              " 5991       1\n",
              " 1787       1\n",
              " 3473       1\n",
              " 3446       1\n",
              " 2951       1\n",
              " 5836       1\n",
              " 12037      1\n",
              " 1812       1\n",
              " 4153       1\n",
              " 2405       1\n",
              " 4558       1\n",
              " 5404       1\n",
              " 3239       1\n",
              " 3460       1\n",
              " 5964       1\n",
              " 5692       1\n",
              " 3927       1\n",
              " 2747       1\n",
              " 3437       1\n",
              "Name: count, dtype: int64"
            ]
          },
          "metadata": {},
          "execution_count": 117
        }
      ],
      "source": [
        "data['Xray report'].value_counts()"
      ]
    },
    {
      "cell_type": "code",
      "execution_count": null,
      "id": "7995c9df",
      "metadata": {
        "colab": {
          "base_uri": "https://localhost:8080/"
        },
        "id": "7995c9df",
        "outputId": "e88669b4-01ff-483a-c935-47a7c9118208"
      },
      "outputs": [
        {
          "output_type": "execute_result",
          "data": {
            "text/plain": [
              "0"
            ]
          },
          "metadata": {},
          "execution_count": 118
        }
      ],
      "source": [
        "data['Xray report'].isna().sum()"
      ]
    },
    {
      "cell_type": "markdown",
      "id": "ffa35bd4",
      "metadata": {
        "id": "ffa35bd4"
      },
      "source": [
        "## Columns with no common functions"
      ]
    },
    {
      "cell_type": "markdown",
      "id": "11111256",
      "metadata": {
        "id": "11111256"
      },
      "source": [
        "### Productive/Non-Productive"
      ]
    },
    {
      "cell_type": "code",
      "execution_count": null,
      "id": "97de6a8a",
      "metadata": {
        "colab": {
          "base_uri": "https://localhost:8080/"
        },
        "id": "97de6a8a",
        "outputId": "bf813e81-8ef6-498d-88f6-1d209e791351"
      },
      "outputs": [
        {
          "output_type": "execute_result",
          "data": {
            "text/plain": [
              "Productive/Non productive (P/NP)\n",
              "N/P    112\n",
              "P        8\n",
              "-        6\n",
              "A        1\n",
              "Name: count, dtype: int64"
            ]
          },
          "metadata": {},
          "execution_count": 119
        }
      ],
      "source": [
        "data['Productive/Non productive (P/NP)'].value_counts()"
      ]
    },
    {
      "cell_type": "code",
      "execution_count": null,
      "id": "aa0a1d82",
      "metadata": {
        "colab": {
          "base_uri": "https://localhost:8080/"
        },
        "id": "aa0a1d82",
        "outputId": "3e5034cf-96a0-49bf-edb2-53f39e347c49"
      },
      "outputs": [
        {
          "output_type": "execute_result",
          "data": {
            "text/plain": [
              "234"
            ]
          },
          "metadata": {},
          "execution_count": 120
        }
      ],
      "source": [
        "data['Productive/Non productive (P/NP)'].isna().sum()"
      ]
    },
    {
      "cell_type": "code",
      "execution_count": null,
      "id": "d3012000",
      "metadata": {
        "id": "d3012000"
      },
      "outputs": [],
      "source": [
        "data['Productive/Non productive (P/NP)'].fillna('-',inplace=True)"
      ]
    },
    {
      "cell_type": "code",
      "execution_count": null,
      "id": "5adc9164",
      "metadata": {
        "id": "5adc9164"
      },
      "outputs": [],
      "source": [
        "data['Productive/Non productive (P/NP)']=le.fit_transform(data['Productive/Non productive (P/NP)'])"
      ]
    },
    {
      "cell_type": "code",
      "execution_count": null,
      "id": "c78a3bb1",
      "metadata": {
        "colab": {
          "base_uri": "https://localhost:8080/"
        },
        "id": "c78a3bb1",
        "outputId": "14877ba1-16b5-47f8-e3b9-7a5667a520c6"
      },
      "outputs": [
        {
          "output_type": "execute_result",
          "data": {
            "text/plain": [
              "Productive/Non productive (P/NP)\n",
              "0    240\n",
              "2    112\n",
              "3      8\n",
              "1      1\n",
              "Name: count, dtype: int64"
            ]
          },
          "metadata": {},
          "execution_count": 123
        }
      ],
      "source": [
        "data['Productive/Non productive (P/NP)'].value_counts()"
      ]
    },
    {
      "cell_type": "markdown",
      "id": "a0e06607",
      "metadata": {
        "id": "a0e06607"
      },
      "source": [
        "### Past Illness"
      ]
    },
    {
      "cell_type": "code",
      "execution_count": null,
      "id": "d86635ce",
      "metadata": {
        "colab": {
          "base_uri": "https://localhost:8080/"
        },
        "id": "d86635ce",
        "outputId": "e03b868b-3de1-4e71-ef27-768b433081df"
      },
      "outputs": [
        {
          "output_type": "execute_result",
          "data": {
            "text/plain": [
              "Past illness (P/A)\n",
              "NIL                                                                                                                                                                                                                 285\n",
              "Nil                                                                                                                                                                                                                   8\n",
              "P                                                                                                                                                                                                                     4\n",
              "CHD                                                                                                                                                                                                                   2\n",
              "DM.HT CHD                                                                                                                                                                                                             2\n",
              "NP                                                                                                                                                                                                                    2\n",
              "Bronchial asuthuma                                                                                                                                                                                                    2\n",
              "Child was treated for culture proven enteric fever 1 week back elsewhere                                                                                                                                              1\n",
              "H/O recurrent episodes of simple febrile sizures since 3 years of age- on AED; MRI done at 3 years Normal- hence stopped AED                                                                                          1\n",
              "Admitted in Sep 2022 for acute febrile illness/ partially treated enteric fever/ Scrub typhus and treated for the same with antibiotics for 2 weeks; Again had fever for 3 days in the last week of January 2023      1\n",
              "H/O of Dengue at 5 years of age                                                                                                                                                                                       1\n",
              "Had Neonatal seizures with HIE Stage II; was admitted at 8 months if age for Dengue with warning signs                                                                                                                1\n",
              "Admitted in 2021 for MISC                                                                                                                                                                                             1\n",
              "Admitted and evaluated for fever 1 month back elsewhere and got discharged against medical advice                                                                                                                     1\n",
              "Had H/O Febrile illness 2 weeks back- settled with antipyretics                                                                                                                                                       1\n",
              "H/O of Febrile seizures followed by unprovoked seizures in 2020- MRI Brain Normal, EEG s/o left frontoparietal epileptiform activity                                                                                  1\n",
              "1st episode of simple febrile seizures in December 2022                                                                                                                                                               1\n",
              "TB                                                                                                                                                                                                                    1\n",
              "Admitted for the same complaints elsewhere and treated as severe Dengue with compensated shock with IV fluids, albumin and inotropes- shifted to KKCTH in view of persistent shock and altered sensorium              1\n",
              "H/O Viral fever at the age of 2 and H/O Dengue 3 yrs back                                                                                                                                                             1\n",
              "Child was treated for the complaints at local hospital and referred here in view of blood stained vomitus                                                                                                             1\n",
              "Renal dysfunction                                                                                                                                                                                                     1\n",
              "CAD,PTCA                                                                                                                                                                                                              1\n",
              "RENAL CALCULAI                                                                                                                                                                                                        1\n",
              "CVA                                                                                                                                                                                                                   1\n",
              "Throat pain                                                                                                                                                                                                           1\n",
              "CAD,CKD                                                                                                                                                                                                               1\n",
              "CA Pancreas                                                                                                                                                                                                           1\n",
              "COPD                                                                                                                                                                                                                  1\n",
              "Child was treated for UTI (Urine culture E Coli) in 1st week of Feb 2023                                                                                                                                              1\n",
              "Admitted for Iron deficiency anemia at the age of 2 1/2 months; Admitted in July 2022 for UTI and Scan revealed cystitis with Grade 4 VUR                                                                             1\n",
              "H/O travel to kutralam last week; known case of VSD on follow up                                                                                                                                                      1\n",
              "Had simple febrile seizures at 1 1/2yr of age- on frisium prophylaxis                                                                                                                                                 1\n",
              "Coronary heart disease                                                                                                                                                                                                1\n",
              "CAD,                                                                                                                                                                                                                  1\n",
              "Dermoid cyst/ E.coli meningitis/Stricture urethra                                                                                                                                                                     1\n",
              "H/O UTI 6 months ago. Partial vaginal synechiae present                                                                                                                                                               1\n",
              "UTI                                                                                                                                                                                                                   1\n",
              "Dysuria                                                                                                                                                                                                               1\n",
              "Recurrent episodes of fever for the past 1 1/2 yrs                                                                                                                                                                    1\n",
              "P (H/O Fever 2 weeks back and was treated for probable Typhoid with multiple Antibiotics)                                                                                                                             1\n",
              "Admitted for Dengue 5 years back                                                                                                                                                                                      1\n",
              "Post trachoestomy                                                                                                                                                                                                     1\n",
              "Hepatitis                                                                                                                                                                                                             1\n",
              "Seizure disorder                                                                                                                                                                                                      1\n",
              "H/O enteric fever in 2015                                                                                                                                                                                             1\n",
              "CKD                                                                                                                                                                                                                   1\n",
              "Covid positive                                                                                                                                                                                                        1\n",
              "CAD                                                                                                                                                                                                                   1\n",
              "DM,HT                                                                                                                                                                                                                 1\n",
              "Recurrent fever for the past 2 months                                                                                                                                                                                 1\n",
              "Previously diagnosed to have Kawasaki disease at 1.5 yrs pf age                                                                                                                                                       1\n",
              "Had similar illness in August 2019- diagnosed to have dengue fever                                                                                                                                                    1\n",
              "Admitted at 5yrs of age for Kawasaki disease, Known wheezer, H/O Atopy present                                                                                                                                        1\n",
              "Had similar illness 1 week back and was afebrile for 3 days                                                                                                                                                           1\n",
              "H/o simple febrile seizures till 5 years of age                                                                                                                                                                       1\n",
              "At 8 months of age -CAP                                                                                                                                                                                               1\n",
              "Name: count, dtype: int64"
            ]
          },
          "metadata": {},
          "execution_count": 124
        }
      ],
      "source": [
        "data['Past illness (P/A)'].value_counts()"
      ]
    },
    {
      "cell_type": "code",
      "execution_count": null,
      "id": "82cba1b3",
      "metadata": {
        "id": "82cba1b3"
      },
      "outputs": [],
      "source": [
        "data['Past illness (P/A)'].fillna('-1',inplace=True)"
      ]
    },
    {
      "cell_type": "code",
      "execution_count": null,
      "id": "711b0169",
      "metadata": {
        "id": "711b0169"
      },
      "outputs": [],
      "source": [
        "def pastillnesscolumn(column):\n",
        "    pi=column\n",
        "    if pi=='Nil' or pi=='NIL':\n",
        "        return 1\n",
        "    elif pi=='-1':\n",
        "        return 0\n",
        "    else:\n",
        "        return 2\n"
      ]
    },
    {
      "cell_type": "code",
      "execution_count": null,
      "id": "f19efcbc",
      "metadata": {
        "id": "f19efcbc"
      },
      "outputs": [],
      "source": [
        "data['Past illness (P/A)']=data['Past illness (P/A)'].apply(pastillnesscolumn)"
      ]
    },
    {
      "cell_type": "markdown",
      "id": "da0e01f3",
      "metadata": {
        "id": "da0e01f3"
      },
      "source": [
        "### Similar Illness"
      ]
    },
    {
      "cell_type": "code",
      "execution_count": null,
      "id": "36f37834",
      "metadata": {
        "colab": {
          "base_uri": "https://localhost:8080/"
        },
        "id": "36f37834",
        "outputId": "35a3060e-ce66-4c60-a9a8-577295824fe8"
      },
      "outputs": [
        {
          "output_type": "execute_result",
          "data": {
            "text/plain": [
              "Similar illness in family (P/A)\n",
              "NO                                199\n",
              "No                                139\n",
              "B/L RENAL CALCULAI                  2\n",
              "NP                                  2\n",
              "CHD                                 2\n",
              "Yes (Mother)                        2\n",
              "COPD                                1\n",
              "H/o of Atopy in mother              1\n",
              "CHD,DM                              1\n",
              "Hypothyroidism                      1\n",
              "SON                                 1\n",
              "Oliguria                            1\n",
              "CAD                                 1\n",
              "Valvular heart disease              1\n",
              "YES                                 1\n",
              "P                                   1\n",
              "Yes (elder sibling)                 1\n",
              "Sibling with fever 1 week back      1\n",
              "A                                   1\n",
              "CAP                                 1\n",
              "Name: count, dtype: int64"
            ]
          },
          "metadata": {},
          "execution_count": 128
        }
      ],
      "source": [
        "data['Similar illness in family (P/A)'].value_counts()"
      ]
    },
    {
      "cell_type": "code",
      "execution_count": null,
      "id": "f9942bb6",
      "metadata": {
        "colab": {
          "base_uri": "https://localhost:8080/"
        },
        "id": "f9942bb6",
        "outputId": "104ada35-b135-4d15-88a4-3690b20cc14a"
      },
      "outputs": [
        {
          "output_type": "execute_result",
          "data": {
            "text/plain": [
              "1"
            ]
          },
          "metadata": {},
          "execution_count": 129
        }
      ],
      "source": [
        "data['Similar illness in family (P/A)'].isna().sum()"
      ]
    },
    {
      "cell_type": "code",
      "execution_count": null,
      "id": "a2569d4e",
      "metadata": {
        "id": "a2569d4e"
      },
      "outputs": [],
      "source": [
        "data['Similar illness in family (P/A)'].fillna('-1',inplace=True)"
      ]
    },
    {
      "cell_type": "code",
      "execution_count": null,
      "id": "7d1f5dfe",
      "metadata": {
        "colab": {
          "base_uri": "https://localhost:8080/"
        },
        "id": "7d1f5dfe",
        "outputId": "9206a18b-65eb-40e0-b11f-3d039d91c9cc"
      },
      "outputs": [
        {
          "output_type": "execute_result",
          "data": {
            "text/plain": [
              "0"
            ]
          },
          "metadata": {},
          "execution_count": 131
        }
      ],
      "source": [
        "data['Similar illness in family (P/A)'].isna().sum()"
      ]
    },
    {
      "cell_type": "code",
      "execution_count": null,
      "id": "455183e1",
      "metadata": {
        "id": "455183e1"
      },
      "outputs": [],
      "source": [
        "def pnaillness(column):\n",
        "    pna=column\n",
        "    if pna in ['NO','No','A']:\n",
        "        return 'A'\n",
        "    elif pna=='-1':\n",
        "        return 'NA'\n",
        "    else:\n",
        "        return 'P'"
      ]
    },
    {
      "cell_type": "code",
      "execution_count": null,
      "id": "810ecee9",
      "metadata": {
        "id": "810ecee9"
      },
      "outputs": [],
      "source": [
        "data['Similar illness in family (P/A)']=le.fit_transform(data['Similar illness in family (P/A)'])"
      ]
    },
    {
      "cell_type": "markdown",
      "id": "ae329918",
      "metadata": {
        "id": "ae329918"
      },
      "source": [
        "### Rodent bites/scratches/contact with droppings"
      ]
    },
    {
      "cell_type": "code",
      "execution_count": null,
      "id": "e2466563",
      "metadata": {
        "colab": {
          "base_uri": "https://localhost:8080/"
        },
        "id": "e2466563",
        "outputId": "ef9a5660-528a-434a-8ae2-8ab4ea8d6577"
      },
      "outputs": [
        {
          "output_type": "execute_result",
          "data": {
            "text/plain": [
              "Any rodent bite/scratch/contact with rodent droppings (Y/N)\n",
              "A                                 354\n",
              "-                                   3\n",
              "H/O contact with tick and mite      1\n",
              "Yes                                 1\n",
              "Name: count, dtype: int64"
            ]
          },
          "metadata": {},
          "execution_count": 134
        }
      ],
      "source": [
        "data['Any rodent bite/scratch/contact with rodent droppings (Y/N)'].value_counts()"
      ]
    },
    {
      "cell_type": "code",
      "execution_count": null,
      "id": "01fb9fc5",
      "metadata": {
        "colab": {
          "base_uri": "https://localhost:8080/"
        },
        "id": "01fb9fc5",
        "outputId": "eba96231-6846-4207-a13f-ac901fd36e25"
      },
      "outputs": [
        {
          "output_type": "execute_result",
          "data": {
            "text/plain": [
              "2"
            ]
          },
          "metadata": {},
          "execution_count": 135
        }
      ],
      "source": [
        "data['Any rodent bite/scratch/contact with rodent droppings (Y/N)'].isna().sum()"
      ]
    },
    {
      "cell_type": "code",
      "execution_count": null,
      "id": "1cbe1f4d",
      "metadata": {
        "id": "1cbe1f4d"
      },
      "outputs": [],
      "source": [
        "data['Any rodent bite/scratch/contact with rodent droppings (Y/N)'].fillna('-',inplace=True)"
      ]
    },
    {
      "cell_type": "code",
      "execution_count": null,
      "id": "528bf365",
      "metadata": {
        "colab": {
          "base_uri": "https://localhost:8080/"
        },
        "id": "528bf365",
        "outputId": "ab970fdf-42cb-447b-e907-795a413754fc"
      },
      "outputs": [
        {
          "output_type": "execute_result",
          "data": {
            "text/plain": [
              "0"
            ]
          },
          "metadata": {},
          "execution_count": 137
        }
      ],
      "source": [
        "data['Any rodent bite/scratch/contact with rodent droppings (Y/N)'].isna().sum()"
      ]
    },
    {
      "cell_type": "code",
      "execution_count": null,
      "id": "324243b1",
      "metadata": {
        "id": "324243b1"
      },
      "outputs": [],
      "source": [
        "def rodent(column):\n",
        "    ro=column\n",
        "    if ro=='A':\n",
        "        return 'N'\n",
        "    elif ro=='-':\n",
        "        return 'NA'\n",
        "    else:\n",
        "        return 'Y'"
      ]
    },
    {
      "cell_type": "code",
      "source": [
        "data['Any rodent bite/scratch/contact with rodent droppings (Y/N)']=data['Any rodent bite/scratch/contact with rodent droppings (Y/N)'].apply(rodent)"
      ],
      "metadata": {
        "id": "l8AmoCxXgJlA"
      },
      "id": "l8AmoCxXgJlA",
      "execution_count": null,
      "outputs": []
    },
    {
      "cell_type": "code",
      "execution_count": null,
      "id": "d42461f2",
      "metadata": {
        "id": "d42461f2"
      },
      "outputs": [],
      "source": [
        "data['Any rodent bite/scratch/contact with rodent droppings (Y/N)']=le.fit_transform(data['Any rodent bite/scratch/contact with rodent droppings (Y/N)'])"
      ]
    },
    {
      "cell_type": "markdown",
      "id": "4381735f",
      "metadata": {
        "id": "4381735f"
      },
      "source": [
        "### Prothrombin time"
      ]
    },
    {
      "cell_type": "code",
      "execution_count": null,
      "id": "e801fbdf",
      "metadata": {
        "colab": {
          "base_uri": "https://localhost:8080/"
        },
        "id": "e801fbdf",
        "outputId": "c2e89016-69a9-4135-d500-4b6138953019"
      },
      "outputs": [
        {
          "output_type": "execute_result",
          "data": {
            "text/plain": [
              "0            NaN\n",
              "1            NaN\n",
              "2            NaN\n",
              "3      Prolonged\n",
              "4      Prolonged\n",
              "         ...    \n",
              "356          NaN\n",
              "357          NaN\n",
              "358          NaN\n",
              "359          NaN\n",
              "360          NaN\n",
              "Name: Prothrombin time, Length: 361, dtype: object"
            ]
          },
          "metadata": {},
          "execution_count": 141
        }
      ],
      "source": [
        "data['Prothrombin time']"
      ]
    },
    {
      "cell_type": "code",
      "execution_count": null,
      "id": "0152100d",
      "metadata": {
        "colab": {
          "base_uri": "https://localhost:8080/"
        },
        "id": "0152100d",
        "outputId": "69bb3031-433b-4577-aefb-be2fd3f43718"
      },
      "outputs": [
        {
          "output_type": "execute_result",
          "data": {
            "text/plain": [
              "Prothrombin time\n",
              "Prolonged    60\n",
              "Normal       31\n",
              "Less          4\n",
              "-             1\n",
              "Name: count, dtype: int64"
            ]
          },
          "metadata": {},
          "execution_count": 142
        }
      ],
      "source": [
        "data['Prothrombin time'].value_counts()"
      ]
    },
    {
      "cell_type": "code",
      "execution_count": null,
      "id": "bfd4cfaf",
      "metadata": {
        "colab": {
          "base_uri": "https://localhost:8080/"
        },
        "id": "bfd4cfaf",
        "outputId": "c1aa26b9-2258-44d0-9bb6-6fcbea08e76b"
      },
      "outputs": [
        {
          "output_type": "execute_result",
          "data": {
            "text/plain": [
              "265"
            ]
          },
          "metadata": {},
          "execution_count": 143
        }
      ],
      "source": [
        "data['Prothrombin time'].isna().sum()"
      ]
    },
    {
      "cell_type": "code",
      "source": [
        "data['Prothrombin time'].fillna('-',inplace=True)"
      ],
      "metadata": {
        "id": "obkbrQ3mgTEU"
      },
      "id": "obkbrQ3mgTEU",
      "execution_count": null,
      "outputs": []
    },
    {
      "cell_type": "code",
      "execution_count": null,
      "id": "ef19c110",
      "metadata": {
        "id": "ef19c110"
      },
      "outputs": [],
      "source": [
        "def pt(column):\n",
        "    p=column\n",
        "    if p=='Normal':\n",
        "        return 1\n",
        "    elif p=='Less':\n",
        "        return 0\n",
        "    elif p=='Prolonged':\n",
        "        return 2\n",
        "    else:\n",
        "        return None"
      ]
    },
    {
      "cell_type": "code",
      "execution_count": null,
      "id": "bb5d4dc2",
      "metadata": {
        "id": "bb5d4dc2"
      },
      "outputs": [],
      "source": [
        "data['Prothrombin time']=le.fit_transform(data['Prothrombin time'])"
      ]
    },
    {
      "cell_type": "code",
      "execution_count": null,
      "id": "96f0db42",
      "metadata": {
        "id": "96f0db42"
      },
      "outputs": [],
      "source": [
        "# data['Prothrombin time'].fillna(-1,inplace=True)"
      ]
    },
    {
      "cell_type": "code",
      "execution_count": null,
      "id": "6cdc509b",
      "metadata": {
        "colab": {
          "base_uri": "https://localhost:8080/"
        },
        "id": "6cdc509b",
        "outputId": "8cb0b4a3-258b-4470-b9fc-fea38d3fc00f"
      },
      "outputs": [
        {
          "output_type": "execute_result",
          "data": {
            "text/plain": [
              "0"
            ]
          },
          "metadata": {},
          "execution_count": 148
        }
      ],
      "source": [
        "data['Prothrombin time'].isna().sum()"
      ]
    },
    {
      "cell_type": "markdown",
      "id": "1186f954",
      "metadata": {
        "id": "1186f954"
      },
      "source": [
        "### Urine protein (mg)"
      ]
    },
    {
      "cell_type": "code",
      "execution_count": null,
      "id": "998abcd4",
      "metadata": {
        "colab": {
          "base_uri": "https://localhost:8080/"
        },
        "id": "998abcd4",
        "outputId": "15d87e31-8f4f-47a2-ccbd-39a2e47941ff"
      },
      "outputs": [
        {
          "output_type": "execute_result",
          "data": {
            "text/plain": [
              "Urine protein (mg)\n",
              "Negative       76\n",
              "Trace          26\n",
              "2              14\n",
              "1              12\n",
              "Positive        4\n",
              "3               4\n",
              "D               2\n",
              "NP              1\n",
              "NANA            1\n",
              "7.43            1\n",
              "Not Present     1\n",
              "6.55            1\n",
              "15              1\n",
              "7.4             1\n",
              "5.6             1\n",
              "4.6             1\n",
              "Name: count, dtype: int64"
            ]
          },
          "metadata": {},
          "execution_count": 149
        }
      ],
      "source": [
        "data['Urine protein (mg)'].value_counts()"
      ]
    },
    {
      "cell_type": "code",
      "execution_count": null,
      "id": "6997a046",
      "metadata": {
        "colab": {
          "base_uri": "https://localhost:8080/"
        },
        "id": "6997a046",
        "outputId": "b7a49030-4a00-4ac7-a6c9-0eac4dae6b24"
      },
      "outputs": [
        {
          "output_type": "execute_result",
          "data": {
            "text/plain": [
              "214"
            ]
          },
          "metadata": {},
          "execution_count": 150
        }
      ],
      "source": [
        "data['Urine protein (mg)'].isna().sum()"
      ]
    },
    {
      "cell_type": "code",
      "execution_count": null,
      "id": "8f4174f6",
      "metadata": {
        "id": "8f4174f6"
      },
      "outputs": [],
      "source": [
        "data['Urine protein (mg)'].fillna('-',inplace=True)"
      ]
    },
    {
      "cell_type": "code",
      "execution_count": null,
      "id": "58ce5b19",
      "metadata": {
        "id": "58ce5b19"
      },
      "outputs": [],
      "source": [
        "def urinepr(column):\n",
        "    u=column\n",
        "    if u in ['Negative','Not Present','NP']:\n",
        "        return 0\n",
        "    elif u=='NANA' or u=='-':\n",
        "        return -1\n",
        "    elif type(u)!=float:\n",
        "        return 1"
      ]
    },
    {
      "cell_type": "code",
      "execution_count": null,
      "id": "1a316e12",
      "metadata": {
        "id": "1a316e12"
      },
      "outputs": [],
      "source": [
        "data['Urine protein (mg)']=data['Urine protein (mg)'].apply(urinepr)"
      ]
    },
    {
      "cell_type": "code",
      "execution_count": null,
      "id": "9a211689",
      "metadata": {
        "colab": {
          "base_uri": "https://localhost:8080/"
        },
        "id": "9a211689",
        "outputId": "d54c8827-0ce2-41a2-e347-40b098421139"
      },
      "outputs": [
        {
          "output_type": "execute_result",
          "data": {
            "text/plain": [
              "Urine protein (mg)\n",
              "-1    215\n",
              " 0     78\n",
              " 1     68\n",
              "Name: count, dtype: int64"
            ]
          },
          "metadata": {},
          "execution_count": 154
        }
      ],
      "source": [
        "data['Urine protein (mg)'].value_counts()"
      ]
    },
    {
      "cell_type": "code",
      "execution_count": null,
      "id": "b18cffa3",
      "metadata": {
        "colab": {
          "base_uri": "https://localhost:8080/"
        },
        "id": "b18cffa3",
        "outputId": "3ac35108-5132-46f7-b477-afda003d332b"
      },
      "outputs": [
        {
          "output_type": "execute_result",
          "data": {
            "text/plain": [
              "Urine output (24 hr) (ml/Kg/Hr)\n",
              "Normal       21\n",
              "Adequete     20\n",
              "Decreased    12\n",
              "Increased     9\n",
              "oliguriya     1\n",
              "Anuria        1\n",
              "Adquete       1\n",
              "oliguria      1\n",
              "Name: count, dtype: int64"
            ]
          },
          "metadata": {},
          "execution_count": 155
        }
      ],
      "source": [
        "data['Urine output (24 hr) (ml/Kg/Hr)'].value_counts()"
      ]
    },
    {
      "cell_type": "code",
      "execution_count": null,
      "id": "8e94177e",
      "metadata": {
        "colab": {
          "base_uri": "https://localhost:8080/"
        },
        "id": "8e94177e",
        "outputId": "957474f8-5c72-4b0b-fed9-46fef23bab46",
        "scrolled": true
      },
      "outputs": [
        {
          "output_type": "execute_result",
          "data": {
            "text/plain": [
              "295"
            ]
          },
          "metadata": {},
          "execution_count": 156
        }
      ],
      "source": [
        "data['Urine output (24 hr) (ml/Kg/Hr)'].isna().sum()"
      ]
    },
    {
      "cell_type": "code",
      "execution_count": null,
      "id": "e0375a66",
      "metadata": {
        "id": "e0375a66"
      },
      "outputs": [],
      "source": [
        "data['Urine output (24 hr) (ml/Kg/Hr)'].fillna('-1',inplace=True)"
      ]
    },
    {
      "cell_type": "code",
      "execution_count": null,
      "id": "16faaca9",
      "metadata": {
        "colab": {
          "base_uri": "https://localhost:8080/"
        },
        "id": "16faaca9",
        "outputId": "76679452-c78d-4ba4-d21e-52e4311ce0c1"
      },
      "outputs": [
        {
          "output_type": "execute_result",
          "data": {
            "text/plain": [
              "0"
            ]
          },
          "metadata": {},
          "execution_count": 158
        }
      ],
      "source": [
        "data['Urine output (24 hr) (ml/Kg/Hr)'].isna().sum()"
      ]
    },
    {
      "cell_type": "code",
      "execution_count": null,
      "id": "456429dd",
      "metadata": {
        "colab": {
          "base_uri": "https://localhost:8080/"
        },
        "id": "456429dd",
        "outputId": "188c652a-a310-434a-a632-9dc94aab3675"
      },
      "outputs": [
        {
          "output_type": "execute_result",
          "data": {
            "text/plain": [
              "Urine output (24 hr) (ml/Kg/Hr)\n",
              "-1           295\n",
              "Normal        21\n",
              "Adequete      20\n",
              "Decreased     12\n",
              "Increased      9\n",
              "oliguriya      1\n",
              "Anuria         1\n",
              "Adquete        1\n",
              "oliguria       1\n",
              "Name: count, dtype: int64"
            ]
          },
          "metadata": {},
          "execution_count": 159
        }
      ],
      "source": [
        "data['Urine output (24 hr) (ml/Kg/Hr)'].value_counts()"
      ]
    },
    {
      "cell_type": "code",
      "execution_count": null,
      "id": "2d2f8a71",
      "metadata": {
        "id": "2d2f8a71"
      },
      "outputs": [],
      "source": [
        "def urout(column):\n",
        "    ur=column\n",
        "    if ur in ['Normal','Adequete','Adquete']:\n",
        "        return 'Normal'\n",
        "    elif ur in ['Decreased','oliguriya','oliguria']:\n",
        "        return 'Decreased'\n",
        "    elif ur in ['Increased']:\n",
        "        return 'Increased'\n",
        "    elif ur=='Anuria':\n",
        "        return 'Anuria'\n",
        "    else:\n",
        "        return 'Not Done'"
      ]
    },
    {
      "cell_type": "code",
      "execution_count": null,
      "id": "57914398",
      "metadata": {
        "id": "57914398"
      },
      "outputs": [],
      "source": [
        "data['Urine output (24 hr) (ml/Kg/Hr)']=data['Urine output (24 hr) (ml/Kg/Hr)'].apply(urout)"
      ]
    },
    {
      "cell_type": "code",
      "source": [],
      "metadata": {
        "id": "fwlhXoIiiv5f"
      },
      "id": "fwlhXoIiiv5f",
      "execution_count": null,
      "outputs": []
    },
    {
      "cell_type": "code",
      "execution_count": null,
      "id": "ea33e3e7",
      "metadata": {
        "colab": {
          "base_uri": "https://localhost:8080/"
        },
        "id": "ea33e3e7",
        "outputId": "ab8de709-ec16-46b6-86bd-3600a203d44f"
      },
      "outputs": [
        {
          "output_type": "execute_result",
          "data": {
            "text/plain": [
              "Urine output (24 hr) (ml/Kg/Hr)\n",
              "Not Done     295\n",
              "Normal        42\n",
              "Decreased     14\n",
              "Increased      9\n",
              "Anuria         1\n",
              "Name: count, dtype: int64"
            ]
          },
          "metadata": {},
          "execution_count": 162
        }
      ],
      "source": [
        "data['Urine output (24 hr) (ml/Kg/Hr)'].value_counts()"
      ]
    },
    {
      "cell_type": "code",
      "source": [
        "data['Urine output (24 hr) (ml/Kg/Hr)']=le.fit_transform(data['Urine output (24 hr) (ml/Kg/Hr)'])"
      ],
      "metadata": {
        "id": "aat90q9fixg7"
      },
      "id": "aat90q9fixg7",
      "execution_count": null,
      "outputs": []
    },
    {
      "cell_type": "code",
      "source": [
        "data['Urine output (24 hr) (ml/Kg/Hr)'].value_counts()"
      ],
      "metadata": {
        "colab": {
          "base_uri": "https://localhost:8080/"
        },
        "id": "qob7-P1Qi5Yl",
        "outputId": "bfceef03-97bc-4c32-9902-be91d85872a2"
      },
      "id": "qob7-P1Qi5Yl",
      "execution_count": null,
      "outputs": [
        {
          "output_type": "execute_result",
          "data": {
            "text/plain": [
              "Urine output (24 hr) (ml/Kg/Hr)\n",
              "4    295\n",
              "3     42\n",
              "1     14\n",
              "2      9\n",
              "0      1\n",
              "Name: count, dtype: int64"
            ]
          },
          "metadata": {},
          "execution_count": 164
        }
      ]
    },
    {
      "cell_type": "code",
      "execution_count": null,
      "id": "4841809c",
      "metadata": {
        "colab": {
          "base_uri": "https://localhost:8080/"
        },
        "id": "4841809c",
        "outputId": "98888c82-d8dd-4afb-8550-1787c955baf6"
      },
      "outputs": [
        {
          "output_type": "execute_result",
          "data": {
            "text/plain": [
              "Other Investigations if any\n",
              "Urine culture NG                                                                                                                                                                                                                                                                                                           20\n",
              "Outside done Dengue NS1 Positive                                                                                                                                                                                                                                                                                            3\n",
              "Urine culture- NG                                                                                                                                                                                                                                                                                                           3\n",
              "Acetaminophen levels WNL                                                                                                                                                                                                                                                                                                    2\n",
              "Urine culture Negative, Malarial parasite blood smear Negative, SARS- CoV2 IgM Negative IgG Positive, MRI brain and spine Normal, CSF biofire for meningoencephalitis panel- Negative                                                                                                                                       1\n",
              "Urine Culture NG; Pleural fluid culture- Streptococcus pneuminiae; DCT Negative; NBT Test is Normal uptake                                                                                                                                                                                                                  1\n",
              "Seum Ammonia <10 micro mol/L, Urine culture NG, Anti HAV IgM Negative, Anti HAV IgG positive, Anti HCG, HbsAg and HIV Negative                                                                                                                                                                                              1\n",
              "Free T4 and TSH Normal                                                                                                                                                                                                                                                                                                      1\n",
              "Dengue serology done outside NS1 and IgM Positive                                                                                                                                                                                                                                                                           1\n",
              "Urine culture NG, Dengue Igm and IgG done outside is Positive                                                                                                                                                                                                                                                               1\n",
              "Urine culture- Morganella Morganii 1,00,000 CFU/ml                                                                                                                                                                                                                                                                          1\n",
              "Urine culture NG; Serum Iron 10.3 (low), TIBC 304 (N), Reticulocyte count 1.9 (N), Serum ferritin 92 (N), S. LDH high, Bone marrow aspiration smear shows reactive marrow with trilineage hematopoiesis with depleted iron stores                                                                                           1\n",
              "Urine culture NG, Serum Amylase and Lipase Normal                                                                                                                                                                                                                                                                           1\n",
              "Serum Protein N; S.Albumin Low, S.Cholesterol Normal                                                                                                                                                                                                                                                                        1\n",
              "X Ray done outside- Bilateral bronchovascular markings with perihilar infiltrates seen                                                                                                                                                                                                                                      1\n",
              "Outside done CBC: TC- 5960, Hb/PCV- 11.8/35.4, Pl.ct- 3.69 L, CRP - 3.6, Dengue NS1 Ag, Positive, MP- Negative                                                                                                                                                                                                              1\n",
              "Urine culture NG, Ferritin- 20408 (H), HbsAg, Anti HCV and HIV- Negative, Outiside Dengue NS1- Positive                                                                                                                                                                                                                     1\n",
              "S. LDH High, S. Triglycerides- BL HIgh and S.Ferritin High                                                                                                                                                                                                                                                                  1\n",
              "Outside Dengue NS1 and IgM Positive                                                                                                                                                                                                                                                                                         1\n",
              "Urine cultutr NG                                                                                                                                                                                                                                                                                                            1\n",
              "S.IgE Normal; Sputum Culture- Staphylococcus Aureus                                                                                                                                                                                                                                                                         1\n",
              "S.LDL- elevated, S.TGL- Normal, HIV, HBsAg and Anti HCV- Negative, Outside Dengue serology- NS1 Positive                                                                                                                                                                                                                    1\n",
              "Urine culture NG, S.Amylase and S.Lipase elevated                                                                                                                                                                                                                                                                           1\n",
              "Outside diagnosed as Dengue                                                                                                                                                                                                                                                                                                 1\n",
              "Outside done Dengue serology positive (NS1 and IgM)                                                                                                                                                                                                                                                                         1\n",
              "EBV VCA IgM Negative                                                                                                                                                                                                                                                                                                        1\n",
              "Gene expert MTB Not detected                                                                                                                                                                                                                                                                                                1\n",
              "Biofire Multiplex PCR- Adenovirus and Parainfluenza virus 3 detected                                                                                                                                                                                                                                                        1\n",
              "Hepatitis A virus- negative; EBV Igm- negative                                                                                                                                                                                                                                                                              1\n",
              "Bone marrow culture- Negative and Urine culture - Negative                                                                                                                                                                                                                                                                  1\n",
              "HbsAg Negative, Anti HAV IgM Negative, Urine culture NG                                                                                                                                                                                                                                                                     1\n",
              "COVID 19 TrueNAT Negative                                                                                                                                                                                                                                                                                                   1\n",
              "S.Ferritin- 17152ng/ml (H), Plasma Fibrinogen- 253 (N), S.Triglycerides- 254 (H), PCT- 2.41 (H),                                                                                                                                                                                                                            1\n",
              "S.Ferritin- 2813 (H), Urine culture NG                                                                                                                                                                                                                                                                                      1\n",
              "NPA for H1N1 Positive; mantoux Negative                                                                                                                                                                                                                                                                                     1\n",
              "CT Brain Normal                                                                                                                                                                                                                                                                                                             1\n",
              "Urine Culture Enterococcus species and Candida Albicans                                                                                                                                                                                                                                                                     1\n",
              "Urine culture- NG, CSF Culture NG, MTB Gene expert Negative                                                                                                                                                                                                                                                                 1\n",
              "Urine culture Insignificant growth of Klebsiella Pneumoniae; EBV VCA IgM Negative                                                                                                                                                                                                                                           1\n",
              "Urine ciluture NG                                                                                                                                                                                                                                                                                                           1\n",
              "Salmonella Typhi IgM Negative                                                                                                                                                                                                                                                                                               1\n",
              "Urine culture NG, Throat swab culture NG                                                                                                                                                                                                                                                                                    1\n",
              "Anti HCV Negative; Urine culture Negative                                                                                                                                                                                                                                                                                   1\n",
              "Rapid antigen detection teat for Strep. Pnemio Negative                                                                                                                                                                                                                                                                     1\n",
              "X Ray done outside- Had right sided pleural effusion                                                                                                                                                                                                                                                                        1\n",
              "Mantoux Negative                                                                                                                                                                                                                                                                                                            1\n",
              "Urine culture- No growth                                                                                                                                                                                                                                                                                                    1\n",
              "CBC done ouside- TC- 4400, (N65,L31,M3,B1), Hb/PCV- 11.4/34.9, Pl.ct- 2.22L, CRP- 32.90, ESR- 31 mm/hr, SGOT/SGPT- 49/23, Urine routine- 12-15 Pus cells, Ketone 3+, Dengue NS1/ IgM - Negative, Blood culture- NG. Respiratory Biofire (Nasopharyngeal swab) at KKCTH- Adenovirus Positive, Urine culture at KKCTH- NG     1\n",
              "Name: count, dtype: int64"
            ]
          },
          "metadata": {},
          "execution_count": 165
        }
      ],
      "source": [
        "data['Other Investigations if any'].value_counts()"
      ]
    },
    {
      "cell_type": "code",
      "execution_count": null,
      "id": "9a3ab683",
      "metadata": {
        "colab": {
          "base_uri": "https://localhost:8080/"
        },
        "id": "9a3ab683",
        "outputId": "ae51cd7f-9007-4987-d453-31d9132fdc01"
      },
      "outputs": [
        {
          "output_type": "execute_result",
          "data": {
            "text/plain": [
              "289"
            ]
          },
          "metadata": {},
          "execution_count": 166
        }
      ],
      "source": [
        "data['Other Investigations if any'].isna().sum()"
      ]
    },
    {
      "cell_type": "code",
      "execution_count": null,
      "id": "84bc3b87",
      "metadata": {
        "id": "84bc3b87"
      },
      "outputs": [],
      "source": [
        "data['Other Investigations if any'].fillna('0',inplace=True)"
      ]
    },
    {
      "cell_type": "code",
      "execution_count": null,
      "id": "71759159",
      "metadata": {
        "id": "71759159"
      },
      "outputs": [],
      "source": [
        "data['Other Investigations if any']=le.fit_transform(data['Other Investigations if any'])"
      ]
    },
    {
      "cell_type": "code",
      "execution_count": null,
      "id": "90508106",
      "metadata": {
        "colab": {
          "base_uri": "https://localhost:8080/"
        },
        "id": "90508106",
        "outputId": "017aecf1-460b-494c-adb3-cea40b5a7c62"
      },
      "outputs": [
        {
          "output_type": "execute_result",
          "data": {
            "text/plain": [
              "Bacterial culture & sensitivity (Positive / Negative / not done )\n",
              "D           178\n",
              "P            25\n",
              "Positive      4\n",
              "N             1\n",
              "positive      1\n",
              "Name: count, dtype: int64"
            ]
          },
          "metadata": {},
          "execution_count": 169
        }
      ],
      "source": [
        "data['Bacterial culture & sensitivity (Positive / Negative / not done )'].value_counts()"
      ]
    },
    {
      "cell_type": "code",
      "execution_count": null,
      "id": "b17f2f1e",
      "metadata": {
        "colab": {
          "base_uri": "https://localhost:8080/"
        },
        "id": "b17f2f1e",
        "outputId": "bd33730b-c413-4028-cb53-d57d1cf97c51"
      },
      "outputs": [
        {
          "output_type": "execute_result",
          "data": {
            "text/plain": [
              "152"
            ]
          },
          "metadata": {},
          "execution_count": 170
        }
      ],
      "source": [
        "data['Bacterial culture & sensitivity (Positive / Negative / not done )'].isna().sum()"
      ]
    },
    {
      "cell_type": "code",
      "execution_count": null,
      "id": "3b55748b",
      "metadata": {
        "id": "3b55748b"
      },
      "outputs": [],
      "source": [
        "data['Bacterial culture & sensitivity (Positive / Negative / not done )'].fillna('ND',inplace=True)"
      ]
    },
    {
      "cell_type": "code",
      "execution_count": null,
      "id": "22ca1141",
      "metadata": {
        "colab": {
          "base_uri": "https://localhost:8080/"
        },
        "id": "22ca1141",
        "outputId": "ebcbb309-b07f-411f-ca73-aed4d51c8837"
      },
      "outputs": [
        {
          "output_type": "execute_result",
          "data": {
            "text/plain": [
              "Bacterial culture & sensitivity (Positive / Negative / not done )\n",
              "D           178\n",
              "ND          152\n",
              "P            25\n",
              "Positive      4\n",
              "N             1\n",
              "positive      1\n",
              "Name: count, dtype: int64"
            ]
          },
          "metadata": {},
          "execution_count": 172
        }
      ],
      "source": [
        "data['Bacterial culture & sensitivity (Positive / Negative / not done )'].value_counts()"
      ]
    },
    {
      "cell_type": "code",
      "execution_count": null,
      "id": "ed32f97f",
      "metadata": {
        "id": "ed32f97f"
      },
      "outputs": [],
      "source": [
        "def bact(column):\n",
        "    ba=column\n",
        "    if ba=='D':\n",
        "        return 1\n",
        "    if ba=='ND':\n",
        "        return 0\n",
        "    if ba in ['positive','P','Positive']:\n",
        "        return 2\n",
        "    if ba=='N':\n",
        "        return 3\n",
        "\n"
      ]
    },
    {
      "cell_type": "code",
      "execution_count": null,
      "id": "d5050649",
      "metadata": {
        "colab": {
          "base_uri": "https://localhost:8080/"
        },
        "id": "d5050649",
        "outputId": "43263829-546b-4c88-c970-2245ad4d18fd"
      },
      "outputs": [
        {
          "output_type": "execute_result",
          "data": {
            "text/plain": [
              "0"
            ]
          },
          "metadata": {},
          "execution_count": 174
        }
      ],
      "source": [
        "data['Bacterial culture & sensitivity (Positive / Negative / not done )'].isna().sum()"
      ]
    },
    {
      "cell_type": "code",
      "execution_count": null,
      "id": "e5a67506",
      "metadata": {
        "id": "e5a67506"
      },
      "outputs": [],
      "source": [
        "data['Bacterial culture & sensitivity (Positive / Negative / not done )']=data['Bacterial culture & sensitivity (Positive / Negative / not done )'].apply(bact)"
      ]
    },
    {
      "cell_type": "code",
      "execution_count": null,
      "id": "c7387bec",
      "metadata": {
        "colab": {
          "base_uri": "https://localhost:8080/"
        },
        "id": "c7387bec",
        "outputId": "cde33557-bcd4-456b-8fa1-035fd98ebb65"
      },
      "outputs": [
        {
          "output_type": "execute_result",
          "data": {
            "text/plain": [
              "0      NO GROWTH\n",
              "1      NO GROWTH\n",
              "2            NaN\n",
              "3            NaN\n",
              "4            NaN\n",
              "         ...    \n",
              "356          NaN\n",
              "357          NaN\n",
              "358    NO GROWTH\n",
              "359    NO GROWTH\n",
              "360          NaN\n",
              "Name: If positive, Organism, Length: 361, dtype: object"
            ]
          },
          "metadata": {},
          "execution_count": 176
        }
      ],
      "source": [
        "data['If positive, Organism']"
      ]
    },
    {
      "cell_type": "code",
      "execution_count": null,
      "id": "5cc13a01",
      "metadata": {
        "colab": {
          "base_uri": "https://localhost:8080/"
        },
        "id": "5cc13a01",
        "outputId": "3bb9a0b9-9ac2-406a-fcd2-961bd6a3d80f"
      },
      "outputs": [
        {
          "output_type": "execute_result",
          "data": {
            "text/plain": [
              "If positive, Organism\n",
              "NO GROWTH                   160\n",
              "Salmonella Typhi             22\n",
              "Salmonella Paratyphi A        7\n",
              "Salmonella typhi              6\n",
              "-NA                           3\n",
              "Klebsiella                    3\n",
              "EColi                         2\n",
              "Negative                      2\n",
              "Pseudomonas Stutgeri          1\n",
              "-                             1\n",
              "Streptococcus pneumoniae      1\n",
              "MDR E.coli                    1\n",
              "STREPTOCOCCUS                 1\n",
              "ECOLI                         1\n",
              "Name: count, dtype: int64"
            ]
          },
          "metadata": {},
          "execution_count": 177
        }
      ],
      "source": [
        "data['If positive, Organism'].value_counts()"
      ]
    },
    {
      "cell_type": "code",
      "execution_count": null,
      "id": "f38acb06",
      "metadata": {
        "colab": {
          "base_uri": "https://localhost:8080/"
        },
        "id": "f38acb06",
        "outputId": "c1a9386c-cac3-4321-e519-c9bbf3257e56"
      },
      "outputs": [
        {
          "output_type": "execute_result",
          "data": {
            "text/plain": [
              "150"
            ]
          },
          "metadata": {},
          "execution_count": 178
        }
      ],
      "source": [
        "data['If positive, Organism'].isna().sum()"
      ]
    },
    {
      "cell_type": "code",
      "execution_count": null,
      "id": "40dc74ff",
      "metadata": {
        "id": "40dc74ff"
      },
      "outputs": [],
      "source": [
        "def orgenc(column):\n",
        "    org=column\n",
        "    if org=='NO GROWTH':\n",
        "        return 0\n",
        "    elif type(org)!=float and (org!='-NA' or org!='-'):\n",
        "        return strencodegeneral(org)\n",
        "    else:\n",
        "        return 1"
      ]
    },
    {
      "cell_type": "code",
      "execution_count": null,
      "id": "90f203d0",
      "metadata": {
        "id": "90f203d0"
      },
      "outputs": [],
      "source": [
        "data['If positive, Organism']=data['If positive, Organism'].apply(orgenc)"
      ]
    },
    {
      "cell_type": "code",
      "execution_count": null,
      "id": "7fd942d0",
      "metadata": {
        "colab": {
          "base_uri": "https://localhost:8080/"
        },
        "id": "7fd942d0",
        "outputId": "d9adce69-ad74-49f3-b597-f71740e353b2"
      },
      "outputs": [
        {
          "output_type": "execute_result",
          "data": {
            "text/plain": [
              "0"
            ]
          },
          "metadata": {},
          "execution_count": 181
        }
      ],
      "source": [
        "data['If positive, Organism'].isna().sum()"
      ]
    },
    {
      "cell_type": "code",
      "execution_count": null,
      "id": "5e442908",
      "metadata": {
        "colab": {
          "base_uri": "https://localhost:8080/"
        },
        "id": "5e442908",
        "outputId": "25282df0-4c57-4b3c-a0ca-3e1970851da1"
      },
      "outputs": [
        {
          "output_type": "execute_result",
          "data": {
            "text/plain": [
              "If positive, Organism\n",
              "0       160\n",
              "1       150\n",
              "1590     22\n",
              "2107      7\n",
              "1622      6\n",
              "188       3\n",
              "1016      3\n",
              "460       2\n",
              "819       2\n",
              "2053      1\n",
              "45        1\n",
              "2498      1\n",
              "797       1\n",
              "1009      1\n",
              "364       1\n",
              "Name: count, dtype: int64"
            ]
          },
          "metadata": {},
          "execution_count": 182
        }
      ],
      "source": [
        "data['If positive, Organism'].value_counts()"
      ]
    },
    {
      "cell_type": "code",
      "execution_count": null,
      "id": "130de2ba",
      "metadata": {
        "colab": {
          "base_uri": "https://localhost:8080/"
        },
        "id": "130de2ba",
        "outputId": "4782de91-9e3c-490b-dc94-754ae2f87a75"
      },
      "outputs": [
        {
          "output_type": "execute_result",
          "data": {
            "text/plain": [
              "0      133\n",
              "1       -1\n",
              "2       -1\n",
              "3       -1\n",
              "4       -1\n",
              "      ... \n",
              "356    223\n",
              "357    323\n",
              "358    122\n",
              "359    133\n",
              "360    323\n",
              "Name: Dengue Viral Immunoassay (IgM) (Positive/Negative), Length: 361, dtype: int64"
            ]
          },
          "metadata": {},
          "execution_count": 183
        }
      ],
      "source": [
        "data['Dengue Viral Immunoassay (IgM) (Positive/Negative)']"
      ]
    },
    {
      "cell_type": "code",
      "execution_count": null,
      "id": "04fe4a3a",
      "metadata": {
        "colab": {
          "base_uri": "https://localhost:8080/"
        },
        "id": "04fe4a3a",
        "outputId": "c1f0cf8b-a551-47aa-f705-61854d96f3de"
      },
      "outputs": [
        {
          "output_type": "execute_result",
          "data": {
            "text/plain": [
              "0       NaN\n",
              "1       NaN\n",
              "2      0.66\n",
              "3         N\n",
              "4      0.66\n",
              "       ... \n",
              "356     NaN\n",
              "357     NaN\n",
              "358     NaN\n",
              "359     NaN\n",
              "360     NaN\n",
              "Name: A/G ratio, Length: 361, dtype: object"
            ]
          },
          "metadata": {},
          "execution_count": 184
        }
      ],
      "source": [
        "data['A/G ratio']"
      ]
    },
    {
      "cell_type": "code",
      "execution_count": null,
      "id": "78055e4f",
      "metadata": {
        "colab": {
          "base_uri": "https://localhost:8080/"
        },
        "id": "78055e4f",
        "outputId": "ec5a4276-2f39-426e-ff30-6ed523eb83e7"
      },
      "outputs": [
        {
          "output_type": "execute_result",
          "data": {
            "text/plain": [
              "A/G ratio\n",
              "1.1     12\n",
              "3.2      6\n",
              "2.1      4\n",
              "1.14     4\n",
              "1.26     4\n",
              "        ..\n",
              "1.05     1\n",
              "1.11     1\n",
              "1.19     1\n",
              "0.93     1\n",
              "0.76     1\n",
              "Name: count, Length: 80, dtype: int64"
            ]
          },
          "metadata": {},
          "execution_count": 185
        }
      ],
      "source": [
        "data['A/G ratio'].value_counts()"
      ]
    },
    {
      "cell_type": "code",
      "execution_count": null,
      "id": "02d155df",
      "metadata": {
        "colab": {
          "base_uri": "https://localhost:8080/"
        },
        "id": "02d155df",
        "outputId": "406e785e-18f8-4e86-9bc3-d49a85dcd35f"
      },
      "outputs": [
        {
          "output_type": "execute_result",
          "data": {
            "text/plain": [
              "217"
            ]
          },
          "metadata": {},
          "execution_count": 186
        }
      ],
      "source": [
        "data['A/G ratio'].isna().sum()"
      ]
    },
    {
      "cell_type": "code",
      "execution_count": null,
      "id": "50b73bfc",
      "metadata": {
        "id": "50b73bfc"
      },
      "outputs": [],
      "source": [
        "def agrat(column):\n",
        "    ag=column\n",
        "    if type(ag)!=float and ag.isalpha()==False and ag!='-':\n",
        "        return float(ag)\n",
        "    else:\n",
        "        return None"
      ]
    },
    {
      "cell_type": "code",
      "execution_count": null,
      "id": "d5dc79ca",
      "metadata": {
        "id": "d5dc79ca"
      },
      "outputs": [],
      "source": [
        "data['A/G ratio']=data['A/G ratio'].apply(agrat)"
      ]
    },
    {
      "cell_type": "code",
      "execution_count": null,
      "id": "93aa57d7",
      "metadata": {
        "colab": {
          "base_uri": "https://localhost:8080/"
        },
        "id": "93aa57d7",
        "outputId": "654a9c2d-768f-4071-e2f9-fdf95f64883c"
      },
      "outputs": [
        {
          "output_type": "execute_result",
          "data": {
            "text/plain": [
              "223"
            ]
          },
          "metadata": {},
          "execution_count": 189
        }
      ],
      "source": [
        "data['A/G ratio'].isna().sum()"
      ]
    },
    {
      "cell_type": "code",
      "execution_count": null,
      "id": "2d31c354",
      "metadata": {
        "id": "2d31c354"
      },
      "outputs": [],
      "source": [
        "data['A/G ratio'].fillna(data['A/G ratio'].median(),inplace=True\n",
        "\n",
        "                        )"
      ]
    },
    {
      "cell_type": "code",
      "execution_count": null,
      "id": "5aec0fc2",
      "metadata": {
        "colab": {
          "base_uri": "https://localhost:8080/"
        },
        "id": "5aec0fc2",
        "outputId": "674f8ae4-826d-4903-c13e-4da9b86718b1"
      },
      "outputs": [
        {
          "output_type": "execute_result",
          "data": {
            "text/plain": [
              "0"
            ]
          },
          "metadata": {},
          "execution_count": 191
        }
      ],
      "source": [
        "data['A/G ratio'].isna().sum()"
      ]
    },
    {
      "cell_type": "code",
      "execution_count": null,
      "id": "9f94b2fa",
      "metadata": {
        "colab": {
          "base_uri": "https://localhost:8080/"
        },
        "id": "9f94b2fa",
        "outputId": "8f52e4ff-d234-4a1c-a35b-461c6c557054"
      },
      "outputs": [
        {
          "output_type": "execute_result",
          "data": {
            "text/plain": [
              "0                                           Normal study\n",
              "1      Mild diffude bladder wall thickening s/o Dysfu...\n",
              "2      Mild hepatosplenomegaly, minimal free fluid in...\n",
              "3                                                    NaN\n",
              "4                                                    NaN\n",
              "                             ...                        \n",
              "356    GB wall thickening; Moderate Ascites and Right...\n",
              "357    Mild moderate ascities with bilateral pleural ...\n",
              "358                                                  NaN\n",
              "359                                                  NaN\n",
              "360                                                  NaN\n",
              "Name: USG Abd report, Length: 361, dtype: object"
            ]
          },
          "metadata": {},
          "execution_count": 192
        }
      ],
      "source": [
        "data['USG Abd report']"
      ]
    },
    {
      "cell_type": "code",
      "execution_count": null,
      "id": "a52261d7",
      "metadata": {
        "colab": {
          "base_uri": "https://localhost:8080/"
        },
        "id": "a52261d7",
        "outputId": "d1e153bc-a78d-47a7-dfbb-e2aee039e0de"
      },
      "outputs": [
        {
          "output_type": "execute_result",
          "data": {
            "text/plain": [
              "USG Abd report\n",
              "Normal study                                                                                                                                                          16\n",
              "Mild hepatomegaly                                                                                                                                                      3\n",
              "Hepatomegaly                                                                                                                                                           3\n",
              "Normal                                                                                                                                                                 2\n",
              "GB wall thickening; Moderate Ascites and Right pleural effussion S/O Dengue                                                                                            2\n",
              "                                                                                                                                                                      ..\n",
              "Mild right Hydroureteronephrosis                                                                                                                                       1\n",
              "Ascites with GB wall edema                                                                                                                                             1\n",
              "Mild diffude bladder wall thickening s/o Dysfunctional voiding                                                                                                         1\n",
              "Mild Splenomegaly, mild GB wall thickening, enlarged mesentric nodes in right iliac fossa, small amount of free fluid abdomen, minimal left pelvicalyceal dialtion     1\n",
              "Mild moderate ascities with bilateral pleural effusion                                                                                                                 1\n",
              "Name: count, Length: 74, dtype: int64"
            ]
          },
          "metadata": {},
          "execution_count": 193
        }
      ],
      "source": [
        "data['USG Abd report'].value_counts()"
      ]
    },
    {
      "cell_type": "code",
      "execution_count": null,
      "id": "8839f573",
      "metadata": {
        "id": "8839f573"
      },
      "outputs": [],
      "source": [
        "def usg(column):\n",
        "    us=column\n",
        "    if us in ['Normal study','Normal']:\n",
        "        return 0\n",
        "    elif type(us)!=float:\n",
        "        return strencodegeneral(us)"
      ]
    },
    {
      "cell_type": "code",
      "execution_count": null,
      "id": "8061674b",
      "metadata": {
        "id": "8061674b"
      },
      "outputs": [],
      "source": [
        "data['USG Abd report']=data['USG Abd report'].apply(usg)"
      ]
    },
    {
      "cell_type": "code",
      "execution_count": null,
      "id": "3036fad9",
      "metadata": {
        "colab": {
          "base_uri": "https://localhost:8080/"
        },
        "id": "3036fad9",
        "outputId": "6377bddf-2062-4ada-e482-d6f1112661c8"
      },
      "outputs": [
        {
          "output_type": "execute_result",
          "data": {
            "text/plain": [
              "260"
            ]
          },
          "metadata": {},
          "execution_count": 196
        }
      ],
      "source": [
        "data['USG Abd report'].isna().sum()"
      ]
    },
    {
      "cell_type": "code",
      "execution_count": null,
      "id": "d6f22fbb",
      "metadata": {
        "id": "d6f22fbb"
      },
      "outputs": [],
      "source": [
        "data['USG Abd report'].fillna('-1',inplace=True)"
      ]
    },
    {
      "cell_type": "code",
      "execution_count": null,
      "id": "295b0e78",
      "metadata": {
        "colab": {
          "base_uri": "https://localhost:8080/"
        },
        "id": "295b0e78",
        "outputId": "b61e7bef-2f80-42d0-9f77-19df7e51e1c0"
      },
      "outputs": [
        {
          "output_type": "execute_result",
          "data": {
            "text/plain": [
              "USG Abd report\n",
              "-1         260\n",
              "0.0         18\n",
              "1248.0       3\n",
              "1702.0       3\n",
              "1098.0       2\n",
              "          ... \n",
              "3275.0       1\n",
              "5955.0       1\n",
              "6781.0       1\n",
              "15219.0      1\n",
              "5292.0       1\n",
              "Name: count, Length: 74, dtype: int64"
            ]
          },
          "metadata": {},
          "execution_count": 198
        }
      ],
      "source": [
        "data['USG Abd report'].value_counts()"
      ]
    },
    {
      "cell_type": "code",
      "execution_count": null,
      "id": "5ed22835",
      "metadata": {
        "colab": {
          "base_uri": "https://localhost:8080/"
        },
        "id": "5ed22835",
        "outputId": "fa14d4c9-66f4-4b3f-8a1e-cd3ed3623a2d"
      },
      "outputs": [
        {
          "output_type": "execute_result",
          "data": {
            "text/plain": [
              "0                                 Probable viral illness\n",
              "1                                 Probable viral illness\n",
              "2                                                    NaN\n",
              "3                                                    NaN\n",
              "4                                                    NaN\n",
              "                             ...                        \n",
              "356                            Dengue with warning signs\n",
              "357    Severe Dengue (Resolved )mild intermittent asthma\n",
              "358                    Acute viral illness/ Dengue fever\n",
              "359                                                   ND\n",
              "360                            Dengue with warning signs\n",
              "Name: Final Diagnosis, Length: 361, dtype: object"
            ]
          },
          "metadata": {},
          "execution_count": 199
        }
      ],
      "source": [
        "data['Final Diagnosis']"
      ]
    },
    {
      "cell_type": "code",
      "execution_count": null,
      "id": "c2605b74",
      "metadata": {
        "colab": {
          "base_uri": "https://localhost:8080/"
        },
        "id": "c2605b74",
        "outputId": "34925bf5-1fac-498d-9dc9-1e91246f9138"
      },
      "outputs": [
        {
          "output_type": "execute_result",
          "data": {
            "text/plain": [
              "{'Dengue with warning signs': 54,\n",
              " 'Probable viral illness': 16,\n",
              " 'Leptospirosis': 16,\n",
              " 'Dengue fever': 15,\n",
              " 'Severe Dengue': 13,\n",
              " 'Leptosiprosis': 8,\n",
              " 'Lower respiratory tract infection': 5,\n",
              " 'UTI': 5,\n",
              " 'Leptosirosis': 4,\n",
              " 'Enteric fever': 4,\n",
              " 'Severe Dengue with compensated shock': 4,\n",
              " 'Scrub Typhus': 4,\n",
              " 'Confirmed enteric fever': 3,\n",
              " 'Enteric Fever': 3,\n",
              " 'Lower Respiratory Tract Infection': 3,\n",
              " 'Culture positive enteric fever': 3,\n",
              " 'Occult Bacteremia': 3,\n",
              " 'Probable Dengue fever': 2,\n",
              " 'PUO': 2,\n",
              " 'Probable Enteric fever': 2,\n",
              " 'Acute febrile illness': 2,\n",
              " 'Sepsis': 2,\n",
              " 'Acute gastroenteritis/UTI': 2,\n",
              " 'Culture proven Enteric Fever': 2,\n",
              " 'Acute gastroenteritis': 2,\n",
              " 'Probable enteric fever': 2,\n",
              " 'Secondary Dengue with warning signs': 2,\n",
              " 'Acute pyelonephritis': 2,\n",
              " 'Viral fever': 2,\n",
              " 'LEptospirosis-(Trunat pcr)-detected lour': 2,\n",
              " 'Culture proven enteric fever': 2,\n",
              " 'COVID -19': 1,\n",
              " 'Viral illness': 1,\n",
              " 'Acute gastroenteritis - Non Typhoidal salmonella': 1,\n",
              " 'Pyrexia of unknown origin/Non-infective Inflammatory': 1,\n",
              " 'Acute entreitis': 1,\n",
              " 'Bronchiolitis , leptospirosis': 1,\n",
              " 'PTB.': 1,\n",
              " 'Viral Fever (Adenovirus Positive)': 1,\n",
              " 'Viral Illness (Upper Respiratory infection with conjunctivitis)': 1,\n",
              " 'Severe Dengue/ Multiorgan dysfunction- Acute Liver failure, Acute Kidney injury and coagulopathy/ Gastro intestinal sepsis': 1,\n",
              " 'Viral Lower Respiratory Tract Infection': 1,\n",
              " 'Complicated Urinary Tract Infection/ Grade 4 Vesicouretric reflux/ Constipation/ Iron deficiency anemia': 1,\n",
              " 'Secondary Dengue with compensated shock/ Right sided massive pleural effussion/ Acute liver failure (Resolving)/ Hypokalemia (Resolved)': 1,\n",
              " 'Infantile Dengue': 1,\n",
              " 'Dengue fever/ fever triggered seizures': 1,\n",
              " 'Scrub Typhus with Anemia/  Infection associated/  Iron deficiency': 1,\n",
              " 'Complicated Enteric Fever': 1,\n",
              " 'Severe Dengue with hepatitis- Recovered': 1,\n",
              " 'Acute encephalopathy  cause': 1,\n",
              " 'Complicated Enteric fever/ small bowel perforation': 1,\n",
              " 'Dengue with warning signs/ Scrub Typhus': 1,\n",
              " 'Dengue fever/ Occult Bacteremia': 1,\n",
              " 'Scrub typhus': 1,\n",
              " 'Complicated Enteric/ SIRS': 1,\n",
              " 'Severe Dengue/ Multiorgan dysfunction- Acute Liver failure/ Acute Kidney injury- on CRRT/ Shock- recovered': 1,\n",
              " 'Severe Dengue with secondary HLH': 1,\n",
              " 'Acute febrile illness (Viral)': 1,\n",
              " 'Probable Viral illness': 1,\n",
              " 'Diabetic nephropathy with protenutia': 1,\n",
              " 'PUO under evaluation/Auto-inflammatory condition': 1,\n",
              " 'HCC': 1,\n",
              " 'Acute gastroenteritis/ LRTI': 1,\n",
              " 'Sub acute febrile illness , hyponatremia': 1,\n",
              " 'UTI WITH SECONDARY BSI': 1,\n",
              " 'Meningitis': 1,\n",
              " 'LRTI,UTI,COPD,DM,HT': 1,\n",
              " 'Multi triggered wheeze/ Acute exacerbation with viral lower respiratory tract infection': 1,\n",
              " 'Dengue fever with compensated shock': 1,\n",
              " 'Dengue like illness /K/C/O developmental delay autistic spectrum disorder': 1,\n",
              " 'Confirmed enteric fever salmonella thphi': 1,\n",
              " 'Enteric Fever ( Culture positive)': 1,\n",
              " 'Enteric Fever Salmonella paratyphi -A': 1,\n",
              " 'Probable viral illness with wheeze': 1,\n",
              " 'Dengue fever (IGM POSITIVE)': 1,\n",
              " 'Infantile Dengue fever': 1,\n",
              " 'Severe Dengue (Resolved )mild intermittent asthma': 1,\n",
              " 'Acute viral illness/ Dengue fever': 1,\n",
              " 'TIA, TYPE 2 DIABETIES, DENGUE FEVER': 1,\n",
              " 'Leptospirosis- LRI,CHD, CAD': 1,\n",
              " 'Dengue with warning signs (recovered)': 1,\n",
              " 'Severe septicemia': 1,\n",
              " 'Lef lower lobe pneumonia': 1,\n",
              " 'Acute gastritis': 1,\n",
              " 'Sepsis mods': 1,\n",
              " 'Pneumonia AMH,AKI,SEPSIS': 1,\n",
              " 'VIRAL FEVER': 1,\n",
              " 'NON RESOLVING PNEUMONIA': 1,\n",
              " 'PTB RIF RESISTENT NOT DETECTED': 1,\n",
              " 'Fever under evaluation/ Probable scrub typhus': 1,\n",
              " 'DENGUE FEVER WITH LRI': 1,\n",
              " 'CELLULITIS SEPSIS': 1,\n",
              " 'Acute enteritis,AKI': 1,\n",
              " 'LRI WITH SEPSIS,LARNGITIS': 1,\n",
              " 'LRI WITH UTI': 1,\n",
              " 'LRI ,DM ,HTN': 1,\n",
              " 'AKI, SEPSIS,MODS': 1,\n",
              " 'Dengue with warning signs/ Primary Nocturnal Eneuresis': 1,\n",
              " 'K/C/O Type-1 DM/ Dengue with warning signs': 1,\n",
              " 'Acute onset liver failure with hepatice encephalopathy with superadded dengue infection': 1,\n",
              " 'Swine Flu H1N1 Positive with Probable Myositis': 1,\n",
              " 'Dengue febrile illness': 1,\n",
              " 'Probable Acute Meningo Encephalitis': 1,\n",
              " 'K/C/O Autoimmune thyroiditis with Severe Dengue': 1,\n",
              " 'Severe Dengue with encephalopathy/ Fulminant Hepatic failure/ Acute Kidney Injury-Resolved/ Jacquet Erosive Dermatitis': 1,\n",
              " 'Paratyphoid fever': 1,\n",
              " 'Prolonged febrile illness': 1,\n",
              " 'Urinary tract infection': 1,\n",
              " 'Severe Dengue/Sepsis/Anemia/Poland Anamoly': 1,\n",
              " ' Dengue/  Dengue like viral illness': 1,\n",
              " 'Viral Fever/ Simple Febrile Seizures': 1,\n",
              " 'Scrub Meningoencephalitis': 1,\n",
              " 'Scrub Typhus with MODS and ARDS': 1,\n",
              " 'Severe Dengu/ Secondary Dengue': 1,\n",
              " 'Nephrotic Syndrom- Frequent relapse/ Scrub Typhus': 1,\n",
              " 'Scrub Typhus/ Pulmonary Edema (Recovered)': 1,\n",
              " 'Maxillary sinusitis with Right preseptal cellulitis': 1,\n",
              " 'RSV Positive/ Severe Dengue Coinfection': 1,\n",
              " 'Severe Dengue with acute hepatitis (recovered) with exaggerated inflammatory response': 1,\n",
              " 'Culture Positive Enteric Fever': 1,\n",
              " 'Viral Illness': 1,\n",
              " 'Probable viral Illness/ Multitriggered wheeze': 1,\n",
              " 'Bilateral severe pneumonia with Bilateral pneumatocele': 1,\n",
              " 'Left lower lobe pneumonia with minimal pleural effusion': 1,\n",
              " 'Right upper lobe Pneumonia/ Dengue Co-infection': 1,\n",
              " 'Viral Illness/ Iron Deficienct Anemia': 1,\n",
              " 'Acute febrile illness with anicteric severe hepatitis': 1,\n",
              " 'Probable Enteric/ Viral': 1,\n",
              " 'L': 1,\n",
              " 'Viral Fever': 1,\n",
              " 'Scrub Typhus with ARDS': 1,\n",
              " 'Recurrent fever with pancytopenia- probable Immune Cytopenia': 1,\n",
              " 'Scrub Typhus with hospital acquired infection- viral illness': 1,\n",
              " 'Acute bacterial sinusitis': 1,\n",
              " 'Severe Infantile dengue': 1,\n",
              " 'Dengue Fever with Viral lower respiratory tract infcetion': 1,\n",
              " 'Probable Scrub Typhus/ Left Pyelonephritis': 1,\n",
              " 'Acute Febrile illness/ 1st episode simple febrile seizures/ Probable Viral illness': 1,\n",
              " 'Confirmed Enteric Fever- Salmonella Typhi': 1,\n",
              " 'Pyrexia of unknown origin under evealuation': 1,\n",
              " 'Severe Dengue recovered': 1,\n",
              " 'Probable Scrub Typhus': 1,\n",
              " 'Infantile Dengue with warning signs with acute hepatitis': 1,\n",
              " 'Acute Febrile illness': 1,\n",
              " 'Probably partially treated Enteric fever': 1,\n",
              " 'Acute febrile illness/Probably enteric fever': 1,\n",
              " 'Dengue with warning signs- recovered': 1,\n",
              " 'Infantile Dengue with warning signs': 1,\n",
              " 'Vanishing white matter disease/progressive leucoencephalopathy/Adenoviral/Parainfluenza Pneumonia': 1,\n",
              " 'Severe Dengue with secondary Hemophagocytic Lymphohistiocytosis': 1,\n",
              " 'Severe Dengue with decompensated shock/ Acute liver failure (resolving)': 1,\n",
              " 'Culture positive Enteric fever- Salmonella Typhi': 1,\n",
              " 'Severe pneumococcal pneumonia with sepsis/ Left empyema and pneumothorax/ Bronchopleural fistula': 1,\n",
              " 'Enteric fever (Salmonella Typhi)': 1,\n",
              " 'Confirmed Enteric Fever- Paratyphoid A': 1,\n",
              " 'Left Lower Lobe Pneumonia': 1,\n",
              " 'Dengue with warning signs/ Right Pyelonephritis': 1,\n",
              " 'Viral Illness with conjunctivitis': 1,\n",
              " 'Probable Viral Illness': 1,\n",
              " 'Left Acute Parotitis/ Dengue with warning signs': 1,\n",
              " 'Pyrexia of unknown origin': 1,\n",
              " '1st epiode febrile seizure/ fever without focus': 1,\n",
              " 'Dengue fever with warning sign (Dengue NS1-Positive); Pending Enteric culture': 1,\n",
              " 'Severe Dengue Fever with hypotensive shock/ organ impairement- Acute liver failure (Recovered)/ Third spacing': 1,\n",
              " 'Probable Enteric Fever': 1,\n",
              " 'Acute Bacterial Rhinosinusitis': 1,\n",
              " 'Dengue without warning signs': 1,\n",
              " 'Confirmed Enteric fever': 1,\n",
              " 'Multiorgan dysfunction syndrome/Severe Dengue/ Secondary HLH': 1,\n",
              " 'Severe Dengue with acute liver failure/ Secondary Hemophagocytic lymphohistiocytosis/ Sepsis': 1,\n",
              " 'Confirmed Enteric Fever': 1,\n",
              " 'Dengue with warning signs-Recovered/ VSD on followup': 1,\n",
              " 'ND': 1}"
            ]
          },
          "metadata": {},
          "execution_count": 200
        }
      ],
      "source": [
        "dict(data['Final Diagnosis'].value_counts())"
      ]
    },
    {
      "cell_type": "code",
      "execution_count": null,
      "id": "b90cfed1",
      "metadata": {
        "id": "b90cfed1"
      },
      "outputs": [],
      "source": [
        "data['Final Diagnosis']=le.fit_transform(data['Final Diagnosis'])"
      ]
    },
    {
      "cell_type": "code",
      "execution_count": null,
      "id": "be49bb5f",
      "metadata": {
        "colab": {
          "base_uri": "https://localhost:8080/"
        },
        "id": "be49bb5f",
        "outputId": "5929b164-8ac0-411d-c284-768205e7d982"
      },
      "outputs": [
        {
          "output_type": "execute_result",
          "data": {
            "text/plain": [
              "0      114\n",
              "1      114\n",
              "2      173\n",
              "3      173\n",
              "4      173\n",
              "      ... \n",
              "356     51\n",
              "357    138\n",
              "358     21\n",
              "359     93\n",
              "360     51\n",
              "Name: Final Diagnosis, Length: 361, dtype: int64"
            ]
          },
          "metadata": {},
          "execution_count": 202
        }
      ],
      "source": [
        "data['Final Diagnosis']"
      ]
    },
    {
      "cell_type": "code",
      "execution_count": null,
      "id": "1ad01603",
      "metadata": {
        "colab": {
          "base_uri": "https://localhost:8080/"
        },
        "id": "1ad01603",
        "outputId": "5126956d-8b1e-4763-8380-c2e1082742bf"
      },
      "outputs": [
        {
          "output_type": "execute_result",
          "data": {
            "text/plain": [
              "0                     Negative\n",
              "1                     Positive\n",
              "2                     Negative\n",
              "3                     Negative\n",
              "4      Inconclusive for Dengue\n",
              "                ...           \n",
              "356                   Negative\n",
              "357                   Positive\n",
              "358                   Negative\n",
              "359                   Negative\n",
              "360                   Positive\n",
              "Name: AUF Result, Length: 361, dtype: object"
            ]
          },
          "metadata": {},
          "execution_count": 203
        }
      ],
      "source": [
        "data['AUF Result']"
      ]
    },
    {
      "cell_type": "code",
      "execution_count": null,
      "id": "05f999cb",
      "metadata": {
        "colab": {
          "base_uri": "https://localhost:8080/"
        },
        "id": "05f999cb",
        "outputId": "535fff67-86c5-4f22-ca54-13ad2bb89d94"
      },
      "outputs": [
        {
          "output_type": "execute_result",
          "data": {
            "text/plain": [
              "AUF Result\n",
              "Negative                                    207\n",
              "Positive                                    109\n",
              "Positive for Rickettsia                      13\n",
              "Positive for Salmonella                       8\n",
              "POSITIVE FOR LEPTO                            7\n",
              "Inconclusive for Dengue                       4\n",
              "Inconclusive for Dengue (Serotype DEN3)       3\n",
              "Inconclusive for Salmonella                   3\n",
              "Inconclusive for Rickettsia                   2\n",
              "Positive(plasmodium), INC for Salmonella      1\n",
              "Positive(Rickettisia,Lepto)                   1\n",
              "Inconclusive for Dengue (Serotype DEN2)       1\n",
              "Inconclusive for Plasmodium                   1\n",
              "Name: count, dtype: int64"
            ]
          },
          "metadata": {},
          "execution_count": 204
        }
      ],
      "source": [
        "data['AUF Result'].value_counts()"
      ]
    },
    {
      "cell_type": "code",
      "execution_count": null,
      "id": "522e9c72",
      "metadata": {
        "id": "522e9c72"
      },
      "outputs": [],
      "source": [
        "def aufresult(column):\n",
        "    auf=column\n",
        "    if auf=='Positive':\n",
        "        return \"Positive\"\n",
        "    elif auf=='Negative':\n",
        "        return \"Negative\"\n",
        "    else:\n",
        "      return 'Inconclusive'"
      ]
    },
    {
      "cell_type": "code",
      "execution_count": null,
      "id": "f26403f6",
      "metadata": {
        "colab": {
          "base_uri": "https://localhost:8080/"
        },
        "id": "f26403f6",
        "outputId": "cec685bf-a04e-43d3-f0ec-7e0f5107c7c2"
      },
      "outputs": [
        {
          "output_type": "execute_result",
          "data": {
            "text/plain": [
              "1"
            ]
          },
          "metadata": {},
          "execution_count": 206
        }
      ],
      "source": [
        "data['AUF Result'].isna().sum()"
      ]
    },
    {
      "cell_type": "code",
      "execution_count": null,
      "id": "d12d2a74",
      "metadata": {
        "id": "d12d2a74"
      },
      "outputs": [],
      "source": [
        "data['AUF Result'].fillna('Not Done',inplace=True)"
      ]
    },
    {
      "cell_type": "code",
      "source": [
        "data['AUF Result']=data['AUF Result'].apply(aufresult)"
      ],
      "metadata": {
        "id": "i3y6Q7qSrrl2"
      },
      "id": "i3y6Q7qSrrl2",
      "execution_count": null,
      "outputs": []
    },
    {
      "cell_type": "code",
      "source": [
        "data['AUF Result'].value_counts()"
      ],
      "metadata": {
        "colab": {
          "base_uri": "https://localhost:8080/"
        },
        "id": "NjKWOLjhz-Ln",
        "outputId": "47c1657a-f2ba-46bc-d9b9-4b091c140bc8"
      },
      "id": "NjKWOLjhz-Ln",
      "execution_count": null,
      "outputs": [
        {
          "output_type": "execute_result",
          "data": {
            "text/plain": [
              "AUF Result\n",
              "Negative        207\n",
              "Positive        109\n",
              "Inconclusive     45\n",
              "Name: count, dtype: int64"
            ]
          },
          "metadata": {},
          "execution_count": 209
        }
      ]
    },
    {
      "cell_type": "code",
      "execution_count": null,
      "id": "a1f340a8",
      "metadata": {
        "id": "a1f340a8"
      },
      "outputs": [],
      "source": [
        "data['AUF Result']=le.fit_transform(data['AUF Result'])"
      ]
    },
    {
      "cell_type": "code",
      "source": [
        "data['AUF Result'].value_counts()"
      ],
      "metadata": {
        "colab": {
          "base_uri": "https://localhost:8080/"
        },
        "id": "dhUGu3D6s9so",
        "outputId": "98f02b65-9381-4d59-828e-303bc46da17b"
      },
      "id": "dhUGu3D6s9so",
      "execution_count": null,
      "outputs": [
        {
          "output_type": "execute_result",
          "data": {
            "text/plain": [
              "AUF Result\n",
              "1    207\n",
              "2    109\n",
              "0     45\n",
              "Name: count, dtype: int64"
            ]
          },
          "metadata": {},
          "execution_count": 211
        }
      ]
    },
    {
      "cell_type": "code",
      "execution_count": null,
      "id": "f6326fba",
      "metadata": {
        "colab": {
          "base_uri": "https://localhost:8080/"
        },
        "id": "f6326fba",
        "outputId": "c4086aff-22af-4f4a-c2fa-bfa36dcb6691"
      },
      "outputs": [
        {
          "output_type": "execute_result",
          "data": {
            "text/plain": [
              "0"
            ]
          },
          "metadata": {},
          "execution_count": 212
        }
      ],
      "source": [
        "data['AUF Result'].isna().sum()"
      ]
    },
    {
      "cell_type": "code",
      "execution_count": null,
      "id": "91e05e9e",
      "metadata": {
        "colab": {
          "base_uri": "https://localhost:8080/"
        },
        "id": "91e05e9e",
        "outputId": "2c0f41f6-b92a-4283-9f93-be780ceefd72"
      },
      "outputs": [
        {
          "output_type": "execute_result",
          "data": {
            "text/plain": [
              "AUF Result\n",
              "1    207\n",
              "2    109\n",
              "0     45\n",
              "Name: count, dtype: int64"
            ]
          },
          "metadata": {},
          "execution_count": 213
        }
      ],
      "source": [
        "data['AUF Result'].value_counts()"
      ]
    },
    {
      "cell_type": "code",
      "execution_count": null,
      "id": "711e6758",
      "metadata": {
        "id": "711e6758"
      },
      "outputs": [],
      "source": []
    },
    {
      "cell_type": "markdown",
      "id": "757033b0",
      "metadata": {
        "id": "757033b0"
      },
      "source": [
        "## Numerical Columns"
      ]
    },
    {
      "cell_type": "markdown",
      "id": "db3a7be8",
      "metadata": {
        "id": "db3a7be8"
      },
      "source": [
        "### RR and PR"
      ]
    },
    {
      "cell_type": "code",
      "execution_count": null,
      "id": "b05e575b",
      "metadata": {
        "colab": {
          "base_uri": "https://localhost:8080/"
        },
        "id": "b05e575b",
        "outputId": "671419f3-62dc-48e9-fd48-80032d25ca70"
      },
      "outputs": [
        {
          "output_type": "execute_result",
          "data": {
            "text/plain": [
              "2"
            ]
          },
          "metadata": {},
          "execution_count": 214
        }
      ],
      "source": [
        "data['RR'].isna().sum()"
      ]
    },
    {
      "cell_type": "code",
      "execution_count": null,
      "id": "c2717197",
      "metadata": {
        "colab": {
          "base_uri": "https://localhost:8080/"
        },
        "id": "c2717197",
        "outputId": "a83e71dd-a531-4eb3-c356-43a279eb55d9"
      },
      "outputs": [
        {
          "output_type": "stream",
          "name": "stdout",
          "text": [
            "nan\n",
            "-\n",
            "nan\n",
            "NP\n",
            "ND\n"
          ]
        }
      ],
      "source": [
        "for i in data['RR']:\n",
        "    if type(i)==float or i.isnumeric()==False:\n",
        "        print(i)"
      ]
    },
    {
      "cell_type": "markdown",
      "id": "fc4cc1fd",
      "metadata": {
        "id": "fc4cc1fd"
      },
      "source": [
        "### Function to convert str to int values if int strings"
      ]
    },
    {
      "cell_type": "code",
      "execution_count": null,
      "id": "5fd41290",
      "metadata": {
        "id": "5fd41290"
      },
      "outputs": [],
      "source": [
        "def rrpr(column):\n",
        "    rrpr=column\n",
        "    if type(rrpr)!=float and rrpr.isnumeric():\n",
        "        return int(rrpr)\n",
        "    else:\n",
        "        return None"
      ]
    },
    {
      "cell_type": "code",
      "execution_count": null,
      "id": "7f7a2196",
      "metadata": {
        "id": "7f7a2196"
      },
      "outputs": [],
      "source": [
        "data['RR']=data['RR'].apply(rrpr)"
      ]
    },
    {
      "cell_type": "code",
      "execution_count": null,
      "id": "aa40e272",
      "metadata": {
        "colab": {
          "base_uri": "https://localhost:8080/"
        },
        "id": "aa40e272",
        "outputId": "ea477e3e-846d-4ae4-b14f-723afe4442e1"
      },
      "outputs": [
        {
          "output_type": "execute_result",
          "data": {
            "text/plain": [
              "5"
            ]
          },
          "metadata": {},
          "execution_count": 218
        }
      ],
      "source": [
        "data['RR'].isna().sum()"
      ]
    },
    {
      "cell_type": "code",
      "execution_count": null,
      "id": "b961bbb7",
      "metadata": {
        "id": "b961bbb7"
      },
      "outputs": [],
      "source": [
        "data['RR'].fillna(data['RR'].median(),inplace=True)"
      ]
    },
    {
      "cell_type": "code",
      "execution_count": null,
      "id": "4fbf7f3b",
      "metadata": {
        "colab": {
          "base_uri": "https://localhost:8080/"
        },
        "id": "4fbf7f3b",
        "outputId": "aad5c293-1350-4437-f07f-2875743ec5c4"
      },
      "outputs": [
        {
          "output_type": "execute_result",
          "data": {
            "text/plain": [
              "0"
            ]
          },
          "metadata": {},
          "execution_count": 220
        }
      ],
      "source": [
        "data['RR'].isna().sum()"
      ]
    },
    {
      "cell_type": "code",
      "execution_count": null,
      "id": "fe2b9261",
      "metadata": {
        "colab": {
          "base_uri": "https://localhost:8080/"
        },
        "id": "fe2b9261",
        "outputId": "1a00e8fd-97a6-4d7f-c503-347b82bfbf55"
      },
      "outputs": [
        {
          "output_type": "execute_result",
          "data": {
            "text/plain": [
              "2"
            ]
          },
          "metadata": {},
          "execution_count": 221
        }
      ],
      "source": [
        "data['PR'].isna().sum()"
      ]
    },
    {
      "cell_type": "code",
      "execution_count": null,
      "id": "61ffab60",
      "metadata": {
        "colab": {
          "base_uri": "https://localhost:8080/"
        },
        "id": "61ffab60",
        "outputId": "681cc151-1c97-459b-9f72-36c485e30973"
      },
      "outputs": [
        {
          "output_type": "stream",
          "name": "stdout",
          "text": [
            "nan\n",
            "-\n",
            "nan\n",
            "NP\n",
            "NP\n"
          ]
        }
      ],
      "source": [
        "for i in data['PR']:\n",
        "    if type(i)==float or i.isnumeric()==False:\n",
        "        print(i)"
      ]
    },
    {
      "cell_type": "code",
      "execution_count": null,
      "id": "9ffeb72a",
      "metadata": {
        "id": "9ffeb72a"
      },
      "outputs": [],
      "source": [
        "data['PR']=data['PR'].apply(rrpr)"
      ]
    },
    {
      "cell_type": "code",
      "execution_count": null,
      "id": "2996189b",
      "metadata": {
        "colab": {
          "base_uri": "https://localhost:8080/"
        },
        "id": "2996189b",
        "outputId": "e8ac8d5c-8433-4b77-bafc-7c42e03af537"
      },
      "outputs": [
        {
          "output_type": "execute_result",
          "data": {
            "text/plain": [
              "5"
            ]
          },
          "metadata": {},
          "execution_count": 224
        }
      ],
      "source": [
        "data['PR'].isna().sum()"
      ]
    },
    {
      "cell_type": "code",
      "execution_count": null,
      "id": "5f330bd9",
      "metadata": {
        "id": "5f330bd9"
      },
      "outputs": [],
      "source": [
        "data['PR'].fillna(data['PR'].median(),inplace=True)"
      ]
    },
    {
      "cell_type": "code",
      "execution_count": null,
      "id": "54c4da6e",
      "metadata": {
        "colab": {
          "base_uri": "https://localhost:8080/"
        },
        "id": "54c4da6e",
        "outputId": "337918b7-8dc6-48d8-899c-b0cde1854690"
      },
      "outputs": [
        {
          "output_type": "execute_result",
          "data": {
            "text/plain": [
              "0"
            ]
          },
          "metadata": {},
          "execution_count": 226
        }
      ],
      "source": [
        "data['PR'].isna().sum()"
      ]
    },
    {
      "cell_type": "markdown",
      "id": "534c692a",
      "metadata": {
        "id": "534c692a"
      },
      "source": [
        "### Temperature"
      ]
    },
    {
      "cell_type": "code",
      "execution_count": null,
      "id": "0bedf927",
      "metadata": {
        "colab": {
          "base_uri": "https://localhost:8080/"
        },
        "id": "0bedf927",
        "outputId": "99dea002-32e3-4628-cee5-c5aba2053fef"
      },
      "outputs": [
        {
          "output_type": "execute_result",
          "data": {
            "text/plain": [
              "0      100.6\n",
              "1        104\n",
              "2        101\n",
              "3         98\n",
              "4       98.6\n",
              "       ...  \n",
              "356     98.4\n",
              "357      100\n",
              "358    100.5\n",
              "359      101\n",
              "360     98.4\n",
              "Name: Temperature, Length: 361, dtype: object"
            ]
          },
          "metadata": {},
          "execution_count": 227
        }
      ],
      "source": [
        "data['Temperature']"
      ]
    },
    {
      "cell_type": "code",
      "execution_count": null,
      "id": "645957d7",
      "metadata": {
        "colab": {
          "base_uri": "https://localhost:8080/"
        },
        "id": "645957d7",
        "outputId": "18c0c8c2-8ae3-4273-de3c-28d07daaacea"
      },
      "outputs": [
        {
          "output_type": "execute_result",
          "data": {
            "text/plain": [
              "1"
            ]
          },
          "metadata": {},
          "execution_count": 228
        }
      ],
      "source": [
        "data['Temperature'].isna().sum()"
      ]
    },
    {
      "cell_type": "code",
      "execution_count": null,
      "id": "cd99def5",
      "metadata": {
        "colab": {
          "base_uri": "https://localhost:8080/"
        },
        "id": "cd99def5",
        "outputId": "1ae18d30-5888-4439-c1f3-976534180fa9"
      },
      "outputs": [
        {
          "output_type": "execute_result",
          "data": {
            "text/plain": [
              "False"
            ]
          },
          "metadata": {},
          "execution_count": 229
        }
      ],
      "source": [
        "data['Temperature'][0].isnumeric()"
      ]
    },
    {
      "cell_type": "code",
      "execution_count": null,
      "id": "fd5b2a83",
      "metadata": {
        "id": "fd5b2a83"
      },
      "outputs": [],
      "source": [
        "def temp(column):\n",
        "    t=column\n",
        "    try:\n",
        "        float(t)\n",
        "        return float(t)\n",
        "    except ValueError:\n",
        "        return None\n",
        "    return None"
      ]
    },
    {
      "cell_type": "code",
      "execution_count": null,
      "id": "cc188958",
      "metadata": {
        "id": "cc188958"
      },
      "outputs": [],
      "source": [
        "data['Temperature']=data['Temperature'].apply(temp)"
      ]
    },
    {
      "cell_type": "code",
      "execution_count": null,
      "id": "913985da",
      "metadata": {
        "colab": {
          "base_uri": "https://localhost:8080/"
        },
        "id": "913985da",
        "outputId": "f67bed3e-26c7-4053-cf8a-583c53f0afc0"
      },
      "outputs": [
        {
          "output_type": "execute_result",
          "data": {
            "text/plain": [
              "3"
            ]
          },
          "metadata": {},
          "execution_count": 232
        }
      ],
      "source": [
        "data['Temperature'].isna().sum()"
      ]
    },
    {
      "cell_type": "code",
      "execution_count": null,
      "id": "fe2b4780",
      "metadata": {
        "id": "fe2b4780"
      },
      "outputs": [],
      "source": [
        "data['Temperature'].fillna(data['Temperature'].median(),inplace=True)"
      ]
    },
    {
      "cell_type": "code",
      "execution_count": null,
      "id": "4e8954c6",
      "metadata": {
        "colab": {
          "base_uri": "https://localhost:8080/"
        },
        "id": "4e8954c6",
        "outputId": "0d3b2d82-81cf-490c-c8a8-ab3e4c43d031"
      },
      "outputs": [
        {
          "output_type": "execute_result",
          "data": {
            "text/plain": [
              "0"
            ]
          },
          "metadata": {},
          "execution_count": 234
        }
      ],
      "source": [
        "data['Temperature'].isna().sum()"
      ]
    },
    {
      "cell_type": "markdown",
      "id": "27a556e0",
      "metadata": {
        "id": "27a556e0"
      },
      "source": [
        "### Blood Pressure"
      ]
    },
    {
      "cell_type": "code",
      "execution_count": null,
      "id": "dd82a75e",
      "metadata": {
        "colab": {
          "base_uri": "https://localhost:8080/"
        },
        "id": "dd82a75e",
        "outputId": "c05b0abc-65f8-4ffc-e70c-f8bce64ffb0c"
      },
      "outputs": [
        {
          "output_type": "execute_result",
          "data": {
            "text/plain": [
              "['108/60',\n",
              " '95/57',\n",
              " '110/70',\n",
              " '100/60',\n",
              " '70/40',\n",
              " '100/60',\n",
              " '190/100',\n",
              " '150/90',\n",
              " '140/80',\n",
              " '110/70',\n",
              " '120/70',\n",
              " '130/70',\n",
              " '103/63',\n",
              " '109/59',\n",
              " '81/47',\n",
              " '100/60',\n",
              " '98/62',\n",
              " '101/56',\n",
              " '118/68',\n",
              " '82/40',\n",
              " '106/58',\n",
              " '98/57',\n",
              " '110/62',\n",
              " '106/67',\n",
              " '102/60',\n",
              " '94/59',\n",
              " '84/46',\n",
              " '106/50',\n",
              " '82/54',\n",
              " '97/54',\n",
              " '85/53',\n",
              " '98/58',\n",
              " '79/40',\n",
              " '112/60',\n",
              " '96/53',\n",
              " '81/43',\n",
              " '97/58',\n",
              " '97/45',\n",
              " '88/57',\n",
              " '108/67',\n",
              " '88/50',\n",
              " '88/50',\n",
              " '125/85',\n",
              " '93/67',\n",
              " '90/60',\n",
              " '102/50',\n",
              " '91/69',\n",
              " '98/32',\n",
              " '104/60',\n",
              " '120/80',\n",
              " '130/80',\n",
              " '120/70',\n",
              " '110/70',\n",
              " '120/80',\n",
              " '120/80',\n",
              " '110/68',\n",
              " '160/100',\n",
              " '150/80',\n",
              " '140/90',\n",
              " '110/72',\n",
              " '110/70',\n",
              " '100/60',\n",
              " '100/60',\n",
              " '140/70',\n",
              " '96/63',\n",
              " '96/63',\n",
              " '97/57',\n",
              " '90/56',\n",
              " '105/65',\n",
              " '92/54',\n",
              " '105/62',\n",
              " '99/52',\n",
              " '94/54',\n",
              " '102/65',\n",
              " '97/70',\n",
              " '106/66',\n",
              " '92/56',\n",
              " '100/59',\n",
              " '113/68',\n",
              " '110/60',\n",
              " '100/59',\n",
              " '110/60',\n",
              " '90/60',\n",
              " '104/70',\n",
              " '105/47',\n",
              " '138/58',\n",
              " '107/68',\n",
              " '98/60',\n",
              " '118/73',\n",
              " '96/48',\n",
              " '114/72',\n",
              " '98/56',\n",
              " '83/40',\n",
              " '85/69',\n",
              " '109/68',\n",
              " '94/62',\n",
              " '92/63',\n",
              " '109/70',\n",
              " '107/58',\n",
              " '103/47',\n",
              " '84/39',\n",
              " '92/51',\n",
              " nan,\n",
              " '101/52',\n",
              " '92/47',\n",
              " '90/60',\n",
              " '102/59',\n",
              " '104/78',\n",
              " '101/59',\n",
              " '100/60',\n",
              " '97/62',\n",
              " '122/74',\n",
              " '103/84',\n",
              " '107/66',\n",
              " '100/60',\n",
              " '100/60',\n",
              " '100/80',\n",
              " '110/70',\n",
              " '160/100',\n",
              " '190/90',\n",
              " '120/70',\n",
              " '140/80',\n",
              " '90/60',\n",
              " '100/60',\n",
              " '160/100',\n",
              " '120/80',\n",
              " nan,\n",
              " '112/58',\n",
              " '150/100',\n",
              " '160/90',\n",
              " '110/80',\n",
              " '150/80',\n",
              " '140/90',\n",
              " '140/90',\n",
              " '90/50',\n",
              " '106/54',\n",
              " '100/60',\n",
              " '90/50',\n",
              " '94/62',\n",
              " '123/63',\n",
              " '106/68',\n",
              " '91/66',\n",
              " '102/76',\n",
              " '107/69',\n",
              " '99/52',\n",
              " '94/60',\n",
              " '117/68',\n",
              " '115/64',\n",
              " '103/77',\n",
              " '98/58',\n",
              " '58/38',\n",
              " '94/62',\n",
              " '96/52',\n",
              " '123/88',\n",
              " '98/65',\n",
              " '102/60',\n",
              " '124/78',\n",
              " '127/92',\n",
              " '90/57',\n",
              " '100/60',\n",
              " '100/70',\n",
              " '101/60',\n",
              " '105/69',\n",
              " '98/67',\n",
              " '97/69',\n",
              " '113/77',\n",
              " '110/78',\n",
              " '120/80',\n",
              " '109/50',\n",
              " '93/56',\n",
              " '90/26',\n",
              " '118/68',\n",
              " '135/81',\n",
              " '98/68',\n",
              " '119/73',\n",
              " '103/74',\n",
              " '115/95',\n",
              " '94/49',\n",
              " '117/72',\n",
              " '103/74',\n",
              " '104/74',\n",
              " '115/94',\n",
              " '92/68',\n",
              " '112/70',\n",
              " '99/69',\n",
              " '100/50',\n",
              " '100/60',\n",
              " '110/62',\n",
              " '104/74',\n",
              " '110/64',\n",
              " '86/60',\n",
              " '86/50',\n",
              " '103/62',\n",
              " '96/50',\n",
              " '88/53',\n",
              " '110/80',\n",
              " '104/68',\n",
              " '97/63',\n",
              " '98/67',\n",
              " '117/65',\n",
              " '101/58',\n",
              " '108/71',\n",
              " '70/54',\n",
              " '92/58',\n",
              " '116/88',\n",
              " '118/83',\n",
              " '101/77',\n",
              " '106/60',\n",
              " '118/64',\n",
              " '105/77',\n",
              " '100/60',\n",
              " '100/64',\n",
              " '119/74',\n",
              " '82/43',\n",
              " '120/80',\n",
              " '128/86',\n",
              " '88/50',\n",
              " '120/82',\n",
              " '97/50',\n",
              " '110/80',\n",
              " '119/73',\n",
              " '80/50',\n",
              " '102/61',\n",
              " '120/80',\n",
              " '103/58',\n",
              " '109/45',\n",
              " '92/62',\n",
              " '95/65',\n",
              " '98/56',\n",
              " '96/52',\n",
              " '98/58',\n",
              " '94/56',\n",
              " '102/80',\n",
              " '100/60',\n",
              " '104/69',\n",
              " '98/48',\n",
              " '120/80',\n",
              " '105/77',\n",
              " '104/66',\n",
              " '100/68',\n",
              " '102/64',\n",
              " '98/58',\n",
              " '93/53',\n",
              " '102/53',\n",
              " '114/79',\n",
              " '121/89',\n",
              " '106/65',\n",
              " '96/42',\n",
              " '98/51',\n",
              " '120/70',\n",
              " '120/70',\n",
              " '130/80',\n",
              " '120/90',\n",
              " '160/100',\n",
              " '130/100',\n",
              " '120/70',\n",
              " '110/70',\n",
              " '120/70',\n",
              " '90/70',\n",
              " '130/70',\n",
              " '140/80',\n",
              " '140/90',\n",
              " '100/70',\n",
              " '190/110',\n",
              " '120/70',\n",
              " '130/70',\n",
              " '120/70',\n",
              " '130/80',\n",
              " '140/80',\n",
              " '170/80',\n",
              " '130/90',\n",
              " '150/70',\n",
              " '160/80',\n",
              " '110/70',\n",
              " '120/70',\n",
              " '180/100',\n",
              " '100/70',\n",
              " '160/70',\n",
              " '110/80',\n",
              " '160/70',\n",
              " '110/80',\n",
              " '120/70',\n",
              " '130/70',\n",
              " '130/70',\n",
              " '100/70',\n",
              " '80/50',\n",
              " '130/80',\n",
              " '130/70',\n",
              " '110/70',\n",
              " '120/70',\n",
              " '120/80',\n",
              " '110/70',\n",
              " '130/60',\n",
              " '110/70',\n",
              " '90/60',\n",
              " '120/80',\n",
              " '120/80',\n",
              " '130/80',\n",
              " '120/80',\n",
              " '140/90',\n",
              " '110/60',\n",
              " '130/80',\n",
              " '130/80',\n",
              " '130/70',\n",
              " '120/70',\n",
              " '100/60',\n",
              " '90/60',\n",
              " '100/80',\n",
              " '180/80',\n",
              " '120/80',\n",
              " '150/80',\n",
              " '90/60',\n",
              " '120/90',\n",
              " '110/70',\n",
              " '130/80',\n",
              " '120/80',\n",
              " '90/60',\n",
              " '100/60',\n",
              " nan,\n",
              " '140/90',\n",
              " '120/80',\n",
              " '120/70',\n",
              " '130/70',\n",
              " '89/52',\n",
              " '100/70',\n",
              " '101/68',\n",
              " '101/63',\n",
              " '102/53',\n",
              " '113/91',\n",
              " '100/60',\n",
              " '120/62',\n",
              " '97/65',\n",
              " '130/70',\n",
              " '99/60',\n",
              " '125/76',\n",
              " '109/65',\n",
              " '114/74',\n",
              " '100/70',\n",
              " '98/60',\n",
              " '103/59',\n",
              " '107/67',\n",
              " '95/64',\n",
              " '101/68',\n",
              " '125/76',\n",
              " '90/56',\n",
              " '104/75',\n",
              " '125/76',\n",
              " '114/56',\n",
              " '118/81',\n",
              " '101/60',\n",
              " '106/67',\n",
              " '110/68',\n",
              " '110/60',\n",
              " '100/70',\n",
              " '110/66',\n",
              " '100/60',\n",
              " '94/68',\n",
              " '120/62',\n",
              " '107/73',\n",
              " '100/70',\n",
              " '113/74']"
            ]
          },
          "metadata": {},
          "execution_count": 235
        }
      ],
      "source": [
        "list(data['BP'])"
      ]
    },
    {
      "cell_type": "code",
      "execution_count": null,
      "id": "ff67931e",
      "metadata": {
        "colab": {
          "base_uri": "https://localhost:8080/"
        },
        "id": "ff67931e",
        "outputId": "27bf2c5f-f4f1-48b4-ce00-623b2c4062b2"
      },
      "outputs": [
        {
          "output_type": "execute_result",
          "data": {
            "text/plain": [
              "3"
            ]
          },
          "metadata": {},
          "execution_count": 236
        }
      ],
      "source": [
        "data['BP'].isna().sum()"
      ]
    },
    {
      "cell_type": "code",
      "execution_count": null,
      "id": "32c96925",
      "metadata": {
        "id": "32c96925"
      },
      "outputs": [],
      "source": [
        "def bp(column):\n",
        "    b=column\n",
        "    if type(b)!=float:\n",
        "        bpl=[float(i) for i in b.split('/')]\n",
        "        if bpl[0]<=120 and bpl[1]<=80:\n",
        "            #NORMAL\n",
        "            return 1\n",
        "        elif (bpl[0]>120 and bpl[0]<=129) and bpl[1]<=80:\n",
        "            # ELEVATED\n",
        "            return 2\n",
        "        elif (bpl[0]>=130 and bpl[0]<=139) or (bpl[1]>80 and bpl[1]<=89):\n",
        "            # HIGH BP STAGE 1\n",
        "            return 3\n",
        "        elif (bpl[0]>=140 and bpl[0]<=180) or (bpl[1]>=90 and bpl[1]<=120):\n",
        "            # HIGH BP STAGE 2\n",
        "            return 4\n",
        "        elif (bpl[0]>180) or (bpl[1]>120):\n",
        "            #HYPERTENSIVE CRISIS\n",
        "            return 5\n",
        "    else:\n",
        "        return 0"
      ]
    },
    {
      "cell_type": "code",
      "execution_count": null,
      "id": "f3477b93",
      "metadata": {
        "id": "f3477b93"
      },
      "outputs": [],
      "source": [
        "data['BP']=data['BP'].apply(bp)"
      ]
    },
    {
      "cell_type": "code",
      "execution_count": null,
      "id": "f7e579f2",
      "metadata": {
        "colab": {
          "base_uri": "https://localhost:8080/"
        },
        "id": "f7e579f2",
        "outputId": "a98d7cd6-be88-44c4-e005-da64399f3058"
      },
      "outputs": [
        {
          "output_type": "execute_result",
          "data": {
            "text/plain": [
              "0"
            ]
          },
          "metadata": {},
          "execution_count": 239
        }
      ],
      "source": [
        "data['BP'].isna().sum()"
      ]
    },
    {
      "cell_type": "code",
      "execution_count": null,
      "id": "f5773441",
      "metadata": {
        "colab": {
          "base_uri": "https://localhost:8080/"
        },
        "id": "f5773441",
        "outputId": "623eacaa-dd0b-4fce-c28d-e81f3fece062"
      },
      "outputs": [
        {
          "output_type": "execute_result",
          "data": {
            "text/plain": [
              "Total count\n",
              "5300.0    4\n",
              "6200.0    4\n",
              "5200.0    4\n",
              "5000.0    3\n",
              "3200.0    3\n",
              "         ..\n",
              "3780.0    1\n",
              "8000.0    1\n",
              "5070.0    1\n",
              "7300.0    1\n",
              "2660.0    1\n",
              "Name: count, Length: 185, dtype: int64"
            ]
          },
          "metadata": {},
          "execution_count": 240
        }
      ],
      "source": [
        "data['Total count'].value_counts()"
      ]
    },
    {
      "cell_type": "code",
      "execution_count": null,
      "id": "985efe45",
      "metadata": {
        "colab": {
          "base_uri": "https://localhost:8080/"
        },
        "id": "985efe45",
        "outputId": "3026067c-75b5-40f7-9c4b-db2d21061961"
      },
      "outputs": [
        {
          "output_type": "execute_result",
          "data": {
            "text/plain": [
              "127"
            ]
          },
          "metadata": {},
          "execution_count": 241
        }
      ],
      "source": [
        "data['Total count'].isna().sum()"
      ]
    },
    {
      "cell_type": "code",
      "execution_count": null,
      "id": "53dcd478",
      "metadata": {
        "colab": {
          "base_uri": "https://localhost:8080/"
        },
        "id": "53dcd478",
        "outputId": "fbee7ae9-6830-4888-807d-610a5fe84098"
      },
      "outputs": [
        {
          "output_type": "stream",
          "name": "stdout",
          "text": [
            "7410.0\n",
            "5500.0\n",
            "nan\n",
            "nan\n",
            "nan\n",
            "nan\n",
            "nan\n",
            "nan\n",
            "nan\n",
            "nan\n",
            "nan\n",
            "nan\n",
            "9900.0\n",
            "9800.0\n",
            "8200.0\n",
            "8200.0\n",
            "7500.0\n",
            "13100.0\n",
            "7900.0\n",
            "24700.0\n",
            "14980.0\n",
            "21600.0\n",
            "16100.0\n",
            "7000.0\n",
            "15100.0\n",
            "21700.0\n",
            "9940.0\n",
            "4520.0\n",
            "9500.0\n",
            "22600.0\n",
            "9360.0\n",
            "9160.0\n",
            "9730.0\n",
            "8100.0\n",
            "11300.0\n",
            "11700.0\n",
            "10300.0\n",
            "4900.0\n",
            "5260.0\n",
            "7670.0\n",
            "3770.0\n",
            "8420.0\n",
            "11210.0\n",
            "6810.0\n",
            "5000.0\n",
            "16400.0\n",
            "4900.0\n",
            "2200.0\n",
            "16000.0\n",
            "nan\n",
            "nan\n",
            "nan\n",
            "nan\n",
            "nan\n",
            "nan\n",
            "nan\n",
            "nan\n",
            "nan\n",
            "nan\n",
            "nan\n",
            "nan\n",
            "nan\n",
            "nan\n",
            "nan\n",
            "5800.0\n",
            "5800.0\n",
            "3900.0\n",
            "23300.0\n",
            "1700.0\n",
            "5300.0\n",
            "5600.0\n",
            "15180.0\n",
            "7700.0\n",
            "8900.0\n",
            "3200.0\n",
            "2970.0\n",
            "17800.0\n",
            "10510.0\n",
            "4160.0\n",
            "7290.0\n",
            "4600.0\n",
            "25400.0\n",
            "2700.0\n",
            "2440.0\n",
            "7200.0\n",
            "14680.0\n",
            "4100.0\n",
            "5700.0\n",
            "11600.0\n",
            "5900.0\n",
            "3500.0\n",
            "11150.0\n",
            "17160.0\n",
            "7360.0\n",
            "9200.0\n",
            "10980.0\n",
            "5300.0\n",
            "1600.0\n",
            "3830.0\n",
            "3620.0\n",
            "15530.0\n",
            "2320.0\n",
            "5660.0\n",
            "8100.0\n",
            "2710.0\n",
            "3780.0\n",
            "8000.0\n",
            "3900.0\n",
            "5070.0\n",
            "2700.0\n",
            "7300.0\n",
            "2100.0\n",
            "14600.0\n",
            "3700.0\n",
            "nan\n",
            "nan\n",
            "nan\n",
            "nan\n",
            "nan\n",
            "nan\n",
            "nan\n",
            "nan\n",
            "nan\n",
            "nan\n",
            "nan\n",
            "nan\n",
            "nan\n",
            "nan\n",
            "nan\n",
            "nan\n",
            "nan\n",
            "nan\n",
            "nan\n",
            "nan\n",
            "26370.0\n",
            "10400.0\n",
            "1660.0\n",
            "5170.0\n",
            "2150.0\n",
            "2330.0\n",
            "15180.0\n",
            "4970.0\n",
            "2900.0\n",
            "7630.0\n",
            "9010.0\n",
            "3770.0\n",
            "7600.0\n",
            "4200.0\n",
            "2500.0\n",
            "18050.0\n",
            "11690.0\n",
            "2000.0\n",
            "8870.0\n",
            "1440.0\n",
            "8620.0\n",
            "4290.0\n",
            "12930.0\n",
            "3050.0\n",
            "10600.0\n",
            "5500.0\n",
            "3450.0\n",
            "4930.0\n",
            "4200.0\n",
            "4100.0\n",
            "10250.0\n",
            "6560.0\n",
            "5030.0\n",
            "6173.0\n",
            "7910.0\n",
            "12470.0\n",
            "9000.0\n",
            "13000.0\n",
            "5400.0\n",
            "14000.0\n",
            "8930.0\n",
            "23600.0\n",
            "6600.0\n",
            "21790.0\n",
            "6200.0\n",
            "5290.0\n",
            "4490.0\n",
            "5100.0\n",
            "7900.0\n",
            "nan\n",
            "6100.0\n",
            "9670.0\n",
            "5800.0\n",
            "6120.0\n",
            "4600.0\n",
            "5300.0\n",
            "3300.0\n",
            "7160.0\n",
            "13720.0\n",
            "6120.0\n",
            "6700.0\n",
            "5000.0\n",
            "10680.0\n",
            "5600.0\n",
            "5710.0\n",
            "7200.0\n",
            "6200.0\n",
            "5810.0\n",
            "5200.0\n",
            "6000.0\n",
            "62100.0\n",
            "9000.0\n",
            "2730.0\n",
            "3200.0\n",
            "6720.0\n",
            "1400.0\n",
            "14720.0\n",
            "1800.0\n",
            "11460.0\n",
            "7200.0\n",
            "2430.0\n",
            "8100.0\n",
            "6260.0\n",
            "7000.0\n",
            "13300.0\n",
            "7900.0\n",
            "nan\n",
            "17000.0\n",
            "3200.0\n",
            "2270.0\n",
            "17700.0\n",
            "5830.0\n",
            "6000.0\n",
            "3400.0\n",
            "11700.0\n",
            "4500.0\n",
            "nan\n",
            "11600.0\n",
            "2000.0\n",
            "4170.0\n",
            "8660.0\n",
            "2240.0\n",
            "6620.0\n",
            "2600.0\n",
            "6200.0\n",
            "5610.0\n",
            "18730.0\n",
            "5550.0\n",
            "7100.0\n",
            "12100.0\n",
            "20490.0\n",
            "5700.0\n",
            "12760.0\n",
            "6430.0\n",
            "nan\n",
            "nan\n",
            "nan\n",
            "nan\n",
            "nan\n",
            "nan\n",
            "nan\n",
            "nan\n",
            "nan\n",
            "nan\n",
            "nan\n",
            "nan\n",
            "nan\n",
            "nan\n",
            "nan\n",
            "nan\n",
            "nan\n",
            "nan\n",
            "nan\n",
            "nan\n",
            "nan\n",
            "nan\n",
            "nan\n",
            "nan\n",
            "nan\n",
            "nan\n",
            "nan\n",
            "nan\n",
            "nan\n",
            "nan\n",
            "nan\n",
            "nan\n",
            "nan\n",
            "nan\n",
            "nan\n",
            "nan\n",
            "nan\n",
            "nan\n",
            "nan\n",
            "nan\n",
            "nan\n",
            "nan\n",
            "nan\n",
            "nan\n",
            "nan\n",
            "nan\n",
            "nan\n",
            "nan\n",
            "nan\n",
            "nan\n",
            "nan\n",
            "nan\n",
            "nan\n",
            "nan\n",
            "nan\n",
            "nan\n",
            "nan\n",
            "nan\n",
            "nan\n",
            "nan\n",
            "nan\n",
            "nan\n",
            "nan\n",
            "nan\n",
            "nan\n",
            "nan\n",
            "nan\n",
            "nan\n",
            "nan\n",
            "nan\n",
            "nan\n",
            "nan\n",
            "nan\n",
            "nan\n",
            "nan\n",
            "18240.0\n",
            "8700.0\n",
            "4800.0\n",
            "5310.0\n",
            "2600.0\n",
            "1410.0\n",
            "5000.0\n",
            "8800.0\n",
            "5300.0\n",
            "3380.0\n",
            "2420.0\n",
            "nan\n",
            "nan\n",
            "nan\n",
            "3810.0\n",
            "7000.0\n",
            "4000.0\n",
            "5200.0\n",
            "6200.0\n",
            "6100.0\n",
            "3450.0\n",
            "5200.0\n",
            "5200.0\n",
            "2800.0\n",
            "6000.0\n",
            "12800.0\n",
            "6500.0\n",
            "9400.0\n",
            "10000.0\n",
            "4780.0\n",
            "nan\n",
            "13810.0\n",
            "4000.0\n",
            "4000.0\n",
            "13900.0\n",
            "2800.0\n",
            "6620.0\n",
            "2660.0\n",
            "361\n"
          ]
        }
      ],
      "source": [
        "count=0\n",
        "for i in data['Total count']:\n",
        "    if type(i)==float:\n",
        "        print(i)\n",
        "        count+=1\n",
        "\n",
        "print(count)"
      ]
    },
    {
      "cell_type": "code",
      "execution_count": null,
      "id": "9630758a",
      "metadata": {
        "id": "9630758a"
      },
      "outputs": [],
      "source": [
        "data['Total count'].fillna(data['Total count'].median(),inplace=True)"
      ]
    },
    {
      "cell_type": "code",
      "execution_count": null,
      "id": "69981b06",
      "metadata": {
        "colab": {
          "base_uri": "https://localhost:8080/"
        },
        "id": "69981b06",
        "outputId": "01278897-3ea1-4bd5-97e3-d65c6505ed58"
      },
      "outputs": [
        {
          "output_type": "execute_result",
          "data": {
            "text/plain": [
              "0"
            ]
          },
          "metadata": {},
          "execution_count": 244
        }
      ],
      "source": [
        "data['Total count'].isna().sum()"
      ]
    },
    {
      "cell_type": "markdown",
      "id": "03a98e5e",
      "metadata": {
        "id": "03a98e5e"
      },
      "source": [
        "### Platelet count"
      ]
    },
    {
      "cell_type": "code",
      "execution_count": null,
      "id": "4bfe45d2",
      "metadata": {
        "colab": {
          "base_uri": "https://localhost:8080/"
        },
        "id": "4bfe45d2",
        "outputId": "b2c0ceb9-2a82-435f-a310-e2ecfc0f0108"
      },
      "outputs": [
        {
          "output_type": "execute_result",
          "data": {
            "text/plain": [
              "0       3170\n",
              "1       2870\n",
              "2      20000\n",
              "3      18000\n",
              "4      93000\n",
              "       ...  \n",
              "356       24\n",
              "357       88\n",
              "358      124\n",
              "359      261\n",
              "360       72\n",
              "Name: Platelet count, Length: 361, dtype: object"
            ]
          },
          "metadata": {},
          "execution_count": 245
        }
      ],
      "source": [
        "data['Platelet count']"
      ]
    },
    {
      "cell_type": "code",
      "execution_count": null,
      "id": "a71bd263",
      "metadata": {
        "colab": {
          "base_uri": "https://localhost:8080/"
        },
        "id": "a71bd263",
        "outputId": "cba85dde-f912-4baf-a0e8-37e3775aa18b"
      },
      "outputs": [
        {
          "output_type": "execute_result",
          "data": {
            "text/plain": [
              "3"
            ]
          },
          "metadata": {},
          "execution_count": 246
        }
      ],
      "source": [
        "data['Platelet count'].isna().sum()"
      ]
    },
    {
      "cell_type": "code",
      "execution_count": null,
      "id": "0b542f7b",
      "metadata": {
        "id": "0b542f7b"
      },
      "outputs": [],
      "source": [
        "data['Platelet count']=data['Platelet count'].apply(rrpr)"
      ]
    },
    {
      "cell_type": "code",
      "execution_count": null,
      "id": "5f0e8044",
      "metadata": {
        "id": "5f0e8044"
      },
      "outputs": [],
      "source": [
        "data['Platelet count'].fillna(data['Platelet count'].median(),inplace=True)"
      ]
    },
    {
      "cell_type": "code",
      "execution_count": null,
      "id": "958a195b",
      "metadata": {
        "colab": {
          "base_uri": "https://localhost:8080/"
        },
        "id": "958a195b",
        "outputId": "eac79023-f99e-4979-b180-00c7a57b27d9"
      },
      "outputs": [
        {
          "output_type": "execute_result",
          "data": {
            "text/plain": [
              "0"
            ]
          },
          "metadata": {},
          "execution_count": 249
        }
      ],
      "source": [
        "data['Platelet count'].isna().sum()"
      ]
    },
    {
      "cell_type": "code",
      "execution_count": null,
      "id": "9376397b",
      "metadata": {
        "colab": {
          "base_uri": "https://localhost:8080/"
        },
        "id": "9376397b",
        "outputId": "e1392d41-ef9b-4564-f1c7-21ddcdde66d2"
      },
      "outputs": [
        {
          "output_type": "execute_result",
          "data": {
            "text/plain": [
              "0       3170.0\n",
              "1       2870.0\n",
              "2      20000.0\n",
              "3      18000.0\n",
              "4      93000.0\n",
              "        ...   \n",
              "356       24.0\n",
              "357       88.0\n",
              "358      124.0\n",
              "359      261.0\n",
              "360       72.0\n",
              "Name: Platelet count, Length: 361, dtype: float64"
            ]
          },
          "metadata": {},
          "execution_count": 250
        }
      ],
      "source": [
        "data['Platelet count']"
      ]
    },
    {
      "cell_type": "markdown",
      "id": "7c5a34a0",
      "metadata": {
        "id": "7c5a34a0"
      },
      "source": [
        "### SGOT"
      ]
    },
    {
      "cell_type": "code",
      "execution_count": null,
      "id": "0e5be4cc",
      "metadata": {
        "colab": {
          "base_uri": "https://localhost:8080/"
        },
        "id": "0e5be4cc",
        "outputId": "a1a56476-85ba-438e-e821-e725983c10d3"
      },
      "outputs": [
        {
          "output_type": "execute_result",
          "data": {
            "text/plain": [
              "0       42\n",
              "1       26\n",
              "2       72\n",
              "3      239\n",
              "4      109\n",
              "      ... \n",
              "356    247\n",
              "357    888\n",
              "358     27\n",
              "359     30\n",
              "360    308\n",
              "Name: SGOT, Length: 361, dtype: object"
            ]
          },
          "metadata": {},
          "execution_count": 251
        }
      ],
      "source": [
        "data['SGOT']"
      ]
    },
    {
      "cell_type": "code",
      "execution_count": null,
      "id": "d4084120",
      "metadata": {
        "colab": {
          "base_uri": "https://localhost:8080/"
        },
        "id": "d4084120",
        "outputId": "0de3da45-f3ef-4916-f7f7-4a17fa89a7a1"
      },
      "outputs": [
        {
          "output_type": "execute_result",
          "data": {
            "text/plain": [
              "20"
            ]
          },
          "metadata": {},
          "execution_count": 252
        }
      ],
      "source": [
        "data['SGOT'].isna().sum()"
      ]
    },
    {
      "cell_type": "code",
      "execution_count": null,
      "id": "e700b6bb",
      "metadata": {
        "id": "e700b6bb"
      },
      "outputs": [],
      "source": [
        "data['SGOT']=data['SGOT'].apply(rrpr)"
      ]
    },
    {
      "cell_type": "code",
      "execution_count": null,
      "id": "5408afd4",
      "metadata": {
        "id": "5408afd4"
      },
      "outputs": [],
      "source": [
        "data['SGOT'].fillna(data['SGOT'].median(),inplace=True)"
      ]
    },
    {
      "cell_type": "code",
      "execution_count": null,
      "id": "4ea8f52d",
      "metadata": {
        "colab": {
          "base_uri": "https://localhost:8080/"
        },
        "id": "4ea8f52d",
        "outputId": "3ac87dbc-b9e5-4dea-bdf5-fa045e11114f"
      },
      "outputs": [
        {
          "output_type": "execute_result",
          "data": {
            "text/plain": [
              "0"
            ]
          },
          "metadata": {},
          "execution_count": 255
        }
      ],
      "source": [
        "data['SGOT'].isna().sum()"
      ]
    },
    {
      "cell_type": "markdown",
      "id": "54da646a",
      "metadata": {
        "id": "54da646a"
      },
      "source": [
        "### SGPT"
      ]
    },
    {
      "cell_type": "code",
      "execution_count": null,
      "id": "16401a62",
      "metadata": {
        "colab": {
          "base_uri": "https://localhost:8080/"
        },
        "id": "16401a62",
        "outputId": "e7691fcf-ae00-497f-8f70-48f937a9a316"
      },
      "outputs": [
        {
          "output_type": "execute_result",
          "data": {
            "text/plain": [
              "0       12\n",
              "1       11\n",
              "2       24\n",
              "3      173\n",
              "4       97\n",
              "      ... \n",
              "356     59\n",
              "357    519\n",
              "358     58\n",
              "359     16\n",
              "360    279\n",
              "Name: SGPT, Length: 361, dtype: object"
            ]
          },
          "metadata": {},
          "execution_count": 256
        }
      ],
      "source": [
        "data['SGPT']"
      ]
    },
    {
      "cell_type": "code",
      "execution_count": null,
      "id": "8a348ffd",
      "metadata": {
        "colab": {
          "base_uri": "https://localhost:8080/"
        },
        "id": "8a348ffd",
        "outputId": "dc6eec6b-0818-4c7f-ad08-2cadda2d2df9"
      },
      "outputs": [
        {
          "output_type": "execute_result",
          "data": {
            "text/plain": [
              "20"
            ]
          },
          "metadata": {},
          "execution_count": 257
        }
      ],
      "source": [
        "data['SGPT'].isna().sum()"
      ]
    },
    {
      "cell_type": "code",
      "execution_count": null,
      "id": "0398ab16",
      "metadata": {
        "id": "0398ab16"
      },
      "outputs": [],
      "source": [
        "data['SGPT']=data['SGPT'].apply(rrpr)"
      ]
    },
    {
      "cell_type": "code",
      "execution_count": null,
      "id": "86508781",
      "metadata": {
        "id": "86508781"
      },
      "outputs": [],
      "source": [
        "data['SGPT'].fillna(data['SGPT'].median(),inplace=True)"
      ]
    },
    {
      "cell_type": "code",
      "execution_count": null,
      "id": "4aa37d62",
      "metadata": {
        "colab": {
          "base_uri": "https://localhost:8080/"
        },
        "id": "4aa37d62",
        "outputId": "62346471-1608-4f26-9832-18a458ad1cc5"
      },
      "outputs": [
        {
          "output_type": "execute_result",
          "data": {
            "text/plain": [
              "0"
            ]
          },
          "metadata": {},
          "execution_count": 260
        }
      ],
      "source": [
        "data['SGPT'].isna().sum()"
      ]
    },
    {
      "cell_type": "code",
      "execution_count": null,
      "id": "e5875487",
      "metadata": {
        "colab": {
          "base_uri": "https://localhost:8080/"
        },
        "id": "e5875487",
        "outputId": "e17c4307-d7ae-4692-b0d4-e118c328b12a"
      },
      "outputs": [
        {
          "output_type": "execute_result",
          "data": {
            "text/plain": [
              "[0.25,\n",
              " 0.35,\n",
              " 1.48,\n",
              " 1.59,\n",
              " 4.25,\n",
              " 5.9,\n",
              " 13.07,\n",
              " 1.8,\n",
              " 1.4,\n",
              " 5.15,\n",
              " 5.04,\n",
              " 3.3,\n",
              " 0.55,\n",
              " 0.43,\n",
              " nan,\n",
              " 0.49,\n",
              " 0.29,\n",
              " 0.57,\n",
              " 0.62,\n",
              " 0.2,\n",
              " 0.31,\n",
              " 0.47,\n",
              " 0.38,\n",
              " nan,\n",
              " 0.54,\n",
              " 0.42,\n",
              " 0.28,\n",
              " 0.69,\n",
              " nan,\n",
              " 0.62,\n",
              " 0.58,\n",
              " 0.63,\n",
              " 0.6,\n",
              " nan,\n",
              " nan,\n",
              " 0.36,\n",
              " nan,\n",
              " 0.4,\n",
              " 0.59,\n",
              " nan,\n",
              " nan,\n",
              " 0.25,\n",
              " 0.38,\n",
              " 0.5,\n",
              " nan,\n",
              " 0.41,\n",
              " 0.38,\n",
              " 0.2,\n",
              " nan,\n",
              " 3.63,\n",
              " 1.03,\n",
              " 8.72,\n",
              " 1.82,\n",
              " 10.51,\n",
              " 1.41,\n",
              " 0.99,\n",
              " 17.42,\n",
              " 3.92,\n",
              " 1.56,\n",
              " 1.66,\n",
              " 5.79,\n",
              " 3.99,\n",
              " 1.79,\n",
              " 5.62,\n",
              " 0.14,\n",
              " 0.14,\n",
              " 0.56,\n",
              " 0.37,\n",
              " 0.63,\n",
              " 0.13,\n",
              " 0.2,\n",
              " nan,\n",
              " 0.26,\n",
              " 0.31,\n",
              " 0.46,\n",
              " 0.63,\n",
              " 0.43,\n",
              " 0.47,\n",
              " nan,\n",
              " 0.68,\n",
              " nan,\n",
              " 0.55,\n",
              " 0.51,\n",
              " 0.66,\n",
              " 0.81,\n",
              " 0.85,\n",
              " 0.48,\n",
              " 0.44,\n",
              " nan,\n",
              " 0.55,\n",
              " 1.01,\n",
              " 0.45,\n",
              " 0.43,\n",
              " 0.58,\n",
              " 0.7,\n",
              " 0.61,\n",
              " nan,\n",
              " 0.46,\n",
              " 0.34,\n",
              " 0.57,\n",
              " 0.24,\n",
              " 0.57,\n",
              " 0.6,\n",
              " 0.55,\n",
              " nan,\n",
              " 0.49,\n",
              " 0.19,\n",
              " 0.49,\n",
              " 0.87,\n",
              " nan,\n",
              " 0.83,\n",
              " 0.56,\n",
              " 0.29,\n",
              " 0.3,\n",
              " 1.09,\n",
              " 2.17,\n",
              " 5.79,\n",
              " 0.5,\n",
              " 2.67,\n",
              " 4.21,\n",
              " 0.81,\n",
              " 4.62,\n",
              " 3.18,\n",
              " 1.21,\n",
              " 1.34,\n",
              " 2.72,\n",
              " 3.78,\n",
              " 4.41,\n",
              " 3.13,\n",
              " 9.7,\n",
              " 3.08,\n",
              " 4.31,\n",
              " 1.13,\n",
              " nan,\n",
              " nan,\n",
              " 0.5,\n",
              " nan,\n",
              " 0.83,\n",
              " 0.6,\n",
              " 0.77,\n",
              " 0.42,\n",
              " 0.63,\n",
              " nan,\n",
              " nan,\n",
              " 0.19,\n",
              " 0.18,\n",
              " 0.95,\n",
              " 0.35,\n",
              " 0.42,\n",
              " nan,\n",
              " 1.29,\n",
              " 0.74,\n",
              " 0.37,\n",
              " 0.52,\n",
              " nan,\n",
              " 0.48,\n",
              " 0.62,\n",
              " 1.02,\n",
              " 0.39,\n",
              " 0.56,\n",
              " 0.89,\n",
              " nan,\n",
              " nan,\n",
              " 0.65,\n",
              " nan,\n",
              " 1.1,\n",
              " 0.7,\n",
              " nan,\n",
              " nan,\n",
              " 0.45,\n",
              " 0.47,\n",
              " 1.07,\n",
              " 1.1,\n",
              " 0.61,\n",
              " 0.37,\n",
              " nan,\n",
              " 0.31,\n",
              " 0.67,\n",
              " 0.2,\n",
              " 0.51,\n",
              " nan,\n",
              " 0.23,\n",
              " 0.43,\n",
              " nan,\n",
              " nan,\n",
              " nan,\n",
              " 0.55,\n",
              " 0.64,\n",
              " 0.26,\n",
              " 0.7,\n",
              " 0.71,\n",
              " nan,\n",
              " 0.36,\n",
              " 0.14,\n",
              " 0.3,\n",
              " 0.41,\n",
              " 0.39,\n",
              " 0.45,\n",
              " 0.41,\n",
              " 0.56,\n",
              " 0.98,\n",
              " 0.89,\n",
              " 0.37,\n",
              " nan,\n",
              " 0.42,\n",
              " 0.51,\n",
              " 0.55,\n",
              " 0.54,\n",
              " 0.23,\n",
              " 0.56,\n",
              " 0.49,\n",
              " 0.56,\n",
              " 0.61,\n",
              " 0.14,\n",
              " nan,\n",
              " 0.18,\n",
              " 0.46,\n",
              " nan,\n",
              " 0.31,\n",
              " 0.43,\n",
              " nan,\n",
              " 0.53,\n",
              " 0.35,\n",
              " nan,\n",
              " 0.43,\n",
              " 0.23,\n",
              " 0.29,\n",
              " nan,\n",
              " 0.38,\n",
              " nan,\n",
              " 0.34,\n",
              " 0.15,\n",
              " 0.44,\n",
              " 0.71,\n",
              " 0.28,\n",
              " 0.77,\n",
              " nan,\n",
              " 0.46,\n",
              " 0.38,\n",
              " nan,\n",
              " nan,\n",
              " 0.57,\n",
              " nan,\n",
              " nan,\n",
              " 0.8,\n",
              " 0.43,\n",
              " 0.94,\n",
              " 0.41,\n",
              " nan,\n",
              " 0.98,\n",
              " 0.8,\n",
              " 0.9,\n",
              " 1.0,\n",
              " 6.08,\n",
              " 0.89,\n",
              " 0.98,\n",
              " nan,\n",
              " 0.8,\n",
              " 2.74,\n",
              " 2.13,\n",
              " 2.29,\n",
              " 1.76,\n",
              " nan,\n",
              " 1.65,\n",
              " 2.4,\n",
              " 5.5,\n",
              " 0.85,\n",
              " nan,\n",
              " 0.83,\n",
              " 1.34,\n",
              " 1.2,\n",
              " 4.7,\n",
              " nan,\n",
              " 2.06,\n",
              " 7.45,\n",
              " 1.64,\n",
              " 0.69,\n",
              " 7.59,\n",
              " 3.24,\n",
              " 7.59,\n",
              " 0.98,\n",
              " 5.37,\n",
              " 3.66,\n",
              " 0.8,\n",
              " 0.69,\n",
              " 1.47,\n",
              " 0.87,\n",
              " 0.87,\n",
              " nan,\n",
              " 1.77,\n",
              " 0.95,\n",
              " 0.69,\n",
              " nan,\n",
              " 0.68,\n",
              " 1.05,\n",
              " 0.74,\n",
              " 0.78,\n",
              " 1.19,\n",
              " 1.35,\n",
              " 2.14,\n",
              " 8.62,\n",
              " 1.25,\n",
              " 0.92,\n",
              " 0.9,\n",
              " 0.94,\n",
              " 3.1,\n",
              " 0.51,\n",
              " 0.8,\n",
              " nan,\n",
              " 1.04,\n",
              " 0.97,\n",
              " 0.88,\n",
              " 1.1,\n",
              " 0.75,\n",
              " nan,\n",
              " 1.1,\n",
              " 0.7,\n",
              " 4.2,\n",
              " 0.7,\n",
              " 0.77,\n",
              " 0.8,\n",
              " 0.68,\n",
              " 0.9,\n",
              " 0.61,\n",
              " 0.48,\n",
              " 0.67,\n",
              " 0.33,\n",
              " nan,\n",
              " 0.56,\n",
              " 0.42,\n",
              " nan,\n",
              " nan,\n",
              " 0.96,\n",
              " 0.82,\n",
              " nan,\n",
              " nan,\n",
              " 0.88,\n",
              " 38.0,\n",
              " 17.0,\n",
              " 0.55,\n",
              " nan,\n",
              " 0.55,\n",
              " 0.58,\n",
              " 0.7,\n",
              " 0.53,\n",
              " 0.98,\n",
              " 0.81,\n",
              " nan,\n",
              " 0.81,\n",
              " nan,\n",
              " 0.54,\n",
              " 0.3,\n",
              " 0.44,\n",
              " nan,\n",
              " 0.39,\n",
              " 0.44,\n",
              " nan,\n",
              " 0.62,\n",
              " 0.64,\n",
              " 0.56,\n",
              " 0.62]"
            ]
          },
          "metadata": {},
          "execution_count": 261
        }
      ],
      "source": [
        "list(data['S. creatinine (mg%)'])"
      ]
    },
    {
      "cell_type": "code",
      "execution_count": null,
      "id": "47fab624",
      "metadata": {
        "colab": {
          "base_uri": "https://localhost:8080/"
        },
        "id": "47fab624",
        "outputId": "b851eea7-4739-4008-afc3-1136a83e7b81"
      },
      "outputs": [
        {
          "output_type": "execute_result",
          "data": {
            "text/plain": [
              "S. creatinine (mg%)\n",
              "0.55     8\n",
              "0.56     8\n",
              "0.43     7\n",
              "0.80     6\n",
              "0.70     6\n",
              "        ..\n",
              "1.01     1\n",
              "0.66     1\n",
              "0.13     1\n",
              "5.62     1\n",
              "17.00    1\n",
              "Name: count, Length: 149, dtype: int64"
            ]
          },
          "metadata": {},
          "execution_count": 262
        }
      ],
      "source": [
        "data['S. creatinine (mg%)'].value_counts()"
      ]
    },
    {
      "cell_type": "code",
      "execution_count": null,
      "id": "5cabc3dd",
      "metadata": {
        "colab": {
          "base_uri": "https://localhost:8080/"
        },
        "id": "5cabc3dd",
        "outputId": "c209894e-c65d-435f-cea4-5ea967da7bf5"
      },
      "outputs": [
        {
          "output_type": "execute_result",
          "data": {
            "text/plain": [
              "66"
            ]
          },
          "metadata": {},
          "execution_count": 263
        }
      ],
      "source": [
        "data['S. creatinine (mg%)'].isna().sum()"
      ]
    },
    {
      "cell_type": "code",
      "execution_count": null,
      "id": "bdbcb90f",
      "metadata": {
        "id": "bdbcb90f"
      },
      "outputs": [],
      "source": [
        "def floathandle(column):\n",
        "    fh=column\n",
        "    if fh!=float:\n",
        "        return float(fh)"
      ]
    },
    {
      "cell_type": "code",
      "execution_count": null,
      "id": "3c2b2848",
      "metadata": {
        "id": "3c2b2848"
      },
      "outputs": [],
      "source": [
        "data['S. creatinine (mg%)']=data['S. creatinine (mg%)'].apply(floathandle)"
      ]
    },
    {
      "cell_type": "code",
      "execution_count": null,
      "id": "2dc9cf89",
      "metadata": {
        "id": "2dc9cf89"
      },
      "outputs": [],
      "source": [
        "data['S. creatinine (mg%)'].fillna(data['S. creatinine (mg%)'].median(),inplace=True)"
      ]
    },
    {
      "cell_type": "code",
      "execution_count": null,
      "id": "3e2a8a2f",
      "metadata": {
        "colab": {
          "base_uri": "https://localhost:8080/"
        },
        "id": "3e2a8a2f",
        "outputId": "6b807be3-9605-43eb-b5f0-81edc7a2a046"
      },
      "outputs": [
        {
          "output_type": "execute_result",
          "data": {
            "text/plain": [
              "0"
            ]
          },
          "metadata": {},
          "execution_count": 267
        }
      ],
      "source": [
        "data['S. creatinine (mg%)'].isna().sum()"
      ]
    },
    {
      "cell_type": "code",
      "execution_count": null,
      "id": "8169ccb8",
      "metadata": {
        "colab": {
          "base_uri": "https://localhost:8080/"
        },
        "id": "8169ccb8",
        "outputId": "f87e42b6-9a8b-4c23-8361-722b157bcc91"
      },
      "outputs": [
        {
          "output_type": "execute_result",
          "data": {
            "text/plain": [
              "0      11.6/36.2\n",
              "1      11.2/35.4\n",
              "2           5.46\n",
              "3           5.47\n",
              "4           5.56\n",
              "         ...    \n",
              "356    13.4/40.6\n",
              "357    11.6/35.6\n",
              "358    12.7/39.4\n",
              "359    11.0/34.2\n",
              "360    15.6/46.1\n",
              "Name: Hb/PCV, Length: 361, dtype: object"
            ]
          },
          "metadata": {},
          "execution_count": 268
        }
      ],
      "source": [
        "data['Hb/PCV']"
      ]
    },
    {
      "cell_type": "markdown",
      "id": "8a7950f2",
      "metadata": {
        "id": "8a7950f2"
      },
      "source": [
        "### Making separate PCV column"
      ]
    },
    {
      "cell_type": "code",
      "execution_count": null,
      "id": "d8ffc6ea",
      "metadata": {
        "id": "d8ffc6ea"
      },
      "outputs": [],
      "source": [
        "l=list(data['Hb/PCV'])"
      ]
    },
    {
      "cell_type": "code",
      "execution_count": null,
      "id": "3f99ab54",
      "metadata": {
        "colab": {
          "base_uri": "https://localhost:8080/"
        },
        "id": "3f99ab54",
        "outputId": "bed6a1c7-bc20-48b2-ef5c-a5fd4ba7606d"
      },
      "outputs": [
        {
          "output_type": "execute_result",
          "data": {
            "text/plain": [
              "['11.6/36.2',\n",
              " '11.2/35.4',\n",
              " '5.46',\n",
              " '5.47',\n",
              " '5.56',\n",
              " '4.89',\n",
              " '5.79',\n",
              " '7.11',\n",
              " '7.72',\n",
              " '5.61',\n",
              " '6.11',\n",
              " '6.27',\n",
              " '12.6/39.3',\n",
              " '12.4/38.9',\n",
              " '9.8/30.9',\n",
              " '9.2/30.7',\n",
              " '10.7/33.8',\n",
              " '9.9/31.8',\n",
              " '12.6/38.8',\n",
              " '11/35.1',\n",
              " '11/34.3',\n",
              " '8.9/27.8',\n",
              " '9.8/30.5',\n",
              " '12.9/39.5',\n",
              " '10.8/36.1',\n",
              " '11.9/36.9',\n",
              " '9.4/28.9',\n",
              " '11.5/35.6',\n",
              " '11.7/36.4',\n",
              " '11.2/34.1',\n",
              " '13.1/40.9',\n",
              " '10.7/33.8',\n",
              " '11.8/36.7',\n",
              " '12.5/38.4',\n",
              " '12.2/37.9',\n",
              " '11/34.4',\n",
              " '10/31.6',\n",
              " '11.9/37',\n",
              " '11.9/36.9',\n",
              " '13.1/40.7',\n",
              " '12.8/39.3',\n",
              " '7.6/24.8',\n",
              " '10.3/32.3',\n",
              " '12.5/38.5',\n",
              " '10.2/31.8',\n",
              " '10.9/35',\n",
              " '7.4/25.1',\n",
              " '11.1/34.5',\n",
              " '12.2/38.4',\n",
              " '5.83',\n",
              " '6.2',\n",
              " '5.56',\n",
              " nan,\n",
              " '4.45',\n",
              " '6.67',\n",
              " '6.68',\n",
              " '7.6',\n",
              " nan,\n",
              " '5.46',\n",
              " '5.75',\n",
              " '5.75',\n",
              " '4.54',\n",
              " '5.79',\n",
              " '5.54',\n",
              " '6.5/20.2',\n",
              " '6.5/20.2',\n",
              " '5.9/20.2',\n",
              " '6.3/20.2',\n",
              " '11.8/35.6',\n",
              " '13.5/41',\n",
              " '9.8/30.5',\n",
              " '11.1/34',\n",
              " '9.5/ 29.8',\n",
              " '12.6/37.5',\n",
              " '15.1/51',\n",
              " '12.9/37.3',\n",
              " '10.7/32.2',\n",
              " '11.7/33.5',\n",
              " '16.6/46.4',\n",
              " '15.4/43.9',\n",
              " '12.3/37.1',\n",
              " '10.4/32.3',\n",
              " '13.7/41',\n",
              " '13.8/40',\n",
              " '12.1/36.4',\n",
              " '16.6/47.3',\n",
              " '12.2/35.9',\n",
              " '9.5/29.9',\n",
              " '12.2/36.9',\n",
              " '10.6/32.3',\n",
              " '13.3/40.2',\n",
              " '10.7/33.2',\n",
              " '8.1/24.5',\n",
              " '14.0/39.8',\n",
              " '11.7/34.1',\n",
              " '16.5/48.3',\n",
              " '15.1/43.6',\n",
              " '13.5/38.7',\n",
              " '13.2/38.2',\n",
              " '11.6/34.8',\n",
              " '6.4/20.6',\n",
              " '11.3/34.2',\n",
              " '13.6/40.5',\n",
              " '11.9/36.3',\n",
              " '11.7/34.2',\n",
              " '9.4/28.4',\n",
              " '8/22.7',\n",
              " '12.7/38',\n",
              " '13.2/39.2',\n",
              " '10.6/32.6',\n",
              " '13.3/38.9',\n",
              " '10.6/31.1',\n",
              " '8.4/26.5',\n",
              " '12.3/36.7',\n",
              " '7.35',\n",
              " '6.2',\n",
              " '5.97',\n",
              " '6.83',\n",
              " '6.99',\n",
              " '6.1',\n",
              " '6.47',\n",
              " '5.78',\n",
              " '6.49',\n",
              " '6.82',\n",
              " '6.03',\n",
              " '5.82',\n",
              " '5.03',\n",
              " '6.93',\n",
              " '5.34',\n",
              " '5.81',\n",
              " '6.7',\n",
              " '7.97',\n",
              " nan,\n",
              " nan,\n",
              " '11.8/35.9',\n",
              " '11/32.9',\n",
              " '10.8/32.8',\n",
              " '12.7/38.1',\n",
              " '13.7/40.8',\n",
              " '15.4/46.8',\n",
              " '10/30.3',\n",
              " '15.2/45.1',\n",
              " '11.4/33.4',\n",
              " '12.9/38.9',\n",
              " '10.3/30.9',\n",
              " '11.8/33.3',\n",
              " '13/38.9',\n",
              " '10.9/33.8',\n",
              " '12.7/38.4',\n",
              " '12/36.3',\n",
              " '13.5/39.5',\n",
              " '12.3/36.7',\n",
              " '10.2/30.6',\n",
              " '13.7/41.7',\n",
              " '10.6/32.1',\n",
              " '10.2/31.4',\n",
              " '13.5/39.3',\n",
              " '16.7/51',\n",
              " '11.4/36.1',\n",
              " '11/33.5',\n",
              " '13.2/39.6',\n",
              " '14/42.3',\n",
              " '13/39',\n",
              " '10.8/32',\n",
              " '12.4/37.1',\n",
              " '16.4/48.6',\n",
              " '9.3/28.1',\n",
              " '39.9',\n",
              " '11.6/34.5',\n",
              " '11.1/33.3',\n",
              " '11.2/33.5',\n",
              " '14.2/42.2',\n",
              " '16.3/49.1',\n",
              " '12.1/36.6',\n",
              " '16.3/45.6',\n",
              " '11/34.0',\n",
              " '11.9/36.5',\n",
              " '12.3/36.6',\n",
              " '9.7/30.8',\n",
              " '12.1/36.2',\n",
              " '7.1/23',\n",
              " '11.4/33.7',\n",
              " '18.2/52.6',\n",
              " nan,\n",
              " '10.1/29.8',\n",
              " '8.6/26.2',\n",
              " '12.6/38',\n",
              " '14.8/44.2',\n",
              " '10.7/33.1',\n",
              " '16.5/48.5',\n",
              " '15/45.5',\n",
              " '11.4/33.6',\n",
              " '12.5/37.4',\n",
              " '10.4/29.7',\n",
              " '10.4/31.8',\n",
              " '11.7/35',\n",
              " '10.8/32.4',\n",
              " '14.1/42.4',\n",
              " '17.2/50.1',\n",
              " '8.5/28.6',\n",
              " '13.2/41.5',\n",
              " '15.5/45.1',\n",
              " '9.1/28.6',\n",
              " '8.7/28.6',\n",
              " '10.6/31.8',\n",
              " '11.3/33',\n",
              " '15.3/44.9',\n",
              " '12.8/39.6',\n",
              " '11.1/32.7',\n",
              " '12.3/38.2',\n",
              " '8.5/25.6',\n",
              " '13.5/41.1',\n",
              " '13.3/38.6',\n",
              " '10/30.5',\n",
              " '10.6/31.5',\n",
              " '8.2/27.2',\n",
              " '10.6/32',\n",
              " '13.1/40.1',\n",
              " '10.7/34.1',\n",
              " '14.3/42.6',\n",
              " '40.4',\n",
              " '9.4/29.4',\n",
              " '9.4/29.2',\n",
              " '11.2/33.5',\n",
              " '11.1/34.9',\n",
              " '5.4/17.7',\n",
              " '11.9/37',\n",
              " '10.5/32.2',\n",
              " '13.9/41.8',\n",
              " '10.9/33.5',\n",
              " '36.5',\n",
              " '8.6/26.1',\n",
              " '10/30.9',\n",
              " '14.3/41.9',\n",
              " '9.1/26.4',\n",
              " '13.4/39.8',\n",
              " '11.3/34.7',\n",
              " '13.4/40.6',\n",
              " '10.7/32.9',\n",
              " '12.7/38.3',\n",
              " '11.9/36.2',\n",
              " '11.2/33.5',\n",
              " '11.6/34.5',\n",
              " '10.2/31.6',\n",
              " '12.3/37.1',\n",
              " '11.2/34.9',\n",
              " '17.2/50.8',\n",
              " '8.7/26.8',\n",
              " nan,\n",
              " '6.52',\n",
              " '6.7',\n",
              " nan,\n",
              " '6.68',\n",
              " '5.66',\n",
              " '6.19',\n",
              " '6.04',\n",
              " nan,\n",
              " nan,\n",
              " '5.1',\n",
              " nan,\n",
              " '6.32',\n",
              " '7.9',\n",
              " '6.7',\n",
              " '7.16',\n",
              " '7.9',\n",
              " nan,\n",
              " nan,\n",
              " nan,\n",
              " '7.55',\n",
              " '6.5',\n",
              " '7.4',\n",
              " '6.7',\n",
              " nan,\n",
              " '6.06',\n",
              " '6.32',\n",
              " '7.28',\n",
              " nan,\n",
              " '5.47',\n",
              " '5.94',\n",
              " '5.47',\n",
              " '6.8',\n",
              " '5.56',\n",
              " nan,\n",
              " '6.73',\n",
              " nan,\n",
              " '5.5',\n",
              " nan,\n",
              " nan,\n",
              " nan,\n",
              " '5.77',\n",
              " '7.47',\n",
              " '6.5',\n",
              " nan,\n",
              " '7.1',\n",
              " '6.82',\n",
              " '6.17',\n",
              " '6.65',\n",
              " '6.74',\n",
              " '6.22',\n",
              " '7.8',\n",
              " '8.27',\n",
              " '6.77',\n",
              " '7.66',\n",
              " '6.6',\n",
              " '6.73',\n",
              " '7.38',\n",
              " nan,\n",
              " '7.17',\n",
              " '5.39',\n",
              " '8.22',\n",
              " '7.23',\n",
              " '7.13',\n",
              " '6.9',\n",
              " '6.69',\n",
              " '6.67',\n",
              " '5.9',\n",
              " '6.87',\n",
              " nan,\n",
              " '6.87',\n",
              " '5.49',\n",
              " '7.36',\n",
              " nan,\n",
              " '6.6',\n",
              " '11.1/32.7',\n",
              " '10.5/33.4',\n",
              " '14.3/43.5',\n",
              " '13.9/40.2',\n",
              " '12.1/35.7',\n",
              " '12.6/37.3',\n",
              " '14.6/44.0',\n",
              " '12.8/36.3',\n",
              " '14.2/40.8',\n",
              " '16.6/48.6',\n",
              " '16.4/48.6',\n",
              " nan,\n",
              " nan,\n",
              " nan,\n",
              " '10.2/32',\n",
              " '11.8/35.3',\n",
              " '12.8/37.7',\n",
              " '12.2/36.5',\n",
              " '10.4/31.8',\n",
              " '13.2/39.9',\n",
              " '12.9/39.5',\n",
              " '11.9/35.2',\n",
              " '14.6/44.6',\n",
              " '10.8/33.3',\n",
              " '12.4/37.4',\n",
              " '13.5/40.9',\n",
              " '13.1/39.4',\n",
              " '12.2/37.5',\n",
              " '14.6/42.6',\n",
              " '11.6/34.7',\n",
              " '00/38.7',\n",
              " '10.8/32.8',\n",
              " '13.4/40.6',\n",
              " '13.4/40.6',\n",
              " '11.6/35.6',\n",
              " '12.7/39.4',\n",
              " '11.0/34.2',\n",
              " '15.6/46.1']"
            ]
          },
          "metadata": {},
          "execution_count": 270
        }
      ],
      "source": [
        "l"
      ]
    },
    {
      "cell_type": "code",
      "execution_count": null,
      "id": "fc162d98",
      "metadata": {
        "colab": {
          "base_uri": "https://localhost:8080/"
        },
        "id": "fc162d98",
        "outputId": "26e8da75-2a2f-4997-e0c0-012c3b2e9078"
      },
      "outputs": [
        {
          "output_type": "execute_result",
          "data": {
            "text/plain": [
              "[36.2,\n",
              " 35.4,\n",
              " None,\n",
              " None,\n",
              " None,\n",
              " None,\n",
              " None,\n",
              " None,\n",
              " None,\n",
              " None,\n",
              " None,\n",
              " None,\n",
              " 39.3,\n",
              " 38.9,\n",
              " 30.9,\n",
              " 30.7,\n",
              " 33.8,\n",
              " 31.8,\n",
              " 38.8,\n",
              " 35.1,\n",
              " 34.3,\n",
              " 27.8,\n",
              " 30.5,\n",
              " 39.5,\n",
              " 36.1,\n",
              " 36.9,\n",
              " 28.9,\n",
              " 35.6,\n",
              " 36.4,\n",
              " 34.1,\n",
              " 40.9,\n",
              " 33.8,\n",
              " 36.7,\n",
              " 38.4,\n",
              " 37.9,\n",
              " 34.4,\n",
              " 31.6,\n",
              " 37.0,\n",
              " 36.9,\n",
              " 40.7,\n",
              " 39.3,\n",
              " 24.8,\n",
              " 32.3,\n",
              " 38.5,\n",
              " 31.8,\n",
              " 35.0,\n",
              " 25.1,\n",
              " 34.5,\n",
              " 38.4,\n",
              " None,\n",
              " None,\n",
              " None,\n",
              " None,\n",
              " None,\n",
              " None,\n",
              " None,\n",
              " None,\n",
              " None,\n",
              " None,\n",
              " None,\n",
              " None,\n",
              " None,\n",
              " None,\n",
              " None,\n",
              " 20.2,\n",
              " 20.2,\n",
              " 20.2,\n",
              " 20.2,\n",
              " 35.6,\n",
              " 41.0,\n",
              " 30.5,\n",
              " 34.0,\n",
              " 29.8,\n",
              " 37.5,\n",
              " 51.0,\n",
              " 37.3,\n",
              " 32.2,\n",
              " 33.5,\n",
              " 46.4,\n",
              " 43.9,\n",
              " 37.1,\n",
              " 32.3,\n",
              " 41.0,\n",
              " 40.0,\n",
              " 36.4,\n",
              " 47.3,\n",
              " 35.9,\n",
              " 29.9,\n",
              " 36.9,\n",
              " 32.3,\n",
              " 40.2,\n",
              " 33.2,\n",
              " 24.5,\n",
              " 39.8,\n",
              " 34.1,\n",
              " 48.3,\n",
              " 43.6,\n",
              " 38.7,\n",
              " 38.2,\n",
              " 34.8,\n",
              " 20.6,\n",
              " 34.2,\n",
              " 40.5,\n",
              " 36.3,\n",
              " 34.2,\n",
              " 28.4,\n",
              " 22.7,\n",
              " 38.0,\n",
              " 39.2,\n",
              " 32.6,\n",
              " 38.9,\n",
              " 31.1,\n",
              " 26.5,\n",
              " 36.7,\n",
              " None,\n",
              " None,\n",
              " None,\n",
              " None,\n",
              " None,\n",
              " None,\n",
              " None,\n",
              " None,\n",
              " None,\n",
              " None,\n",
              " None,\n",
              " None,\n",
              " None,\n",
              " None,\n",
              " None,\n",
              " None,\n",
              " None,\n",
              " None,\n",
              " None,\n",
              " None,\n",
              " 35.9,\n",
              " 32.9,\n",
              " 32.8,\n",
              " 38.1,\n",
              " 40.8,\n",
              " 46.8,\n",
              " 30.3,\n",
              " 45.1,\n",
              " 33.4,\n",
              " 38.9,\n",
              " 30.9,\n",
              " 33.3,\n",
              " 38.9,\n",
              " 33.8,\n",
              " 38.4,\n",
              " 36.3,\n",
              " 39.5,\n",
              " 36.7,\n",
              " 30.6,\n",
              " 41.7,\n",
              " 32.1,\n",
              " 31.4,\n",
              " 39.3,\n",
              " 51.0,\n",
              " 36.1,\n",
              " 33.5,\n",
              " 39.6,\n",
              " 42.3,\n",
              " 39.0,\n",
              " 32.0,\n",
              " 37.1,\n",
              " 48.6,\n",
              " 28.1,\n",
              " None,\n",
              " 34.5,\n",
              " 33.3,\n",
              " 33.5,\n",
              " 42.2,\n",
              " 49.1,\n",
              " 36.6,\n",
              " 45.6,\n",
              " 34.0,\n",
              " 36.5,\n",
              " 36.6,\n",
              " 30.8,\n",
              " 36.2,\n",
              " 23.0,\n",
              " 33.7,\n",
              " 52.6,\n",
              " None,\n",
              " 29.8,\n",
              " 26.2,\n",
              " 38.0,\n",
              " 44.2,\n",
              " 33.1,\n",
              " 48.5,\n",
              " 45.5,\n",
              " 33.6,\n",
              " 37.4,\n",
              " 29.7,\n",
              " 31.8,\n",
              " 35.0,\n",
              " 32.4,\n",
              " 42.4,\n",
              " 50.1,\n",
              " 28.6,\n",
              " 41.5,\n",
              " 45.1,\n",
              " 28.6,\n",
              " 28.6,\n",
              " 31.8,\n",
              " 33.0,\n",
              " 44.9,\n",
              " 39.6,\n",
              " 32.7,\n",
              " 38.2,\n",
              " 25.6,\n",
              " 41.1,\n",
              " 38.6,\n",
              " 30.5,\n",
              " 31.5,\n",
              " 27.2,\n",
              " 32.0,\n",
              " 40.1,\n",
              " 34.1,\n",
              " 42.6,\n",
              " None,\n",
              " 29.4,\n",
              " 29.2,\n",
              " 33.5,\n",
              " 34.9,\n",
              " 17.7,\n",
              " 37.0,\n",
              " 32.2,\n",
              " 41.8,\n",
              " 33.5,\n",
              " None,\n",
              " 26.1,\n",
              " 30.9,\n",
              " 41.9,\n",
              " 26.4,\n",
              " 39.8,\n",
              " 34.7,\n",
              " 40.6,\n",
              " 32.9,\n",
              " 38.3,\n",
              " 36.2,\n",
              " 33.5,\n",
              " 34.5,\n",
              " 31.6,\n",
              " 37.1,\n",
              " 34.9,\n",
              " 50.8,\n",
              " 26.8,\n",
              " None,\n",
              " None,\n",
              " None,\n",
              " None,\n",
              " None,\n",
              " None,\n",
              " None,\n",
              " None,\n",
              " None,\n",
              " None,\n",
              " None,\n",
              " None,\n",
              " None,\n",
              " None,\n",
              " None,\n",
              " None,\n",
              " None,\n",
              " None,\n",
              " None,\n",
              " None,\n",
              " None,\n",
              " None,\n",
              " None,\n",
              " None,\n",
              " None,\n",
              " None,\n",
              " None,\n",
              " None,\n",
              " None,\n",
              " None,\n",
              " None,\n",
              " None,\n",
              " None,\n",
              " None,\n",
              " None,\n",
              " None,\n",
              " None,\n",
              " None,\n",
              " None,\n",
              " None,\n",
              " None,\n",
              " None,\n",
              " None,\n",
              " None,\n",
              " None,\n",
              " None,\n",
              " None,\n",
              " None,\n",
              " None,\n",
              " None,\n",
              " None,\n",
              " None,\n",
              " None,\n",
              " None,\n",
              " None,\n",
              " None,\n",
              " None,\n",
              " None,\n",
              " None,\n",
              " None,\n",
              " None,\n",
              " None,\n",
              " None,\n",
              " None,\n",
              " None,\n",
              " None,\n",
              " None,\n",
              " None,\n",
              " None,\n",
              " None,\n",
              " None,\n",
              " None,\n",
              " None,\n",
              " None,\n",
              " None,\n",
              " 32.7,\n",
              " 33.4,\n",
              " 43.5,\n",
              " 40.2,\n",
              " 35.7,\n",
              " 37.3,\n",
              " 44.0,\n",
              " 36.3,\n",
              " 40.8,\n",
              " 48.6,\n",
              " 48.6,\n",
              " None,\n",
              " None,\n",
              " None,\n",
              " 32.0,\n",
              " 35.3,\n",
              " 37.7,\n",
              " 36.5,\n",
              " 31.8,\n",
              " 39.9,\n",
              " 39.5,\n",
              " 35.2,\n",
              " 44.6,\n",
              " 33.3,\n",
              " 37.4,\n",
              " 40.9,\n",
              " 39.4,\n",
              " 37.5,\n",
              " 42.6,\n",
              " 34.7,\n",
              " 38.7,\n",
              " 32.8,\n",
              " 40.6,\n",
              " 40.6,\n",
              " 35.6,\n",
              " 39.4,\n",
              " 34.2,\n",
              " 46.1]"
            ]
          },
          "metadata": {},
          "execution_count": 271
        }
      ],
      "source": [
        "pcv=[]\n",
        "for i in l:\n",
        "    if type(i)!=float and '/' in i:\n",
        "\n",
        "        pcv.append(float(i.split('/')[1]))\n",
        "    else:\n",
        "        pcv.append(None)\n",
        "pcv"
      ]
    },
    {
      "cell_type": "code",
      "execution_count": null,
      "id": "3d0a6f50",
      "metadata": {
        "id": "3d0a6f50"
      },
      "outputs": [],
      "source": [
        "def hbpcv(column):\n",
        "    hp=column\n",
        "    if type(hp)!=float and '/' in hp:\n",
        "        return hp.split('/')[0]\n",
        "    elif type(hp)!=float and '/' not in hp:\n",
        "        return hp\n",
        "    else:\n",
        "        return None"
      ]
    },
    {
      "cell_type": "code",
      "execution_count": null,
      "id": "4c26fbac",
      "metadata": {
        "id": "4c26fbac"
      },
      "outputs": [],
      "source": [
        "data['Hb/PCV']=data['Hb/PCV'].apply(hbpcv)"
      ]
    },
    {
      "cell_type": "code",
      "execution_count": null,
      "id": "65da6374",
      "metadata": {
        "id": "65da6374"
      },
      "outputs": [],
      "source": [
        "data.rename(columns={\"Hb/PCV\": \"Hb\"},inplace=True)"
      ]
    },
    {
      "cell_type": "code",
      "execution_count": null,
      "id": "26a33dff",
      "metadata": {
        "colab": {
          "base_uri": "https://localhost:8080/"
        },
        "id": "26a33dff",
        "outputId": "83fd7eb6-8050-4c79-ec1c-caea2eb2988d"
      },
      "outputs": [
        {
          "output_type": "execute_result",
          "data": {
            "text/plain": [
              "0      11.6\n",
              "1      11.2\n",
              "2      5.46\n",
              "3      5.47\n",
              "4      5.56\n",
              "       ... \n",
              "356    13.4\n",
              "357    11.6\n",
              "358    12.7\n",
              "359    11.0\n",
              "360    15.6\n",
              "Name: Hb, Length: 361, dtype: object"
            ]
          },
          "metadata": {},
          "execution_count": 275
        }
      ],
      "source": [
        "data['Hb']"
      ]
    },
    {
      "cell_type": "code",
      "execution_count": null,
      "id": "6b7a2a1f",
      "metadata": {
        "colab": {
          "base_uri": "https://localhost:8080/"
        },
        "id": "6b7a2a1f",
        "outputId": "a1da379b-0461-4db8-895e-f50879a65a71"
      },
      "outputs": [
        {
          "output_type": "execute_result",
          "data": {
            "text/plain": [
              "27"
            ]
          },
          "metadata": {},
          "execution_count": 276
        }
      ],
      "source": [
        "data['Hb'].isna().sum()"
      ]
    },
    {
      "cell_type": "markdown",
      "id": "bb93be76",
      "metadata": {
        "id": "bb93be76"
      },
      "source": [
        "### String to Float"
      ]
    },
    {
      "cell_type": "code",
      "execution_count": null,
      "id": "979ccc06",
      "metadata": {
        "id": "979ccc06"
      },
      "outputs": [],
      "source": [
        "def hb(column):\n",
        "    t=column\n",
        "    try:\n",
        "        float(t)\n",
        "        return float(t)\n",
        "    except TypeError:\n",
        "        return None\n",
        "    return None"
      ]
    },
    {
      "cell_type": "code",
      "execution_count": null,
      "id": "55362150",
      "metadata": {
        "id": "55362150"
      },
      "outputs": [],
      "source": [
        "data['Hb']=data['Hb'].apply(hb)"
      ]
    },
    {
      "cell_type": "code",
      "execution_count": null,
      "id": "b17fcbd3",
      "metadata": {
        "colab": {
          "base_uri": "https://localhost:8080/"
        },
        "id": "b17fcbd3",
        "outputId": "346f5e58-a687-4414-c504-dba5ed882ce3"
      },
      "outputs": [
        {
          "output_type": "execute_result",
          "data": {
            "text/plain": [
              "27"
            ]
          },
          "metadata": {},
          "execution_count": 279
        }
      ],
      "source": [
        "data['Hb'].isna().sum()"
      ]
    },
    {
      "cell_type": "code",
      "execution_count": null,
      "id": "8c2b4598",
      "metadata": {
        "id": "8c2b4598"
      },
      "outputs": [],
      "source": [
        "data['Hb'].fillna(data['Hb'].median(),inplace=True)"
      ]
    },
    {
      "cell_type": "code",
      "execution_count": null,
      "id": "482591a3",
      "metadata": {
        "colab": {
          "base_uri": "https://localhost:8080/"
        },
        "id": "482591a3",
        "outputId": "dd947321-5cd7-460e-bf8e-bccd73686f4d"
      },
      "outputs": [
        {
          "output_type": "execute_result",
          "data": {
            "text/plain": [
              "0"
            ]
          },
          "metadata": {},
          "execution_count": 281
        }
      ],
      "source": [
        "data['Hb'].isna().sum()"
      ]
    },
    {
      "cell_type": "code",
      "execution_count": null,
      "id": "97d7e607",
      "metadata": {
        "colab": {
          "base_uri": "https://localhost:8080/"
        },
        "id": "97d7e607",
        "outputId": "7748b74d-21b5-40a8-d1e2-acf868fb5244"
      },
      "outputs": [
        {
          "output_type": "execute_result",
          "data": {
            "text/plain": [
              "36"
            ]
          },
          "metadata": {},
          "execution_count": 282
        }
      ],
      "source": [
        "list(data.columns).index('Hb')"
      ]
    },
    {
      "cell_type": "code",
      "execution_count": null,
      "id": "079ef7ab",
      "metadata": {
        "id": "079ef7ab"
      },
      "outputs": [],
      "source": [
        "data.insert(37, \"PCV\", pcv)"
      ]
    },
    {
      "cell_type": "code",
      "execution_count": null,
      "id": "76e2dcc4",
      "metadata": {
        "colab": {
          "base_uri": "https://localhost:8080/"
        },
        "id": "76e2dcc4",
        "outputId": "b7573108-f1b4-4067-9b1c-18bc076f33d0"
      },
      "outputs": [
        {
          "output_type": "execute_result",
          "data": {
            "text/plain": [
              "127"
            ]
          },
          "metadata": {},
          "execution_count": 284
        }
      ],
      "source": [
        "data['PCV'].isna().sum()"
      ]
    },
    {
      "cell_type": "code",
      "execution_count": null,
      "id": "32c48dd8",
      "metadata": {
        "id": "32c48dd8"
      },
      "outputs": [],
      "source": [
        "data['PCV'].fillna(data['PCV'].median(),inplace=True)"
      ]
    },
    {
      "cell_type": "code",
      "execution_count": null,
      "id": "10451ad6",
      "metadata": {
        "colab": {
          "base_uri": "https://localhost:8080/"
        },
        "id": "10451ad6",
        "outputId": "73dc5f3a-bc9e-4d48-baa8-1e4b808432dc"
      },
      "outputs": [
        {
          "output_type": "execute_result",
          "data": {
            "text/plain": [
              "0"
            ]
          },
          "metadata": {},
          "execution_count": 286
        }
      ],
      "source": [
        "data['PCV'].isna().sum()"
      ]
    },
    {
      "cell_type": "code",
      "execution_count": null,
      "id": "720a4c10",
      "metadata": {
        "id": "720a4c10"
      },
      "outputs": [],
      "source": [
        "def yt(column):\n",
        "    i = column\n",
        "    if i==2:\n",
        "        return int(i-1)\n",
        "    elif i in [4,5,6]:\n",
        "        return int(i-2)\n",
        "    elif i in [8,9,10,11,12,13,14,15,16]:\n",
        "        return int(i-3)\n",
        "    elif i in [18,19,20]:\n",
        "        return int(i-4)\n",
        "    else:\n",
        "        return i"
      ]
    },
    {
      "cell_type": "code",
      "source": [
        "df = data[data['Months'] <= 216]\n"
      ],
      "metadata": {
        "id": "Y6CqaPx751py"
      },
      "id": "Y6CqaPx751py",
      "execution_count": null,
      "outputs": []
    },
    {
      "cell_type": "code",
      "source": [
        "df['Months'].value_counts()"
      ],
      "metadata": {
        "colab": {
          "base_uri": "https://localhost:8080/"
        },
        "id": "whsntogn6AhW",
        "outputId": "8e1f1beb-e210-47f6-eee0-cca1f528e086"
      },
      "id": "whsntogn6AhW",
      "execution_count": null,
      "outputs": [
        {
          "output_type": "execute_result",
          "data": {
            "text/plain": [
              "Months\n",
              "60     8\n",
              "59     5\n",
              "120    5\n",
              "24     4\n",
              "40     4\n",
              "      ..\n",
              "97     1\n",
              "190    1\n",
              "171    1\n",
              "35     1\n",
              "87     1\n",
              "Name: count, Length: 126, dtype: int64"
            ]
          },
          "metadata": {},
          "execution_count": 289
        }
      ]
    },
    {
      "cell_type": "code",
      "source": [
        "import pandas as pd\n",
        "import numpy as np\n",
        "import seaborn as sns\n",
        "import matplotlib.pyplot as plt\n",
        "\n",
        "# Assuming 'df' is your DataFrame\n",
        "# 1. Fill NA values with column means (optional)\n",
        "#df_filled = df.fillna(df.mean())\n",
        "\n",
        "# 2. Calculate the correlation matrix\n",
        "corr_matrix = data.corr()\n",
        "\n",
        "# 3. Create a heatmap of the correlation matrix\n",
        "plt.figure(figsize=(16, 12))\n",
        "sns.heatmap(corr_matrix)#, annot=True, fmt=\".2f\", cmap='coolwarm', vmin=-1, vmax=1, linewidths=0.5)\n",
        "plt.title('Correlation Matrix Heatmap')\n",
        "plt.show()\n",
        "\n",
        "# Additional steps to drop highly correlated features\n",
        "\n",
        "# Create a mask to identify highly correlated features\n",
        "upper = corr_matrix.where(np.triu(np.ones(corr_matrix.shape), k=1).astype(bool))\n",
        "\n",
        "# Find features with correlation greater than the threshold (e.g., 0.9)\n",
        "threshold = 0.7\n",
        "to_drop = [column for column in upper.columns if any(upper[column].abs() > threshold)]\n",
        "\n",
        "# Drop the features\n",
        "df_reduced = data.drop(columns=to_drop)\n",
        "\n",
        "print(f\"Features to drop: {to_drop}\")\n",
        "print(f\"Remaining features: {df_reduced.columns}\")\n"
      ],
      "metadata": {
        "colab": {
          "base_uri": "https://localhost:8080/",
          "height": 1000
        },
        "id": "UoBEz221LJ2j",
        "outputId": "647c7e84-2d26-4433-ea89-292cfce4a59e"
      },
      "id": "UoBEz221LJ2j",
      "execution_count": null,
      "outputs": [
        {
          "output_type": "display_data",
          "data": {
            "text/plain": [
              "<Figure size 1600x1200 with 2 Axes>"
            ],
            "image/png": "[encoded data removed]"
          },
          "metadata": {}
        },
        {
          "output_type": "stream",
          "name": "stdout",
          "text": [
            "Features to drop: ['Productive/Non productive (P/NP)', 'Comorbidities', 'Differential count', 'SGPT', 'Dengue Viral Immunoassay (IgM) (Positive/Negative)', 'Typhi dot/ WIDAL Report', 'Scrub typhus Report', 'Malaria report']\n",
            "Remaining features: Index(['Months', 'Sex', 'DOA', 'Fever (P/A)', 'Duration of fever (days)',\n",
            "       'Headache (P/A)', 'Duration of headache', 'Myalgia (P/A)',\n",
            "       'Duration of myalgia', 'Cough (P/A)', 'Duration of cough',\n",
            "       'Dyspnea (P/A)', 'Duration of dyspnea', 'Vomiting (P/A)',\n",
            "       'Duration of vomiting', 'Hematuria (P/A)', 'Duration of hematuria',\n",
            "       'Edema (P/A)', 'Duration of edema', 'Anorexia (P/A)', 'Nausea (P/A)',\n",
            "       'Diarrhoea (P/A)', 'Past illness (P/A)',\n",
            "       'Similar illness in family (P/A)',\n",
            "       'Any rodent bite/scratch/contact with rodent droppings (Y/N)', 'BP',\n",
            "       'RR', 'PR', 'Temperature', 'Crepitus/Rhonchi (P/A)', 'Petechiae (P/A)',\n",
            "       'Additional physical finding', 'Any specific renal sign', 'Total count',\n",
            "       'Hb', 'PCV', 'Platelet count', 'Prothrombin time', 'SGOT', 'Bilirubin',\n",
            "       'S. protein (g%)', 'S. albumin (g%)', 'A/G ratio',\n",
            "       'S. creatinine (mg%)', 'Urine protein (mg)',\n",
            "       'Urine output (24 hr) (ml/Kg/Hr)', 'Other Investigations if any',\n",
            "       'Bacterial culture & sensitivity (Positive / Negative / not done )',\n",
            "       'If positive, Organism', 'Dengue Viral Immunoassay (IgM) (Done/NA )',\n",
            "       'Typhidot / Widal (Done/Not done)',\n",
            "       'Weil Felix/Scrub typhus IgM (Done/Not done)',\n",
            "       'Malarial parasites (Done/Not done)',\n",
            "       'ELISA for leptospirosis (Done/Not done)', 'Lepto report',\n",
            "       'CXR (Done/Not done)', 'Xray report', 'USG Abdomen (Done/Not done)',\n",
            "       'USG Abd report', 'Final Diagnosis', 'AUF Result'],\n",
            "      dtype='object')\n"
          ]
        }
      ]
    },
    {
      "cell_type": "markdown",
      "id": "0ea003b5",
      "metadata": {
        "id": "0ea003b5"
      },
      "source": [
        "# Final Data"
      ]
    },
    {
      "cell_type": "code",
      "source": [
        "len(['Productive/Non productive (P/NP)', 'Typhi dot/ WIDAL Report',\n",
        "           'Scrub typhus Report', 'Malaria report',\n",
        "           'Lepto report','Duration of dyspnea',\n",
        "           'Duration of hematuria','Duration of edema'])"
      ],
      "metadata": {
        "colab": {
          "base_uri": "https://localhost:8080/"
        },
        "id": "7m3UnCmE1Z9d",
        "outputId": "1fde1dcf-255c-47c7-be5e-48ecd568feaa"
      },
      "id": "7m3UnCmE1Z9d",
      "execution_count": null,
      "outputs": [
        {
          "output_type": "execute_result",
          "data": {
            "text/plain": [
              "8"
            ]
          },
          "metadata": {},
          "execution_count": 291
        }
      ]
    },
    {
      "cell_type": "code",
      "source": [
        "# Duration of dyspnea\n",
        "# Duration of hematuria\n",
        "# Duration of edema\n",
        "# data.drop(['Productive/Non productive (P/NP)', 'Typhi dot/ WIDAL Report',\n",
        "#            'Scrub typhus Report', 'Malaria report',\n",
        "#            'Lepto report','Duration of dyspnea',\n",
        "#            'Duration of hematuria','Duration of edema'],axis=1,inplace=True)"
      ],
      "metadata": {
        "id": "FKbKW7E31PU0"
      },
      "id": "FKbKW7E31PU0",
      "execution_count": null,
      "outputs": []
    },
    {
      "cell_type": "code",
      "execution_count": null,
      "id": "90d1ee76",
      "metadata": {
        "colab": {
          "base_uri": "https://localhost:8080/"
        },
        "id": "90d1ee76",
        "outputId": "a74d8e5f-5914-4614-e9b4-e77fcc95c2a1"
      },
      "outputs": [
        {
          "output_type": "execute_result",
          "data": {
            "text/plain": [
              "(361, 69)"
            ]
          },
          "metadata": {},
          "execution_count": 293
        }
      ],
      "source": [
        "data.shape"
      ]
    },
    {
      "cell_type": "code",
      "source": [
        "data.head()"
      ],
      "metadata": {
        "colab": {
          "base_uri": "https://localhost:8080/",
          "height": 307
        },
        "id": "9OMtLWFN1z9f",
        "outputId": "f341eda8-89af-478c-e84a-40ab368cb35a"
      },
      "id": "9OMtLWFN1z9f",
      "execution_count": null,
      "outputs": [
        {
          "output_type": "execute_result",
          "data": {
            "text/plain": [
              "   Months  Sex     DOA  Fever (P/A)  Duration of fever (days)  Headache (P/A)  \\\n",
              "0      24    0  190622            1                       3.0               0   \n",
              "1      59    1  210622            1                       4.0               0   \n",
              "2     528    0       0            1                       7.0               1   \n",
              "3     492    1       0            1                       4.0               0   \n",
              "4     900    1       0            0                       5.0               0   \n",
              "\n",
              "   Duration of headache  Myalgia (P/A)  Duration of myalgia  Cough (P/A)  ...  \\\n",
              "0                   4.0              0                  3.0            0  ...   \n",
              "1                   4.0              0                  3.0            0  ...   \n",
              "2                  30.0              1                  5.0            1  ...   \n",
              "3                   4.0              1                  4.0            0  ...   \n",
              "4                   4.0              0                  3.0            0  ...   \n",
              "\n",
              "   Malarial parasites (Done/Not done)  Malaria report  \\\n",
              "0                                   0               0   \n",
              "1                                   0               0   \n",
              "2                                   0               0   \n",
              "3                                   0               0   \n",
              "4                                   0               0   \n",
              "\n",
              "   ELISA for leptospirosis (Done/Not done)  Lepto report  CXR (Done/Not done)  \\\n",
              "0                                        0             0                    0   \n",
              "1                                        0             0                    1   \n",
              "2                                        0             0                    1   \n",
              "3                                        0             0                    1   \n",
              "4                                        0             0                    1   \n",
              "\n",
              "   Xray report  USG Abdomen (Done/Not done)  USG Abd report  Final Diagnosis  \\\n",
              "0           -1                            1             0.0              114   \n",
              "1            0                            1          5955.0              114   \n",
              "2            0                            1          6227.0              173   \n",
              "3            0                            0              -1              173   \n",
              "4            0                            0              -1              173   \n",
              "\n",
              "   AUF Result  \n",
              "0           1  \n",
              "1           2  \n",
              "2           1  \n",
              "3           1  \n",
              "4           0  \n",
              "\n",
              "[5 rows x 69 columns]"
            ],
            "text/html": [
              "\n",
              "  <div id=\"df-98f42d5c-ec80-4bd3-a998-173c1e4f1c89\" class=\"colab-df-container\">\n",
              "    <div>\n",
              "<style scoped>\n",
              "    .dataframe tbody tr th:only-of-type {\n",
              "        vertical-align: middle;\n",
              "    }\n",
              "\n",
              "    .dataframe tbody tr th {\n",
              "        vertical-align: top;\n",
              "    }\n",
              "\n",
              "    .dataframe thead th {\n",
              "        text-align: right;\n",
              "    }\n",
              "</style>\n",
              "<table border=\"1\" class=\"dataframe\">\n",
              "  <thead>\n",
              "    <tr style=\"text-align: right;\">\n",
              "      <th></th>\n",
              "      <th>Months</th>\n",
              "      <th>Sex</th>\n",
              "      <th>DOA</th>\n",
              "      <th>Fever (P/A)</th>\n",
              "      <th>Duration of fever (days)</th>\n",
              "      <th>Headache (P/A)</th>\n",
              "      <th>Duration of headache</th>\n",
              "      <th>Myalgia (P/A)</th>\n",
              "      <th>Duration of myalgia</th>\n",
              "      <th>Cough (P/A)</th>\n",
              "      <th>...</th>\n",
              "      <th>Malarial parasites (Done/Not done)</th>\n",
              "      <th>Malaria report</th>\n",
              "      <th>ELISA for leptospirosis (Done/Not done)</th>\n",
              "      <th>Lepto report</th>\n",
              "      <th>CXR (Done/Not done)</th>\n",
              "      <th>Xray report</th>\n",
              "      <th>USG Abdomen (Done/Not done)</th>\n",
              "      <th>USG Abd report</th>\n",
              "      <th>Final Diagnosis</th>\n",
              "      <th>AUF Result</th>\n",
              "    </tr>\n",
              "  </thead>\n",
              "  <tbody>\n",
              "    <tr>\n",
              "      <th>0</th>\n",
              "      <td>24</td>\n",
              "      <td>0</td>\n",
              "      <td>190622</td>\n",
              "      <td>1</td>\n",
              "      <td>3.0</td>\n",
              "      <td>0</td>\n",
              "      <td>4.0</td>\n",
              "      <td>0</td>\n",
              "      <td>3.0</td>\n",
              "      <td>0</td>\n",
              "      <td>...</td>\n",
              "      <td>0</td>\n",
              "      <td>0</td>\n",
              "      <td>0</td>\n",
              "      <td>0</td>\n",
              "      <td>0</td>\n",
              "      <td>-1</td>\n",
              "      <td>1</td>\n",
              "      <td>0.0</td>\n",
              "      <td>114</td>\n",
              "      <td>1</td>\n",
              "    </tr>\n",
              "    <tr>\n",
              "      <th>1</th>\n",
              "      <td>59</td>\n",
              "      <td>1</td>\n",
              "      <td>210622</td>\n",
              "      <td>1</td>\n",
              "      <td>4.0</td>\n",
              "      <td>0</td>\n",
              "      <td>4.0</td>\n",
              "      <td>0</td>\n",
              "      <td>3.0</td>\n",
              "      <td>0</td>\n",
              "      <td>...</td>\n",
              "      <td>0</td>\n",
              "      <td>0</td>\n",
              "      <td>0</td>\n",
              "      <td>0</td>\n",
              "      <td>1</td>\n",
              "      <td>0</td>\n",
              "      <td>1</td>\n",
              "      <td>5955.0</td>\n",
              "      <td>114</td>\n",
              "      <td>2</td>\n",
              "    </tr>\n",
              "    <tr>\n",
              "      <th>2</th>\n",
              "      <td>528</td>\n",
              "      <td>0</td>\n",
              "      <td>0</td>\n",
              "      <td>1</td>\n",
              "      <td>7.0</td>\n",
              "      <td>1</td>\n",
              "      <td>30.0</td>\n",
              "      <td>1</td>\n",
              "      <td>5.0</td>\n",
              "      <td>1</td>\n",
              "      <td>...</td>\n",
              "      <td>0</td>\n",
              "      <td>0</td>\n",
              "      <td>0</td>\n",
              "      <td>0</td>\n",
              "      <td>1</td>\n",
              "      <td>0</td>\n",
              "      <td>1</td>\n",
              "      <td>6227.0</td>\n",
              "      <td>173</td>\n",
              "      <td>1</td>\n",
              "    </tr>\n",
              "    <tr>\n",
              "      <th>3</th>\n",
              "      <td>492</td>\n",
              "      <td>1</td>\n",
              "      <td>0</td>\n",
              "      <td>1</td>\n",
              "      <td>4.0</td>\n",
              "      <td>0</td>\n",
              "      <td>4.0</td>\n",
              "      <td>1</td>\n",
              "      <td>4.0</td>\n",
              "      <td>0</td>\n",
              "      <td>...</td>\n",
              "      <td>0</td>\n",
              "      <td>0</td>\n",
              "      <td>0</td>\n",
              "      <td>0</td>\n",
              "      <td>1</td>\n",
              "      <td>0</td>\n",
              "      <td>0</td>\n",
              "      <td>-1</td>\n",
              "      <td>173</td>\n",
              "      <td>1</td>\n",
              "    </tr>\n",
              "    <tr>\n",
              "      <th>4</th>\n",
              "      <td>900</td>\n",
              "      <td>1</td>\n",
              "      <td>0</td>\n",
              "      <td>0</td>\n",
              "      <td>5.0</td>\n",
              "      <td>0</td>\n",
              "      <td>4.0</td>\n",
              "      <td>0</td>\n",
              "      <td>3.0</td>\n",
              "      <td>0</td>\n",
              "      <td>...</td>\n",
              "      <td>0</td>\n",
              "      <td>0</td>\n",
              "      <td>0</td>\n",
              "      <td>0</td>\n",
              "      <td>1</td>\n",
              "      <td>0</td>\n",
              "      <td>0</td>\n",
              "      <td>-1</td>\n",
              "      <td>173</td>\n",
              "      <td>0</td>\n",
              "    </tr>\n",
              "  </tbody>\n",
              "</table>\n",
              "<p>5 rows × 69 columns</p>\n",
              "</div>\n",
              "    <div class=\"colab-df-buttons\">\n",
              "\n",
              "  <div class=\"colab-df-container\">\n",
              "    <button class=\"colab-df-convert\" onclick=\"convertToInteractive('df-98f42d5c-ec80-4bd3-a998-173c1e4f1c89')\"\n",
              "            title=\"Convert this dataframe to an interactive table.\"\n",
              "            style=\"display:none;\">\n",
              "\n",
              "  <svg xmlns=\"http://www.w3.org/2000/svg\" height=\"24px\" viewBox=\"0 -960 960 960\">\n",
              "    <path d=\"M120-120v-720h720v720H120Zm60-500h600v-160H180v160Zm220 220h160v-160H400v160Zm0 220h160v-160H400v160ZM180-400h160v-160H180v160Zm440 0h160v-160H620v160ZM180-180h160v-160H180v160Zm440 0h160v-160H620v160Z\"/>\n",
              "  </svg>\n",
              "    </button>\n",
              "\n",
              "  <style>\n",
              "    .colab-df-container {\n",
              "      display:flex;\n",
              "      gap: 12px;\n",
              "    }\n",
              "\n",
              "    .colab-df-convert {\n",
              "      background-color: #E8F0FE;\n",
              "      border: none;\n",
              "      border-radius: 50%;\n",
              "      cursor: pointer;\n",
              "      display: none;\n",
              "      fill: #1967D2;\n",
              "      height: 32px;\n",
              "      padding: 0 0 0 0;\n",
              "      width: 32px;\n",
              "    }\n",
              "\n",
              "    .colab-df-convert:hover {\n",
              "      background-color: #E2EBFA;\n",
              "      box-shadow: 0px 1px 2px rgba(60, 64, 67, 0.3), 0px 1px 3px 1px rgba(60, 64, 67, 0.15);\n",
              "      fill: #174EA6;\n",
              "    }\n",
              "\n",
              "    .colab-df-buttons div {\n",
              "      margin-bottom: 4px;\n",
              "    }\n",
              "\n",
              "    [theme=dark] .colab-df-convert {\n",
              "      background-color: #3B4455;\n",
              "      fill: #D2E3FC;\n",
              "    }\n",
              "\n",
              "    [theme=dark] .colab-df-convert:hover {\n",
              "      background-color: #434B5C;\n",
              "      box-shadow: 0px 1px 3px 1px rgba(0, 0, 0, 0.15);\n",
              "      filter: drop-shadow(0px 1px 2px rgba(0, 0, 0, 0.3));\n",
              "      fill: #FFFFFF;\n",
              "    }\n",
              "  </style>\n",
              "\n",
              "    <script>\n",
              "      const buttonEl =\n",
              "        document.querySelector('#df-98f42d5c-ec80-4bd3-a998-173c1e4f1c89 button.colab-df-convert');\n",
              "      buttonEl.style.display =\n",
              "        google.colab.kernel.accessAllowed ? 'block' : 'none';\n",
              "\n",
              "      async function convertToInteractive(key) {\n",
              "        const element = document.querySelector('#df-98f42d5c-ec80-4bd3-a998-173c1e4f1c89');\n",
              "        const dataTable =\n",
              "          await google.colab.kernel.invokeFunction('convertToInteractive',\n",
              "                                                    [key], {});\n",
              "        if (!dataTable) return;\n",
              "\n",
              "        const docLinkHtml = 'Like what you see? Visit the ' +\n",
              "          '<a target=\"_blank\" href=https://colab.research.google.com/notebooks/data_table.ipynb>data table notebook</a>'\n",
              "          + ' to learn more about interactive tables.';\n",
              "        element.innerHTML = '';\n",
              "        dataTable['output_type'] = 'display_data';\n",
              "        await google.colab.output.renderOutput(dataTable, element);\n",
              "        const docLink = document.createElement('div');\n",
              "        docLink.innerHTML = docLinkHtml;\n",
              "        element.appendChild(docLink);\n",
              "      }\n",
              "    </script>\n",
              "  </div>\n",
              "\n",
              "\n",
              "<div id=\"df-7ba0d19f-5110-4c30-bcc0-b1061a84f504\">\n",
              "  <button class=\"colab-df-quickchart\" onclick=\"quickchart('df-7ba0d19f-5110-4c30-bcc0-b1061a84f504')\"\n",
              "            title=\"Suggest charts\"\n",
              "            style=\"display:none;\">\n",
              "\n",
              "<svg xmlns=\"http://www.w3.org/2000/svg\" height=\"24px\"viewBox=\"0 0 24 24\"\n",
              "     width=\"24px\">\n",
              "    <g>\n",
              "        <path d=\"M19 3H5c-1.1 0-2 .9-2 2v14c0 1.1.9 2 2 2h14c1.1 0 2-.9 2-2V5c0-1.1-.9-2-2-2zM9 17H7v-7h2v7zm4 0h-2V7h2v10zm4 0h-2v-4h2v4z\"/>\n",
              "    </g>\n",
              "</svg>\n",
              "  </button>\n",
              "\n",
              "<style>\n",
              "  .colab-df-quickchart {\n",
              "      --bg-color: #E8F0FE;\n",
              "      --fill-color: #1967D2;\n",
              "      --hover-bg-color: #E2EBFA;\n",
              "      --hover-fill-color: #174EA6;\n",
              "      --disabled-fill-color: #AAA;\n",
              "      --disabled-bg-color: #DDD;\n",
              "  }\n",
              "\n",
              "  [theme=dark] .colab-df-quickchart {\n",
              "      --bg-color: #3B4455;\n",
              "      --fill-color: #D2E3FC;\n",
              "      --hover-bg-color: #434B5C;\n",
              "      --hover-fill-color: #FFFFFF;\n",
              "      --disabled-bg-color: #3B4455;\n",
              "      --disabled-fill-color: #666;\n",
              "  }\n",
              "\n",
              "  .colab-df-quickchart {\n",
              "    background-color: var(--bg-color);\n",
              "    border: none;\n",
              "    border-radius: 50%;\n",
              "    cursor: pointer;\n",
              "    display: none;\n",
              "    fill: var(--fill-color);\n",
              "    height: 32px;\n",
              "    padding: 0;\n",
              "    width: 32px;\n",
              "  }\n",
              "\n",
              "  .colab-df-quickchart:hover {\n",
              "    background-color: var(--hover-bg-color);\n",
              "    box-shadow: 0 1px 2px rgba(60, 64, 67, 0.3), 0 1px 3px 1px rgba(60, 64, 67, 0.15);\n",
              "    fill: var(--button-hover-fill-color);\n",
              "  }\n",
              "\n",
              "  .colab-df-quickchart-complete:disabled,\n",
              "  .colab-df-quickchart-complete:disabled:hover {\n",
              "    background-color: var(--disabled-bg-color);\n",
              "    fill: var(--disabled-fill-color);\n",
              "    box-shadow: none;\n",
              "  }\n",
              "\n",
              "  .colab-df-spinner {\n",
              "    border: 2px solid var(--fill-color);\n",
              "    border-color: transparent;\n",
              "    border-bottom-color: var(--fill-color);\n",
              "    animation:\n",
              "      spin 1s steps(1) infinite;\n",
              "  }\n",
              "\n",
              "  @keyframes spin {\n",
              "    0% {\n",
              "      border-color: transparent;\n",
              "      border-bottom-color: var(--fill-color);\n",
              "      border-left-color: var(--fill-color);\n",
              "    }\n",
              "    20% {\n",
              "      border-color: transparent;\n",
              "      border-left-color: var(--fill-color);\n",
              "      border-top-color: var(--fill-color);\n",
              "    }\n",
              "    30% {\n",
              "      border-color: transparent;\n",
              "      border-left-color: var(--fill-color);\n",
              "      border-top-color: var(--fill-color);\n",
              "      border-right-color: var(--fill-color);\n",
              "    }\n",
              "    40% {\n",
              "      border-color: transparent;\n",
              "      border-right-color: var(--fill-color);\n",
              "      border-top-color: var(--fill-color);\n",
              "    }\n",
              "    60% {\n",
              "      border-color: transparent;\n",
              "      border-right-color: var(--fill-color);\n",
              "    }\n",
              "    80% {\n",
              "      border-color: transparent;\n",
              "      border-right-color: var(--fill-color);\n",
              "      border-bottom-color: var(--fill-color);\n",
              "    }\n",
              "    90% {\n",
              "      border-color: transparent;\n",
              "      border-bottom-color: var(--fill-color);\n",
              "    }\n",
              "  }\n",
              "</style>\n",
              "\n",
              "  <script>\n",
              "    async function quickchart(key) {\n",
              "      const quickchartButtonEl =\n",
              "        document.querySelector('#' + key + ' button');\n",
              "      quickchartButtonEl.disabled = true;  // To prevent multiple clicks.\n",
              "      quickchartButtonEl.classList.add('colab-df-spinner');\n",
              "      try {\n",
              "        const charts = await google.colab.kernel.invokeFunction(\n",
              "            'suggestCharts', [key], {});\n",
              "      } catch (error) {\n",
              "        console.error('Error during call to suggestCharts:', error);\n",
              "      }\n",
              "      quickchartButtonEl.classList.remove('colab-df-spinner');\n",
              "      quickchartButtonEl.classList.add('colab-df-quickchart-complete');\n",
              "    }\n",
              "    (() => {\n",
              "      let quickchartButtonEl =\n",
              "        document.querySelector('#df-7ba0d19f-5110-4c30-bcc0-b1061a84f504 button');\n",
              "      quickchartButtonEl.style.display =\n",
              "        google.colab.kernel.accessAllowed ? 'block' : 'none';\n",
              "    })();\n",
              "  </script>\n",
              "</div>\n",
              "\n",
              "    </div>\n",
              "  </div>\n"
            ],
            "application/vnd.google.colaboratory.intrinsic+json": {
              "type": "dataframe",
              "variable_name": "data"
            }
          },
          "metadata": {},
          "execution_count": 294
        }
      ]
    },
    {
      "cell_type": "code",
      "execution_count": null,
      "id": "029775ea",
      "metadata": {
        "id": "029775ea"
      },
      "outputs": [],
      "source": [
        "from sklearn.model_selection import train_test_split"
      ]
    },
    {
      "cell_type": "code",
      "execution_count": null,
      "id": "26c4d153",
      "metadata": {
        "colab": {
          "base_uri": "https://localhost:8080/"
        },
        "id": "26c4d153",
        "outputId": "a9a9fdf4-4b87-4106-a373-f0e8b0533253"
      },
      "outputs": [
        {
          "output_type": "execute_result",
          "data": {
            "text/plain": [
              "Index(['Months', 'Sex', 'DOA', 'Fever (P/A)', 'Duration of fever (days)',\n",
              "       'Headache (P/A)', 'Duration of headache', 'Myalgia (P/A)',\n",
              "       'Duration of myalgia', 'Cough (P/A)', 'Duration of cough',\n",
              "       'Productive/Non productive (P/NP)', 'Dyspnea (P/A)',\n",
              "       'Duration of dyspnea', 'Vomiting (P/A)', 'Duration of vomiting',\n",
              "       'Hematuria (P/A)', 'Duration of hematuria', 'Edema (P/A)',\n",
              "       'Duration of edema', 'Anorexia (P/A)', 'Nausea (P/A)',\n",
              "       'Diarrhoea (P/A)', 'Past illness (P/A)', 'Comorbidities',\n",
              "       'Similar illness in family (P/A)',\n",
              "       'Any rodent bite/scratch/contact with rodent droppings (Y/N)', 'BP',\n",
              "       'RR', 'PR', 'Temperature', 'Crepitus/Rhonchi (P/A)', 'Petechiae (P/A)',\n",
              "       'Additional physical finding', 'Any specific renal sign', 'Total count',\n",
              "       'Hb', 'PCV', 'Differential count', 'Platelet count', 'Prothrombin time',\n",
              "       'SGOT', 'SGPT', 'Bilirubin', 'S. protein (g%)', 'S. albumin (g%)',\n",
              "       'A/G ratio', 'S. creatinine (mg%)', 'Urine protein (mg)',\n",
              "       'Urine output (24 hr) (ml/Kg/Hr)', 'Other Investigations if any',\n",
              "       'Bacterial culture & sensitivity (Positive / Negative / not done )',\n",
              "       'If positive, Organism', 'Dengue Viral Immunoassay (IgM) (Done/NA )',\n",
              "       'Dengue Viral Immunoassay (IgM) (Positive/Negative)',\n",
              "       'Typhidot / Widal (Done/Not done)', 'Typhi dot/ WIDAL Report',\n",
              "       'Weil Felix/Scrub typhus IgM (Done/Not done)', 'Scrub typhus Report',\n",
              "       'Malarial parasites (Done/Not done)', 'Malaria report',\n",
              "       'ELISA for leptospirosis (Done/Not done)', 'Lepto report',\n",
              "       'CXR (Done/Not done)', 'Xray report', 'USG Abdomen (Done/Not done)',\n",
              "       'USG Abd report', 'Final Diagnosis', 'AUF Result'],\n",
              "      dtype='object')"
            ]
          },
          "metadata": {},
          "execution_count": 296
        }
      ],
      "source": [
        "data.columns"
      ]
    },
    {
      "cell_type": "code",
      "execution_count": null,
      "id": "f98b2c45",
      "metadata": {
        "id": "f98b2c45"
      },
      "outputs": [],
      "source": [
        "X = data.drop('AUF Result', axis=1).values\n",
        "y = data['AUF Result'].values"
      ]
    },
    {
      "cell_type": "code",
      "source": [
        "data['AUF Result'].value_counts()"
      ],
      "metadata": {
        "colab": {
          "base_uri": "https://localhost:8080/"
        },
        "id": "i5ZTKA75biw8",
        "outputId": "0c084d14-c331-4780-c3f7-f45f2144f303"
      },
      "id": "i5ZTKA75biw8",
      "execution_count": null,
      "outputs": [
        {
          "output_type": "execute_result",
          "data": {
            "text/plain": [
              "AUF Result\n",
              "1    207\n",
              "2    109\n",
              "0     45\n",
              "Name: count, dtype: int64"
            ]
          },
          "metadata": {},
          "execution_count": 298
        }
      ]
    },
    {
      "cell_type": "code",
      "execution_count": null,
      "id": "0fe297b3",
      "metadata": {
        "id": "0fe297b3"
      },
      "outputs": [],
      "source": [
        "#y=y.apply(yt)"
      ]
    },
    {
      "cell_type": "code",
      "execution_count": null,
      "id": "8c8d2856",
      "metadata": {
        "id": "8c8d2856"
      },
      "outputs": [],
      "source": [
        "#data.to_csv(\"Encoded_data.csv\")"
      ]
    },
    {
      "cell_type": "code",
      "source": [],
      "metadata": {
        "id": "4dJHA3kLLHcB"
      },
      "id": "4dJHA3kLLHcB",
      "execution_count": null,
      "outputs": []
    },
    {
      "cell_type": "markdown",
      "id": "659c461d",
      "metadata": {
        "id": "659c461d"
      },
      "source": [
        "# Baseline\n"
      ]
    },
    {
      "cell_type": "code",
      "source": [
        "#!pip install pycaret"
      ],
      "metadata": {
        "id": "xW9Ab2_ybOhc",
        "colab": {
          "base_uri": "https://localhost:8080/"
        },
        "outputId": "78caf063-57c7-4b19-bbf8-f207bf7a92a1"
      },
      "id": "xW9Ab2_ybOhc",
      "execution_count": null,
      "outputs": [
        {
          "output_type": "stream",
          "name": "stdout",
          "text": [
            "Requirement already satisfied: pycaret in /usr/local/lib/python3.10/dist-packages (3.3.2)\n",
            "Requirement already satisfied: ipython>=5.5.0 in /usr/local/lib/python3.10/dist-packages (from pycaret) (7.34.0)\n",
            "Requirement already satisfied: ipywidgets>=7.6.5 in /usr/local/lib/python3.10/dist-packages (from pycaret) (7.7.1)\n",
            "Requirement already satisfied: tqdm>=4.62.0 in /usr/local/lib/python3.10/dist-packages (from pycaret) (4.66.4)\n",
            "Requirement already satisfied: numpy<1.27,>=1.21 in /usr/local/lib/python3.10/dist-packages (from pycaret) (1.25.2)\n",
            "Requirement already satisfied: pandas<2.2.0 in /usr/local/lib/python3.10/dist-packages (from pycaret) (2.0.3)\n",
            "Requirement already satisfied: jinja2>=3 in /usr/local/lib/python3.10/dist-packages (from pycaret) (3.1.4)\n",
            "Requirement already satisfied: scipy<=1.11.4,>=1.6.1 in /usr/local/lib/python3.10/dist-packages (from pycaret) (1.11.4)\n",
            "Requirement already satisfied: joblib<1.4,>=1.2.0 in /usr/local/lib/python3.10/dist-packages (from pycaret) (1.3.2)\n",
            "Requirement already satisfied: scikit-learn>1.4.0 in /usr/local/lib/python3.10/dist-packages (from pycaret) (1.4.2)\n",
            "Requirement already satisfied: pyod>=1.1.3 in /usr/local/lib/python3.10/dist-packages (from pycaret) (2.0.0)\n",
            "Requirement already satisfied: imbalanced-learn>=0.12.0 in /usr/local/lib/python3.10/dist-packages (from pycaret) (0.12.3)\n",
            "Requirement already satisfied: category-encoders>=2.4.0 in /usr/local/lib/python3.10/dist-packages (from pycaret) (2.6.3)\n",
            "Requirement already satisfied: lightgbm>=3.0.0 in /usr/local/lib/python3.10/dist-packages (from pycaret) (4.1.0)\n",
            "Requirement already satisfied: numba>=0.55.0 in /usr/local/lib/python3.10/dist-packages (from pycaret) (0.58.1)\n",
            "Requirement already satisfied: requests>=2.27.1 in /usr/local/lib/python3.10/dist-packages (from pycaret) (2.31.0)\n",
            "Requirement already satisfied: psutil>=5.9.0 in /usr/local/lib/python3.10/dist-packages (from pycaret) (5.9.5)\n",
            "Requirement already satisfied: markupsafe>=2.0.1 in /usr/local/lib/python3.10/dist-packages (from pycaret) (2.1.5)\n",
            "Requirement already satisfied: importlib-metadata>=4.12.0 in /usr/local/lib/python3.10/dist-packages (from pycaret) (7.1.0)\n",
            "Requirement already satisfied: nbformat>=4.2.0 in /usr/local/lib/python3.10/dist-packages (from pycaret) (5.10.4)\n",
            "Requirement already satisfied: cloudpickle in /usr/local/lib/python3.10/dist-packages (from pycaret) (2.2.1)\n",
            "Requirement already satisfied: deprecation>=2.1.0 in /usr/local/lib/python3.10/dist-packages (from pycaret) (2.1.0)\n",
            "Requirement already satisfied: xxhash in /usr/local/lib/python3.10/dist-packages (from pycaret) (3.4.1)\n",
            "Requirement already satisfied: matplotlib<3.8.0 in /usr/local/lib/python3.10/dist-packages (from pycaret) (3.7.1)\n",
            "Requirement already satisfied: scikit-plot>=0.3.7 in /usr/local/lib/python3.10/dist-packages (from pycaret) (0.3.7)\n",
            "Requirement already satisfied: yellowbrick>=1.4 in /usr/local/lib/python3.10/dist-packages (from pycaret) (1.5)\n",
            "Requirement already satisfied: plotly>=5.14.0 in /usr/local/lib/python3.10/dist-packages (from pycaret) (5.15.0)\n",
            "Requirement already satisfied: kaleido>=0.2.1 in /usr/local/lib/python3.10/dist-packages (from pycaret) (0.2.1)\n",
            "Requirement already satisfied: schemdraw==0.15 in /usr/local/lib/python3.10/dist-packages (from pycaret) (0.15)\n",
            "Requirement already satisfied: plotly-resampler>=0.8.3.1 in /usr/local/lib/python3.10/dist-packages (from pycaret) (0.10.0)\n",
            "Requirement already satisfied: statsmodels>=0.12.1 in /usr/local/lib/python3.10/dist-packages (from pycaret) (0.14.2)\n",
            "Requirement already satisfied: sktime==0.26.0 in /usr/local/lib/python3.10/dist-packages (from pycaret) (0.26.0)\n",
            "Requirement already satisfied: tbats>=1.1.3 in /usr/local/lib/python3.10/dist-packages (from pycaret) (1.1.3)\n",
            "Requirement already satisfied: pmdarima>=2.0.4 in /usr/local/lib/python3.10/dist-packages (from pycaret) (2.0.4)\n",
            "Requirement already satisfied: wurlitzer in /usr/local/lib/python3.10/dist-packages (from pycaret) (3.1.1)\n",
            "Requirement already satisfied: packaging in /usr/local/lib/python3.10/dist-packages (from sktime==0.26.0->pycaret) (24.1)\n",
            "Requirement already satisfied: scikit-base<0.8.0 in /usr/local/lib/python3.10/dist-packages (from sktime==0.26.0->pycaret) (0.7.8)\n",
            "Requirement already satisfied: patsy>=0.5.1 in /usr/local/lib/python3.10/dist-packages (from category-encoders>=2.4.0->pycaret) (0.5.6)\n",
            "Requirement already satisfied: threadpoolctl>=2.0.0 in /usr/local/lib/python3.10/dist-packages (from imbalanced-learn>=0.12.0->pycaret) (3.5.0)\n",
            "Requirement already satisfied: zipp>=0.5 in /usr/local/lib/python3.10/dist-packages (from importlib-metadata>=4.12.0->pycaret) (3.19.2)\n",
            "Requirement already satisfied: setuptools>=18.5 in /usr/local/lib/python3.10/dist-packages (from ipython>=5.5.0->pycaret) (67.7.2)\n",
            "Requirement already satisfied: jedi>=0.16 in /usr/local/lib/python3.10/dist-packages (from ipython>=5.5.0->pycaret) (0.19.1)\n",
            "Requirement already satisfied: decorator in /usr/local/lib/python3.10/dist-packages (from ipython>=5.5.0->pycaret) (4.4.2)\n",
            "Requirement already satisfied: pickleshare in /usr/local/lib/python3.10/dist-packages (from ipython>=5.5.0->pycaret) (0.7.5)\n",
            "Requirement already satisfied: traitlets>=4.2 in /usr/local/lib/python3.10/dist-packages (from ipython>=5.5.0->pycaret) (5.7.1)\n",
            "Requirement already satisfied: prompt-toolkit!=3.0.0,!=3.0.1,<3.1.0,>=2.0.0 in /usr/local/lib/python3.10/dist-packages (from ipython>=5.5.0->pycaret) (3.0.47)\n",
            "Requirement already satisfied: pygments in /usr/local/lib/python3.10/dist-packages (from ipython>=5.5.0->pycaret) (2.16.1)\n",
            "Requirement already satisfied: backcall in /usr/local/lib/python3.10/dist-packages (from ipython>=5.5.0->pycaret) (0.2.0)\n",
            "Requirement already satisfied: matplotlib-inline in /usr/local/lib/python3.10/dist-packages (from ipython>=5.5.0->pycaret) (0.1.7)\n",
            "Requirement already satisfied: pexpect>4.3 in /usr/local/lib/python3.10/dist-packages (from ipython>=5.5.0->pycaret) (4.9.0)\n",
            "Requirement already satisfied: ipykernel>=4.5.1 in /usr/local/lib/python3.10/dist-packages (from ipywidgets>=7.6.5->pycaret) (5.5.6)\n",
            "Requirement already satisfied: ipython-genutils~=0.2.0 in /usr/local/lib/python3.10/dist-packages (from ipywidgets>=7.6.5->pycaret) (0.2.0)\n",
            "Requirement already satisfied: widgetsnbextension~=3.6.0 in /usr/local/lib/python3.10/dist-packages (from ipywidgets>=7.6.5->pycaret) (3.6.6)\n",
            "Requirement already satisfied: jupyterlab-widgets>=1.0.0 in /usr/local/lib/python3.10/dist-packages (from ipywidgets>=7.6.5->pycaret) (3.0.11)\n",
            "Requirement already satisfied: contourpy>=1.0.1 in /usr/local/lib/python3.10/dist-packages (from matplotlib<3.8.0->pycaret) (1.2.1)\n",
            "Requirement already satisfied: cycler>=0.10 in /usr/local/lib/python3.10/dist-packages (from matplotlib<3.8.0->pycaret) (0.12.1)\n",
            "Requirement already satisfied: fonttools>=4.22.0 in /usr/local/lib/python3.10/dist-packages (from matplotlib<3.8.0->pycaret) (4.53.0)\n",
            "Requirement already satisfied: kiwisolver>=1.0.1 in /usr/local/lib/python3.10/dist-packages (from matplotlib<3.8.0->pycaret) (1.4.5)\n",
            "Requirement already satisfied: pillow>=6.2.0 in /usr/local/lib/python3.10/dist-packages (from matplotlib<3.8.0->pycaret) (9.4.0)\n",
            "Requirement already satisfied: pyparsing>=2.3.1 in /usr/local/lib/python3.10/dist-packages (from matplotlib<3.8.0->pycaret) (3.1.2)\n",
            "Requirement already satisfied: python-dateutil>=2.7 in /usr/local/lib/python3.10/dist-packages (from matplotlib<3.8.0->pycaret) (2.8.2)\n",
            "Requirement already satisfied: fastjsonschema>=2.15 in /usr/local/lib/python3.10/dist-packages (from nbformat>=4.2.0->pycaret) (2.19.1)\n",
            "Requirement already satisfied: jsonschema>=2.6 in /usr/local/lib/python3.10/dist-packages (from nbformat>=4.2.0->pycaret) (4.19.2)\n",
            "Requirement already satisfied: jupyter-core!=5.0.*,>=4.12 in /usr/local/lib/python3.10/dist-packages (from nbformat>=4.2.0->pycaret) (5.7.2)\n",
            "Requirement already satisfied: llvmlite<0.42,>=0.41.0dev0 in /usr/local/lib/python3.10/dist-packages (from numba>=0.55.0->pycaret) (0.41.1)\n",
            "Requirement already satisfied: pytz>=2020.1 in /usr/local/lib/python3.10/dist-packages (from pandas<2.2.0->pycaret) (2023.4)\n",
            "Requirement already satisfied: tzdata>=2022.1 in /usr/local/lib/python3.10/dist-packages (from pandas<2.2.0->pycaret) (2024.1)\n",
            "Requirement already satisfied: tenacity>=6.2.0 in /usr/local/lib/python3.10/dist-packages (from plotly>=5.14.0->pycaret) (8.3.0)\n",
            "Requirement already satisfied: dash>=2.9.0 in /usr/local/lib/python3.10/dist-packages (from plotly-resampler>=0.8.3.1->pycaret) (2.17.1)\n",
            "Requirement already satisfied: orjson<4.0.0,>=3.8.0 in /usr/local/lib/python3.10/dist-packages (from plotly-resampler>=0.8.3.1->pycaret) (3.10.5)\n",
            "Requirement already satisfied: tsdownsample>=0.1.3 in /usr/local/lib/python3.10/dist-packages (from plotly-resampler>=0.8.3.1->pycaret) (0.1.3)\n",
            "Requirement already satisfied: Cython!=0.29.18,!=0.29.31,>=0.29 in /usr/local/lib/python3.10/dist-packages (from pmdarima>=2.0.4->pycaret) (3.0.10)\n",
            "Requirement already satisfied: urllib3 in /usr/local/lib/python3.10/dist-packages (from pmdarima>=2.0.4->pycaret) (2.0.7)\n",
            "Requirement already satisfied: charset-normalizer<4,>=2 in /usr/local/lib/python3.10/dist-packages (from requests>=2.27.1->pycaret) (3.3.2)\n",
            "Requirement already satisfied: idna<4,>=2.5 in /usr/local/lib/python3.10/dist-packages (from requests>=2.27.1->pycaret) (3.7)\n",
            "Requirement already satisfied: certifi>=2017.4.17 in /usr/local/lib/python3.10/dist-packages (from requests>=2.27.1->pycaret) (2024.6.2)\n",
            "Requirement already satisfied: Flask<3.1,>=1.0.4 in /usr/local/lib/python3.10/dist-packages (from dash>=2.9.0->plotly-resampler>=0.8.3.1->pycaret) (2.2.5)\n",
            "Requirement already satisfied: Werkzeug<3.1 in /usr/local/lib/python3.10/dist-packages (from dash>=2.9.0->plotly-resampler>=0.8.3.1->pycaret) (3.0.3)\n",
            "Requirement already satisfied: dash-html-components==2.0.0 in /usr/local/lib/python3.10/dist-packages (from dash>=2.9.0->plotly-resampler>=0.8.3.1->pycaret) (2.0.0)\n",
            "Requirement already satisfied: dash-core-components==2.0.0 in /usr/local/lib/python3.10/dist-packages (from dash>=2.9.0->plotly-resampler>=0.8.3.1->pycaret) (2.0.0)\n",
            "Requirement already satisfied: dash-table==5.0.0 in /usr/local/lib/python3.10/dist-packages (from dash>=2.9.0->plotly-resampler>=0.8.3.1->pycaret) (5.0.0)\n",
            "Requirement already satisfied: typing-extensions>=4.1.1 in /usr/local/lib/python3.10/dist-packages (from dash>=2.9.0->plotly-resampler>=0.8.3.1->pycaret) (4.12.2)\n",
            "Requirement already satisfied: retrying in /usr/local/lib/python3.10/dist-packages (from dash>=2.9.0->plotly-resampler>=0.8.3.1->pycaret) (1.3.4)\n",
            "Requirement already satisfied: nest-asyncio in /usr/local/lib/python3.10/dist-packages (from dash>=2.9.0->plotly-resampler>=0.8.3.1->pycaret) (1.6.0)\n",
            "Requirement already satisfied: jupyter-client in /usr/local/lib/python3.10/dist-packages (from ipykernel>=4.5.1->ipywidgets>=7.6.5->pycaret) (6.1.12)\n",
            "Requirement already satisfied: tornado>=4.2 in /usr/local/lib/python3.10/dist-packages (from ipykernel>=4.5.1->ipywidgets>=7.6.5->pycaret) (6.3.3)\n",
            "Requirement already satisfied: parso<0.9.0,>=0.8.3 in /usr/local/lib/python3.10/dist-packages (from jedi>=0.16->ipython>=5.5.0->pycaret) (0.8.4)\n",
            "Requirement already satisfied: attrs>=22.2.0 in /usr/local/lib/python3.10/dist-packages (from jsonschema>=2.6->nbformat>=4.2.0->pycaret) (23.2.0)\n",
            "Requirement already satisfied: jsonschema-specifications>=2023.03.6 in /usr/local/lib/python3.10/dist-packages (from jsonschema>=2.6->nbformat>=4.2.0->pycaret) (2023.12.1)\n",
            "Requirement already satisfied: referencing>=0.28.4 in /usr/local/lib/python3.10/dist-packages (from jsonschema>=2.6->nbformat>=4.2.0->pycaret) (0.35.1)\n",
            "Requirement already satisfied: rpds-py>=0.7.1 in /usr/local/lib/python3.10/dist-packages (from jsonschema>=2.6->nbformat>=4.2.0->pycaret) (0.18.1)\n",
            "Requirement already satisfied: platformdirs>=2.5 in /usr/local/lib/python3.10/dist-packages (from jupyter-core!=5.0.*,>=4.12->nbformat>=4.2.0->pycaret) (4.2.2)\n",
            "Requirement already satisfied: six in /usr/local/lib/python3.10/dist-packages (from patsy>=0.5.1->category-encoders>=2.4.0->pycaret) (1.16.0)\n",
            "Requirement already satisfied: ptyprocess>=0.5 in /usr/local/lib/python3.10/dist-packages (from pexpect>4.3->ipython>=5.5.0->pycaret) (0.7.0)\n",
            "Requirement already satisfied: wcwidth in /usr/local/lib/python3.10/dist-packages (from prompt-toolkit!=3.0.0,!=3.0.1,<3.1.0,>=2.0.0->ipython>=5.5.0->pycaret) (0.2.13)\n",
            "Requirement already satisfied: notebook>=4.4.1 in /usr/local/lib/python3.10/dist-packages (from widgetsnbextension~=3.6.0->ipywidgets>=7.6.5->pycaret) (6.5.5)\n",
            "Requirement already satisfied: itsdangerous>=2.0 in /usr/local/lib/python3.10/dist-packages (from Flask<3.1,>=1.0.4->dash>=2.9.0->plotly-resampler>=0.8.3.1->pycaret) (2.2.0)\n",
            "Requirement already satisfied: click>=8.0 in /usr/local/lib/python3.10/dist-packages (from Flask<3.1,>=1.0.4->dash>=2.9.0->plotly-resampler>=0.8.3.1->pycaret) (8.1.7)\n",
            "Requirement already satisfied: pyzmq<25,>=17 in /usr/local/lib/python3.10/dist-packages (from notebook>=4.4.1->widgetsnbextension~=3.6.0->ipywidgets>=7.6.5->pycaret) (24.0.1)\n",
            "Requirement already satisfied: argon2-cffi in /usr/local/lib/python3.10/dist-packages (from notebook>=4.4.1->widgetsnbextension~=3.6.0->ipywidgets>=7.6.5->pycaret) (23.1.0)\n",
            "Requirement already satisfied: nbconvert>=5 in /usr/local/lib/python3.10/dist-packages (from notebook>=4.4.1->widgetsnbextension~=3.6.0->ipywidgets>=7.6.5->pycaret) (6.5.4)\n",
            "Requirement already satisfied: Send2Trash>=1.8.0 in /usr/local/lib/python3.10/dist-packages (from notebook>=4.4.1->widgetsnbextension~=3.6.0->ipywidgets>=7.6.5->pycaret) (1.8.3)\n",
            "Requirement already satisfied: terminado>=0.8.3 in /usr/local/lib/python3.10/dist-packages (from notebook>=4.4.1->widgetsnbextension~=3.6.0->ipywidgets>=7.6.5->pycaret) (0.18.1)\n",
            "Requirement already satisfied: prometheus-client in /usr/local/lib/python3.10/dist-packages (from notebook>=4.4.1->widgetsnbextension~=3.6.0->ipywidgets>=7.6.5->pycaret) (0.20.0)\n",
            "Requirement already satisfied: nbclassic>=0.4.7 in /usr/local/lib/python3.10/dist-packages (from notebook>=4.4.1->widgetsnbextension~=3.6.0->ipywidgets>=7.6.5->pycaret) (1.1.0)\n",
            "Requirement already satisfied: notebook-shim>=0.2.3 in /usr/local/lib/python3.10/dist-packages (from nbclassic>=0.4.7->notebook>=4.4.1->widgetsnbextension~=3.6.0->ipywidgets>=7.6.5->pycaret) (0.2.4)\n",
            "Requirement already satisfied: lxml in /usr/local/lib/python3.10/dist-packages (from nbconvert>=5->notebook>=4.4.1->widgetsnbextension~=3.6.0->ipywidgets>=7.6.5->pycaret) (4.9.4)\n",
            "Requirement already satisfied: beautifulsoup4 in /usr/local/lib/python3.10/dist-packages (from nbconvert>=5->notebook>=4.4.1->widgetsnbextension~=3.6.0->ipywidgets>=7.6.5->pycaret) (4.12.3)\n",
            "Requirement already satisfied: bleach in /usr/local/lib/python3.10/dist-packages (from nbconvert>=5->notebook>=4.4.1->widgetsnbextension~=3.6.0->ipywidgets>=7.6.5->pycaret) (6.1.0)\n",
            "Requirement already satisfied: defusedxml in /usr/local/lib/python3.10/dist-packages (from nbconvert>=5->notebook>=4.4.1->widgetsnbextension~=3.6.0->ipywidgets>=7.6.5->pycaret) (0.7.1)\n",
            "Requirement already satisfied: entrypoints>=0.2.2 in /usr/local/lib/python3.10/dist-packages (from nbconvert>=5->notebook>=4.4.1->widgetsnbextension~=3.6.0->ipywidgets>=7.6.5->pycaret) (0.4)\n",
            "Requirement already satisfied: jupyterlab-pygments in /usr/local/lib/python3.10/dist-packages (from nbconvert>=5->notebook>=4.4.1->widgetsnbextension~=3.6.0->ipywidgets>=7.6.5->pycaret) (0.3.0)\n",
            "Requirement already satisfied: mistune<2,>=0.8.1 in /usr/local/lib/python3.10/dist-packages (from nbconvert>=5->notebook>=4.4.1->widgetsnbextension~=3.6.0->ipywidgets>=7.6.5->pycaret) (0.8.4)\n",
            "Requirement already satisfied: nbclient>=0.5.0 in /usr/local/lib/python3.10/dist-packages (from nbconvert>=5->notebook>=4.4.1->widgetsnbextension~=3.6.0->ipywidgets>=7.6.5->pycaret) (0.10.0)\n",
            "Requirement already satisfied: pandocfilters>=1.4.1 in /usr/local/lib/python3.10/dist-packages (from nbconvert>=5->notebook>=4.4.1->widgetsnbextension~=3.6.0->ipywidgets>=7.6.5->pycaret) (1.5.1)\n",
            "Requirement already satisfied: tinycss2 in /usr/local/lib/python3.10/dist-packages (from nbconvert>=5->notebook>=4.4.1->widgetsnbextension~=3.6.0->ipywidgets>=7.6.5->pycaret) (1.3.0)\n",
            "Requirement already satisfied: argon2-cffi-bindings in /usr/local/lib/python3.10/dist-packages (from argon2-cffi->notebook>=4.4.1->widgetsnbextension~=3.6.0->ipywidgets>=7.6.5->pycaret) (21.2.0)\n",
            "Requirement already satisfied: jupyter-server<3,>=1.8 in /usr/local/lib/python3.10/dist-packages (from notebook-shim>=0.2.3->nbclassic>=0.4.7->notebook>=4.4.1->widgetsnbextension~=3.6.0->ipywidgets>=7.6.5->pycaret) (1.24.0)\n",
            "Requirement already satisfied: cffi>=1.0.1 in /usr/local/lib/python3.10/dist-packages (from argon2-cffi-bindings->argon2-cffi->notebook>=4.4.1->widgetsnbextension~=3.6.0->ipywidgets>=7.6.5->pycaret) (1.16.0)\n",
            "Requirement already satisfied: soupsieve>1.2 in /usr/local/lib/python3.10/dist-packages (from beautifulsoup4->nbconvert>=5->notebook>=4.4.1->widgetsnbextension~=3.6.0->ipywidgets>=7.6.5->pycaret) (2.5)\n",
            "Requirement already satisfied: webencodings in /usr/local/lib/python3.10/dist-packages (from bleach->nbconvert>=5->notebook>=4.4.1->widgetsnbextension~=3.6.0->ipywidgets>=7.6.5->pycaret) (0.5.1)\n",
            "Requirement already satisfied: pycparser in /usr/local/lib/python3.10/dist-packages (from cffi>=1.0.1->argon2-cffi-bindings->argon2-cffi->notebook>=4.4.1->widgetsnbextension~=3.6.0->ipywidgets>=7.6.5->pycaret) (2.22)\n",
            "Requirement already satisfied: anyio<4,>=3.1.0 in /usr/local/lib/python3.10/dist-packages (from jupyter-server<3,>=1.8->notebook-shim>=0.2.3->nbclassic>=0.4.7->notebook>=4.4.1->widgetsnbextension~=3.6.0->ipywidgets>=7.6.5->pycaret) (3.7.1)\n",
            "Requirement already satisfied: websocket-client in /usr/local/lib/python3.10/dist-packages (from jupyter-server<3,>=1.8->notebook-shim>=0.2.3->nbclassic>=0.4.7->notebook>=4.4.1->widgetsnbextension~=3.6.0->ipywidgets>=7.6.5->pycaret) (1.8.0)\n",
            "Requirement already satisfied: sniffio>=1.1 in /usr/local/lib/python3.10/dist-packages (from anyio<4,>=3.1.0->jupyter-server<3,>=1.8->notebook-shim>=0.2.3->nbclassic>=0.4.7->notebook>=4.4.1->widgetsnbextension~=3.6.0->ipywidgets>=7.6.5->pycaret) (1.3.1)\n",
            "Requirement already satisfied: exceptiongroup in /usr/local/lib/python3.10/dist-packages (from anyio<4,>=3.1.0->jupyter-server<3,>=1.8->notebook-shim>=0.2.3->nbclassic>=0.4.7->notebook>=4.4.1->widgetsnbextension~=3.6.0->ipywidgets>=7.6.5->pycaret) (1.2.1)\n"
          ]
        }
      ]
    },
    {
      "cell_type": "code",
      "source": [
        "from pycaret.classification import *"
      ],
      "metadata": {
        "id": "XGoudyNaN0nX"
      },
      "id": "XGoudyNaN0nX",
      "execution_count": null,
      "outputs": []
    },
    {
      "cell_type": "code",
      "source": [
        "# Initialize the setup\n",
        "clf = setup(data, target='AUF Result', session_id=123,train_size=0.8)\n",
        "\n",
        "# Compare models and select the best one\n",
        "best_model = compare_models()"
      ],
      "metadata": {
        "colab": {
          "base_uri": "https://localhost:8080/",
          "height": 1000,
          "referenced_widgets": [
            "21f79acd2285478fb0079b3c68b147ab",
            "772ab1ac33134e10bc81f7902eb1b243",
            "b6cde235ffcb4aeda72829154ccadce8",
            "aa0d4cc2880845f4b2cd699cbf145723",
            "da87d901627c414cb04a64792ea9a493",
            "1a34bd27aa2e42219454281179a376e3",
            "d3078ed2b0c9495b85e1c39fd4d27739",
            "1e4ea564925d47c2ad919961fe2724b7",
            "a21deede87c84662910dc9dc77921c8d",
            "4dc4173d0e5341da9efcc6147867f682",
            "88d556f606c34f898291990071531778"
          ]
        },
        "id": "QfUkmNEjN1a0",
        "outputId": "7ae269f3-c9d5-4d0c-9dc1-c6fc17d6a537"
      },
      "id": "QfUkmNEjN1a0",
      "execution_count": null,
      "outputs": [
        {
          "output_type": "display_data",
          "data": {
            "text/plain": [
              "<pandas.io.formats.style.Styler at 0x7bcabde44340>"
            ],
            "text/html": [
              "<style type=\"text/css\">\n",
              "#T_cebed_row9_col1 {\n",
              "  background-color: lightgreen;\n",
              "}\n",
              "</style>\n",
              "<table id=\"T_cebed\" class=\"dataframe\">\n",
              "  <thead>\n",
              "    <tr>\n",
              "      <th class=\"blank level0\" >&nbsp;</th>\n",
              "      <th id=\"T_cebed_level0_col0\" class=\"col_heading level0 col0\" >Description</th>\n",
              "      <th id=\"T_cebed_level0_col1\" class=\"col_heading level0 col1\" >Value</th>\n",
              "    </tr>\n",
              "  </thead>\n",
              "  <tbody>\n",
              "    <tr>\n",
              "      <th id=\"T_cebed_level0_row0\" class=\"row_heading level0 row0\" >0</th>\n",
              "      <td id=\"T_cebed_row0_col0\" class=\"data row0 col0\" >Session id</td>\n",
              "      <td id=\"T_cebed_row0_col1\" class=\"data row0 col1\" >123</td>\n",
              "    </tr>\n",
              "    <tr>\n",
              "      <th id=\"T_cebed_level0_row1\" class=\"row_heading level0 row1\" >1</th>\n",
              "      <td id=\"T_cebed_row1_col0\" class=\"data row1 col0\" >Target</td>\n",
              "      <td id=\"T_cebed_row1_col1\" class=\"data row1 col1\" >AUF Result</td>\n",
              "    </tr>\n",
              "    <tr>\n",
              "      <th id=\"T_cebed_level0_row2\" class=\"row_heading level0 row2\" >2</th>\n",
              "      <td id=\"T_cebed_row2_col0\" class=\"data row2 col0\" >Target type</td>\n",
              "      <td id=\"T_cebed_row2_col1\" class=\"data row2 col1\" >Multiclass</td>\n",
              "    </tr>\n",
              "    <tr>\n",
              "      <th id=\"T_cebed_level0_row3\" class=\"row_heading level0 row3\" >3</th>\n",
              "      <td id=\"T_cebed_row3_col0\" class=\"data row3 col0\" >Original data shape</td>\n",
              "      <td id=\"T_cebed_row3_col1\" class=\"data row3 col1\" >(361, 69)</td>\n",
              "    </tr>\n",
              "    <tr>\n",
              "      <th id=\"T_cebed_level0_row4\" class=\"row_heading level0 row4\" >4</th>\n",
              "      <td id=\"T_cebed_row4_col0\" class=\"data row4 col0\" >Transformed data shape</td>\n",
              "      <td id=\"T_cebed_row4_col1\" class=\"data row4 col1\" >(361, 69)</td>\n",
              "    </tr>\n",
              "    <tr>\n",
              "      <th id=\"T_cebed_level0_row5\" class=\"row_heading level0 row5\" >5</th>\n",
              "      <td id=\"T_cebed_row5_col0\" class=\"data row5 col0\" >Transformed train set shape</td>\n",
              "      <td id=\"T_cebed_row5_col1\" class=\"data row5 col1\" >(288, 69)</td>\n",
              "    </tr>\n",
              "    <tr>\n",
              "      <th id=\"T_cebed_level0_row6\" class=\"row_heading level0 row6\" >6</th>\n",
              "      <td id=\"T_cebed_row6_col0\" class=\"data row6 col0\" >Transformed test set shape</td>\n",
              "      <td id=\"T_cebed_row6_col1\" class=\"data row6 col1\" >(73, 69)</td>\n",
              "    </tr>\n",
              "    <tr>\n",
              "      <th id=\"T_cebed_level0_row7\" class=\"row_heading level0 row7\" >7</th>\n",
              "      <td id=\"T_cebed_row7_col0\" class=\"data row7 col0\" >Numeric features</td>\n",
              "      <td id=\"T_cebed_row7_col1\" class=\"data row7 col1\" >67</td>\n",
              "    </tr>\n",
              "    <tr>\n",
              "      <th id=\"T_cebed_level0_row8\" class=\"row_heading level0 row8\" >8</th>\n",
              "      <td id=\"T_cebed_row8_col0\" class=\"data row8 col0\" >Categorical features</td>\n",
              "      <td id=\"T_cebed_row8_col1\" class=\"data row8 col1\" >1</td>\n",
              "    </tr>\n",
              "    <tr>\n",
              "      <th id=\"T_cebed_level0_row9\" class=\"row_heading level0 row9\" >9</th>\n",
              "      <td id=\"T_cebed_row9_col0\" class=\"data row9 col0\" >Preprocess</td>\n",
              "      <td id=\"T_cebed_row9_col1\" class=\"data row9 col1\" >True</td>\n",
              "    </tr>\n",
              "    <tr>\n",
              "      <th id=\"T_cebed_level0_row10\" class=\"row_heading level0 row10\" >10</th>\n",
              "      <td id=\"T_cebed_row10_col0\" class=\"data row10 col0\" >Imputation type</td>\n",
              "      <td id=\"T_cebed_row10_col1\" class=\"data row10 col1\" >simple</td>\n",
              "    </tr>\n",
              "    <tr>\n",
              "      <th id=\"T_cebed_level0_row11\" class=\"row_heading level0 row11\" >11</th>\n",
              "      <td id=\"T_cebed_row11_col0\" class=\"data row11 col0\" >Numeric imputation</td>\n",
              "      <td id=\"T_cebed_row11_col1\" class=\"data row11 col1\" >mean</td>\n",
              "    </tr>\n",
              "    <tr>\n",
              "      <th id=\"T_cebed_level0_row12\" class=\"row_heading level0 row12\" >12</th>\n",
              "      <td id=\"T_cebed_row12_col0\" class=\"data row12 col0\" >Categorical imputation</td>\n",
              "      <td id=\"T_cebed_row12_col1\" class=\"data row12 col1\" >mode</td>\n",
              "    </tr>\n",
              "    <tr>\n",
              "      <th id=\"T_cebed_level0_row13\" class=\"row_heading level0 row13\" >13</th>\n",
              "      <td id=\"T_cebed_row13_col0\" class=\"data row13 col0\" >Maximum one-hot encoding</td>\n",
              "      <td id=\"T_cebed_row13_col1\" class=\"data row13 col1\" >25</td>\n",
              "    </tr>\n",
              "    <tr>\n",
              "      <th id=\"T_cebed_level0_row14\" class=\"row_heading level0 row14\" >14</th>\n",
              "      <td id=\"T_cebed_row14_col0\" class=\"data row14 col0\" >Encoding method</td>\n",
              "      <td id=\"T_cebed_row14_col1\" class=\"data row14 col1\" >None</td>\n",
              "    </tr>\n",
              "    <tr>\n",
              "      <th id=\"T_cebed_level0_row15\" class=\"row_heading level0 row15\" >15</th>\n",
              "      <td id=\"T_cebed_row15_col0\" class=\"data row15 col0\" >Fold Generator</td>\n",
              "      <td id=\"T_cebed_row15_col1\" class=\"data row15 col1\" >StratifiedKFold</td>\n",
              "    </tr>\n",
              "    <tr>\n",
              "      <th id=\"T_cebed_level0_row16\" class=\"row_heading level0 row16\" >16</th>\n",
              "      <td id=\"T_cebed_row16_col0\" class=\"data row16 col0\" >Fold Number</td>\n",
              "      <td id=\"T_cebed_row16_col1\" class=\"data row16 col1\" >10</td>\n",
              "    </tr>\n",
              "    <tr>\n",
              "      <th id=\"T_cebed_level0_row17\" class=\"row_heading level0 row17\" >17</th>\n",
              "      <td id=\"T_cebed_row17_col0\" class=\"data row17 col0\" >CPU Jobs</td>\n",
              "      <td id=\"T_cebed_row17_col1\" class=\"data row17 col1\" >-1</td>\n",
              "    </tr>\n",
              "    <tr>\n",
              "      <th id=\"T_cebed_level0_row18\" class=\"row_heading level0 row18\" >18</th>\n",
              "      <td id=\"T_cebed_row18_col0\" class=\"data row18 col0\" >Use GPU</td>\n",
              "      <td id=\"T_cebed_row18_col1\" class=\"data row18 col1\" >False</td>\n",
              "    </tr>\n",
              "    <tr>\n",
              "      <th id=\"T_cebed_level0_row19\" class=\"row_heading level0 row19\" >19</th>\n",
              "      <td id=\"T_cebed_row19_col0\" class=\"data row19 col0\" >Log Experiment</td>\n",
              "      <td id=\"T_cebed_row19_col1\" class=\"data row19 col1\" >False</td>\n",
              "    </tr>\n",
              "    <tr>\n",
              "      <th id=\"T_cebed_level0_row20\" class=\"row_heading level0 row20\" >20</th>\n",
              "      <td id=\"T_cebed_row20_col0\" class=\"data row20 col0\" >Experiment Name</td>\n",
              "      <td id=\"T_cebed_row20_col1\" class=\"data row20 col1\" >clf-default-name</td>\n",
              "    </tr>\n",
              "    <tr>\n",
              "      <th id=\"T_cebed_level0_row21\" class=\"row_heading level0 row21\" >21</th>\n",
              "      <td id=\"T_cebed_row21_col0\" class=\"data row21 col0\" >USI</td>\n",
              "      <td id=\"T_cebed_row21_col1\" class=\"data row21 col1\" >9a68</td>\n",
              "    </tr>\n",
              "  </tbody>\n",
              "</table>\n"
            ]
          },
          "metadata": {}
        },
        {
          "output_type": "display_data",
          "data": {
            "text/plain": [
              "<IPython.core.display.HTML object>"
            ],
            "text/html": []
          },
          "metadata": {}
        },
        {
          "output_type": "display_data",
          "data": {
            "text/plain": [
              "<pandas.io.formats.style.Styler at 0x7bcad6df12d0>"
            ],
            "text/html": [
              "<style type=\"text/css\">\n",
              "#T_20719 th {\n",
              "  text-align: left;\n",
              "}\n",
              "#T_20719_row0_col0, #T_20719_row0_col2, #T_20719_row0_col6, #T_20719_row0_col7, #T_20719_row1_col0, #T_20719_row1_col1, #T_20719_row1_col3, #T_20719_row1_col4, #T_20719_row1_col5, #T_20719_row2_col0, #T_20719_row2_col1, #T_20719_row2_col2, #T_20719_row2_col3, #T_20719_row2_col4, #T_20719_row2_col5, #T_20719_row2_col6, #T_20719_row2_col7, #T_20719_row3_col0, #T_20719_row3_col1, #T_20719_row3_col2, #T_20719_row3_col3, #T_20719_row3_col4, #T_20719_row3_col5, #T_20719_row3_col6, #T_20719_row3_col7, #T_20719_row4_col0, #T_20719_row4_col1, #T_20719_row4_col2, #T_20719_row4_col3, #T_20719_row4_col4, #T_20719_row4_col5, #T_20719_row4_col6, #T_20719_row4_col7, #T_20719_row5_col0, #T_20719_row5_col1, #T_20719_row5_col2, #T_20719_row5_col3, #T_20719_row5_col4, #T_20719_row5_col5, #T_20719_row5_col6, #T_20719_row5_col7, #T_20719_row6_col0, #T_20719_row6_col1, #T_20719_row6_col2, #T_20719_row6_col3, #T_20719_row6_col4, #T_20719_row6_col5, #T_20719_row6_col6, #T_20719_row6_col7, #T_20719_row7_col0, #T_20719_row7_col1, #T_20719_row7_col2, #T_20719_row7_col3, #T_20719_row7_col4, #T_20719_row7_col5, #T_20719_row7_col6, #T_20719_row7_col7, #T_20719_row8_col0, #T_20719_row8_col1, #T_20719_row8_col2, #T_20719_row8_col3, #T_20719_row8_col4, #T_20719_row8_col5, #T_20719_row8_col6, #T_20719_row8_col7, #T_20719_row9_col0, #T_20719_row9_col1, #T_20719_row9_col2, #T_20719_row9_col3, #T_20719_row9_col4, #T_20719_row9_col5, #T_20719_row9_col6, #T_20719_row9_col7, #T_20719_row10_col0, #T_20719_row10_col1, #T_20719_row10_col2, #T_20719_row10_col3, #T_20719_row10_col4, #T_20719_row10_col5, #T_20719_row10_col6, #T_20719_row10_col7, #T_20719_row11_col0, #T_20719_row11_col1, #T_20719_row11_col2, #T_20719_row11_col3, #T_20719_row11_col4, #T_20719_row11_col5, #T_20719_row11_col6, #T_20719_row11_col7, #T_20719_row12_col0, #T_20719_row12_col1, #T_20719_row12_col2, #T_20719_row12_col3, #T_20719_row12_col4, #T_20719_row12_col5, #T_20719_row12_col6, #T_20719_row12_col7, #T_20719_row13_col0, #T_20719_row13_col1, #T_20719_row13_col2, #T_20719_row13_col3, #T_20719_row13_col4, #T_20719_row13_col5, #T_20719_row13_col6, #T_20719_row13_col7, #T_20719_row14_col0, #T_20719_row14_col1, #T_20719_row14_col2, #T_20719_row14_col3, #T_20719_row14_col4, #T_20719_row14_col5, #T_20719_row14_col6, #T_20719_row14_col7 {\n",
              "  text-align: left;\n",
              "}\n",
              "#T_20719_row0_col1, #T_20719_row0_col3, #T_20719_row0_col4, #T_20719_row0_col5, #T_20719_row1_col2, #T_20719_row1_col6, #T_20719_row1_col7 {\n",
              "  text-align: left;\n",
              "  background-color: yellow;\n",
              "}\n",
              "#T_20719_row0_col8, #T_20719_row1_col8, #T_20719_row2_col8, #T_20719_row3_col8, #T_20719_row4_col8, #T_20719_row5_col8, #T_20719_row6_col8, #T_20719_row7_col8, #T_20719_row8_col8, #T_20719_row9_col8, #T_20719_row10_col8, #T_20719_row12_col8, #T_20719_row13_col8, #T_20719_row14_col8 {\n",
              "  text-align: left;\n",
              "  background-color: lightgrey;\n",
              "}\n",
              "#T_20719_row11_col8 {\n",
              "  text-align: left;\n",
              "  background-color: yellow;\n",
              "  background-color: lightgrey;\n",
              "}\n",
              "</style>\n",
              "<table id=\"T_20719\" class=\"dataframe\">\n",
              "  <thead>\n",
              "    <tr>\n",
              "      <th class=\"blank level0\" >&nbsp;</th>\n",
              "      <th id=\"T_20719_level0_col0\" class=\"col_heading level0 col0\" >Model</th>\n",
              "      <th id=\"T_20719_level0_col1\" class=\"col_heading level0 col1\" >Accuracy</th>\n",
              "      <th id=\"T_20719_level0_col2\" class=\"col_heading level0 col2\" >AUC</th>\n",
              "      <th id=\"T_20719_level0_col3\" class=\"col_heading level0 col3\" >Recall</th>\n",
              "      <th id=\"T_20719_level0_col4\" class=\"col_heading level0 col4\" >Prec.</th>\n",
              "      <th id=\"T_20719_level0_col5\" class=\"col_heading level0 col5\" >F1</th>\n",
              "      <th id=\"T_20719_level0_col6\" class=\"col_heading level0 col6\" >Kappa</th>\n",
              "      <th id=\"T_20719_level0_col7\" class=\"col_heading level0 col7\" >MCC</th>\n",
              "      <th id=\"T_20719_level0_col8\" class=\"col_heading level0 col8\" >TT (Sec)</th>\n",
              "    </tr>\n",
              "  </thead>\n",
              "  <tbody>\n",
              "    <tr>\n",
              "      <th id=\"T_20719_level0_row0\" class=\"row_heading level0 row0\" >et</th>\n",
              "      <td id=\"T_20719_row0_col0\" class=\"data row0 col0\" >Extra Trees Classifier</td>\n",
              "      <td id=\"T_20719_row0_col1\" class=\"data row0 col1\" >0.7534</td>\n",
              "      <td id=\"T_20719_row0_col2\" class=\"data row0 col2\" >0.8199</td>\n",
              "      <td id=\"T_20719_row0_col3\" class=\"data row0 col3\" >0.7534</td>\n",
              "      <td id=\"T_20719_row0_col4\" class=\"data row0 col4\" >0.7085</td>\n",
              "      <td id=\"T_20719_row0_col5\" class=\"data row0 col5\" >0.7108</td>\n",
              "      <td id=\"T_20719_row0_col6\" class=\"data row0 col6\" >0.5054</td>\n",
              "      <td id=\"T_20719_row0_col7\" class=\"data row0 col7\" >0.5378</td>\n",
              "      <td id=\"T_20719_row0_col8\" class=\"data row0 col8\" >0.3980</td>\n",
              "    </tr>\n",
              "    <tr>\n",
              "      <th id=\"T_20719_level0_row1\" class=\"row_heading level0 row1\" >rf</th>\n",
              "      <td id=\"T_20719_row1_col0\" class=\"data row1 col0\" >Random Forest Classifier</td>\n",
              "      <td id=\"T_20719_row1_col1\" class=\"data row1 col1\" >0.7532</td>\n",
              "      <td id=\"T_20719_row1_col2\" class=\"data row1 col2\" >0.8281</td>\n",
              "      <td id=\"T_20719_row1_col3\" class=\"data row1 col3\" >0.7532</td>\n",
              "      <td id=\"T_20719_row1_col4\" class=\"data row1 col4\" >0.6979</td>\n",
              "      <td id=\"T_20719_row1_col5\" class=\"data row1 col5\" >0.7075</td>\n",
              "      <td id=\"T_20719_row1_col6\" class=\"data row1 col6\" >0.5103</td>\n",
              "      <td id=\"T_20719_row1_col7\" class=\"data row1 col7\" >0.5386</td>\n",
              "      <td id=\"T_20719_row1_col8\" class=\"data row1 col8\" >0.4320</td>\n",
              "    </tr>\n",
              "    <tr>\n",
              "      <th id=\"T_20719_level0_row2\" class=\"row_heading level0 row2\" >lightgbm</th>\n",
              "      <td id=\"T_20719_row2_col0\" class=\"data row2 col0\" >Light Gradient Boosting Machine</td>\n",
              "      <td id=\"T_20719_row2_col1\" class=\"data row2 col1\" >0.7084</td>\n",
              "      <td id=\"T_20719_row2_col2\" class=\"data row2 col2\" >0.7978</td>\n",
              "      <td id=\"T_20719_row2_col3\" class=\"data row2 col3\" >0.7084</td>\n",
              "      <td id=\"T_20719_row2_col4\" class=\"data row2 col4\" >0.6707</td>\n",
              "      <td id=\"T_20719_row2_col5\" class=\"data row2 col5\" >0.6827</td>\n",
              "      <td id=\"T_20719_row2_col6\" class=\"data row2 col6\" >0.4514</td>\n",
              "      <td id=\"T_20719_row2_col7\" class=\"data row2 col7\" >0.4609</td>\n",
              "      <td id=\"T_20719_row2_col8\" class=\"data row2 col8\" >0.6060</td>\n",
              "    </tr>\n",
              "    <tr>\n",
              "      <th id=\"T_20719_level0_row3\" class=\"row_heading level0 row3\" >xgboost</th>\n",
              "      <td id=\"T_20719_row3_col0\" class=\"data row3 col0\" >Extreme Gradient Boosting</td>\n",
              "      <td id=\"T_20719_row3_col1\" class=\"data row3 col1\" >0.7081</td>\n",
              "      <td id=\"T_20719_row3_col2\" class=\"data row3 col2\" >0.7846</td>\n",
              "      <td id=\"T_20719_row3_col3\" class=\"data row3 col3\" >0.7081</td>\n",
              "      <td id=\"T_20719_row3_col4\" class=\"data row3 col4\" >0.6711</td>\n",
              "      <td id=\"T_20719_row3_col5\" class=\"data row3 col5\" >0.6829</td>\n",
              "      <td id=\"T_20719_row3_col6\" class=\"data row3 col6\" >0.4531</td>\n",
              "      <td id=\"T_20719_row3_col7\" class=\"data row3 col7\" >0.4632</td>\n",
              "      <td id=\"T_20719_row3_col8\" class=\"data row3 col8\" >0.2580</td>\n",
              "    </tr>\n",
              "    <tr>\n",
              "      <th id=\"T_20719_level0_row4\" class=\"row_heading level0 row4\" >gbc</th>\n",
              "      <td id=\"T_20719_row4_col0\" class=\"data row4 col0\" >Gradient Boosting Classifier</td>\n",
              "      <td id=\"T_20719_row4_col1\" class=\"data row4 col1\" >0.7047</td>\n",
              "      <td id=\"T_20719_row4_col2\" class=\"data row4 col2\" >0.0000</td>\n",
              "      <td id=\"T_20719_row4_col3\" class=\"data row4 col3\" >0.7047</td>\n",
              "      <td id=\"T_20719_row4_col4\" class=\"data row4 col4\" >0.6860</td>\n",
              "      <td id=\"T_20719_row4_col5\" class=\"data row4 col5\" >0.6825</td>\n",
              "      <td id=\"T_20719_row4_col6\" class=\"data row4 col6\" >0.4502</td>\n",
              "      <td id=\"T_20719_row4_col7\" class=\"data row4 col7\" >0.4597</td>\n",
              "      <td id=\"T_20719_row4_col8\" class=\"data row4 col8\" >0.6290</td>\n",
              "    </tr>\n",
              "    <tr>\n",
              "      <th id=\"T_20719_level0_row5\" class=\"row_heading level0 row5\" >lr</th>\n",
              "      <td id=\"T_20719_row5_col0\" class=\"data row5 col0\" >Logistic Regression</td>\n",
              "      <td id=\"T_20719_row5_col1\" class=\"data row5 col1\" >0.6881</td>\n",
              "      <td id=\"T_20719_row5_col2\" class=\"data row5 col2\" >0.0000</td>\n",
              "      <td id=\"T_20719_row5_col3\" class=\"data row5 col3\" >0.6881</td>\n",
              "      <td id=\"T_20719_row5_col4\" class=\"data row5 col4\" >0.6120</td>\n",
              "      <td id=\"T_20719_row5_col5\" class=\"data row5 col5\" >0.6407</td>\n",
              "      <td id=\"T_20719_row5_col6\" class=\"data row5 col6\" >0.3940</td>\n",
              "      <td id=\"T_20719_row5_col7\" class=\"data row5 col7\" >0.4165</td>\n",
              "      <td id=\"T_20719_row5_col8\" class=\"data row5 col8\" >2.0470</td>\n",
              "    </tr>\n",
              "    <tr>\n",
              "      <th id=\"T_20719_level0_row6\" class=\"row_heading level0 row6\" >qda</th>\n",
              "      <td id=\"T_20719_row6_col0\" class=\"data row6 col0\" >Quadratic Discriminant Analysis</td>\n",
              "      <td id=\"T_20719_row6_col1\" class=\"data row6 col1\" >0.6874</td>\n",
              "      <td id=\"T_20719_row6_col2\" class=\"data row6 col2\" >0.0000</td>\n",
              "      <td id=\"T_20719_row6_col3\" class=\"data row6 col3\" >0.6874</td>\n",
              "      <td id=\"T_20719_row6_col4\" class=\"data row6 col4\" >0.6340</td>\n",
              "      <td id=\"T_20719_row6_col5\" class=\"data row6 col5\" >0.6399</td>\n",
              "      <td id=\"T_20719_row6_col6\" class=\"data row6 col6\" >0.3770</td>\n",
              "      <td id=\"T_20719_row6_col7\" class=\"data row6 col7\" >0.4065</td>\n",
              "      <td id=\"T_20719_row6_col8\" class=\"data row6 col8\" >0.1080</td>\n",
              "    </tr>\n",
              "    <tr>\n",
              "      <th id=\"T_20719_level0_row7\" class=\"row_heading level0 row7\" >ridge</th>\n",
              "      <td id=\"T_20719_row7_col0\" class=\"data row7 col0\" >Ridge Classifier</td>\n",
              "      <td id=\"T_20719_row7_col1\" class=\"data row7 col1\" >0.6600</td>\n",
              "      <td id=\"T_20719_row7_col2\" class=\"data row7 col2\" >0.0000</td>\n",
              "      <td id=\"T_20719_row7_col3\" class=\"data row7 col3\" >0.6600</td>\n",
              "      <td id=\"T_20719_row7_col4\" class=\"data row7 col4\" >0.6410</td>\n",
              "      <td id=\"T_20719_row7_col5\" class=\"data row7 col5\" >0.6441</td>\n",
              "      <td id=\"T_20719_row7_col6\" class=\"data row7 col6\" >0.3757</td>\n",
              "      <td id=\"T_20719_row7_col7\" class=\"data row7 col7\" >0.3814</td>\n",
              "      <td id=\"T_20719_row7_col8\" class=\"data row7 col8\" >0.1070</td>\n",
              "    </tr>\n",
              "    <tr>\n",
              "      <th id=\"T_20719_level0_row8\" class=\"row_heading level0 row8\" >ada</th>\n",
              "      <td id=\"T_20719_row8_col0\" class=\"data row8 col0\" >Ada Boost Classifier</td>\n",
              "      <td id=\"T_20719_row8_col1\" class=\"data row8 col1\" >0.6461</td>\n",
              "      <td id=\"T_20719_row8_col2\" class=\"data row8 col2\" >0.0000</td>\n",
              "      <td id=\"T_20719_row8_col3\" class=\"data row8 col3\" >0.6461</td>\n",
              "      <td id=\"T_20719_row8_col4\" class=\"data row8 col4\" >0.6353</td>\n",
              "      <td id=\"T_20719_row8_col5\" class=\"data row8 col5\" >0.6288</td>\n",
              "      <td id=\"T_20719_row8_col6\" class=\"data row8 col6\" >0.3454</td>\n",
              "      <td id=\"T_20719_row8_col7\" class=\"data row8 col7\" >0.3553</td>\n",
              "      <td id=\"T_20719_row8_col8\" class=\"data row8 col8\" >0.1890</td>\n",
              "    </tr>\n",
              "    <tr>\n",
              "      <th id=\"T_20719_level0_row9\" class=\"row_heading level0 row9\" >lda</th>\n",
              "      <td id=\"T_20719_row9_col0\" class=\"data row9 col0\" >Linear Discriminant Analysis</td>\n",
              "      <td id=\"T_20719_row9_col1\" class=\"data row9 col1\" >0.6289</td>\n",
              "      <td id=\"T_20719_row9_col2\" class=\"data row9 col2\" >0.0000</td>\n",
              "      <td id=\"T_20719_row9_col3\" class=\"data row9 col3\" >0.6289</td>\n",
              "      <td id=\"T_20719_row9_col4\" class=\"data row9 col4\" >0.6198</td>\n",
              "      <td id=\"T_20719_row9_col5\" class=\"data row9 col5\" >0.6191</td>\n",
              "      <td id=\"T_20719_row9_col6\" class=\"data row9 col6\" >0.3256</td>\n",
              "      <td id=\"T_20719_row9_col7\" class=\"data row9 col7\" >0.3294</td>\n",
              "      <td id=\"T_20719_row9_col8\" class=\"data row9 col8\" >0.0950</td>\n",
              "    </tr>\n",
              "    <tr>\n",
              "      <th id=\"T_20719_level0_row10\" class=\"row_heading level0 row10\" >dt</th>\n",
              "      <td id=\"T_20719_row10_col0\" class=\"data row10 col0\" >Decision Tree Classifier</td>\n",
              "      <td id=\"T_20719_row10_col1\" class=\"data row10 col1\" >0.6038</td>\n",
              "      <td id=\"T_20719_row10_col2\" class=\"data row10 col2\" >0.6662</td>\n",
              "      <td id=\"T_20719_row10_col3\" class=\"data row10 col3\" >0.6038</td>\n",
              "      <td id=\"T_20719_row10_col4\" class=\"data row10 col4\" >0.6257</td>\n",
              "      <td id=\"T_20719_row10_col5\" class=\"data row10 col5\" >0.6062</td>\n",
              "      <td id=\"T_20719_row10_col6\" class=\"data row10 col6\" >0.3116</td>\n",
              "      <td id=\"T_20719_row10_col7\" class=\"data row10 col7\" >0.3173</td>\n",
              "      <td id=\"T_20719_row10_col8\" class=\"data row10 col8\" >0.1460</td>\n",
              "    </tr>\n",
              "    <tr>\n",
              "      <th id=\"T_20719_level0_row11\" class=\"row_heading level0 row11\" >dummy</th>\n",
              "      <td id=\"T_20719_row11_col0\" class=\"data row11 col0\" >Dummy Classifier</td>\n",
              "      <td id=\"T_20719_row11_col1\" class=\"data row11 col1\" >0.5729</td>\n",
              "      <td id=\"T_20719_row11_col2\" class=\"data row11 col2\" >0.5000</td>\n",
              "      <td id=\"T_20719_row11_col3\" class=\"data row11 col3\" >0.5729</td>\n",
              "      <td id=\"T_20719_row11_col4\" class=\"data row11 col4\" >0.3284</td>\n",
              "      <td id=\"T_20719_row11_col5\" class=\"data row11 col5\" >0.4175</td>\n",
              "      <td id=\"T_20719_row11_col6\" class=\"data row11 col6\" >0.0000</td>\n",
              "      <td id=\"T_20719_row11_col7\" class=\"data row11 col7\" >0.0000</td>\n",
              "      <td id=\"T_20719_row11_col8\" class=\"data row11 col8\" >0.0790</td>\n",
              "    </tr>\n",
              "    <tr>\n",
              "      <th id=\"T_20719_level0_row12\" class=\"row_heading level0 row12\" >knn</th>\n",
              "      <td id=\"T_20719_row12_col0\" class=\"data row12 col0\" >K Neighbors Classifier</td>\n",
              "      <td id=\"T_20719_row12_col1\" class=\"data row12 col1\" >0.5727</td>\n",
              "      <td id=\"T_20719_row12_col2\" class=\"data row12 col2\" >0.6488</td>\n",
              "      <td id=\"T_20719_row12_col3\" class=\"data row12 col3\" >0.5727</td>\n",
              "      <td id=\"T_20719_row12_col4\" class=\"data row12 col4\" >0.5480</td>\n",
              "      <td id=\"T_20719_row12_col5\" class=\"data row12 col5\" >0.5419</td>\n",
              "      <td id=\"T_20719_row12_col6\" class=\"data row12 col6\" >0.1764</td>\n",
              "      <td id=\"T_20719_row12_col7\" class=\"data row12 col7\" >0.1853</td>\n",
              "      <td id=\"T_20719_row12_col8\" class=\"data row12 col8\" >0.1640</td>\n",
              "    </tr>\n",
              "    <tr>\n",
              "      <th id=\"T_20719_level0_row13\" class=\"row_heading level0 row13\" >svm</th>\n",
              "      <td id=\"T_20719_row13_col0\" class=\"data row13 col0\" >SVM - Linear Kernel</td>\n",
              "      <td id=\"T_20719_row13_col1\" class=\"data row13 col1\" >0.4587</td>\n",
              "      <td id=\"T_20719_row13_col2\" class=\"data row13 col2\" >0.0000</td>\n",
              "      <td id=\"T_20719_row13_col3\" class=\"data row13 col3\" >0.4587</td>\n",
              "      <td id=\"T_20719_row13_col4\" class=\"data row13 col4\" >0.3882</td>\n",
              "      <td id=\"T_20719_row13_col5\" class=\"data row13 col5\" >0.3630</td>\n",
              "      <td id=\"T_20719_row13_col6\" class=\"data row13 col6\" >0.0340</td>\n",
              "      <td id=\"T_20719_row13_col7\" class=\"data row13 col7\" >0.0545</td>\n",
              "      <td id=\"T_20719_row13_col8\" class=\"data row13 col8\" >0.1670</td>\n",
              "    </tr>\n",
              "    <tr>\n",
              "      <th id=\"T_20719_level0_row14\" class=\"row_heading level0 row14\" >nb</th>\n",
              "      <td id=\"T_20719_row14_col0\" class=\"data row14 col0\" >Naive Bayes</td>\n",
              "      <td id=\"T_20719_row14_col1\" class=\"data row14 col1\" >0.4346</td>\n",
              "      <td id=\"T_20719_row14_col2\" class=\"data row14 col2\" >0.7232</td>\n",
              "      <td id=\"T_20719_row14_col3\" class=\"data row14 col3\" >0.4346</td>\n",
              "      <td id=\"T_20719_row14_col4\" class=\"data row14 col4\" >0.5394</td>\n",
              "      <td id=\"T_20719_row14_col5\" class=\"data row14 col5\" >0.3843</td>\n",
              "      <td id=\"T_20719_row14_col6\" class=\"data row14 col6\" >0.2014</td>\n",
              "      <td id=\"T_20719_row14_col7\" class=\"data row14 col7\" >0.2558</td>\n",
              "      <td id=\"T_20719_row14_col8\" class=\"data row14 col8\" >0.1680</td>\n",
              "    </tr>\n",
              "  </tbody>\n",
              "</table>\n"
            ]
          },
          "metadata": {}
        },
        {
          "output_type": "display_data",
          "data": {
            "text/plain": [
              "Processing:   0%|          | 0/65 [00:00<?, ?it/s]"
            ],
            "application/vnd.jupyter.widget-view+json": {
              "version_major": 2,
              "version_minor": 0,
              "model_id": "21f79acd2285478fb0079b3c68b147ab"
            }
          },
          "metadata": {
            "application/vnd.jupyter.widget-view+json": {
              "colab": {
                "custom_widget_manager": {
                  "url": "https://ssl.gstatic.com/colaboratory-static/widgets/colab-cdn-widget-manager/2b70e893a8ba7c0f/manager.min.js"
                }
              }
            }
          }
        },
        {
          "output_type": "display_data",
          "data": {
            "text/plain": [
              "<IPython.core.display.HTML object>"
            ],
            "text/html": []
          },
          "metadata": {}
        }
      ]
    }
  ],
  "metadata": {
    "colab": {
      "provenance": [],
      "include_colab_link": true
    },
    "kernelspec": {
      "display_name": "Python 3 (ipykernel)",
      "language": "python",
      "name": "python3"
    },
    "language_info": {
      "codemirror_mode": {
        "name": "ipython",
        "version": 3
      },
      "file_extension": ".py",
      "mimetype": "text/x-python",
      "name": "python",
      "nbconvert_exporter": "python",
      "pygments_lexer": "ipython3",
      "version": "3.11.5"
    },
    "widgets": {
      "application/vnd.jupyter.widget-state+json": {
        "21f79acd2285478fb0079b3c68b147ab": {
          "model_module": "@jupyter-widgets/controls",
          "model_name": "HBoxModel",
          "model_module_version": "1.5.0",
          "state": {
            "_dom_classes": [],
            "_model_module": "@jupyter-widgets/controls",
            "_model_module_version": "1.5.0",
            "_model_name": "HBoxModel",
            "_view_count": null,
            "_view_module": "@jupyter-widgets/controls",
            "_view_module_version": "1.5.0",
            "_view_name": "HBoxView",
            "box_style": "",
            "children": [
              "IPY_MODEL_772ab1ac33134e10bc81f7902eb1b243",
              "IPY_MODEL_b6cde235ffcb4aeda72829154ccadce8",
              "IPY_MODEL_aa0d4cc2880845f4b2cd699cbf145723"
            ],
            "layout": "IPY_MODEL_da87d901627c414cb04a64792ea9a493"
          }
        },
        "772ab1ac33134e10bc81f7902eb1b243": {
          "model_module": "@jupyter-widgets/controls",
          "model_name": "HTMLModel",
          "model_module_version": "1.5.0",
          "state": {
            "_dom_classes": [],
            "_model_module": "@jupyter-widgets/controls",
            "_model_module_version": "1.5.0",
            "_model_name": "HTMLModel",
            "_view_count": null,
            "_view_module": "@jupyter-widgets/controls",
            "_view_module_version": "1.5.0",
            "_view_name": "HTMLView",
            "description": "",
            "description_tooltip": null,
            "layout": "IPY_MODEL_1a34bd27aa2e42219454281179a376e3",
            "placeholder": "​",
            "style": "IPY_MODEL_d3078ed2b0c9495b85e1c39fd4d27739",
            "value": "Processing: 100%"
          }
        },
        "b6cde235ffcb4aeda72829154ccadce8": {
          "model_module": "@jupyter-widgets/controls",
          "model_name": "FloatProgressModel",
          "model_module_version": "1.5.0",
          "state": {
            "_dom_classes": [],
            "_model_module": "@jupyter-widgets/controls",
            "_model_module_version": "1.5.0",
            "_model_name": "FloatProgressModel",
            "_view_count": null,
            "_view_module": "@jupyter-widgets/controls",
            "_view_module_version": "1.5.0",
            "_view_name": "ProgressView",
            "bar_style": "",
            "description": "",
            "description_tooltip": null,
            "layout": "IPY_MODEL_1e4ea564925d47c2ad919961fe2724b7",
            "max": 65,
            "min": 0,
            "orientation": "horizontal",
            "style": "IPY_MODEL_a21deede87c84662910dc9dc77921c8d",
            "value": 65
          }
        },
        "aa0d4cc2880845f4b2cd699cbf145723": {
          "model_module": "@jupyter-widgets/controls",
          "model_name": "HTMLModel",
          "model_module_version": "1.5.0",
          "state": {
            "_dom_classes": [],
            "_model_module": "@jupyter-widgets/controls",
            "_model_module_version": "1.5.0",
            "_model_name": "HTMLModel",
            "_view_count": null,
            "_view_module": "@jupyter-widgets/controls",
            "_view_module_version": "1.5.0",
            "_view_name": "HTMLView",
            "description": "",
            "description_tooltip": null,
            "layout": "IPY_MODEL_4dc4173d0e5341da9efcc6147867f682",
            "placeholder": "​",
            "style": "IPY_MODEL_88d556f606c34f898291990071531778",
            "value": " 65/65 [01:01&lt;00:00,  2.02it/s]"
          }
        },
        "da87d901627c414cb04a64792ea9a493": {
          "model_module": "@jupyter-widgets/base",
          "model_name": "LayoutModel",
          "model_module_version": "1.2.0",
          "state": {
            "_model_module": "@jupyter-widgets/base",
            "_model_module_version": "1.2.0",
            "_model_name": "LayoutModel",
            "_view_count": null,
            "_view_module": "@jupyter-widgets/base",
            "_view_module_version": "1.2.0",
            "_view_name": "LayoutView",
            "align_content": null,
            "align_items": null,
            "align_self": null,
            "border": null,
            "bottom": null,
            "display": null,
            "flex": null,
            "flex_flow": null,
            "grid_area": null,
            "grid_auto_columns": null,
            "grid_auto_flow": null,
            "grid_auto_rows": null,
            "grid_column": null,
            "grid_gap": null,
            "grid_row": null,
            "grid_template_areas": null,
            "grid_template_columns": null,
            "grid_template_rows": null,
            "height": null,
            "justify_content": null,
            "justify_items": null,
            "left": null,
            "margin": null,
            "max_height": null,
            "max_width": null,
            "min_height": null,
            "min_width": null,
            "object_fit": null,
            "object_position": null,
            "order": null,
            "overflow": null,
            "overflow_x": null,
            "overflow_y": null,
            "padding": null,
            "right": null,
            "top": null,
            "visibility": "hidden",
            "width": null
          }
        },
        "1a34bd27aa2e42219454281179a376e3": {
          "model_module": "@jupyter-widgets/base",
          "model_name": "LayoutModel",
          "model_module_version": "1.2.0",
          "state": {
            "_model_module": "@jupyter-widgets/base",
            "_model_module_version": "1.2.0",
            "_model_name": "LayoutModel",
            "_view_count": null,
            "_view_module": "@jupyter-widgets/base",
            "_view_module_version": "1.2.0",
            "_view_name": "LayoutView",
            "align_content": null,
            "align_items": null,
            "align_self": null,
            "border": null,
            "bottom": null,
            "display": null,
            "flex": null,
            "flex_flow": null,
            "grid_area": null,
            "grid_auto_columns": null,
            "grid_auto_flow": null,
            "grid_auto_rows": null,
            "grid_column": null,
            "grid_gap": null,
            "grid_row": null,
            "grid_template_areas": null,
            "grid_template_columns": null,
            "grid_template_rows": null,
            "height": null,
            "justify_content": null,
            "justify_items": null,
            "left": null,
            "margin": null,
            "max_height": null,
            "max_width": null,
            "min_height": null,
            "min_width": null,
            "object_fit": null,
            "object_position": null,
            "order": null,
            "overflow": null,
            "overflow_x": null,
            "overflow_y": null,
            "padding": null,
            "right": null,
            "top": null,
            "visibility": null,
            "width": null
          }
        },
        "d3078ed2b0c9495b85e1c39fd4d27739": {
          "model_module": "@jupyter-widgets/controls",
          "model_name": "DescriptionStyleModel",
          "model_module_version": "1.5.0",
          "state": {
            "_model_module": "@jupyter-widgets/controls",
            "_model_module_version": "1.5.0",
            "_model_name": "DescriptionStyleModel",
            "_view_count": null,
            "_view_module": "@jupyter-widgets/base",
            "_view_module_version": "1.2.0",
            "_view_name": "StyleView",
            "description_width": ""
          }
        },
        "1e4ea564925d47c2ad919961fe2724b7": {
          "model_module": "@jupyter-widgets/base",
          "model_name": "LayoutModel",
          "model_module_version": "1.2.0",
          "state": {
            "_model_module": "@jupyter-widgets/base",
            "_model_module_version": "1.2.0",
            "_model_name": "LayoutModel",
            "_view_count": null,
            "_view_module": "@jupyter-widgets/base",
            "_view_module_version": "1.2.0",
            "_view_name": "LayoutView",
            "align_content": null,
            "align_items": null,
            "align_self": null,
            "border": null,
            "bottom": null,
            "display": null,
            "flex": null,
            "flex_flow": null,
            "grid_area": null,
            "grid_auto_columns": null,
            "grid_auto_flow": null,
            "grid_auto_rows": null,
            "grid_column": null,
            "grid_gap": null,
            "grid_row": null,
            "grid_template_areas": null,
            "grid_template_columns": null,
            "grid_template_rows": null,
            "height": null,
            "justify_content": null,
            "justify_items": null,
            "left": null,
            "margin": null,
            "max_height": null,
            "max_width": null,
            "min_height": null,
            "min_width": null,
            "object_fit": null,
            "object_position": null,
            "order": null,
            "overflow": null,
            "overflow_x": null,
            "overflow_y": null,
            "padding": null,
            "right": null,
            "top": null,
            "visibility": null,
            "width": null
          }
        },
        "a21deede87c84662910dc9dc77921c8d": {
          "model_module": "@jupyter-widgets/controls",
          "model_name": "ProgressStyleModel",
          "model_module_version": "1.5.0",
          "state": {
            "_model_module": "@jupyter-widgets/controls",
            "_model_module_version": "1.5.0",
            "_model_name": "ProgressStyleModel",
            "_view_count": null,
            "_view_module": "@jupyter-widgets/base",
            "_view_module_version": "1.2.0",
            "_view_name": "StyleView",
            "bar_color": null,
            "description_width": ""
          }
        },
        "4dc4173d0e5341da9efcc6147867f682": {
          "model_module": "@jupyter-widgets/base",
          "model_name": "LayoutModel",
          "model_module_version": "1.2.0",
          "state": {
            "_model_module": "@jupyter-widgets/base",
            "_model_module_version": "1.2.0",
            "_model_name": "LayoutModel",
            "_view_count": null,
            "_view_module": "@jupyter-widgets/base",
            "_view_module_version": "1.2.0",
            "_view_name": "LayoutView",
            "align_content": null,
            "align_items": null,
            "align_self": null,
            "border": null,
            "bottom": null,
            "display": null,
            "flex": null,
            "flex_flow": null,
            "grid_area": null,
            "grid_auto_columns": null,
            "grid_auto_flow": null,
            "grid_auto_rows": null,
            "grid_column": null,
            "grid_gap": null,
            "grid_row": null,
            "grid_template_areas": null,
            "grid_template_columns": null,
            "grid_template_rows": null,
            "height": null,
            "justify_content": null,
            "justify_items": null,
            "left": null,
            "margin": null,
            "max_height": null,
            "max_width": null,
            "min_height": null,
            "min_width": null,
            "object_fit": null,
            "object_position": null,
            "order": null,
            "overflow": null,
            "overflow_x": null,
            "overflow_y": null,
            "padding": null,
            "right": null,
            "top": null,
            "visibility": null,
            "width": null
          }
        },
        "88d556f606c34f898291990071531778": {
          "model_module": "@jupyter-widgets/controls",
          "model_name": "DescriptionStyleModel",
          "model_module_version": "1.5.0",
          "state": {
            "_model_module": "@jupyter-widgets/controls",
            "_model_module_version": "1.5.0",
            "_model_name": "DescriptionStyleModel",
            "_view_count": null,
            "_view_module": "@jupyter-widgets/base",
            "_view_module_version": "1.2.0",
            "_view_name": "StyleView",
            "description_width": ""
          }
        }
      }
    }
  },
  "nbformat": 4,
  "nbformat_minor": 5
}