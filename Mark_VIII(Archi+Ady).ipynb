{
  "cells": [
    {
      "cell_type": "markdown",
      "metadata": {
        "id": "view-in-github",
        "colab_type": "text"
      },
      "source": [
        "<a href=\"https://colab.research.google.com/github/AdamayB/00_P.D.F-Projects_Done_for_Fun/blob/main/Mark_VIII(Archi%2BAdy).ipynb\" target=\"_parent\"><img src=\"https://colab.research.google.com/assets/colab-badge.svg\" alt=\"Open In Colab\"/></a>"
      ]
    },
    {
      "cell_type": "code",
      "execution_count": null,
      "id": "j36zKaZ0AM49",
      "metadata": {
        "id": "j36zKaZ0AM49"
      },
      "outputs": [],
      "source": [
        "# !pip install pandas numpy seaborn tensorflow matplotlib"
      ]
    },
    {
      "cell_type": "code",
      "execution_count": null,
      "id": "488ab233",
      "metadata": {
        "id": "488ab233"
      },
      "outputs": [],
      "source": [
        "import pandas as pd\n",
        "import numpy as np\n",
        "import seaborn as sns\n",
        "import matplotlib.pyplot as plt\n",
        "%matplotlib inline"
      ]
    },
    {
      "cell_type": "code",
      "execution_count": null,
      "id": "efbda926",
      "metadata": {
        "id": "efbda926"
      },
      "outputs": [],
      "source": [
        "from sklearn.preprocessing import StandardScaler, LabelEncoder"
      ]
    },
    {
      "cell_type": "code",
      "execution_count": null,
      "id": "825bb4f4",
      "metadata": {
        "id": "825bb4f4"
      },
      "outputs": [],
      "source": [
        "le=LabelEncoder()"
      ]
    },
    {
      "cell_type": "code",
      "execution_count": null,
      "id": "92f11bae",
      "metadata": {
        "id": "92f11bae"
      },
      "outputs": [],
      "source": [
        "data = pd.read_csv(\"dataset.csv\")"
      ]
    },
    {
      "cell_type": "code",
      "execution_count": null,
      "id": "7b331bd2",
      "metadata": {
        "colab": {
          "base_uri": "https://localhost:8080/",
          "height": 481
        },
        "id": "7b331bd2",
        "outputId": "ecf7bfd4-b2b5-437f-cd9f-0131784d55ae"
      },
      "outputs": [
        {
          "output_type": "execute_result",
          "data": {
            "text/plain": [
              "   S.NO      Age  Months Sex Lab No.         DOA Fever (P/A)  \\\n",
              "0     1  2Y0M28D      24   F  AUF001  19-06-2022           P   \n",
              "1     2  4Y11M7D      59   M  AUF004  21-06-2022           P   \n",
              "2     3      44Y     528   F  AUF006         NaN           P   \n",
              "3     4      41Y     492   M  AUF007         NaN           P   \n",
              "4     5      75Y     900   M  AUF008         NaN           A   \n",
              "\n",
              "   Duration of fever (days) Headache (P/A)  Duration of headache  ...  \\\n",
              "0                       3.0              A                   NaN  ...   \n",
              "1                       4.0              A                   NaN  ...   \n",
              "2                       7.0              P                  30.0  ...   \n",
              "3                       4.0              A                   NaN  ...   \n",
              "4                       NaN              A                   NaN  ...   \n",
              "\n",
              "  Malarial parasites (Done/Not done)  Malaria report  \\\n",
              "0                                NaN             NaN   \n",
              "1                                NaN             NaN   \n",
              "2                                NaN             NaN   \n",
              "3                                NaN             NaN   \n",
              "4                                NaN             NaN   \n",
              "\n",
              "  ELISA for leptospirosis (Done/Not done)  Lepto report CXR (Done/Not done)  \\\n",
              "0                                     NaN           NaN                 NaN   \n",
              "1                                     NaN           NaN                   D   \n",
              "2                                     NaN           NaN                   D   \n",
              "3                                     NaN           NaN                   D   \n",
              "4                                     NaN           NaN                   D   \n",
              "\n",
              "    Xray report  USG Abdomen (Done/Not done)  \\\n",
              "0           NaN                            D   \n",
              "1  Normal study                            D   \n",
              "2  Normal study                            D   \n",
              "3  Normal study                          NaN   \n",
              "4  Normal study                          NaN   \n",
              "\n",
              "                                      USG Abd report         Final Diagnosis  \\\n",
              "0                                       Normal study  Probable viral illness   \n",
              "1  Mild diffude bladder wall thickening s/o Dysfu...  Probable viral illness   \n",
              "2  Mild hepatosplenomegaly, minimal free fluid in...                     NaN   \n",
              "3                                                NaN                     NaN   \n",
              "4                                                NaN                     NaN   \n",
              "\n",
              "                                          AUF Result  \n",
              "0                                           Negative  \n",
              "1  Positive for Dengue (Serotype DEN3) and Ricket...  \n",
              "2                                           Negative  \n",
              "3                                           Negative  \n",
              "4                            Inconclusive for Dengue  \n",
              "\n",
              "[5 rows x 71 columns]"
            ],
            "text/html": [
              "\n",
              "  <div id=\"df-0e465645-83e8-401c-a6e1-9d74e2b2bff6\" class=\"colab-df-container\">\n",
              "    <div>\n",
              "<style scoped>\n",
              "    .dataframe tbody tr th:only-of-type {\n",
              "        vertical-align: middle;\n",
              "    }\n",
              "\n",
              "    .dataframe tbody tr th {\n",
              "        vertical-align: top;\n",
              "    }\n",
              "\n",
              "    .dataframe thead th {\n",
              "        text-align: right;\n",
              "    }\n",
              "</style>\n",
              "<table border=\"1\" class=\"dataframe\">\n",
              "  <thead>\n",
              "    <tr style=\"text-align: right;\">\n",
              "      <th></th>\n",
              "      <th>S.NO</th>\n",
              "      <th>Age</th>\n",
              "      <th>Months</th>\n",
              "      <th>Sex</th>\n",
              "      <th>Lab No.</th>\n",
              "      <th>DOA</th>\n",
              "      <th>Fever (P/A)</th>\n",
              "      <th>Duration of fever (days)</th>\n",
              "      <th>Headache (P/A)</th>\n",
              "      <th>Duration of headache</th>\n",
              "      <th>...</th>\n",
              "      <th>Malarial parasites (Done/Not done)</th>\n",
              "      <th>Malaria report</th>\n",
              "      <th>ELISA for leptospirosis (Done/Not done)</th>\n",
              "      <th>Lepto report</th>\n",
              "      <th>CXR (Done/Not done)</th>\n",
              "      <th>Xray report</th>\n",
              "      <th>USG Abdomen (Done/Not done)</th>\n",
              "      <th>USG Abd report</th>\n",
              "      <th>Final Diagnosis</th>\n",
              "      <th>AUF Result</th>\n",
              "    </tr>\n",
              "  </thead>\n",
              "  <tbody>\n",
              "    <tr>\n",
              "      <th>0</th>\n",
              "      <td>1</td>\n",
              "      <td>2Y0M28D</td>\n",
              "      <td>24</td>\n",
              "      <td>F</td>\n",
              "      <td>AUF001</td>\n",
              "      <td>19-06-2022</td>\n",
              "      <td>P</td>\n",
              "      <td>3.0</td>\n",
              "      <td>A</td>\n",
              "      <td>NaN</td>\n",
              "      <td>...</td>\n",
              "      <td>NaN</td>\n",
              "      <td>NaN</td>\n",
              "      <td>NaN</td>\n",
              "      <td>NaN</td>\n",
              "      <td>NaN</td>\n",
              "      <td>NaN</td>\n",
              "      <td>D</td>\n",
              "      <td>Normal study</td>\n",
              "      <td>Probable viral illness</td>\n",
              "      <td>Negative</td>\n",
              "    </tr>\n",
              "    <tr>\n",
              "      <th>1</th>\n",
              "      <td>2</td>\n",
              "      <td>4Y11M7D</td>\n",
              "      <td>59</td>\n",
              "      <td>M</td>\n",
              "      <td>AUF004</td>\n",
              "      <td>21-06-2022</td>\n",
              "      <td>P</td>\n",
              "      <td>4.0</td>\n",
              "      <td>A</td>\n",
              "      <td>NaN</td>\n",
              "      <td>...</td>\n",
              "      <td>NaN</td>\n",
              "      <td>NaN</td>\n",
              "      <td>NaN</td>\n",
              "      <td>NaN</td>\n",
              "      <td>D</td>\n",
              "      <td>Normal study</td>\n",
              "      <td>D</td>\n",
              "      <td>Mild diffude bladder wall thickening s/o Dysfu...</td>\n",
              "      <td>Probable viral illness</td>\n",
              "      <td>Positive for Dengue (Serotype DEN3) and Ricket...</td>\n",
              "    </tr>\n",
              "    <tr>\n",
              "      <th>2</th>\n",
              "      <td>3</td>\n",
              "      <td>44Y</td>\n",
              "      <td>528</td>\n",
              "      <td>F</td>\n",
              "      <td>AUF006</td>\n",
              "      <td>NaN</td>\n",
              "      <td>P</td>\n",
              "      <td>7.0</td>\n",
              "      <td>P</td>\n",
              "      <td>30.0</td>\n",
              "      <td>...</td>\n",
              "      <td>NaN</td>\n",
              "      <td>NaN</td>\n",
              "      <td>NaN</td>\n",
              "      <td>NaN</td>\n",
              "      <td>D</td>\n",
              "      <td>Normal study</td>\n",
              "      <td>D</td>\n",
              "      <td>Mild hepatosplenomegaly, minimal free fluid in...</td>\n",
              "      <td>NaN</td>\n",
              "      <td>Negative</td>\n",
              "    </tr>\n",
              "    <tr>\n",
              "      <th>3</th>\n",
              "      <td>4</td>\n",
              "      <td>41Y</td>\n",
              "      <td>492</td>\n",
              "      <td>M</td>\n",
              "      <td>AUF007</td>\n",
              "      <td>NaN</td>\n",
              "      <td>P</td>\n",
              "      <td>4.0</td>\n",
              "      <td>A</td>\n",
              "      <td>NaN</td>\n",
              "      <td>...</td>\n",
              "      <td>NaN</td>\n",
              "      <td>NaN</td>\n",
              "      <td>NaN</td>\n",
              "      <td>NaN</td>\n",
              "      <td>D</td>\n",
              "      <td>Normal study</td>\n",
              "      <td>NaN</td>\n",
              "      <td>NaN</td>\n",
              "      <td>NaN</td>\n",
              "      <td>Negative</td>\n",
              "    </tr>\n",
              "    <tr>\n",
              "      <th>4</th>\n",
              "      <td>5</td>\n",
              "      <td>75Y</td>\n",
              "      <td>900</td>\n",
              "      <td>M</td>\n",
              "      <td>AUF008</td>\n",
              "      <td>NaN</td>\n",
              "      <td>A</td>\n",
              "      <td>NaN</td>\n",
              "      <td>A</td>\n",
              "      <td>NaN</td>\n",
              "      <td>...</td>\n",
              "      <td>NaN</td>\n",
              "      <td>NaN</td>\n",
              "      <td>NaN</td>\n",
              "      <td>NaN</td>\n",
              "      <td>D</td>\n",
              "      <td>Normal study</td>\n",
              "      <td>NaN</td>\n",
              "      <td>NaN</td>\n",
              "      <td>NaN</td>\n",
              "      <td>Inconclusive for Dengue</td>\n",
              "    </tr>\n",
              "  </tbody>\n",
              "</table>\n",
              "<p>5 rows × 71 columns</p>\n",
              "</div>\n",
              "    <div class=\"colab-df-buttons\">\n",
              "\n",
              "  <div class=\"colab-df-container\">\n",
              "    <button class=\"colab-df-convert\" onclick=\"convertToInteractive('df-0e465645-83e8-401c-a6e1-9d74e2b2bff6')\"\n",
              "            title=\"Convert this dataframe to an interactive table.\"\n",
              "            style=\"display:none;\">\n",
              "\n",
              "  <svg xmlns=\"http://www.w3.org/2000/svg\" height=\"24px\" viewBox=\"0 -960 960 960\">\n",
              "    <path d=\"M120-120v-720h720v720H120Zm60-500h600v-160H180v160Zm220 220h160v-160H400v160Zm0 220h160v-160H400v160ZM180-400h160v-160H180v160Zm440 0h160v-160H620v160ZM180-180h160v-160H180v160Zm440 0h160v-160H620v160Z\"/>\n",
              "  </svg>\n",
              "    </button>\n",
              "\n",
              "  <style>\n",
              "    .colab-df-container {\n",
              "      display:flex;\n",
              "      gap: 12px;\n",
              "    }\n",
              "\n",
              "    .colab-df-convert {\n",
              "      background-color: #E8F0FE;\n",
              "      border: none;\n",
              "      border-radius: 50%;\n",
              "      cursor: pointer;\n",
              "      display: none;\n",
              "      fill: #1967D2;\n",
              "      height: 32px;\n",
              "      padding: 0 0 0 0;\n",
              "      width: 32px;\n",
              "    }\n",
              "\n",
              "    .colab-df-convert:hover {\n",
              "      background-color: #E2EBFA;\n",
              "      box-shadow: 0px 1px 2px rgba(60, 64, 67, 0.3), 0px 1px 3px 1px rgba(60, 64, 67, 0.15);\n",
              "      fill: #174EA6;\n",
              "    }\n",
              "\n",
              "    .colab-df-buttons div {\n",
              "      margin-bottom: 4px;\n",
              "    }\n",
              "\n",
              "    [theme=dark] .colab-df-convert {\n",
              "      background-color: #3B4455;\n",
              "      fill: #D2E3FC;\n",
              "    }\n",
              "\n",
              "    [theme=dark] .colab-df-convert:hover {\n",
              "      background-color: #434B5C;\n",
              "      box-shadow: 0px 1px 3px 1px rgba(0, 0, 0, 0.15);\n",
              "      filter: drop-shadow(0px 1px 2px rgba(0, 0, 0, 0.3));\n",
              "      fill: #FFFFFF;\n",
              "    }\n",
              "  </style>\n",
              "\n",
              "    <script>\n",
              "      const buttonEl =\n",
              "        document.querySelector('#df-0e465645-83e8-401c-a6e1-9d74e2b2bff6 button.colab-df-convert');\n",
              "      buttonEl.style.display =\n",
              "        google.colab.kernel.accessAllowed ? 'block' : 'none';\n",
              "\n",
              "      async function convertToInteractive(key) {\n",
              "        const element = document.querySelector('#df-0e465645-83e8-401c-a6e1-9d74e2b2bff6');\n",
              "        const dataTable =\n",
              "          await google.colab.kernel.invokeFunction('convertToInteractive',\n",
              "                                                    [key], {});\n",
              "        if (!dataTable) return;\n",
              "\n",
              "        const docLinkHtml = 'Like what you see? Visit the ' +\n",
              "          '<a target=\"_blank\" href=https://colab.research.google.com/notebooks/data_table.ipynb>data table notebook</a>'\n",
              "          + ' to learn more about interactive tables.';\n",
              "        element.innerHTML = '';\n",
              "        dataTable['output_type'] = 'display_data';\n",
              "        await google.colab.output.renderOutput(dataTable, element);\n",
              "        const docLink = document.createElement('div');\n",
              "        docLink.innerHTML = docLinkHtml;\n",
              "        element.appendChild(docLink);\n",
              "      }\n",
              "    </script>\n",
              "  </div>\n",
              "\n",
              "\n",
              "<div id=\"df-446f250f-a021-4477-9966-140d41342d4b\">\n",
              "  <button class=\"colab-df-quickchart\" onclick=\"quickchart('df-446f250f-a021-4477-9966-140d41342d4b')\"\n",
              "            title=\"Suggest charts\"\n",
              "            style=\"display:none;\">\n",
              "\n",
              "<svg xmlns=\"http://www.w3.org/2000/svg\" height=\"24px\"viewBox=\"0 0 24 24\"\n",
              "     width=\"24px\">\n",
              "    <g>\n",
              "        <path d=\"M19 3H5c-1.1 0-2 .9-2 2v14c0 1.1.9 2 2 2h14c1.1 0 2-.9 2-2V5c0-1.1-.9-2-2-2zM9 17H7v-7h2v7zm4 0h-2V7h2v10zm4 0h-2v-4h2v4z\"/>\n",
              "    </g>\n",
              "</svg>\n",
              "  </button>\n",
              "\n",
              "<style>\n",
              "  .colab-df-quickchart {\n",
              "      --bg-color: #E8F0FE;\n",
              "      --fill-color: #1967D2;\n",
              "      --hover-bg-color: #E2EBFA;\n",
              "      --hover-fill-color: #174EA6;\n",
              "      --disabled-fill-color: #AAA;\n",
              "      --disabled-bg-color: #DDD;\n",
              "  }\n",
              "\n",
              "  [theme=dark] .colab-df-quickchart {\n",
              "      --bg-color: #3B4455;\n",
              "      --fill-color: #D2E3FC;\n",
              "      --hover-bg-color: #434B5C;\n",
              "      --hover-fill-color: #FFFFFF;\n",
              "      --disabled-bg-color: #3B4455;\n",
              "      --disabled-fill-color: #666;\n",
              "  }\n",
              "\n",
              "  .colab-df-quickchart {\n",
              "    background-color: var(--bg-color);\n",
              "    border: none;\n",
              "    border-radius: 50%;\n",
              "    cursor: pointer;\n",
              "    display: none;\n",
              "    fill: var(--fill-color);\n",
              "    height: 32px;\n",
              "    padding: 0;\n",
              "    width: 32px;\n",
              "  }\n",
              "\n",
              "  .colab-df-quickchart:hover {\n",
              "    background-color: var(--hover-bg-color);\n",
              "    box-shadow: 0 1px 2px rgba(60, 64, 67, 0.3), 0 1px 3px 1px rgba(60, 64, 67, 0.15);\n",
              "    fill: var(--button-hover-fill-color);\n",
              "  }\n",
              "\n",
              "  .colab-df-quickchart-complete:disabled,\n",
              "  .colab-df-quickchart-complete:disabled:hover {\n",
              "    background-color: var(--disabled-bg-color);\n",
              "    fill: var(--disabled-fill-color);\n",
              "    box-shadow: none;\n",
              "  }\n",
              "\n",
              "  .colab-df-spinner {\n",
              "    border: 2px solid var(--fill-color);\n",
              "    border-color: transparent;\n",
              "    border-bottom-color: var(--fill-color);\n",
              "    animation:\n",
              "      spin 1s steps(1) infinite;\n",
              "  }\n",
              "\n",
              "  @keyframes spin {\n",
              "    0% {\n",
              "      border-color: transparent;\n",
              "      border-bottom-color: var(--fill-color);\n",
              "      border-left-color: var(--fill-color);\n",
              "    }\n",
              "    20% {\n",
              "      border-color: transparent;\n",
              "      border-left-color: var(--fill-color);\n",
              "      border-top-color: var(--fill-color);\n",
              "    }\n",
              "    30% {\n",
              "      border-color: transparent;\n",
              "      border-left-color: var(--fill-color);\n",
              "      border-top-color: var(--fill-color);\n",
              "      border-right-color: var(--fill-color);\n",
              "    }\n",
              "    40% {\n",
              "      border-color: transparent;\n",
              "      border-right-color: var(--fill-color);\n",
              "      border-top-color: var(--fill-color);\n",
              "    }\n",
              "    60% {\n",
              "      border-color: transparent;\n",
              "      border-right-color: var(--fill-color);\n",
              "    }\n",
              "    80% {\n",
              "      border-color: transparent;\n",
              "      border-right-color: var(--fill-color);\n",
              "      border-bottom-color: var(--fill-color);\n",
              "    }\n",
              "    90% {\n",
              "      border-color: transparent;\n",
              "      border-bottom-color: var(--fill-color);\n",
              "    }\n",
              "  }\n",
              "</style>\n",
              "\n",
              "  <script>\n",
              "    async function quickchart(key) {\n",
              "      const quickchartButtonEl =\n",
              "        document.querySelector('#' + key + ' button');\n",
              "      quickchartButtonEl.disabled = true;  // To prevent multiple clicks.\n",
              "      quickchartButtonEl.classList.add('colab-df-spinner');\n",
              "      try {\n",
              "        const charts = await google.colab.kernel.invokeFunction(\n",
              "            'suggestCharts', [key], {});\n",
              "      } catch (error) {\n",
              "        console.error('Error during call to suggestCharts:', error);\n",
              "      }\n",
              "      quickchartButtonEl.classList.remove('colab-df-spinner');\n",
              "      quickchartButtonEl.classList.add('colab-df-quickchart-complete');\n",
              "    }\n",
              "    (() => {\n",
              "      let quickchartButtonEl =\n",
              "        document.querySelector('#df-446f250f-a021-4477-9966-140d41342d4b button');\n",
              "      quickchartButtonEl.style.display =\n",
              "        google.colab.kernel.accessAllowed ? 'block' : 'none';\n",
              "    })();\n",
              "  </script>\n",
              "</div>\n",
              "\n",
              "    </div>\n",
              "  </div>\n"
            ],
            "application/vnd.google.colaboratory.intrinsic+json": {
              "type": "dataframe",
              "variable_name": "data"
            }
          },
          "metadata": {},
          "execution_count": 6
        }
      ],
      "source": [
        "data.head()"
      ]
    },
    {
      "cell_type": "code",
      "execution_count": null,
      "id": "2a20af1a",
      "metadata": {
        "id": "2a20af1a"
      },
      "outputs": [],
      "source": [
        "data.drop(['S.NO','Age','Lab No.'],axis=1,inplace=True)"
      ]
    },
    {
      "cell_type": "code",
      "execution_count": null,
      "id": "8c58b52a",
      "metadata": {
        "colab": {
          "base_uri": "https://localhost:8080/",
          "height": 481
        },
        "id": "8c58b52a",
        "outputId": "84b30689-65c0-4620-9367-57cbc7e6806e"
      },
      "outputs": [
        {
          "output_type": "execute_result",
          "data": {
            "text/plain": [
              "   Months Sex         DOA Fever (P/A)  Duration of fever (days)  \\\n",
              "0      24   F  19-06-2022           P                       3.0   \n",
              "1      59   M  21-06-2022           P                       4.0   \n",
              "2     528   F         NaN           P                       7.0   \n",
              "3     492   M         NaN           P                       4.0   \n",
              "4     900   M         NaN           A                       NaN   \n",
              "\n",
              "  Headache (P/A)  Duration of headache Myalgia (P/A)  Duration of myalgia  \\\n",
              "0              A                   NaN             A                  NaN   \n",
              "1              A                   NaN             A                  NaN   \n",
              "2              P                  30.0             P                  5.0   \n",
              "3              A                   NaN             P                  4.0   \n",
              "4              A                   NaN             A                  NaN   \n",
              "\n",
              "  Cough (P/A)  ...  Malarial parasites (Done/Not done) Malaria report  \\\n",
              "0           A  ...                                 NaN            NaN   \n",
              "1           A  ...                                 NaN            NaN   \n",
              "2           P  ...                                 NaN            NaN   \n",
              "3           A  ...                                 NaN            NaN   \n",
              "4           A  ...                                 NaN            NaN   \n",
              "\n",
              "  ELISA for leptospirosis (Done/Not done)  Lepto report CXR (Done/Not done)  \\\n",
              "0                                     NaN           NaN                 NaN   \n",
              "1                                     NaN           NaN                   D   \n",
              "2                                     NaN           NaN                   D   \n",
              "3                                     NaN           NaN                   D   \n",
              "4                                     NaN           NaN                   D   \n",
              "\n",
              "    Xray report USG Abdomen (Done/Not done)  \\\n",
              "0           NaN                           D   \n",
              "1  Normal study                           D   \n",
              "2  Normal study                           D   \n",
              "3  Normal study                         NaN   \n",
              "4  Normal study                         NaN   \n",
              "\n",
              "                                      USG Abd report         Final Diagnosis  \\\n",
              "0                                       Normal study  Probable viral illness   \n",
              "1  Mild diffude bladder wall thickening s/o Dysfu...  Probable viral illness   \n",
              "2  Mild hepatosplenomegaly, minimal free fluid in...                     NaN   \n",
              "3                                                NaN                     NaN   \n",
              "4                                                NaN                     NaN   \n",
              "\n",
              "                                          AUF Result  \n",
              "0                                           Negative  \n",
              "1  Positive for Dengue (Serotype DEN3) and Ricket...  \n",
              "2                                           Negative  \n",
              "3                                           Negative  \n",
              "4                            Inconclusive for Dengue  \n",
              "\n",
              "[5 rows x 68 columns]"
            ],
            "text/html": [
              "\n",
              "  <div id=\"df-d77e3e9a-0dac-48f7-b76f-e2be5f7c061f\" class=\"colab-df-container\">\n",
              "    <div>\n",
              "<style scoped>\n",
              "    .dataframe tbody tr th:only-of-type {\n",
              "        vertical-align: middle;\n",
              "    }\n",
              "\n",
              "    .dataframe tbody tr th {\n",
              "        vertical-align: top;\n",
              "    }\n",
              "\n",
              "    .dataframe thead th {\n",
              "        text-align: right;\n",
              "    }\n",
              "</style>\n",
              "<table border=\"1\" class=\"dataframe\">\n",
              "  <thead>\n",
              "    <tr style=\"text-align: right;\">\n",
              "      <th></th>\n",
              "      <th>Months</th>\n",
              "      <th>Sex</th>\n",
              "      <th>DOA</th>\n",
              "      <th>Fever (P/A)</th>\n",
              "      <th>Duration of fever (days)</th>\n",
              "      <th>Headache (P/A)</th>\n",
              "      <th>Duration of headache</th>\n",
              "      <th>Myalgia (P/A)</th>\n",
              "      <th>Duration of myalgia</th>\n",
              "      <th>Cough (P/A)</th>\n",
              "      <th>...</th>\n",
              "      <th>Malarial parasites (Done/Not done)</th>\n",
              "      <th>Malaria report</th>\n",
              "      <th>ELISA for leptospirosis (Done/Not done)</th>\n",
              "      <th>Lepto report</th>\n",
              "      <th>CXR (Done/Not done)</th>\n",
              "      <th>Xray report</th>\n",
              "      <th>USG Abdomen (Done/Not done)</th>\n",
              "      <th>USG Abd report</th>\n",
              "      <th>Final Diagnosis</th>\n",
              "      <th>AUF Result</th>\n",
              "    </tr>\n",
              "  </thead>\n",
              "  <tbody>\n",
              "    <tr>\n",
              "      <th>0</th>\n",
              "      <td>24</td>\n",
              "      <td>F</td>\n",
              "      <td>19-06-2022</td>\n",
              "      <td>P</td>\n",
              "      <td>3.0</td>\n",
              "      <td>A</td>\n",
              "      <td>NaN</td>\n",
              "      <td>A</td>\n",
              "      <td>NaN</td>\n",
              "      <td>A</td>\n",
              "      <td>...</td>\n",
              "      <td>NaN</td>\n",
              "      <td>NaN</td>\n",
              "      <td>NaN</td>\n",
              "      <td>NaN</td>\n",
              "      <td>NaN</td>\n",
              "      <td>NaN</td>\n",
              "      <td>D</td>\n",
              "      <td>Normal study</td>\n",
              "      <td>Probable viral illness</td>\n",
              "      <td>Negative</td>\n",
              "    </tr>\n",
              "    <tr>\n",
              "      <th>1</th>\n",
              "      <td>59</td>\n",
              "      <td>M</td>\n",
              "      <td>21-06-2022</td>\n",
              "      <td>P</td>\n",
              "      <td>4.0</td>\n",
              "      <td>A</td>\n",
              "      <td>NaN</td>\n",
              "      <td>A</td>\n",
              "      <td>NaN</td>\n",
              "      <td>A</td>\n",
              "      <td>...</td>\n",
              "      <td>NaN</td>\n",
              "      <td>NaN</td>\n",
              "      <td>NaN</td>\n",
              "      <td>NaN</td>\n",
              "      <td>D</td>\n",
              "      <td>Normal study</td>\n",
              "      <td>D</td>\n",
              "      <td>Mild diffude bladder wall thickening s/o Dysfu...</td>\n",
              "      <td>Probable viral illness</td>\n",
              "      <td>Positive for Dengue (Serotype DEN3) and Ricket...</td>\n",
              "    </tr>\n",
              "    <tr>\n",
              "      <th>2</th>\n",
              "      <td>528</td>\n",
              "      <td>F</td>\n",
              "      <td>NaN</td>\n",
              "      <td>P</td>\n",
              "      <td>7.0</td>\n",
              "      <td>P</td>\n",
              "      <td>30.0</td>\n",
              "      <td>P</td>\n",
              "      <td>5.0</td>\n",
              "      <td>P</td>\n",
              "      <td>...</td>\n",
              "      <td>NaN</td>\n",
              "      <td>NaN</td>\n",
              "      <td>NaN</td>\n",
              "      <td>NaN</td>\n",
              "      <td>D</td>\n",
              "      <td>Normal study</td>\n",
              "      <td>D</td>\n",
              "      <td>Mild hepatosplenomegaly, minimal free fluid in...</td>\n",
              "      <td>NaN</td>\n",
              "      <td>Negative</td>\n",
              "    </tr>\n",
              "    <tr>\n",
              "      <th>3</th>\n",
              "      <td>492</td>\n",
              "      <td>M</td>\n",
              "      <td>NaN</td>\n",
              "      <td>P</td>\n",
              "      <td>4.0</td>\n",
              "      <td>A</td>\n",
              "      <td>NaN</td>\n",
              "      <td>P</td>\n",
              "      <td>4.0</td>\n",
              "      <td>A</td>\n",
              "      <td>...</td>\n",
              "      <td>NaN</td>\n",
              "      <td>NaN</td>\n",
              "      <td>NaN</td>\n",
              "      <td>NaN</td>\n",
              "      <td>D</td>\n",
              "      <td>Normal study</td>\n",
              "      <td>NaN</td>\n",
              "      <td>NaN</td>\n",
              "      <td>NaN</td>\n",
              "      <td>Negative</td>\n",
              "    </tr>\n",
              "    <tr>\n",
              "      <th>4</th>\n",
              "      <td>900</td>\n",
              "      <td>M</td>\n",
              "      <td>NaN</td>\n",
              "      <td>A</td>\n",
              "      <td>NaN</td>\n",
              "      <td>A</td>\n",
              "      <td>NaN</td>\n",
              "      <td>A</td>\n",
              "      <td>NaN</td>\n",
              "      <td>A</td>\n",
              "      <td>...</td>\n",
              "      <td>NaN</td>\n",
              "      <td>NaN</td>\n",
              "      <td>NaN</td>\n",
              "      <td>NaN</td>\n",
              "      <td>D</td>\n",
              "      <td>Normal study</td>\n",
              "      <td>NaN</td>\n",
              "      <td>NaN</td>\n",
              "      <td>NaN</td>\n",
              "      <td>Inconclusive for Dengue</td>\n",
              "    </tr>\n",
              "  </tbody>\n",
              "</table>\n",
              "<p>5 rows × 68 columns</p>\n",
              "</div>\n",
              "    <div class=\"colab-df-buttons\">\n",
              "\n",
              "  <div class=\"colab-df-container\">\n",
              "    <button class=\"colab-df-convert\" onclick=\"convertToInteractive('df-d77e3e9a-0dac-48f7-b76f-e2be5f7c061f')\"\n",
              "            title=\"Convert this dataframe to an interactive table.\"\n",
              "            style=\"display:none;\">\n",
              "\n",
              "  <svg xmlns=\"http://www.w3.org/2000/svg\" height=\"24px\" viewBox=\"0 -960 960 960\">\n",
              "    <path d=\"M120-120v-720h720v720H120Zm60-500h600v-160H180v160Zm220 220h160v-160H400v160Zm0 220h160v-160H400v160ZM180-400h160v-160H180v160Zm440 0h160v-160H620v160ZM180-180h160v-160H180v160Zm440 0h160v-160H620v160Z\"/>\n",
              "  </svg>\n",
              "    </button>\n",
              "\n",
              "  <style>\n",
              "    .colab-df-container {\n",
              "      display:flex;\n",
              "      gap: 12px;\n",
              "    }\n",
              "\n",
              "    .colab-df-convert {\n",
              "      background-color: #E8F0FE;\n",
              "      border: none;\n",
              "      border-radius: 50%;\n",
              "      cursor: pointer;\n",
              "      display: none;\n",
              "      fill: #1967D2;\n",
              "      height: 32px;\n",
              "      padding: 0 0 0 0;\n",
              "      width: 32px;\n",
              "    }\n",
              "\n",
              "    .colab-df-convert:hover {\n",
              "      background-color: #E2EBFA;\n",
              "      box-shadow: 0px 1px 2px rgba(60, 64, 67, 0.3), 0px 1px 3px 1px rgba(60, 64, 67, 0.15);\n",
              "      fill: #174EA6;\n",
              "    }\n",
              "\n",
              "    .colab-df-buttons div {\n",
              "      margin-bottom: 4px;\n",
              "    }\n",
              "\n",
              "    [theme=dark] .colab-df-convert {\n",
              "      background-color: #3B4455;\n",
              "      fill: #D2E3FC;\n",
              "    }\n",
              "\n",
              "    [theme=dark] .colab-df-convert:hover {\n",
              "      background-color: #434B5C;\n",
              "      box-shadow: 0px 1px 3px 1px rgba(0, 0, 0, 0.15);\n",
              "      filter: drop-shadow(0px 1px 2px rgba(0, 0, 0, 0.3));\n",
              "      fill: #FFFFFF;\n",
              "    }\n",
              "  </style>\n",
              "\n",
              "    <script>\n",
              "      const buttonEl =\n",
              "        document.querySelector('#df-d77e3e9a-0dac-48f7-b76f-e2be5f7c061f button.colab-df-convert');\n",
              "      buttonEl.style.display =\n",
              "        google.colab.kernel.accessAllowed ? 'block' : 'none';\n",
              "\n",
              "      async function convertToInteractive(key) {\n",
              "        const element = document.querySelector('#df-d77e3e9a-0dac-48f7-b76f-e2be5f7c061f');\n",
              "        const dataTable =\n",
              "          await google.colab.kernel.invokeFunction('convertToInteractive',\n",
              "                                                    [key], {});\n",
              "        if (!dataTable) return;\n",
              "\n",
              "        const docLinkHtml = 'Like what you see? Visit the ' +\n",
              "          '<a target=\"_blank\" href=https://colab.research.google.com/notebooks/data_table.ipynb>data table notebook</a>'\n",
              "          + ' to learn more about interactive tables.';\n",
              "        element.innerHTML = '';\n",
              "        dataTable['output_type'] = 'display_data';\n",
              "        await google.colab.output.renderOutput(dataTable, element);\n",
              "        const docLink = document.createElement('div');\n",
              "        docLink.innerHTML = docLinkHtml;\n",
              "        element.appendChild(docLink);\n",
              "      }\n",
              "    </script>\n",
              "  </div>\n",
              "\n",
              "\n",
              "<div id=\"df-81e485e2-1ee0-43df-9c0d-7a627751e7ee\">\n",
              "  <button class=\"colab-df-quickchart\" onclick=\"quickchart('df-81e485e2-1ee0-43df-9c0d-7a627751e7ee')\"\n",
              "            title=\"Suggest charts\"\n",
              "            style=\"display:none;\">\n",
              "\n",
              "<svg xmlns=\"http://www.w3.org/2000/svg\" height=\"24px\"viewBox=\"0 0 24 24\"\n",
              "     width=\"24px\">\n",
              "    <g>\n",
              "        <path d=\"M19 3H5c-1.1 0-2 .9-2 2v14c0 1.1.9 2 2 2h14c1.1 0 2-.9 2-2V5c0-1.1-.9-2-2-2zM9 17H7v-7h2v7zm4 0h-2V7h2v10zm4 0h-2v-4h2v4z\"/>\n",
              "    </g>\n",
              "</svg>\n",
              "  </button>\n",
              "\n",
              "<style>\n",
              "  .colab-df-quickchart {\n",
              "      --bg-color: #E8F0FE;\n",
              "      --fill-color: #1967D2;\n",
              "      --hover-bg-color: #E2EBFA;\n",
              "      --hover-fill-color: #174EA6;\n",
              "      --disabled-fill-color: #AAA;\n",
              "      --disabled-bg-color: #DDD;\n",
              "  }\n",
              "\n",
              "  [theme=dark] .colab-df-quickchart {\n",
              "      --bg-color: #3B4455;\n",
              "      --fill-color: #D2E3FC;\n",
              "      --hover-bg-color: #434B5C;\n",
              "      --hover-fill-color: #FFFFFF;\n",
              "      --disabled-bg-color: #3B4455;\n",
              "      --disabled-fill-color: #666;\n",
              "  }\n",
              "\n",
              "  .colab-df-quickchart {\n",
              "    background-color: var(--bg-color);\n",
              "    border: none;\n",
              "    border-radius: 50%;\n",
              "    cursor: pointer;\n",
              "    display: none;\n",
              "    fill: var(--fill-color);\n",
              "    height: 32px;\n",
              "    padding: 0;\n",
              "    width: 32px;\n",
              "  }\n",
              "\n",
              "  .colab-df-quickchart:hover {\n",
              "    background-color: var(--hover-bg-color);\n",
              "    box-shadow: 0 1px 2px rgba(60, 64, 67, 0.3), 0 1px 3px 1px rgba(60, 64, 67, 0.15);\n",
              "    fill: var(--button-hover-fill-color);\n",
              "  }\n",
              "\n",
              "  .colab-df-quickchart-complete:disabled,\n",
              "  .colab-df-quickchart-complete:disabled:hover {\n",
              "    background-color: var(--disabled-bg-color);\n",
              "    fill: var(--disabled-fill-color);\n",
              "    box-shadow: none;\n",
              "  }\n",
              "\n",
              "  .colab-df-spinner {\n",
              "    border: 2px solid var(--fill-color);\n",
              "    border-color: transparent;\n",
              "    border-bottom-color: var(--fill-color);\n",
              "    animation:\n",
              "      spin 1s steps(1) infinite;\n",
              "  }\n",
              "\n",
              "  @keyframes spin {\n",
              "    0% {\n",
              "      border-color: transparent;\n",
              "      border-bottom-color: var(--fill-color);\n",
              "      border-left-color: var(--fill-color);\n",
              "    }\n",
              "    20% {\n",
              "      border-color: transparent;\n",
              "      border-left-color: var(--fill-color);\n",
              "      border-top-color: var(--fill-color);\n",
              "    }\n",
              "    30% {\n",
              "      border-color: transparent;\n",
              "      border-left-color: var(--fill-color);\n",
              "      border-top-color: var(--fill-color);\n",
              "      border-right-color: var(--fill-color);\n",
              "    }\n",
              "    40% {\n",
              "      border-color: transparent;\n",
              "      border-right-color: var(--fill-color);\n",
              "      border-top-color: var(--fill-color);\n",
              "    }\n",
              "    60% {\n",
              "      border-color: transparent;\n",
              "      border-right-color: var(--fill-color);\n",
              "    }\n",
              "    80% {\n",
              "      border-color: transparent;\n",
              "      border-right-color: var(--fill-color);\n",
              "      border-bottom-color: var(--fill-color);\n",
              "    }\n",
              "    90% {\n",
              "      border-color: transparent;\n",
              "      border-bottom-color: var(--fill-color);\n",
              "    }\n",
              "  }\n",
              "</style>\n",
              "\n",
              "  <script>\n",
              "    async function quickchart(key) {\n",
              "      const quickchartButtonEl =\n",
              "        document.querySelector('#' + key + ' button');\n",
              "      quickchartButtonEl.disabled = true;  // To prevent multiple clicks.\n",
              "      quickchartButtonEl.classList.add('colab-df-spinner');\n",
              "      try {\n",
              "        const charts = await google.colab.kernel.invokeFunction(\n",
              "            'suggestCharts', [key], {});\n",
              "      } catch (error) {\n",
              "        console.error('Error during call to suggestCharts:', error);\n",
              "      }\n",
              "      quickchartButtonEl.classList.remove('colab-df-spinner');\n",
              "      quickchartButtonEl.classList.add('colab-df-quickchart-complete');\n",
              "    }\n",
              "    (() => {\n",
              "      let quickchartButtonEl =\n",
              "        document.querySelector('#df-81e485e2-1ee0-43df-9c0d-7a627751e7ee button');\n",
              "      quickchartButtonEl.style.display =\n",
              "        google.colab.kernel.accessAllowed ? 'block' : 'none';\n",
              "    })();\n",
              "  </script>\n",
              "</div>\n",
              "\n",
              "    </div>\n",
              "  </div>\n"
            ],
            "application/vnd.google.colaboratory.intrinsic+json": {
              "type": "dataframe",
              "variable_name": "data"
            }
          },
          "metadata": {},
          "execution_count": 8
        }
      ],
      "source": [
        "data.head()"
      ]
    },
    {
      "cell_type": "code",
      "execution_count": null,
      "id": "33dd31da",
      "metadata": {
        "colab": {
          "base_uri": "https://localhost:8080/"
        },
        "id": "33dd31da",
        "outputId": "98851caf-8a7e-4ff7-db63-a48e3720d91a"
      },
      "outputs": [
        {
          "output_type": "execute_result",
          "data": {
            "text/plain": [
              "Index(['Months', 'Sex', 'DOA', 'Fever (P/A)', 'Duration of fever (days)',\n",
              "       'Headache (P/A)', 'Duration of headache', 'Myalgia (P/A)',\n",
              "       'Duration of myalgia', 'Cough (P/A)', 'Duration of cough',\n",
              "       'Productive/Non productive (P/NP)', 'Dyspnea (P/A)',\n",
              "       'Duration of dyspnea', 'Vomiting (P/A)', 'Duration of vomiting',\n",
              "       'Hematuria (P/A)', 'Duration of hematuria', 'Edema (P/A)',\n",
              "       'Duration of edema', 'Anorexia (P/A)', 'Nausea (P/A)',\n",
              "       'Diarrhoea (P/A)', 'Past illness (P/A)', 'Comorbidities',\n",
              "       'Similar illness in family (P/A)',\n",
              "       'Any rodent bite/scratch/contact with rodent droppings (Y/N)', 'BP',\n",
              "       'RR', 'PR', 'Temperature', 'Crepitus/Rhonchi (P/A)', 'Petechiae (P/A)',\n",
              "       'Additional physical finding', 'Any specific renal sign', 'Total count',\n",
              "       'Hb/PCV', 'Differential count', 'Platelet count', 'Prothrombin time',\n",
              "       'SGOT', 'SGPT', 'Bilirubin', 'S. protein (g%)', 'S. albumin (g%)',\n",
              "       'A/G ratio', 'S. creatinine (mg%)', 'Urine protein (mg)',\n",
              "       'Urine output (24 hr) (ml/Kg/Hr)', 'Other Investigations if any',\n",
              "       'Bacterial culture & sensitivity (Positive / Negative / not done )',\n",
              "       'If positive, Organism', 'Dengue Viral Immunoassay (IgM) (Done/NA )',\n",
              "       'Dengue Viral Immunoassay (IgM) (Positive/Negative)',\n",
              "       'Typhidot / Widal (Done/Not done)', 'Typhi dot/ WIDAL Report',\n",
              "       'Weil Felix/Scrub typhus IgM (Done/Not done)', 'Scrub typhus Report',\n",
              "       'Malarial parasites (Done/Not done)', 'Malaria report',\n",
              "       'ELISA for leptospirosis (Done/Not done)', 'Lepto report',\n",
              "       'CXR (Done/Not done)', 'Xray report', 'USG Abdomen (Done/Not done)',\n",
              "       'USG Abd report', 'Final Diagnosis', 'AUF Result'],\n",
              "      dtype='object')"
            ]
          },
          "metadata": {},
          "execution_count": 9
        }
      ],
      "source": [
        "data.columns\n"
      ]
    },
    {
      "cell_type": "code",
      "execution_count": null,
      "id": "0c45c284",
      "metadata": {
        "colab": {
          "base_uri": "https://localhost:8080/"
        },
        "id": "0c45c284",
        "outputId": "0ff7d03c-d76b-42e0-ad30-5d93a4afc27c"
      },
      "outputs": [
        {
          "output_type": "stream",
          "name": "stdout",
          "text": [
            "<class 'pandas.core.frame.DataFrame'>\n",
            "RangeIndex: 361 entries, 0 to 360\n",
            "Data columns (total 68 columns):\n",
            " #   Column                                                             Non-Null Count  Dtype  \n",
            "---  ------                                                             --------------  -----  \n",
            " 0   Months                                                             361 non-null    int64  \n",
            " 1   Sex                                                                361 non-null    object \n",
            " 2   DOA                                                                312 non-null    object \n",
            " 3   Fever (P/A)                                                        361 non-null    object \n",
            " 4   Duration of fever (days)                                           356 non-null    float64\n",
            " 5   Headache (P/A)                                                     361 non-null    object \n",
            " 6   Duration of headache                                               95 non-null     float64\n",
            " 7   Myalgia (P/A)                                                      361 non-null    object \n",
            " 8   Duration of myalgia                                                111 non-null    float64\n",
            " 9   Cough (P/A)                                                        361 non-null    object \n",
            " 10  Duration of cough                                                  110 non-null    float64\n",
            " 11  Productive/Non productive (P/NP)                                   127 non-null    object \n",
            " 12  Dyspnea (P/A)                                                      360 non-null    object \n",
            " 13  Duration of dyspnea                                                37 non-null     float64\n",
            " 14  Vomiting (P/A)                                                     360 non-null    object \n",
            " 15  Duration of vomiting                                               171 non-null    float64\n",
            " 16  Hematuria (P/A)                                                    360 non-null    object \n",
            " 17  Duration of hematuria                                              10 non-null     float64\n",
            " 18  Edema (P/A)                                                        361 non-null    object \n",
            " 19  Duration of edema                                                  16 non-null     float64\n",
            " 20  Anorexia (P/A)                                                     361 non-null    object \n",
            " 21  Nausea (P/A)                                                       361 non-null    object \n",
            " 22  Diarrhoea (P/A)                                                    360 non-null    object \n",
            " 23  Past illness (P/A)                                                 355 non-null    object \n",
            " 24  Comorbidities                                                      360 non-null    object \n",
            " 25  Similar illness in family (P/A)                                    360 non-null    object \n",
            " 26  Any rodent bite/scratch/contact with rodent droppings (Y/N)        359 non-null    object \n",
            " 27  BP                                                                 358 non-null    object \n",
            " 28  RR                                                                 359 non-null    object \n",
            " 29  PR                                                                 359 non-null    object \n",
            " 30  Temperature                                                        360 non-null    object \n",
            " 31  Crepitus/Rhonchi (P/A)                                             361 non-null    object \n",
            " 32  Petechiae (P/A)                                                    361 non-null    object \n",
            " 33  Additional physical finding                                        361 non-null    object \n",
            " 34  Any specific renal sign                                            360 non-null    object \n",
            " 35  Total count                                                        234 non-null    float64\n",
            " 36  Hb/PCV                                                             334 non-null    object \n",
            " 37  Differential count                                                 234 non-null    object \n",
            " 38  Platelet count                                                     358 non-null    object \n",
            " 39  Prothrombin time                                                   96 non-null     object \n",
            " 40  SGOT                                                               341 non-null    object \n",
            " 41  SGPT                                                               341 non-null    object \n",
            " 42  Bilirubin                                                          197 non-null    object \n",
            " 43  S. protein (g%)                                                    189 non-null    object \n",
            " 44  S. albumin (g%)                                                    193 non-null    object \n",
            " 45  A/G ratio                                                          144 non-null    object \n",
            " 46  S. creatinine (mg%)                                                295 non-null    float64\n",
            " 47  Urine protein (mg)                                                 147 non-null    object \n",
            " 48  Urine output (24 hr) (ml/Kg/Hr)                                    66 non-null     object \n",
            " 49  Other Investigations if any                                        72 non-null     object \n",
            " 50  Bacterial culture & sensitivity (Positive / Negative / not done )  209 non-null    object \n",
            " 51  If positive, Organism                                              211 non-null    object \n",
            " 52  Dengue Viral Immunoassay (IgM) (Done/NA )                          211 non-null    object \n",
            " 53  Dengue Viral Immunoassay (IgM) (Positive/Negative)                 209 non-null    object \n",
            " 54  Typhidot / Widal (Done/Not done)                                   62 non-null     object \n",
            " 55  Typhi dot/ WIDAL Report                                            62 non-null     object \n",
            " 56  Weil Felix/Scrub typhus IgM (Done/Not done)                        79 non-null     object \n",
            " 57  Scrub typhus Report                                                79 non-null     object \n",
            " 58  Malarial parasites (Done/Not done)                                 51 non-null     object \n",
            " 59  Malaria report                                                     50 non-null     object \n",
            " 60  ELISA for leptospirosis (Done/Not done)                            77 non-null     object \n",
            " 61  Lepto report                                                       94 non-null     object \n",
            " 62  CXR (Done/Not done)                                                173 non-null    object \n",
            " 63  Xray report                                                        175 non-null    object \n",
            " 64  USG Abdomen (Done/Not done)                                        101 non-null    object \n",
            " 65  USG Abd report                                                     101 non-null    object \n",
            " 66  Final Diagnosis                                                    333 non-null    object \n",
            " 67  AUF Result                                                         360 non-null    object \n",
            "dtypes: float64(10), int64(1), object(57)\n",
            "memory usage: 191.9+ KB\n"
          ]
        }
      ],
      "source": [
        "data.info()"
      ]
    },
    {
      "cell_type": "code",
      "source": [
        "data=data[data['Months'] <= 216]"
      ],
      "metadata": {
        "id": "HThIFTBP6TLp"
      },
      "id": "HThIFTBP6TLp",
      "execution_count": null,
      "outputs": []
    },
    {
      "cell_type": "markdown",
      "id": "25b89460",
      "metadata": {
        "id": "25b89460"
      },
      "source": [
        "### SEX ENCODING"
      ]
    },
    {
      "cell_type": "code",
      "execution_count": null,
      "id": "416d49fa",
      "metadata": {
        "colab": {
          "base_uri": "https://localhost:8080/"
        },
        "id": "416d49fa",
        "outputId": "2f5b45d9-f01f-46f5-9c50-75dbcccde11a"
      },
      "outputs": [
        {
          "output_type": "stream",
          "name": "stdout",
          "text": [
            "Sex\n",
            "M    133\n",
            "F    110\n",
            "Name: count, dtype: int64\n",
            "================================================\n"
          ]
        }
      ],
      "source": [
        "print(data['Sex'].value_counts())\n",
        "print('================================================')"
      ]
    },
    {
      "cell_type": "code",
      "execution_count": null,
      "id": "21f67b34",
      "metadata": {
        "id": "21f67b34"
      },
      "outputs": [],
      "source": [
        "def MF(column):\n",
        "    mf=column[0]\n",
        "    if mf=='M':\n",
        "        return 0\n",
        "    if mf=='F':\n",
        "        return 1\n",
        "    else:\n",
        "        return -1"
      ]
    },
    {
      "cell_type": "code",
      "execution_count": null,
      "id": "bceb9b56",
      "metadata": {
        "id": "bceb9b56",
        "colab": {
          "base_uri": "https://localhost:8080/"
        },
        "outputId": "6f06e0c1-ba56-4172-d5c3-2fd5b1ce1d4b"
      },
      "outputs": [
        {
          "output_type": "stream",
          "name": "stderr",
          "text": [
            "<ipython-input-14-75c80f68721d>:1: SettingWithCopyWarning: \n",
            "A value is trying to be set on a copy of a slice from a DataFrame.\n",
            "Try using .loc[row_indexer,col_indexer] = value instead\n",
            "\n",
            "See the caveats in the documentation: https://pandas.pydata.org/pandas-docs/stable/user_guide/indexing.html#returning-a-view-versus-a-copy\n",
            "  data['Sex']=data['Sex'].apply(MF)\n"
          ]
        }
      ],
      "source": [
        "data['Sex']=data['Sex'].apply(MF)"
      ]
    },
    {
      "cell_type": "code",
      "execution_count": null,
      "id": "a1a3e612",
      "metadata": {
        "colab": {
          "base_uri": "https://localhost:8080/"
        },
        "id": "a1a3e612",
        "outputId": "798ce795-0ec2-48dc-d81d-b517cfe285e7"
      },
      "outputs": [
        {
          "output_type": "stream",
          "name": "stdout",
          "text": [
            "Sex\n",
            "0    133\n",
            "1    110\n",
            "Name: count, dtype: int64\n"
          ]
        }
      ],
      "source": [
        "print(data['Sex'].value_counts())"
      ]
    },
    {
      "cell_type": "markdown",
      "id": "77d5cbf5",
      "metadata": {
        "id": "77d5cbf5"
      },
      "source": [
        "### DOA Encoding"
      ]
    },
    {
      "cell_type": "code",
      "execution_count": null,
      "id": "f6c2886b",
      "metadata": {
        "colab": {
          "base_uri": "https://localhost:8080/"
        },
        "id": "f6c2886b",
        "outputId": "cd773695-ce55-465f-b23c-cbf522010bb7"
      },
      "outputs": [
        {
          "output_type": "execute_result",
          "data": {
            "text/plain": [
              "DOA\n",
              "17-11-23      4\n",
              "06-02-2023    4\n",
              "11-07-2022    4\n",
              "14-12-2022    4\n",
              "22-07-2022    3\n",
              "             ..\n",
              "22-10-2022    1\n",
              "21-10-2022    1\n",
              "19-10-2022    1\n",
              "20-10-2022    1\n",
              "09-12-23      1\n",
              "Name: count, Length: 163, dtype: int64"
            ]
          },
          "metadata": {},
          "execution_count": 16
        }
      ],
      "source": [
        "data['DOA'].value_counts()"
      ]
    },
    {
      "cell_type": "code",
      "execution_count": null,
      "id": "53d877c1",
      "metadata": {
        "colab": {
          "base_uri": "https://localhost:8080/"
        },
        "id": "53d877c1",
        "outputId": "e1af0e83-c6b6-4aa3-c8ae-eaafac5e5049"
      },
      "outputs": [
        {
          "output_type": "execute_result",
          "data": {
            "text/plain": [
              "1"
            ]
          },
          "metadata": {},
          "execution_count": 17
        }
      ],
      "source": [
        "data['DOA'].isna().sum()"
      ]
    },
    {
      "cell_type": "code",
      "execution_count": null,
      "id": "b0aebb27",
      "metadata": {
        "id": "b0aebb27"
      },
      "outputs": [],
      "source": [
        "data['DOA']=data['DOA'].fillna('0')"
      ]
    },
    {
      "cell_type": "code",
      "execution_count": null,
      "id": "702cd377",
      "metadata": {
        "id": "702cd377"
      },
      "outputs": [],
      "source": [
        "def doa(column):\n",
        "    pa=column\n",
        "    if pa!='0':\n",
        "        if '-' in pa:\n",
        "            l=pa.split('-')\n",
        "            if len(l[2])==4:\n",
        "                l[2]=l[2][2::]\n",
        "                return int(''.join(l))\n",
        "            else:\n",
        "                return int(''.join(l))\n",
        "        if '.' in pa:\n",
        "            l=pa.split('.')\n",
        "            if len(l[2])==4:\n",
        "                l[2]=l[2][2::]\n",
        "                return int(''.join(l))\n",
        "            else:\n",
        "                return int(''.join(l))\n",
        "    else:\n",
        "        return 0"
      ]
    },
    {
      "cell_type": "code",
      "execution_count": null,
      "id": "4f1b0811",
      "metadata": {
        "id": "4f1b0811"
      },
      "outputs": [],
      "source": [
        "data['DOA']=data['DOA'].apply(doa)"
      ]
    },
    {
      "cell_type": "code",
      "execution_count": null,
      "id": "5fc9e317",
      "metadata": {
        "colab": {
          "base_uri": "https://localhost:8080/"
        },
        "id": "5fc9e317",
        "outputId": "d19c3e9c-c128-4082-91e1-b6a614dd9731"
      },
      "outputs": [
        {
          "output_type": "execute_result",
          "data": {
            "text/plain": [
              "0"
            ]
          },
          "metadata": {},
          "execution_count": 21
        }
      ],
      "source": [
        "data['DOA'].isna().sum()"
      ]
    },
    {
      "cell_type": "code",
      "execution_count": null,
      "id": "e4337e2d",
      "metadata": {
        "colab": {
          "base_uri": "https://localhost:8080/"
        },
        "id": "e4337e2d",
        "outputId": "908b1f68-8ec5-48f6-aa42-116c17a5437c"
      },
      "outputs": [
        {
          "output_type": "execute_result",
          "data": {
            "text/plain": [
              "190622"
            ]
          },
          "metadata": {},
          "execution_count": 22
        }
      ],
      "source": [
        "data['DOA'][0]"
      ]
    },
    {
      "cell_type": "markdown",
      "id": "55bba17f",
      "metadata": {
        "id": "55bba17f"
      },
      "source": [
        "### Handling P/A values"
      ]
    },
    {
      "cell_type": "code",
      "execution_count": null,
      "id": "f76e3952",
      "metadata": {
        "id": "f76e3952"
      },
      "outputs": [],
      "source": [
        "pacolumns=['Fever (P/A)','Headache (P/A)','Myalgia (P/A)','Cough (P/A)','Dyspnea (P/A)','Vomiting (P/A)','Hematuria (P/A)','Edema (P/A)','Anorexia (P/A)','Nausea (P/A)','Diarrhoea (P/A)','Crepitus/Rhonchi (P/A)','Petechiae (P/A)']"
      ]
    },
    {
      "cell_type": "code",
      "execution_count": null,
      "id": "3cc8c131",
      "metadata": {
        "colab": {
          "base_uri": "https://localhost:8080/"
        },
        "id": "3cc8c131",
        "outputId": "0afc7679-48e3-4fd3-c113-433c4b45a373"
      },
      "outputs": [
        {
          "output_type": "stream",
          "name": "stdout",
          "text": [
            "Fever (P/A)\n",
            "P    220\n",
            "p     23\n",
            "Name: count, dtype: int64\n",
            "=================\n",
            "Headache (P/A)\n",
            "A    209\n",
            "P     32\n",
            "5      1\n",
            "p      1\n",
            "Name: count, dtype: int64\n",
            "=================\n",
            "Myalgia (P/A)\n",
            "A    203\n",
            "P     39\n",
            "p      1\n",
            "Name: count, dtype: int64\n",
            "=================\n",
            "Cough (P/A)\n",
            "A    170\n",
            "P     73\n",
            "Name: count, dtype: int64\n",
            "=================\n",
            "Dyspnea (P/A)\n",
            "A    222\n",
            "P     19\n",
            "p      2\n",
            "Name: count, dtype: int64\n",
            "=================\n",
            "Vomiting (P/A)\n",
            "P    122\n",
            "A    119\n",
            "p      1\n",
            "Name: count, dtype: int64\n",
            "=================\n",
            "Hematuria (P/A)\n",
            "A    240\n",
            "P      2\n",
            "p      1\n",
            "Name: count, dtype: int64\n",
            "=================\n",
            "Edema (P/A)\n",
            "A    240\n",
            "P      3\n",
            "Name: count, dtype: int64\n",
            "=================\n",
            "Anorexia (P/A)\n",
            "A    129\n",
            "P    113\n",
            "p      1\n",
            "Name: count, dtype: int64\n",
            "=================\n",
            "Nausea (P/A)\n",
            "A    216\n",
            "P     27\n",
            "Name: count, dtype: int64\n",
            "=================\n",
            "Diarrhoea (P/A)\n",
            "A    208\n",
            "P     35\n",
            "Name: count, dtype: int64\n",
            "=================\n",
            "Crepitus/Rhonchi (P/A)\n",
            "A                             238\n",
            "P                               3\n",
            "Bilateral scattered wheeze      1\n",
            "Occasional crepts+              1\n",
            "Name: count, dtype: int64\n",
            "=================\n",
            "Petechiae (P/A)\n",
            "A                              233\n",
            "P                                8\n",
            "P (in face and extremities)      1\n",
            "P (All over the body)            1\n",
            "Name: count, dtype: int64\n",
            "=================\n"
          ]
        }
      ],
      "source": [
        "for i in pacolumns:\n",
        "    print(data[i].value_counts())\n",
        "    print('=================')"
      ]
    },
    {
      "cell_type": "code",
      "execution_count": null,
      "id": "6adb1be4",
      "metadata": {
        "id": "6adb1be4"
      },
      "outputs": [],
      "source": [
        "def paencode(column):\n",
        "    pa=str(column)[0]\n",
        "    if pa.lower()=='a':\n",
        "        return 0\n",
        "    else:\n",
        "        return 1"
      ]
    },
    {
      "cell_type": "code",
      "execution_count": null,
      "id": "c004c7a3",
      "metadata": {
        "id": "c004c7a3"
      },
      "outputs": [],
      "source": [
        "for i in pacolumns:\n",
        "    data[i]=data[i].apply(paencode)"
      ]
    },
    {
      "cell_type": "code",
      "execution_count": null,
      "id": "25fdfea4",
      "metadata": {
        "colab": {
          "base_uri": "https://localhost:8080/"
        },
        "id": "25fdfea4",
        "outputId": "ee041e87-22de-41aa-aae3-01d87bdc6d7a"
      },
      "outputs": [
        {
          "output_type": "execute_result",
          "data": {
            "text/plain": [
              "Fever (P/A)\n",
              "1    243\n",
              "Name: count, dtype: int64"
            ]
          },
          "metadata": {},
          "execution_count": 27
        }
      ],
      "source": [
        "data['Fever (P/A)'].value_counts()"
      ]
    },
    {
      "cell_type": "code",
      "execution_count": null,
      "id": "33eabe1e",
      "metadata": {
        "colab": {
          "base_uri": "https://localhost:8080/"
        },
        "id": "33eabe1e",
        "outputId": "f0348c7b-2efe-4272-e780-494c42cd0229"
      },
      "outputs": [
        {
          "output_type": "stream",
          "name": "stdout",
          "text": [
            "Fever (P/A)\n",
            "1    243\n",
            "Name: count, dtype: int64\n",
            "=================\n",
            "Headache (P/A)\n",
            "0    209\n",
            "1     34\n",
            "Name: count, dtype: int64\n",
            "=================\n",
            "Myalgia (P/A)\n",
            "0    203\n",
            "1     40\n",
            "Name: count, dtype: int64\n",
            "=================\n",
            "Cough (P/A)\n",
            "0    170\n",
            "1     73\n",
            "Name: count, dtype: int64\n",
            "=================\n",
            "Dyspnea (P/A)\n",
            "0    222\n",
            "1     21\n",
            "Name: count, dtype: int64\n",
            "=================\n",
            "Vomiting (P/A)\n",
            "1    124\n",
            "0    119\n",
            "Name: count, dtype: int64\n",
            "=================\n",
            "Hematuria (P/A)\n",
            "0    240\n",
            "1      3\n",
            "Name: count, dtype: int64\n",
            "=================\n",
            "Edema (P/A)\n",
            "0    240\n",
            "1      3\n",
            "Name: count, dtype: int64\n",
            "=================\n",
            "Anorexia (P/A)\n",
            "0    129\n",
            "1    114\n",
            "Name: count, dtype: int64\n",
            "=================\n",
            "Nausea (P/A)\n",
            "0    216\n",
            "1     27\n",
            "Name: count, dtype: int64\n",
            "=================\n",
            "Diarrhoea (P/A)\n",
            "0    208\n",
            "1     35\n",
            "Name: count, dtype: int64\n",
            "=================\n",
            "Crepitus/Rhonchi (P/A)\n",
            "0    238\n",
            "1      5\n",
            "Name: count, dtype: int64\n",
            "=================\n",
            "Petechiae (P/A)\n",
            "0    233\n",
            "1     10\n",
            "Name: count, dtype: int64\n",
            "=================\n"
          ]
        }
      ],
      "source": [
        "for i in pacolumns:\n",
        "    print(data[i].value_counts())\n",
        "    print('=================')"
      ]
    },
    {
      "cell_type": "markdown",
      "id": "a630f9d0",
      "metadata": {
        "id": "a630f9d0"
      },
      "source": [
        "### Handling Duration columns"
      ]
    },
    {
      "cell_type": "code",
      "execution_count": null,
      "id": "6e6719aa",
      "metadata": {
        "id": "6e6719aa"
      },
      "outputs": [],
      "source": [
        "durationcolumns=['Duration of fever (days)','Duration of headache','Duration of myalgia','Duration of cough','Duration of dyspnea','Duration of vomiting','Duration of hematuria','Duration of edema']"
      ]
    },
    {
      "cell_type": "code",
      "execution_count": null,
      "id": "539b5a36",
      "metadata": {
        "colab": {
          "base_uri": "https://localhost:8080/"
        },
        "id": "539b5a36",
        "outputId": "e5ed5d2a-b5c9-47d1-9cab-e09b1ab62ca8"
      },
      "outputs": [
        {
          "output_type": "stream",
          "name": "stdout",
          "text": [
            "Duration of fever (days)\n",
            "5.0     58\n",
            "3.0     44\n",
            "4.0     34\n",
            "6.0     24\n",
            "7.0     23\n",
            "2.0     15\n",
            "8.0     14\n",
            "10.0     9\n",
            "1.0      7\n",
            "12.0     4\n",
            "9.0      3\n",
            "13.0     2\n",
            "15.0     2\n",
            "11.0     1\n",
            "14.0     1\n",
            "20.0     1\n",
            "30.0     1\n",
            "Name: count, dtype: int64\n",
            "Null values:\n",
            "0\n",
            "=================\n",
            "Duration of headache\n",
            "1.0    10\n",
            "2.0     8\n",
            "4.0     5\n",
            "5.0     4\n",
            "7.0     2\n",
            "3.0     2\n",
            "6.0     1\n",
            "9.0     1\n",
            "Name: count, dtype: int64\n",
            "Null values:\n",
            "210\n",
            "=================\n",
            "Duration of myalgia\n",
            "2.0     10\n",
            "1.0     10\n",
            "5.0      8\n",
            "3.0      4\n",
            "4.0      4\n",
            "7.0      2\n",
            "10.0     1\n",
            "Name: count, dtype: int64\n",
            "Null values:\n",
            "204\n",
            "=================\n",
            "Duration of cough\n",
            "3.0     14\n",
            "4.0     12\n",
            "5.0     12\n",
            "2.0     10\n",
            "7.0     10\n",
            "1.0      4\n",
            "10.0     3\n",
            "6.0      3\n",
            "14.0     2\n",
            "20.0     1\n",
            "15.0     1\n",
            "Name: count, dtype: int64\n",
            "Null values:\n",
            "171\n",
            "=================\n",
            "Duration of dyspnea\n",
            "1.0    8\n",
            "3.0    4\n",
            "5.0    3\n",
            "2.0    2\n",
            "4.0    2\n",
            "Name: count, dtype: int64\n",
            "Null values:\n",
            "224\n",
            "=================\n",
            "Duration of vomiting\n",
            "1.0     44\n",
            "2.0     36\n",
            "3.0     14\n",
            "4.0     12\n",
            "5.0      7\n",
            "6.0      4\n",
            "7.0      2\n",
            "8.0      2\n",
            "10.0     1\n",
            "0.0      1\n",
            "Name: count, dtype: int64\n",
            "Null values:\n",
            "120\n",
            "=================\n",
            "Duration of hematuria\n",
            "1.0    3\n",
            "Name: count, dtype: int64\n",
            "Null values:\n",
            "240\n",
            "=================\n",
            "Duration of edema\n",
            "5.0    2\n",
            "2.0    1\n",
            "Name: count, dtype: int64\n",
            "Null values:\n",
            "240\n",
            "=================\n"
          ]
        }
      ],
      "source": [
        "for i in durationcolumns:\n",
        "    print(data[i].value_counts())\n",
        "    print('Null values:')\n",
        "    print(data[i].isna().sum())\n",
        "    print('=================')"
      ]
    },
    {
      "cell_type": "code",
      "execution_count": null,
      "id": "939643ec",
      "metadata": {
        "id": "939643ec"
      },
      "outputs": [],
      "source": [
        "for i in durationcolumns:\n",
        "    data[i].fillna(data[i].median(),inplace=True)"
      ]
    },
    {
      "cell_type": "code",
      "execution_count": null,
      "id": "227edae0",
      "metadata": {
        "colab": {
          "base_uri": "https://localhost:8080/"
        },
        "id": "227edae0",
        "outputId": "da88c86b-7f73-468c-a548-563370eafb05"
      },
      "outputs": [
        {
          "output_type": "stream",
          "name": "stdout",
          "text": [
            "0\n",
            "=================\n",
            "0\n",
            "=================\n",
            "0\n",
            "=================\n",
            "0\n",
            "=================\n",
            "0\n",
            "=================\n",
            "0\n",
            "=================\n",
            "0\n",
            "=================\n",
            "0\n",
            "=================\n"
          ]
        }
      ],
      "source": [
        "for i in durationcolumns:\n",
        "    print(data[i].isna().sum())\n",
        "    print('=================')"
      ]
    },
    {
      "cell_type": "code",
      "execution_count": null,
      "id": "b4b05a1b",
      "metadata": {
        "id": "b4b05a1b"
      },
      "outputs": [],
      "source": [
        "def cleaning(column):\n",
        "    p=column\n",
        "    if type(p)!=float and p.isalpha():\n",
        "        return None\n",
        "    else:\n",
        "        return float(p)"
      ]
    },
    {
      "cell_type": "code",
      "execution_count": null,
      "id": "0d0a7038",
      "metadata": {
        "id": "0d0a7038"
      },
      "outputs": [],
      "source": [
        "data['Bilirubin']=data['Bilirubin'].apply(cleaning)"
      ]
    },
    {
      "cell_type": "code",
      "execution_count": null,
      "id": "f449bb26",
      "metadata": {
        "id": "f449bb26"
      },
      "outputs": [],
      "source": [
        "data['Bilirubin'].fillna(data['Bilirubin'].median(),inplace=True)"
      ]
    },
    {
      "cell_type": "code",
      "execution_count": null,
      "id": "55bab374",
      "metadata": {
        "colab": {
          "base_uri": "https://localhost:8080/"
        },
        "id": "55bab374",
        "outputId": "48be4f59-6584-4035-f607-a289dfc88e41"
      },
      "outputs": [
        {
          "output_type": "execute_result",
          "data": {
            "text/plain": [
              "0      0.45\n",
              "1      0.45\n",
              "12     0.40\n",
              "13     0.45\n",
              "14     0.45\n",
              "       ... \n",
              "356    0.45\n",
              "357    0.50\n",
              "358    0.45\n",
              "359    0.45\n",
              "360    0.45\n",
              "Name: Bilirubin, Length: 243, dtype: float64"
            ]
          },
          "metadata": {},
          "execution_count": 36
        }
      ],
      "source": [
        "data['Bilirubin']"
      ]
    },
    {
      "cell_type": "code",
      "execution_count": null,
      "id": "6262d29e",
      "metadata": {
        "colab": {
          "base_uri": "https://localhost:8080/"
        },
        "id": "6262d29e",
        "outputId": "d794ad84-cb02-44b9-a3a0-ec882c3831ba"
      },
      "outputs": [
        {
          "output_type": "execute_result",
          "data": {
            "text/plain": [
              "0"
            ]
          },
          "metadata": {},
          "execution_count": 37
        }
      ],
      "source": [
        "data['Bilirubin'].isna().sum()"
      ]
    },
    {
      "cell_type": "code",
      "execution_count": null,
      "id": "5821783e",
      "metadata": {
        "id": "5821783e"
      },
      "outputs": [],
      "source": [
        "data['S. protein (g%)']=data['S. protein (g%)'].apply(cleaning)"
      ]
    },
    {
      "cell_type": "code",
      "execution_count": null,
      "id": "36d8bf76",
      "metadata": {
        "id": "36d8bf76"
      },
      "outputs": [],
      "source": [
        "data['S. protein (g%)'].fillna(data['S. protein (g%)'].median(),inplace=True)"
      ]
    },
    {
      "cell_type": "code",
      "execution_count": null,
      "id": "66a20106",
      "metadata": {
        "colab": {
          "base_uri": "https://localhost:8080/"
        },
        "id": "66a20106",
        "outputId": "f155347e-f20d-4a3b-bd50-4fd771ef38c4"
      },
      "outputs": [
        {
          "output_type": "execute_result",
          "data": {
            "text/plain": [
              "0"
            ]
          },
          "metadata": {},
          "execution_count": 40
        }
      ],
      "source": [
        "data['S. protein (g%)'].isna().sum()"
      ]
    },
    {
      "cell_type": "code",
      "execution_count": null,
      "id": "98d13587",
      "metadata": {
        "colab": {
          "base_uri": "https://localhost:8080/"
        },
        "id": "98d13587",
        "outputId": "7f1d3826-10c3-4af5-cbe5-75206f2c2487"
      },
      "outputs": [
        {
          "output_type": "execute_result",
          "data": {
            "text/plain": [
              "0      NaN\n",
              "1      NaN\n",
              "12     3.9\n",
              "13     NaN\n",
              "14     NaN\n",
              "      ... \n",
              "356    NaN\n",
              "357    2.6\n",
              "358    NaN\n",
              "359    NaN\n",
              "360    NaN\n",
              "Name: S. albumin (g%), Length: 243, dtype: object"
            ]
          },
          "metadata": {},
          "execution_count": 41
        }
      ],
      "source": [
        "data['S. albumin (g%)']"
      ]
    },
    {
      "cell_type": "code",
      "execution_count": null,
      "id": "b14cd89f",
      "metadata": {
        "id": "b14cd89f"
      },
      "outputs": [],
      "source": [
        "data['S. albumin (g%)']=data['S. albumin (g%)'].apply(cleaning)"
      ]
    },
    {
      "cell_type": "code",
      "execution_count": null,
      "id": "3cb9e994",
      "metadata": {
        "id": "3cb9e994"
      },
      "outputs": [],
      "source": [
        "data['S. albumin (g%)'].fillna(data['S. albumin (g%)'].median(),inplace=True)"
      ]
    },
    {
      "cell_type": "code",
      "execution_count": null,
      "id": "fce89001",
      "metadata": {
        "colab": {
          "base_uri": "https://localhost:8080/"
        },
        "id": "fce89001",
        "outputId": "b2487522-b0eb-4edc-fbcb-25c94a67a620"
      },
      "outputs": [
        {
          "output_type": "execute_result",
          "data": {
            "text/plain": [
              "0"
            ]
          },
          "metadata": {},
          "execution_count": 44
        }
      ],
      "source": [
        "data['S. albumin (g%)'].isna().sum()"
      ]
    },
    {
      "cell_type": "markdown",
      "id": "4dacb169",
      "metadata": {
        "id": "4dacb169"
      },
      "source": [
        "### Done/Not Done Columns"
      ]
    },
    {
      "cell_type": "code",
      "execution_count": null,
      "id": "4a45dcb4",
      "metadata": {
        "id": "4a45dcb4"
      },
      "outputs": [],
      "source": [
        "dnacolumns=['Malarial parasites (Done/Not done)','ELISA for leptospirosis (Done/Not done)','CXR (Done/Not done)','USG Abdomen (Done/Not done)']"
      ]
    },
    {
      "cell_type": "code",
      "execution_count": null,
      "id": "ef5a3eae",
      "metadata": {
        "colab": {
          "base_uri": "https://localhost:8080/"
        },
        "id": "ef5a3eae",
        "outputId": "972db3e1-4dac-4bde-c117-18a7e7bb5dbc"
      },
      "outputs": [
        {
          "output_type": "stream",
          "name": "stdout",
          "text": [
            "Malarial parasites (Done/Not done)\n",
            "D    14\n",
            "Name: count, dtype: int64\n",
            "Null values:\n",
            "229\n",
            "=================\n",
            "ELISA for leptospirosis (Done/Not done)\n",
            "D           5\n",
            "NEGATIVE    1\n",
            "Name: count, dtype: int64\n",
            "Null values:\n",
            "237\n",
            "=================\n",
            "CXR (Done/Not done)\n",
            "D    59\n",
            "Name: count, dtype: int64\n",
            "Null values:\n",
            "184\n",
            "=================\n",
            "USG Abdomen (Done/Not done)\n",
            "D    67\n",
            "Name: count, dtype: int64\n",
            "Null values:\n",
            "176\n",
            "=================\n"
          ]
        }
      ],
      "source": [
        "for i in dnacolumns:\n",
        "    print(data[i].value_counts())\n",
        "    print('Null values:')\n",
        "    print(data[i].isna().sum())\n",
        "    print('=================')"
      ]
    },
    {
      "cell_type": "code",
      "execution_count": null,
      "id": "c6c10582",
      "metadata": {
        "id": "c6c10582"
      },
      "outputs": [],
      "source": [
        "def dnaclean(column):\n",
        "    dna=column\n",
        "    if dna!='0':\n",
        "        return 1\n",
        "    else:\n",
        "        return 0"
      ]
    },
    {
      "cell_type": "code",
      "execution_count": null,
      "id": "4043c074",
      "metadata": {
        "id": "4043c074"
      },
      "outputs": [],
      "source": [
        "data['Dengue Viral Immunoassay (IgM) (Done/NA )'].fillna('0',inplace=True)"
      ]
    },
    {
      "cell_type": "code",
      "execution_count": null,
      "id": "a51b1f02",
      "metadata": {
        "colab": {
          "base_uri": "https://localhost:8080/"
        },
        "id": "a51b1f02",
        "outputId": "179d4f16-3982-4d0d-92b4-f433f1ac9630"
      },
      "outputs": [
        {
          "output_type": "execute_result",
          "data": {
            "text/plain": [
              "Dengue Viral Immunoassay (IgM) (Done/NA )\n",
              "D                                           118\n",
              "0                                            89\n",
              "Dengue IGM Positive                           9\n",
              "not done                                      3\n",
              "Dengue IGM positive                           2\n",
              "Dengue RNA PCR Positive                       2\n",
              "Dengue Ns1 positive                           2\n",
              "Dengue Ns1 aNA IGM positive                   1\n",
              "Dengue NS1 IGG positive                       1\n",
              "Dengue NS1AG positive                         1\n",
              "Dengue Ns1AG + IGM positive                   1\n",
              "Dengue Ns1 AG positive                        1\n",
              "Dengue Ns1 Positive                           1\n",
              "Dengue Ns1Positive                            1\n",
              "NEGATIVE                                      1\n",
              "Dengue IGG positive                           1\n",
              "Dengue NS1ag IGM positive                     1\n",
              "Dengue Ns1 AG aNA IGM positive                1\n",
              "Negative                                      1\n",
              "negative                                      1\n",
              "Dengue NS1ag IGM negative RTPCR Positive      1\n",
              "Dengue NS1 Positive                           1\n",
              "Dengue PCR Positive                           1\n",
              "Positive                                      1\n",
              "Dengue Negative                               1\n",
              "Name: count, dtype: int64"
            ]
          },
          "metadata": {},
          "execution_count": 49
        }
      ],
      "source": [
        "data['Dengue Viral Immunoassay (IgM) (Done/NA )'].value_counts()"
      ]
    },
    {
      "cell_type": "code",
      "execution_count": null,
      "id": "724b21c8",
      "metadata": {
        "id": "724b21c8"
      },
      "outputs": [],
      "source": [
        "data['Dengue Viral Immunoassay (IgM) (Done/NA )']=data['Dengue Viral Immunoassay (IgM) (Done/NA )'].apply(dnaclean)"
      ]
    },
    {
      "cell_type": "code",
      "execution_count": null,
      "id": "a8c8c05e",
      "metadata": {
        "colab": {
          "base_uri": "https://localhost:8080/"
        },
        "id": "a8c8c05e",
        "outputId": "3186f441-6cbe-461b-d7c0-9a23d92df32f"
      },
      "outputs": [
        {
          "output_type": "execute_result",
          "data": {
            "text/plain": [
              "0"
            ]
          },
          "metadata": {},
          "execution_count": 51
        }
      ],
      "source": [
        "data['Dengue Viral Immunoassay (IgM) (Done/NA )'].isna().sum()"
      ]
    },
    {
      "cell_type": "code",
      "execution_count": null,
      "id": "e272b0bd",
      "metadata": {
        "colab": {
          "base_uri": "https://localhost:8080/"
        },
        "id": "e272b0bd",
        "outputId": "63004f79-ca71-42e4-ed50-39968abe596f"
      },
      "outputs": [
        {
          "output_type": "execute_result",
          "data": {
            "text/plain": [
              "Dengue Viral Immunoassay (IgM) (Done/NA )\n",
              "1    154\n",
              "0     89\n",
              "Name: count, dtype: int64"
            ]
          },
          "metadata": {},
          "execution_count": 52
        }
      ],
      "source": [
        "data['Dengue Viral Immunoassay (IgM) (Done/NA )'].value_counts()"
      ]
    },
    {
      "cell_type": "code",
      "execution_count": null,
      "id": "d3224f44",
      "metadata": {
        "id": "d3224f44"
      },
      "outputs": [],
      "source": [
        "data['Typhidot / Widal (Done/Not done)'].fillna('0',inplace=True)"
      ]
    },
    {
      "cell_type": "code",
      "execution_count": null,
      "id": "b5f035aa",
      "metadata": {
        "colab": {
          "base_uri": "https://localhost:8080/"
        },
        "id": "b5f035aa",
        "outputId": "adb25ead-bd2d-4372-f4e8-c1dc33316c17"
      },
      "outputs": [
        {
          "output_type": "execute_result",
          "data": {
            "text/plain": [
              "Typhidot / Widal (Done/Not done)\n",
              "0    220\n",
              "D     23\n",
              "Name: count, dtype: int64"
            ]
          },
          "metadata": {},
          "execution_count": 54
        }
      ],
      "source": [
        "data['Typhidot / Widal (Done/Not done)'].value_counts()"
      ]
    },
    {
      "cell_type": "code",
      "execution_count": null,
      "id": "78bfdc6c",
      "metadata": {
        "id": "78bfdc6c"
      },
      "outputs": [],
      "source": [
        "data['Typhidot / Widal (Done/Not done)']=data['Typhidot / Widal (Done/Not done)'].apply(dnaclean)"
      ]
    },
    {
      "cell_type": "code",
      "execution_count": null,
      "id": "85e26fb3",
      "metadata": {
        "colab": {
          "base_uri": "https://localhost:8080/"
        },
        "id": "85e26fb3",
        "outputId": "b2b30071-5828-4849-f5ae-08017b4ce94b"
      },
      "outputs": [
        {
          "output_type": "execute_result",
          "data": {
            "text/plain": [
              "0"
            ]
          },
          "metadata": {},
          "execution_count": 56
        }
      ],
      "source": [
        "data['Typhidot / Widal (Done/Not done)'].isna().sum()"
      ]
    },
    {
      "cell_type": "code",
      "execution_count": null,
      "id": "18e9392e",
      "metadata": {
        "colab": {
          "base_uri": "https://localhost:8080/"
        },
        "id": "18e9392e",
        "outputId": "7838529d-c7bc-4e99-87d3-25be11d7bdc2"
      },
      "outputs": [
        {
          "output_type": "execute_result",
          "data": {
            "text/plain": [
              "Typhidot / Widal (Done/Not done)\n",
              "0    220\n",
              "1     23\n",
              "Name: count, dtype: int64"
            ]
          },
          "metadata": {},
          "execution_count": 57
        }
      ],
      "source": [
        "data['Typhidot / Widal (Done/Not done)'].value_counts()"
      ]
    },
    {
      "cell_type": "code",
      "execution_count": null,
      "id": "ba855dab",
      "metadata": {
        "id": "ba855dab"
      },
      "outputs": [],
      "source": [
        "data['Weil Felix/Scrub typhus IgM (Done/Not done)'].fillna('0',inplace=True)"
      ]
    },
    {
      "cell_type": "code",
      "execution_count": null,
      "id": "ab72f9c8",
      "metadata": {
        "colab": {
          "base_uri": "https://localhost:8080/"
        },
        "id": "ab72f9c8",
        "outputId": "93bfbb99-27ed-4d60-b602-54ad72c82a28"
      },
      "outputs": [
        {
          "output_type": "execute_result",
          "data": {
            "text/plain": [
              "Weil Felix/Scrub typhus IgM (Done/Not done)\n",
              "0    169\n",
              "D     74\n",
              "Name: count, dtype: int64"
            ]
          },
          "metadata": {},
          "execution_count": 59
        }
      ],
      "source": [
        "data['Weil Felix/Scrub typhus IgM (Done/Not done)'].value_counts()"
      ]
    },
    {
      "cell_type": "code",
      "execution_count": null,
      "id": "f4b22c14",
      "metadata": {
        "id": "f4b22c14"
      },
      "outputs": [],
      "source": [
        "data['Weil Felix/Scrub typhus IgM (Done/Not done)']=data['Weil Felix/Scrub typhus IgM (Done/Not done)'].apply(dnaclean)"
      ]
    },
    {
      "cell_type": "code",
      "execution_count": null,
      "id": "05011fcf",
      "metadata": {
        "colab": {
          "base_uri": "https://localhost:8080/"
        },
        "id": "05011fcf",
        "outputId": "30dacc21-bd44-4ba3-8a63-ec701a1bb73a"
      },
      "outputs": [
        {
          "output_type": "execute_result",
          "data": {
            "text/plain": [
              "0"
            ]
          },
          "metadata": {},
          "execution_count": 61
        }
      ],
      "source": [
        "data['Weil Felix/Scrub typhus IgM (Done/Not done)'].isna().sum()"
      ]
    },
    {
      "cell_type": "code",
      "execution_count": null,
      "id": "be66f0ea",
      "metadata": {
        "colab": {
          "base_uri": "https://localhost:8080/"
        },
        "id": "be66f0ea",
        "outputId": "daa48d62-f080-46da-e69f-8530860b0e07"
      },
      "outputs": [
        {
          "output_type": "execute_result",
          "data": {
            "text/plain": [
              "Weil Felix/Scrub typhus IgM (Done/Not done)\n",
              "0    169\n",
              "1     74\n",
              "Name: count, dtype: int64"
            ]
          },
          "metadata": {},
          "execution_count": 62
        }
      ],
      "source": [
        "data['Weil Felix/Scrub typhus IgM (Done/Not done)'].value_counts()"
      ]
    },
    {
      "cell_type": "code",
      "execution_count": null,
      "id": "31e661ae",
      "metadata": {
        "id": "31e661ae"
      },
      "outputs": [],
      "source": [
        "for i in dnacolumns:\n",
        "    data[i].fillna('0',inplace=True)\n",
        "    data[i]=data[i].apply(dnaclean)"
      ]
    },
    {
      "cell_type": "code",
      "execution_count": null,
      "id": "b631dc8b",
      "metadata": {
        "colab": {
          "base_uri": "https://localhost:8080/"
        },
        "id": "b631dc8b",
        "outputId": "d526c59d-0428-49e3-a243-7085ae4e0a66"
      },
      "outputs": [
        {
          "output_type": "stream",
          "name": "stdout",
          "text": [
            "0\n",
            "Malarial parasites (Done/Not done)\n",
            "0    229\n",
            "1     14\n",
            "Name: count, dtype: int64\n",
            "=============================\n",
            "0\n",
            "ELISA for leptospirosis (Done/Not done)\n",
            "0    237\n",
            "1      6\n",
            "Name: count, dtype: int64\n",
            "=============================\n",
            "0\n",
            "CXR (Done/Not done)\n",
            "0    184\n",
            "1     59\n",
            "Name: count, dtype: int64\n",
            "=============================\n",
            "0\n",
            "USG Abdomen (Done/Not done)\n",
            "0    176\n",
            "1     67\n",
            "Name: count, dtype: int64\n",
            "=============================\n"
          ]
        }
      ],
      "source": [
        "for i in dnacolumns:\n",
        "    print(data[i].isna().sum())\n",
        "    print(data[i].value_counts())\n",
        "    print(\"=============================\")"
      ]
    },
    {
      "cell_type": "code",
      "execution_count": null,
      "id": "22bb397a",
      "metadata": {
        "colab": {
          "base_uri": "https://localhost:8080/"
        },
        "id": "22bb397a",
        "outputId": "0733842f-13e2-4a8f-e48a-a4d4860c6cd0"
      },
      "outputs": [
        {
          "output_type": "stream",
          "name": "stdout",
          "text": [
            "3139\n"
          ]
        }
      ],
      "source": [
        "str1=\"Hello! Welcome to Tutorialspoint.\"\n",
        "n=0\n",
        "for i in str1:\n",
        "    n+=ord(i)\n",
        "\n",
        "print(n)"
      ]
    },
    {
      "cell_type": "markdown",
      "id": "1ed808ab",
      "metadata": {
        "id": "1ed808ab"
      },
      "source": [
        "### String Encoding Function"
      ]
    },
    {
      "cell_type": "code",
      "execution_count": null,
      "id": "982ccd4f",
      "metadata": {
        "colab": {
          "base_uri": "https://localhost:8080/"
        },
        "id": "982ccd4f",
        "outputId": "c70e058d-d0bd-43b1-bc16-6635ac855cb6"
      },
      "outputs": [
        {
          "output_type": "execute_result",
          "data": {
            "text/plain": [
              "162"
            ]
          },
          "metadata": {},
          "execution_count": 66
        }
      ],
      "source": [
        "int(bin(ord('a')+ord('A')),2)"
      ]
    },
    {
      "cell_type": "code",
      "execution_count": null,
      "id": "926142a8",
      "metadata": {
        "id": "926142a8"
      },
      "outputs": [],
      "source": [
        "def strencode(column):\n",
        "    pa=column\n",
        "    ans=0\n",
        "\n",
        "    for i in pa:\n",
        "        ans+=ord(i)\n",
        "    return ans\n",
        "#     pa_encode=pa.encode('utf_16','strict')\n",
        "#     integer = int.from_bytes(pa_encode, byteorder='little')\n",
        "\n",
        "    #return integer//len(pa_encode)"
      ]
    },
    {
      "cell_type": "code",
      "execution_count": null,
      "id": "7a87eac2",
      "metadata": {
        "id": "7a87eac2"
      },
      "outputs": [],
      "source": [
        "def strencodegeneral(stri):\n",
        "    ans=0\n",
        "    for i in stri:\n",
        "        ans+=ord(i)\n",
        "    return ans"
      ]
    },
    {
      "cell_type": "markdown",
      "id": "b97676ee",
      "metadata": {
        "id": "b97676ee"
      },
      "source": [
        "str=\"Hello! Welcome to Tutorialspoint.\"\n",
        "str_encoded= str.encode('utf_16','strict')\n",
        "print(\"The encoded string is: \", str_encoded)"
      ]
    },
    {
      "cell_type": "markdown",
      "id": "39d85cbd",
      "metadata": {
        "id": "39d85cbd"
      },
      "source": [
        "bytes = str_encoded\n",
        "integer = int.from_bytes(bytes, byteorder='little')\n",
        "print(integer)"
      ]
    },
    {
      "cell_type": "code",
      "execution_count": null,
      "id": "bf9a5f72",
      "metadata": {
        "colab": {
          "base_uri": "https://localhost:8080/"
        },
        "id": "bf9a5f72",
        "outputId": "8cf26135-ba03-4659-b34b-9e4bab9abdd4"
      },
      "outputs": [
        {
          "output_type": "execute_result",
          "data": {
            "text/plain": [
              "Comorbidities\n",
              "A                                                                                                                                 218\n",
              "Right focal seizures at 1 1/2yrs of age-- on medication                                                                             1\n",
              "H/o of Allergic Rhinitis- on Metaspray                                                                                              1\n",
              "Seizure disorder since 2020                                                                                                         1\n",
              "Child was diagnosed to have corpus callossum agenesis on D3 of life- Developmentally normal child                                   1\n",
              "Both weight and height < 3rd centile                                                                                                1\n",
              "Has congenital bilateral preauricular pits which gets swollen during episodes of fever and cols                                     1\n",
              "Mild motor developemenal delay                                                                                                      1\n",
              "Constipated                                                                                                                         1\n",
              "Primary nocturnal eneurisis with constipation                                                                                       1\n",
              "High Myopic                                                                                                                         1\n",
              "DM                                                                                                                                  1\n",
              "Genetically proven white matter disease in April 2022                                                                               1\n",
              "K/C/O wheezer for the past 1 year on MDI SOS                                                                                        1\n",
              "Horseshoe kidney diagnosed at 1 1/2yrs of age- on uroprophylaxis- now discontinued                                                  1\n",
              "Known wheezer                                                                                                                       1\n",
              "Diagnosed with nephrotic syndrome at 1 1/ yrs of age, has been having frequent replapses since then                                 1\n",
              "SCN1A Mutation- genetic epilepsy with Febrile seizure plus Type 2 Syndrome                                                          1\n",
              "P (Autoimmiune Thyroiditis)                                                                                                         1\n",
              "Diagnosed with Pre B ALL at 2 1/2 yrs of age- completed chemotherapy in May 2022; also has H/O Febrile seizures on prophylaxis      1\n",
              "Diagnosed to have dimorphic anemia in 2021- probable immune cytopenia                                                               1\n",
              "Short stature                                                                                                                       1\n",
              "K/C/O of Developmental delay                                                                                                        1\n",
              "Had one episode of simple febrile seizure                                                                                           1\n",
              "K/C/O Congenital Hypothyroidism                                                                                                     1\n",
              "YES                                                                                                                                 1\n",
              "Name: count, dtype: int64"
            ]
          },
          "metadata": {},
          "execution_count": 69
        }
      ],
      "source": [
        "data['Comorbidities'].value_counts()"
      ]
    },
    {
      "cell_type": "code",
      "execution_count": null,
      "id": "8f155770",
      "metadata": {
        "id": "8f155770"
      },
      "outputs": [],
      "source": [
        "data['Comorbidities'].fillna('-1',inplace=True)"
      ]
    },
    {
      "cell_type": "code",
      "execution_count": null,
      "id": "81428eb7",
      "metadata": {
        "id": "81428eb7"
      },
      "outputs": [],
      "source": [
        "data['Comorbidities']=le.fit_transform(data['Comorbidities'])"
      ]
    },
    {
      "cell_type": "markdown",
      "id": "e35f6308",
      "metadata": {
        "id": "e35f6308"
      },
      "source": [
        "### Additional physical findings"
      ]
    },
    {
      "cell_type": "code",
      "execution_count": null,
      "id": "6ad6743f",
      "metadata": {
        "colab": {
          "base_uri": "https://localhost:8080/"
        },
        "id": "6ad6743f",
        "outputId": "9a8ceb2a-9219-4dfc-c3fd-7a77c41f5a4d"
      },
      "outputs": [
        {
          "output_type": "execute_result",
          "data": {
            "text/plain": [
              "Additional physical finding\n",
              "A                                                                                                                                   63\n",
              "Lethargic                                                                                                                           10\n",
              "Sick looking                                                                                                                         7\n",
              "Mild hepatomegaly                                                                                                                    6\n",
              "Right hypochondriac tenderness                                                                                                       4\n",
              "                                                                                                                                    ..\n",
              "Flushed appearance, feeble peripheral pulses                                                                                         1\n",
              "Thick purulent nasal secretion, congested throat and open mouth breathing; Right hypochondriac tenderness with mild hepatomegaly     1\n",
              "Flushed skin with palpable liver                                                                                                     1\n",
              "Flushed appearance with Right Hypochondriac tenderness                                                                               1\n",
              "Tenderness in right hypocondrial region                                                                                              1\n",
              "Name: count, Length: 150, dtype: int64"
            ]
          },
          "metadata": {},
          "execution_count": 72
        }
      ],
      "source": [
        "data['Additional physical finding'].value_counts()"
      ]
    },
    {
      "cell_type": "code",
      "execution_count": null,
      "id": "c9d5278c",
      "metadata": {
        "id": "c9d5278c"
      },
      "outputs": [],
      "source": [
        "data['Additional physical finding']=le.fit_transform(data['Additional physical finding'])"
      ]
    },
    {
      "cell_type": "code",
      "execution_count": null,
      "id": "d1ebb379",
      "metadata": {
        "colab": {
          "base_uri": "https://localhost:8080/"
        },
        "id": "d1ebb379",
        "outputId": "ba66b58a-b224-4acd-9507-ce126e61f102"
      },
      "outputs": [
        {
          "output_type": "execute_result",
          "data": {
            "text/plain": [
              "Any specific renal sign\n",
              "A                                                                                                                          239\n",
              "NIL                                                                                                                          2\n",
              "Had Acute kidney injury stage 3 with anuria, fluid overload and persistent metabolic acidosis and was commenced on CRRT      1\n",
              "Name: count, dtype: int64"
            ]
          },
          "metadata": {},
          "execution_count": 74
        }
      ],
      "source": [
        "data['Any specific renal sign'].value_counts()"
      ]
    },
    {
      "cell_type": "code",
      "execution_count": null,
      "id": "c149aa86",
      "metadata": {
        "colab": {
          "base_uri": "https://localhost:8080/"
        },
        "id": "c149aa86",
        "outputId": "dc62a5ca-9fc5-415b-f2f9-a990b3dcbd2c"
      },
      "outputs": [
        {
          "output_type": "execute_result",
          "data": {
            "text/plain": [
              "1"
            ]
          },
          "metadata": {},
          "execution_count": 75
        }
      ],
      "source": [
        "data['Any specific renal sign'].isna().sum()"
      ]
    },
    {
      "cell_type": "markdown",
      "id": "1337dc58",
      "metadata": {
        "id": "1337dc58"
      },
      "source": [
        "### Function to fill NA values in string datatype columns"
      ]
    },
    {
      "cell_type": "code",
      "execution_count": null,
      "id": "28343091",
      "metadata": {
        "id": "28343091"
      },
      "outputs": [],
      "source": [
        "def fillnarenal(column):\n",
        "    renal=column\n",
        "    if type(renal)==float:\n",
        "        return '0'\n",
        "    else:\n",
        "        return renal"
      ]
    },
    {
      "cell_type": "code",
      "execution_count": null,
      "id": "9df3fd89",
      "metadata": {
        "id": "9df3fd89"
      },
      "outputs": [],
      "source": [
        "data['Any specific renal sign']=data['Any specific renal sign'].apply(fillnarenal)"
      ]
    },
    {
      "cell_type": "code",
      "execution_count": null,
      "id": "5c0374b6",
      "metadata": {
        "id": "5c0374b6"
      },
      "outputs": [],
      "source": [
        "for i in data['Any specific renal sign']:\n",
        "    if type(i)==float:\n",
        "        print(i)"
      ]
    },
    {
      "cell_type": "code",
      "execution_count": null,
      "id": "c11acdcb",
      "metadata": {
        "id": "c11acdcb"
      },
      "outputs": [],
      "source": [
        "data['Any specific renal sign']=data['Any specific renal sign'].apply(strencode)"
      ]
    },
    {
      "cell_type": "code",
      "execution_count": null,
      "id": "91d8a03a",
      "metadata": {
        "colab": {
          "base_uri": "https://localhost:8080/"
        },
        "id": "91d8a03a",
        "outputId": "1e24434c-cbe9-4319-fb78-df791efa80a8"
      },
      "outputs": [
        {
          "output_type": "execute_result",
          "data": {
            "text/plain": [
              "Any specific renal sign\n",
              "65       239\n",
              "227        2\n",
              "48         1\n",
              "11079      1\n",
              "Name: count, dtype: int64"
            ]
          },
          "metadata": {},
          "execution_count": 80
        }
      ],
      "source": [
        "data['Any specific renal sign'].value_counts()"
      ]
    },
    {
      "cell_type": "markdown",
      "id": "285f3218",
      "metadata": {
        "id": "285f3218"
      },
      "source": [
        "### Differential count"
      ]
    },
    {
      "cell_type": "code",
      "execution_count": null,
      "id": "fa65206e",
      "metadata": {
        "colab": {
          "base_uri": "https://localhost:8080/"
        },
        "id": "fa65206e",
        "outputId": "9235799d-eeed-4c63-d581-66749a33a422"
      },
      "outputs": [
        {
          "output_type": "execute_result",
          "data": {
            "text/plain": [
              "Differential count\n",
              "N60L38M2      6\n",
              "N36L60M4      5\n",
              "N60L37M3      3\n",
              "N69L28M3      3\n",
              "N63L35M2      3\n",
              "             ..\n",
              "N75L24M1      1\n",
              "N45L49M6      1\n",
              "N93L7         1\n",
              "N55L42M1E2    1\n",
              "N44L50M05     1\n",
              "Name: count, Length: 191, dtype: int64"
            ]
          },
          "metadata": {},
          "execution_count": 81
        }
      ],
      "source": [
        "data['Differential count'].value_counts()"
      ]
    },
    {
      "cell_type": "code",
      "execution_count": null,
      "id": "3996afbd",
      "metadata": {
        "colab": {
          "base_uri": "https://localhost:8080/"
        },
        "id": "3996afbd",
        "outputId": "36b3cadf-9112-4e6c-fac2-82a36abd71e3"
      },
      "outputs": [
        {
          "output_type": "execute_result",
          "data": {
            "text/plain": [
              "9"
            ]
          },
          "metadata": {},
          "execution_count": 82
        }
      ],
      "source": [
        "data['Differential count'].isna().sum()"
      ]
    },
    {
      "cell_type": "code",
      "execution_count": null,
      "id": "f48e68a8",
      "metadata": {
        "id": "f48e68a8"
      },
      "outputs": [],
      "source": [
        "data['Differential count']=data['Differential count'].apply(fillnarenal)"
      ]
    },
    {
      "cell_type": "code",
      "execution_count": null,
      "id": "ad3a587e",
      "metadata": {
        "colab": {
          "base_uri": "https://localhost:8080/"
        },
        "id": "ad3a587e",
        "outputId": "4cca9ecc-2ad5-402d-f4c7-6b0cef27a269"
      },
      "outputs": [
        {
          "output_type": "execute_result",
          "data": {
            "text/plain": [
              "0"
            ]
          },
          "metadata": {},
          "execution_count": 84
        }
      ],
      "source": [
        "data['Differential count'].isna().sum()"
      ]
    },
    {
      "cell_type": "code",
      "execution_count": null,
      "id": "b392198f",
      "metadata": {
        "id": "b392198f"
      },
      "outputs": [],
      "source": [
        "data['Differential count']=data['Differential count'].apply(strencode)"
      ]
    },
    {
      "cell_type": "code",
      "execution_count": null,
      "id": "3f6944fb",
      "metadata": {
        "colab": {
          "base_uri": "https://localhost:8080/"
        },
        "id": "3f6944fb",
        "outputId": "0ebf2ad5-7f1a-4264-e4a6-03b059bd0dff"
      },
      "outputs": [
        {
          "output_type": "execute_result",
          "data": {
            "text/plain": [
              "Differential count\n",
              "490    117\n",
              "607     29\n",
              "538     24\n",
              "499     18\n",
              "48       9\n",
              "703      5\n",
              "616      4\n",
              "365      4\n",
              "547      3\n",
              "442      3\n",
              "493      2\n",
              "570      2\n",
              "65       2\n",
              "485      2\n",
              "361      2\n",
              "568      1\n",
              "532      1\n",
              "657      1\n",
              "712      1\n",
              "370      1\n",
              "356      1\n",
              "541      1\n",
              "608      1\n",
              "451      1\n",
              "489      1\n",
              "559      1\n",
              "355      1\n",
              "360      1\n",
              "317      1\n",
              "363      1\n",
              "434      1\n",
              "537      1\n",
              "Name: count, dtype: int64"
            ]
          },
          "metadata": {},
          "execution_count": 86
        }
      ],
      "source": [
        "data['Differential count'].value_counts()"
      ]
    },
    {
      "cell_type": "code",
      "execution_count": null,
      "id": "8aea0a9c",
      "metadata": {
        "colab": {
          "base_uri": "https://localhost:8080/"
        },
        "id": "8aea0a9c",
        "outputId": "1522d343-56de-48cf-854a-09a8db55c24a"
      },
      "outputs": [
        {
          "output_type": "execute_result",
          "data": {
            "text/plain": [
              "0                      Negative\n",
              "1                           NaN\n",
              "12                     Negative\n",
              "13                          NaN\n",
              "14                          NaN\n",
              "                 ...           \n",
              "356    Dengue Ns1 +IGM Positive\n",
              "357       Dengue Ns1AG positive\n",
              "358     Dengue NS1 IGG Positive\n",
              "359                    Negative\n",
              "360         Dengue Ns1 Positive\n",
              "Name: Dengue Viral Immunoassay (IgM) (Positive/Negative), Length: 243, dtype: object"
            ]
          },
          "metadata": {},
          "execution_count": 87
        }
      ],
      "source": [
        "data['Dengue Viral Immunoassay (IgM) (Positive/Negative)']"
      ]
    },
    {
      "cell_type": "code",
      "execution_count": null,
      "id": "6026a641",
      "metadata": {
        "colab": {
          "base_uri": "https://localhost:8080/"
        },
        "id": "6026a641",
        "outputId": "058ec031-8031-4513-d69a-49f80d6c3425"
      },
      "outputs": [
        {
          "output_type": "execute_result",
          "data": {
            "text/plain": [
              "Dengue Viral Immunoassay (IgM) (Positive/Negative)\n",
              "Negative                                       17\n",
              "NS1 and IgM Negative                           17\n",
              "NS1 and IgM Positive                           16\n",
              "NS1 Positive and IgM Negative                  12\n",
              "Dengue IGM Positive                             8\n",
              "NS1 Negative IgM Positive                       8\n",
              "NS1 Positive IgM Negative                       6\n",
              "IGM Positive                                    5\n",
              "Positive                                        4\n",
              "NS1 and IgM Negative, IgG Positive              4\n",
              "NS1 Positive                                    3\n",
              "NS1 Negative and IgM Positive                   3\n",
              "-                                               3\n",
              "NS1, IgM and IgG Positive                       3\n",
              "NS1 and IgM Negative; IgG Positive              3\n",
              "NS1 Negative                                    3\n",
              "Dengue NS1 positive                             3\n",
              "NS1 Positive, IgM Negative and IgG Positive     2\n",
              "Dengue RNA PCR Positive                         2\n",
              "NS1 Positive and Igm Negative                   2\n",
              "NS1 Negative, IgM Positive                      2\n",
              "NS1 Positive, IgM Negative, IgG Positive        2\n",
              "Dengue Ns1AG positive                           2\n",
              "NS1 Positive, IgM Negative                      2\n",
              "NS1 and IgM Negative IgG Positive               2\n",
              "Dengue Ns1 +IGM Positive                        1\n",
              "Dengue NS1 IGG Positive                         1\n",
              "IGG Positive                                    1\n",
              "Dengue IGM positive                             1\n",
              "Not done                                        1\n",
              "Dengue RNA PCR positive                         1\n",
              "NS1 is Negative, IgM Positive                   1\n",
              "Dengue PCR Positive                             1\n",
              "NS1 Negative IgM Positive and IgG Positive      1\n",
              "NS1 Negative, IgM Positive and IgG Negative     1\n",
              "NS1 and IgM Negative, IgG positive              1\n",
              "NS1 and Igm Negative                            1\n",
              "NS1 positive IgM Negative                       1\n",
              "NS1 Negative, IgM and IgG Positive              1\n",
              "NS1 Positive, Igm and IgG Negative              1\n",
              "NS1 Negative Igm Positive                       1\n",
              "Igm Negative IgG Positive                       1\n",
              "Dengue Ns1 Positive                             1\n",
              "Name: count, dtype: int64"
            ]
          },
          "metadata": {},
          "execution_count": 88
        }
      ],
      "source": [
        "data['Dengue Viral Immunoassay (IgM) (Positive/Negative)'].value_counts()"
      ]
    },
    {
      "cell_type": "code",
      "execution_count": null,
      "id": "af094ae0",
      "metadata": {
        "id": "af094ae0"
      },
      "outputs": [],
      "source": [
        "#IgM,NS1,IgG Possitive=2, negative=1, Not done=3\n",
        "d={'Negative':133,'NEGATIVE':133,\n",
        "'NS1 and IgM Negative':113,\n",
        "'NS1 and IgM Positive':223,\n",
        "'NS1 Positive and IgM Negative':213,\n",
        "'Positive':233,\n",
        "'Dengue IGM Positive':233,\n",
        "'NS1 Negative IgM Positive':213,\n",
        "'NS1 Positive IgM Negative':213,\n",
        "'D':333,\n",
        "'IGM Positive':233,\n",
        "'NS1 and IgM Negative, IgG Positive':112,\n",
        "'NS1, IgM and IgG Positive':222,\n",
        "'Dengue NS1 positive':323,\n",
        "'NS1 Negative':313,\n",
        "'NS1 Negative and IgM Positive':213,\n",
        "'NS1 and IgM Negative; IgG Positive':112,\n",
        "'-':333,\n",
        "'NS1 Positive':323,\n",
        "'NS1 and IgM Negative IgG Positive':112,\n",
        "'NS1 Positive and Igm Negative':123,\n",
        "'Dengue Ns1AG positive':323,\n",
        "'Dengue RNA PCR Positive':4,\n",
        "'POSITIVE':233,\n",
        "'NS1 Positive, IgM Negative':123,\n",
        "'NS1 Positive, IgM Negative and IgG Positive':122,\n",
        "'NS1 Positive, IgM Negative, IgG Positive':122,\n",
        "'NS1 Negative, IgM Positive':213,\n",
        "'NS1 Negative, IgM Positive and IgG Negative':211,\n",
        "'Not done':-1,\n",
        "'Dengue NS1 IGG Positive':122,\n",
        "'Dengue Ns1 +IGM Positive':223,\n",
        "'Dengue IGM positive':233,\n",
        "'NS1 Positive, Igm and IgG Negative':121,\n",
        "'Igm Negative IgG Positive':132,\n",
        "'NS1 Negative Igm Positive':213,\n",
        "'IGG Positive':332,\n",
        "'NS1 Negative, IgM and IgG Positive':212,\n",
        "'NS1 Negative IgM Positive and IgG Positive':212,\n",
        "'Dengue RNA PCR positive':233,\n",
        "'NS1 positive IgM Negative':123,\n",
        "'Dengue PCR Positive':233,\n",
        "'NS1 is Negative, IgM Positive':213,\n",
        "'NS1 and Igm Negative':113,\n",
        "'Positive':233,\n",
        "'NS1 and IgM Negative, IgG positive':112,\n",
        "'Dengue Ns1 Positive':323}"
      ]
    },
    {
      "cell_type": "code",
      "execution_count": null,
      "id": "34697a42",
      "metadata": {
        "id": "34697a42"
      },
      "outputs": [],
      "source": [
        "def igm(column):\n",
        "    ig=column\n",
        "    if ig in d.keys():\n",
        "        return d[ig]\n",
        "    else:\n",
        "        return -1"
      ]
    },
    {
      "cell_type": "code",
      "execution_count": null,
      "id": "cd8eac8e",
      "metadata": {
        "id": "cd8eac8e"
      },
      "outputs": [],
      "source": [
        "data['Dengue Viral Immunoassay (IgM) (Positive/Negative)']=data['Dengue Viral Immunoassay (IgM) (Positive/Negative)'].apply(igm)"
      ]
    },
    {
      "cell_type": "code",
      "execution_count": null,
      "id": "416fe023",
      "metadata": {
        "colab": {
          "base_uri": "https://localhost:8080/"
        },
        "id": "416fe023",
        "outputId": "b5b62318-7c3a-4665-f4ea-5221a3eb80ca"
      },
      "outputs": [
        {
          "output_type": "execute_result",
          "data": {
            "text/plain": [
              "0"
            ]
          },
          "metadata": {},
          "execution_count": 92
        }
      ],
      "source": [
        "data['Dengue Viral Immunoassay (IgM) (Positive/Negative)'].isna().sum()"
      ]
    },
    {
      "cell_type": "code",
      "execution_count": null,
      "id": "4ddcfec5",
      "metadata": {
        "id": "4ddcfec5"
      },
      "outputs": [],
      "source": [
        "def posneg(column):\n",
        "    pn=column\n",
        "    if pn in ['Positive','O (1 in 160) and H (1 in 640) Positive','O & H Positive','Positive (3.50)']:\n",
        "        return 1\n",
        "    elif pn in ['Negative','All Negative','NEGATIVE',]:\n",
        "        return 0\n",
        "    else:\n",
        "        return -1"
      ]
    },
    {
      "cell_type": "code",
      "execution_count": null,
      "id": "e33e1995",
      "metadata": {
        "colab": {
          "base_uri": "https://localhost:8080/"
        },
        "id": "e33e1995",
        "outputId": "63ce4c6c-c653-48b7-a578-f202d935abf9"
      },
      "outputs": [
        {
          "output_type": "execute_result",
          "data": {
            "text/plain": [
              "Typhi dot/ WIDAL Report\n",
              "Negative                                  16\n",
              "Positive                                   3\n",
              "All Negative                               2\n",
              "O (1 in 160) and H (1 in 640) Positive     1\n",
              "O & H Positive                             1\n",
              "Name: count, dtype: int64"
            ]
          },
          "metadata": {},
          "execution_count": 94
        }
      ],
      "source": [
        "data['Typhi dot/ WIDAL Report'].value_counts()"
      ]
    },
    {
      "cell_type": "code",
      "execution_count": null,
      "id": "171e51e1",
      "metadata": {
        "colab": {
          "base_uri": "https://localhost:8080/"
        },
        "id": "171e51e1",
        "outputId": "63504996-7570-4ed4-ed9b-4a351b2d76be"
      },
      "outputs": [
        {
          "output_type": "execute_result",
          "data": {
            "text/plain": [
              "220"
            ]
          },
          "metadata": {},
          "execution_count": 95
        }
      ],
      "source": [
        "data['Typhi dot/ WIDAL Report'].isna().sum()"
      ]
    },
    {
      "cell_type": "code",
      "execution_count": null,
      "id": "38488ff4",
      "metadata": {
        "id": "38488ff4"
      },
      "outputs": [],
      "source": [
        "data['Typhi dot/ WIDAL Report']=data['Typhi dot/ WIDAL Report'].apply(posneg)"
      ]
    },
    {
      "cell_type": "code",
      "execution_count": null,
      "id": "5f07e101",
      "metadata": {
        "colab": {
          "base_uri": "https://localhost:8080/"
        },
        "id": "5f07e101",
        "outputId": "4dbaa948-fea1-4199-8188-d77ab90d8a74"
      },
      "outputs": [
        {
          "output_type": "execute_result",
          "data": {
            "text/plain": [
              "Typhi dot/ WIDAL Report\n",
              "-1    220\n",
              " 0     18\n",
              " 1      5\n",
              "Name: count, dtype: int64"
            ]
          },
          "metadata": {},
          "execution_count": 97
        }
      ],
      "source": [
        "data['Typhi dot/ WIDAL Report'].value_counts()"
      ]
    },
    {
      "cell_type": "code",
      "execution_count": null,
      "id": "6669ad4f",
      "metadata": {
        "id": "6669ad4f"
      },
      "outputs": [],
      "source": []
    },
    {
      "cell_type": "code",
      "execution_count": null,
      "id": "d1c5c71f",
      "metadata": {
        "colab": {
          "base_uri": "https://localhost:8080/"
        },
        "id": "d1c5c71f",
        "outputId": "aeee8fa0-2593-447f-fd5e-9335e905e0c8"
      },
      "outputs": [
        {
          "output_type": "execute_result",
          "data": {
            "text/plain": [
              "Scrub typhus Report\n",
              "Negative           61\n",
              "Positive           12\n",
              "Positive (3.50)     1\n",
              "Name: count, dtype: int64"
            ]
          },
          "metadata": {},
          "execution_count": 98
        }
      ],
      "source": [
        "data['Scrub typhus Report'].value_counts()"
      ]
    },
    {
      "cell_type": "code",
      "execution_count": null,
      "id": "8ee9cb92",
      "metadata": {
        "colab": {
          "base_uri": "https://localhost:8080/"
        },
        "id": "8ee9cb92",
        "outputId": "f6f25ef8-3b0c-4724-decd-f7512e751280"
      },
      "outputs": [
        {
          "output_type": "execute_result",
          "data": {
            "text/plain": [
              "169"
            ]
          },
          "metadata": {},
          "execution_count": 99
        }
      ],
      "source": [
        "data['Scrub typhus Report'].isna().sum()"
      ]
    },
    {
      "cell_type": "code",
      "execution_count": null,
      "id": "1f98c7ed",
      "metadata": {
        "id": "1f98c7ed"
      },
      "outputs": [],
      "source": [
        "data['Scrub typhus Report']=data['Scrub typhus Report'].apply(posneg)"
      ]
    },
    {
      "cell_type": "code",
      "execution_count": null,
      "id": "118a8b35",
      "metadata": {
        "colab": {
          "base_uri": "https://localhost:8080/"
        },
        "id": "118a8b35",
        "outputId": "dbb9b00f-d10a-4af8-cf5c-7c1d2646b566"
      },
      "outputs": [
        {
          "output_type": "execute_result",
          "data": {
            "text/plain": [
              "0"
            ]
          },
          "metadata": {},
          "execution_count": 101
        }
      ],
      "source": [
        "data['Scrub typhus Report'].isna().sum()"
      ]
    },
    {
      "cell_type": "code",
      "execution_count": null,
      "id": "692c41cd",
      "metadata": {
        "id": "692c41cd"
      },
      "outputs": [],
      "source": []
    },
    {
      "cell_type": "code",
      "execution_count": null,
      "id": "3dde8b04",
      "metadata": {
        "colab": {
          "base_uri": "https://localhost:8080/"
        },
        "id": "3dde8b04",
        "outputId": "ea2d34d7-cd33-4224-fe1b-b86d10612aa6"
      },
      "outputs": [
        {
          "output_type": "execute_result",
          "data": {
            "text/plain": [
              "Malaria report\n",
              "Negative    13\n",
              "Name: count, dtype: int64"
            ]
          },
          "metadata": {},
          "execution_count": 102
        }
      ],
      "source": [
        "data['Malaria report'].value_counts()"
      ]
    },
    {
      "cell_type": "code",
      "execution_count": null,
      "id": "e148d6a4",
      "metadata": {
        "colab": {
          "base_uri": "https://localhost:8080/"
        },
        "id": "e148d6a4",
        "outputId": "9a7a1c39-06af-4d5a-fdbc-8599281e8bca"
      },
      "outputs": [
        {
          "output_type": "execute_result",
          "data": {
            "text/plain": [
              "230"
            ]
          },
          "metadata": {},
          "execution_count": 103
        }
      ],
      "source": [
        "data['Malaria report'].isna().sum()"
      ]
    },
    {
      "cell_type": "code",
      "execution_count": null,
      "id": "43a3b7cf",
      "metadata": {
        "id": "43a3b7cf"
      },
      "outputs": [],
      "source": [
        "data['Malaria report']=data['Malaria report'].apply(posneg)"
      ]
    },
    {
      "cell_type": "code",
      "execution_count": null,
      "id": "07155859",
      "metadata": {
        "colab": {
          "base_uri": "https://localhost:8080/"
        },
        "id": "07155859",
        "outputId": "d271d7d2-9a4f-4f51-c55b-94ed456c3b61"
      },
      "outputs": [
        {
          "output_type": "execute_result",
          "data": {
            "text/plain": [
              "0"
            ]
          },
          "metadata": {},
          "execution_count": 105
        }
      ],
      "source": [
        "data['Malaria report'].isna().sum()"
      ]
    },
    {
      "cell_type": "code",
      "execution_count": null,
      "id": "54c3fd4f",
      "metadata": {
        "colab": {
          "base_uri": "https://localhost:8080/"
        },
        "id": "54c3fd4f",
        "outputId": "0f0db59f-d3bb-4bdc-bc26-1dd6ecb446d0"
      },
      "outputs": [
        {
          "output_type": "execute_result",
          "data": {
            "text/plain": [
              "Malaria report\n",
              "-1    230\n",
              " 0     13\n",
              "Name: count, dtype: int64"
            ]
          },
          "metadata": {},
          "execution_count": 106
        }
      ],
      "source": [
        "data['Malaria report'].value_counts()"
      ]
    },
    {
      "cell_type": "code",
      "execution_count": null,
      "id": "755f629a",
      "metadata": {
        "id": "755f629a"
      },
      "outputs": [],
      "source": []
    },
    {
      "cell_type": "code",
      "execution_count": null,
      "id": "af726cd6",
      "metadata": {
        "colab": {
          "base_uri": "https://localhost:8080/"
        },
        "id": "af726cd6",
        "outputId": "74ac7184-b505-4e31-adbe-db3a653f8d96"
      },
      "outputs": [
        {
          "output_type": "execute_result",
          "data": {
            "text/plain": [
              "Lepto report\n",
              "Negative    4\n",
              "Name: count, dtype: int64"
            ]
          },
          "metadata": {},
          "execution_count": 107
        }
      ],
      "source": [
        "data['Lepto report'].value_counts()"
      ]
    },
    {
      "cell_type": "code",
      "execution_count": null,
      "id": "958a1df8",
      "metadata": {
        "id": "958a1df8"
      },
      "outputs": [],
      "source": [
        "data['Lepto report']=data['Lepto report'].apply(posneg)"
      ]
    },
    {
      "cell_type": "code",
      "execution_count": null,
      "id": "1fac48d3",
      "metadata": {
        "colab": {
          "base_uri": "https://localhost:8080/"
        },
        "id": "1fac48d3",
        "outputId": "2a5f9514-5c47-4c8a-edfe-c89da4810bb6"
      },
      "outputs": [
        {
          "output_type": "execute_result",
          "data": {
            "text/plain": [
              "0"
            ]
          },
          "metadata": {},
          "execution_count": 109
        }
      ],
      "source": [
        "data['Lepto report'].isna().sum()"
      ]
    },
    {
      "cell_type": "code",
      "execution_count": null,
      "id": "f7356f40",
      "metadata": {
        "colab": {
          "base_uri": "https://localhost:8080/"
        },
        "id": "f7356f40",
        "outputId": "1dcd8b20-96dd-4a81-9561-6a71f3ab2869"
      },
      "outputs": [
        {
          "output_type": "execute_result",
          "data": {
            "text/plain": [
              "Lepto report\n",
              "-1    239\n",
              " 0      4\n",
              "Name: count, dtype: int64"
            ]
          },
          "metadata": {},
          "execution_count": 110
        }
      ],
      "source": [
        "data['Lepto report'].value_counts()"
      ]
    },
    {
      "cell_type": "code",
      "execution_count": null,
      "id": "fddbc659",
      "metadata": {
        "id": "fddbc659"
      },
      "outputs": [],
      "source": []
    },
    {
      "cell_type": "code",
      "execution_count": null,
      "id": "c570c7d9",
      "metadata": {
        "colab": {
          "base_uri": "https://localhost:8080/"
        },
        "id": "c570c7d9",
        "outputId": "afef9f51-da9a-497d-c5b8-66dbca107684"
      },
      "outputs": [
        {
          "output_type": "execute_result",
          "data": {
            "text/plain": [
              "Xray report\n",
              "Normal study                                                                                                                       16\n",
              "Normal                                                                                                                             12\n",
              "-                                                                                                                                   3\n",
              "Right pleural effusion                                                                                                              2\n",
              "Prominent bronchovascular markings with peribronchial infiltrates. A tiny right pleural effusion                                    2\n",
              "Right upper lobe consolidation, Left hemithorax opaque, Left ICD in situ                                                            1\n",
              "Right sided pleural effusion and right lower lobe collapse                                                                          1\n",
              "Bilateral mild pleural effusion                                                                                                     1\n",
              "Bilateral pleural effusion                                                                                                          1\n",
              "Right sided massive pleural effussion                                                                                               1\n",
              "Right sided pleural effusion                                                                                                        1\n",
              "Bilateral prominent bronchovascular markings with bilateral minimal pleural effusion                                                1\n",
              "Bilateral prominent bronchovascular markings with perihilar infiltrates                                                             1\n",
              "Prominent bronchovascular markings                                                                                                  1\n",
              "Both lungs show prominent bronchovascular markings with peribronchial infiltrates                                                   1\n",
              "Both lungs show prominent bronchovascular markings                                                                                  1\n",
              "Bilateral perihilar infiltrates and peribroncial infiltrates                                                                        1\n",
              "Bilateral bronchial wall thickening. No focal consolidation                                                                         1\n",
              "There is consolidation in left lower lobe                                                                                           1\n",
              "Bilateral interstitial infiltrates                                                                                                  1\n",
              "Left lower lobe consolidation with Bilateral pleural effusion                                                                       1\n",
              "Prominent Bronchovascular markings                                                                                                  1\n",
              "Prminent Brochovascular markings                                                                                                    1\n",
              "Bilateral Perihilar Infiltrates (More on Right Upper zone)                                                                          1\n",
              "Lungs show prominent bronchovascular markings                                                                                       1\n",
              "Both lungs hyperinflated                                                                                                            1\n",
              "Patchy infiltrates seen in right lower lobe                                                                                         1\n",
              "Consolidation in Right upper lobe with some volume loss, patchy infiltrates in Right middle lobe, A tiny right pleural effusion     1\n",
              "Consolidation in left lower lobe with small pleural effusion                                                                        1\n",
              "Bilateral lower lobe pneumonia                                                                                                      1\n",
              "Bilateral bronchial wall thickening                                                                                                 1\n",
              "A tiny effusion is seen on both sides                                                                                               1\n",
              "Name: count, dtype: int64"
            ]
          },
          "metadata": {},
          "execution_count": 111
        }
      ],
      "source": [
        "data['Xray report'].value_counts()"
      ]
    },
    {
      "cell_type": "code",
      "execution_count": null,
      "id": "f6bda381",
      "metadata": {
        "id": "f6bda381"
      },
      "outputs": [],
      "source": [
        "def xray(column):\n",
        "    x=column\n",
        "    if x in ['Normal study','Normal','NORMAL','UNREMARKABLE','Unremarkable','UNREMARABLE']:\n",
        "        return 0\n",
        "    elif x=='-':\n",
        "        return -1\n",
        "    elif type(x)==float:\n",
        "        return -1\n",
        "    else:\n",
        "        return strencodegeneral(x)"
      ]
    },
    {
      "cell_type": "code",
      "execution_count": null,
      "id": "86bd8afe",
      "metadata": {
        "id": "86bd8afe"
      },
      "outputs": [],
      "source": [
        "data['Xray report']=data['Xray report'].apply(xray)"
      ]
    },
    {
      "cell_type": "code",
      "execution_count": null,
      "id": "8466a037",
      "metadata": {
        "colab": {
          "base_uri": "https://localhost:8080/"
        },
        "id": "8466a037",
        "outputId": "84286449-aa4c-43ae-9b27-8b344c882dac"
      },
      "outputs": [
        {
          "output_type": "execute_result",
          "data": {
            "text/plain": [
              "Xray report\n",
              "-1        184\n",
              " 0         28\n",
              " 9484       2\n",
              " 2194       2\n",
              " 2747       1\n",
              " 5019       1\n",
              " 8126       1\n",
              " 3492       1\n",
              " 7157       1\n",
              " 8379       1\n",
              " 3654       1\n",
              " 6688       1\n",
              " 2596       1\n",
              " 3050       1\n",
              " 5578       1\n",
              " 5991       1\n",
              " 5692       1\n",
              " 3927       1\n",
              " 5964       1\n",
              " 3460       1\n",
              " 3239       1\n",
              " 5404       1\n",
              " 4558       1\n",
              " 2405       1\n",
              " 4153       1\n",
              " 12037      1\n",
              " 5836       1\n",
              " 2951       1\n",
              " 3446       1\n",
              " 3473       1\n",
              " 3437       1\n",
              "Name: count, dtype: int64"
            ]
          },
          "metadata": {},
          "execution_count": 114
        }
      ],
      "source": [
        "data['Xray report'].value_counts()"
      ]
    },
    {
      "cell_type": "code",
      "execution_count": null,
      "id": "7995c9df",
      "metadata": {
        "colab": {
          "base_uri": "https://localhost:8080/"
        },
        "id": "7995c9df",
        "outputId": "c52ba813-6650-44b2-8c7d-f6641d0e964a"
      },
      "outputs": [
        {
          "output_type": "execute_result",
          "data": {
            "text/plain": [
              "0"
            ]
          },
          "metadata": {},
          "execution_count": 115
        }
      ],
      "source": [
        "data['Xray report'].isna().sum()"
      ]
    },
    {
      "cell_type": "markdown",
      "id": "ffa35bd4",
      "metadata": {
        "id": "ffa35bd4"
      },
      "source": [
        "## Columns with no common functions"
      ]
    },
    {
      "cell_type": "markdown",
      "id": "11111256",
      "metadata": {
        "id": "11111256"
      },
      "source": [
        "### Productive/Non-Productive"
      ]
    },
    {
      "cell_type": "code",
      "execution_count": null,
      "id": "97de6a8a",
      "metadata": {
        "colab": {
          "base_uri": "https://localhost:8080/"
        },
        "id": "97de6a8a",
        "outputId": "8c08bbb9-5ff2-4ced-ca87-e5a25316eaf6"
      },
      "outputs": [
        {
          "output_type": "execute_result",
          "data": {
            "text/plain": [
              "Productive/Non productive (P/NP)\n",
              "N/P    69\n",
              "-       5\n",
              "P       3\n",
              "A       1\n",
              "Name: count, dtype: int64"
            ]
          },
          "metadata": {},
          "execution_count": 116
        }
      ],
      "source": [
        "data['Productive/Non productive (P/NP)'].value_counts()"
      ]
    },
    {
      "cell_type": "code",
      "execution_count": null,
      "id": "aa0a1d82",
      "metadata": {
        "colab": {
          "base_uri": "https://localhost:8080/"
        },
        "id": "aa0a1d82",
        "outputId": "d41d8ebb-e39a-4ec8-ee13-506ca7652f58"
      },
      "outputs": [
        {
          "output_type": "execute_result",
          "data": {
            "text/plain": [
              "165"
            ]
          },
          "metadata": {},
          "execution_count": 117
        }
      ],
      "source": [
        "data['Productive/Non productive (P/NP)'].isna().sum()"
      ]
    },
    {
      "cell_type": "code",
      "execution_count": null,
      "id": "d3012000",
      "metadata": {
        "id": "d3012000"
      },
      "outputs": [],
      "source": [
        "def pnpfill(column):\n",
        "    pnp=column\n",
        "    if pnp=='N/P':\n",
        "        return 0\n",
        "    elif pnp=='P':\n",
        "        return 1\n",
        "    else:\n",
        "        return -1"
      ]
    },
    {
      "cell_type": "code",
      "execution_count": null,
      "id": "5adc9164",
      "metadata": {
        "id": "5adc9164"
      },
      "outputs": [],
      "source": [
        "data['Productive/Non productive (P/NP)']=data['Productive/Non productive (P/NP)'].apply(pnpfill)"
      ]
    },
    {
      "cell_type": "code",
      "execution_count": null,
      "id": "c78a3bb1",
      "metadata": {
        "colab": {
          "base_uri": "https://localhost:8080/"
        },
        "id": "c78a3bb1",
        "outputId": "de7d89a9-a8c1-4ca3-b598-8c7a89c4fdbc"
      },
      "outputs": [
        {
          "output_type": "execute_result",
          "data": {
            "text/plain": [
              "0     -1\n",
              "1     -1\n",
              "12    -1\n",
              "13    -1\n",
              "14    -1\n",
              "      ..\n",
              "356    0\n",
              "357   -1\n",
              "358    0\n",
              "359    0\n",
              "360   -1\n",
              "Name: Productive/Non productive (P/NP), Length: 243, dtype: int64"
            ]
          },
          "metadata": {},
          "execution_count": 120
        }
      ],
      "source": [
        "data['Productive/Non productive (P/NP)']"
      ]
    },
    {
      "cell_type": "markdown",
      "id": "a0e06607",
      "metadata": {
        "id": "a0e06607"
      },
      "source": [
        "### Past Illness"
      ]
    },
    {
      "cell_type": "code",
      "execution_count": null,
      "id": "d86635ce",
      "metadata": {
        "colab": {
          "base_uri": "https://localhost:8080/"
        },
        "id": "d86635ce",
        "outputId": "41654033-d963-48dd-ed7e-7df0f093ce06"
      },
      "outputs": [
        {
          "output_type": "execute_result",
          "data": {
            "text/plain": [
              "Past illness (P/A)\n",
              "NIL                                                                                                                                                                                                                 205\n",
              "P                                                                                                                                                                                                                     3\n",
              "Admitted for Iron deficiency anemia at the age of 2 1/2 months; Admitted in July 2022 for UTI and Scan revealed cystitis with Grade 4 VUR                                                                             1\n",
              "Child was treated for UTI (Urine culture E Coli) in 1st week of Feb 2023                                                                                                                                              1\n",
              "H/O Viral fever at the age of 2 and H/O Dengue 3 yrs back                                                                                                                                                             1\n",
              "Admitted for the same complaints elsewhere and treated as severe Dengue with compensated shock with IV fluids, albumin and inotropes- shifted to KKCTH in view of persistent shock and altered sensorium              1\n",
              "1st episode of simple febrile seizures in December 2022                                                                                                                                                               1\n",
              "H/O of Febrile seizures followed by unprovoked seizures in 2020- MRI Brain Normal, EEG s/o left frontoparietal epileptiform activity                                                                                  1\n",
              "Had H/O Febrile illness 2 weeks back- settled with antipyretics                                                                                                                                                       1\n",
              "Admitted and evaluated for fever 1 month back elsewhere and got discharged against medical advice                                                                                                                     1\n",
              "Admitted in 2021 for MISC                                                                                                                                                                                             1\n",
              "Had Neonatal seizures with HIE Stage II; was admitted at 8 months if age for Dengue with warning signs                                                                                                                1\n",
              "Admitted in Sep 2022 for acute febrile illness/ partially treated enteric fever/ Scrub typhus and treated for the same with antibiotics for 2 weeks; Again had fever for 3 days in the last week of January 2023      1\n",
              "Child was treated for culture proven enteric fever 1 week back elsewhere                                                                                                                                              1\n",
              "H/O recurrent episodes of simple febrile sizures since 3 years of age- on AED; MRI done at 3 years Normal- hence stopped AED                                                                                          1\n",
              "H/O of Dengue at 5 years of age                                                                                                                                                                                       1\n",
              "Child was treated for the complaints at local hospital and referred here in view of blood stained vomitus                                                                                                             1\n",
              "Dermoid cyst/ E.coli meningitis/Stricture urethra                                                                                                                                                                     1\n",
              "Had simple febrile seizures at 1 1/2yr of age- on frisium prophylaxis                                                                                                                                                 1\n",
              "H/O enteric fever in 2015                                                                                                                                                                                             1\n",
              "H/O travel to kutralam last week; known case of VSD on follow up                                                                                                                                                      1\n",
              "H/o simple febrile seizures till 5 years of age                                                                                                                                                                       1\n",
              "Had similar illness 1 week back and was afebrile for 3 days                                                                                                                                                           1\n",
              "Admitted at 5yrs of age for Kawasaki disease, Known wheezer, H/O Atopy present                                                                                                                                        1\n",
              "Had similar illness in August 2019- diagnosed to have dengue fever                                                                                                                                                    1\n",
              "Previously diagnosed to have Kawasaki disease at 1.5 yrs pf age                                                                                                                                                       1\n",
              "Recurrent fever for the past 2 months                                                                                                                                                                                 1\n",
              "Admitted for Dengue 5 years back                                                                                                                                                                                      1\n",
              "P (H/O Fever 2 weeks back and was treated for probable Typhoid with multiple Antibiotics)                                                                                                                             1\n",
              "Recurrent episodes of fever for the past 1 1/2 yrs                                                                                                                                                                    1\n",
              "H/O UTI 6 months ago. Partial vaginal synechiae present                                                                                                                                                               1\n",
              "At 8 months of age -CAP                                                                                                                                                                                               1\n",
              "Name: count, dtype: int64"
            ]
          },
          "metadata": {},
          "execution_count": 121
        }
      ],
      "source": [
        "data['Past illness (P/A)'].value_counts()"
      ]
    },
    {
      "cell_type": "code",
      "execution_count": null,
      "id": "82cba1b3",
      "metadata": {
        "id": "82cba1b3"
      },
      "outputs": [],
      "source": [
        "data['Past illness (P/A)'].fillna('-1',inplace=True)"
      ]
    },
    {
      "cell_type": "code",
      "execution_count": null,
      "id": "711b0169",
      "metadata": {
        "id": "711b0169"
      },
      "outputs": [],
      "source": [
        "def pastillnesscolumn(column):\n",
        "    pi=column\n",
        "    if pi=='Nil' or pi=='NIL':\n",
        "        return 0\n",
        "    elif pi=='-1':\n",
        "        return -1\n",
        "    else:\n",
        "        return 1\n"
      ]
    },
    {
      "cell_type": "code",
      "execution_count": null,
      "id": "f19efcbc",
      "metadata": {
        "id": "f19efcbc"
      },
      "outputs": [],
      "source": [
        "data['Past illness (P/A)']=data['Past illness (P/A)'].apply(pastillnesscolumn)"
      ]
    },
    {
      "cell_type": "markdown",
      "id": "da0e01f3",
      "metadata": {
        "id": "da0e01f3"
      },
      "source": [
        "### Similar Illness"
      ]
    },
    {
      "cell_type": "code",
      "execution_count": null,
      "id": "36f37834",
      "metadata": {
        "colab": {
          "base_uri": "https://localhost:8080/"
        },
        "id": "36f37834",
        "outputId": "93d57fc1-9c6c-40b5-e55a-10d4e70f74bb"
      },
      "outputs": [
        {
          "output_type": "execute_result",
          "data": {
            "text/plain": [
              "Similar illness in family (P/A)\n",
              "No                                137\n",
              "NO                                 98\n",
              "Yes (Mother)                        2\n",
              "Sibling with fever 1 week back      1\n",
              "Yes (elder sibling)                 1\n",
              "B/L RENAL CALCULAI                  1\n",
              "H/o of Atopy in mother              1\n",
              "CAP                                 1\n",
              "Name: count, dtype: int64"
            ]
          },
          "metadata": {},
          "execution_count": 125
        }
      ],
      "source": [
        "data['Similar illness in family (P/A)'].value_counts()"
      ]
    },
    {
      "cell_type": "code",
      "execution_count": null,
      "id": "f9942bb6",
      "metadata": {
        "colab": {
          "base_uri": "https://localhost:8080/"
        },
        "id": "f9942bb6",
        "outputId": "18a408c0-d4fe-4c5c-a84f-120b9d7e1a40"
      },
      "outputs": [
        {
          "output_type": "execute_result",
          "data": {
            "text/plain": [
              "1"
            ]
          },
          "metadata": {},
          "execution_count": 126
        }
      ],
      "source": [
        "data['Similar illness in family (P/A)'].isna().sum()"
      ]
    },
    {
      "cell_type": "code",
      "execution_count": null,
      "id": "a2569d4e",
      "metadata": {
        "id": "a2569d4e"
      },
      "outputs": [],
      "source": [
        "data['Similar illness in family (P/A)'].fillna('-1',inplace=True)"
      ]
    },
    {
      "cell_type": "code",
      "execution_count": null,
      "id": "7d1f5dfe",
      "metadata": {
        "colab": {
          "base_uri": "https://localhost:8080/"
        },
        "id": "7d1f5dfe",
        "outputId": "34e8f12e-fc93-4d82-a31d-4ed30437256a"
      },
      "outputs": [
        {
          "output_type": "execute_result",
          "data": {
            "text/plain": [
              "0"
            ]
          },
          "metadata": {},
          "execution_count": 128
        }
      ],
      "source": [
        "data['Similar illness in family (P/A)'].isna().sum()"
      ]
    },
    {
      "cell_type": "code",
      "execution_count": null,
      "id": "455183e1",
      "metadata": {
        "id": "455183e1"
      },
      "outputs": [],
      "source": [
        "def pnaillness(column):\n",
        "    pna=column\n",
        "    if pna in ['NO','No','A']:\n",
        "        return 0\n",
        "    elif pna=='-1':\n",
        "        return -1\n",
        "    else:\n",
        "        return 1"
      ]
    },
    {
      "cell_type": "code",
      "execution_count": null,
      "id": "810ecee9",
      "metadata": {
        "id": "810ecee9"
      },
      "outputs": [],
      "source": [
        "data['Similar illness in family (P/A)']=data['Similar illness in family (P/A)'].apply(pnaillness)"
      ]
    },
    {
      "cell_type": "markdown",
      "id": "ae329918",
      "metadata": {
        "id": "ae329918"
      },
      "source": [
        "### Rodent bites/scratches/contact with droppings"
      ]
    },
    {
      "cell_type": "code",
      "execution_count": null,
      "id": "e2466563",
      "metadata": {
        "colab": {
          "base_uri": "https://localhost:8080/"
        },
        "id": "e2466563",
        "outputId": "e124425f-d521-4d10-fdd5-addc61151fd1"
      },
      "outputs": [
        {
          "output_type": "execute_result",
          "data": {
            "text/plain": [
              "Any rodent bite/scratch/contact with rodent droppings (Y/N)\n",
              "A                                 240\n",
              "H/O contact with tick and mite      1\n",
              "Yes                                 1\n",
              "Name: count, dtype: int64"
            ]
          },
          "metadata": {},
          "execution_count": 131
        }
      ],
      "source": [
        "data['Any rodent bite/scratch/contact with rodent droppings (Y/N)'].value_counts()"
      ]
    },
    {
      "cell_type": "code",
      "execution_count": null,
      "id": "01fb9fc5",
      "metadata": {
        "colab": {
          "base_uri": "https://localhost:8080/"
        },
        "id": "01fb9fc5",
        "outputId": "80d29180-14c6-4c32-ed2d-52892f703791"
      },
      "outputs": [
        {
          "output_type": "execute_result",
          "data": {
            "text/plain": [
              "1"
            ]
          },
          "metadata": {},
          "execution_count": 132
        }
      ],
      "source": [
        "data['Any rodent bite/scratch/contact with rodent droppings (Y/N)'].isna().sum()"
      ]
    },
    {
      "cell_type": "code",
      "execution_count": null,
      "id": "1cbe1f4d",
      "metadata": {
        "id": "1cbe1f4d"
      },
      "outputs": [],
      "source": [
        "data['Any rodent bite/scratch/contact with rodent droppings (Y/N)'].fillna('-',inplace=True)"
      ]
    },
    {
      "cell_type": "code",
      "execution_count": null,
      "id": "528bf365",
      "metadata": {
        "colab": {
          "base_uri": "https://localhost:8080/"
        },
        "id": "528bf365",
        "outputId": "9ce61e1e-28c2-46d6-9021-261f43f8e27b"
      },
      "outputs": [
        {
          "output_type": "execute_result",
          "data": {
            "text/plain": [
              "0"
            ]
          },
          "metadata": {},
          "execution_count": 134
        }
      ],
      "source": [
        "data['Any rodent bite/scratch/contact with rodent droppings (Y/N)'].isna().sum()"
      ]
    },
    {
      "cell_type": "code",
      "execution_count": null,
      "id": "324243b1",
      "metadata": {
        "id": "324243b1"
      },
      "outputs": [],
      "source": [
        "def rodent(column):\n",
        "    ro=column\n",
        "    if ro=='A':\n",
        "        return 0\n",
        "    elif ro=='-':\n",
        "        return -1\n",
        "    else:\n",
        "        return 1"
      ]
    },
    {
      "cell_type": "code",
      "execution_count": null,
      "id": "d42461f2",
      "metadata": {
        "id": "d42461f2"
      },
      "outputs": [],
      "source": [
        "data['Any rodent bite/scratch/contact with rodent droppings (Y/N)']=data['Any rodent bite/scratch/contact with rodent droppings (Y/N)'].apply(rodent)"
      ]
    },
    {
      "cell_type": "markdown",
      "id": "4381735f",
      "metadata": {
        "id": "4381735f"
      },
      "source": [
        "### Prothrombin time"
      ]
    },
    {
      "cell_type": "code",
      "execution_count": null,
      "id": "e801fbdf",
      "metadata": {
        "colab": {
          "base_uri": "https://localhost:8080/"
        },
        "id": "e801fbdf",
        "outputId": "5b2fa186-4e88-4bb3-df97-9a0690160ffd"
      },
      "outputs": [
        {
          "output_type": "execute_result",
          "data": {
            "text/plain": [
              "0      NaN\n",
              "1      NaN\n",
              "12     NaN\n",
              "13     NaN\n",
              "14     NaN\n",
              "      ... \n",
              "356    NaN\n",
              "357    NaN\n",
              "358    NaN\n",
              "359    NaN\n",
              "360    NaN\n",
              "Name: Prothrombin time, Length: 243, dtype: object"
            ]
          },
          "metadata": {},
          "execution_count": 137
        }
      ],
      "source": [
        "data['Prothrombin time']"
      ]
    },
    {
      "cell_type": "code",
      "execution_count": null,
      "id": "0152100d",
      "metadata": {
        "colab": {
          "base_uri": "https://localhost:8080/"
        },
        "id": "0152100d",
        "outputId": "98e44def-55b3-489a-cf0b-6bcb2dccbe0e"
      },
      "outputs": [
        {
          "output_type": "execute_result",
          "data": {
            "text/plain": [
              "Prothrombin time\n",
              "Normal       27\n",
              "Prolonged    22\n",
              "Less          4\n",
              "-             1\n",
              "Name: count, dtype: int64"
            ]
          },
          "metadata": {},
          "execution_count": 138
        }
      ],
      "source": [
        "data['Prothrombin time'].value_counts()"
      ]
    },
    {
      "cell_type": "code",
      "execution_count": null,
      "id": "bfd4cfaf",
      "metadata": {
        "colab": {
          "base_uri": "https://localhost:8080/"
        },
        "id": "bfd4cfaf",
        "outputId": "2ed0ee2f-7193-4615-a08b-53ed2c7576df"
      },
      "outputs": [
        {
          "output_type": "execute_result",
          "data": {
            "text/plain": [
              "189"
            ]
          },
          "metadata": {},
          "execution_count": 139
        }
      ],
      "source": [
        "data['Prothrombin time'].isna().sum()"
      ]
    },
    {
      "cell_type": "code",
      "execution_count": null,
      "id": "ef19c110",
      "metadata": {
        "id": "ef19c110"
      },
      "outputs": [],
      "source": [
        "def pt(column):\n",
        "    p=column\n",
        "    if p=='Normal':\n",
        "        return 1\n",
        "    elif p=='Less':\n",
        "        return 0\n",
        "    elif p=='Prolonged':\n",
        "        return 2\n",
        "    else:\n",
        "        return None"
      ]
    },
    {
      "cell_type": "code",
      "execution_count": null,
      "id": "bb5d4dc2",
      "metadata": {
        "id": "bb5d4dc2"
      },
      "outputs": [],
      "source": [
        "data['Prothrombin time']=data['Prothrombin time'].apply(pt)"
      ]
    },
    {
      "cell_type": "code",
      "execution_count": null,
      "id": "96f0db42",
      "metadata": {
        "id": "96f0db42"
      },
      "outputs": [],
      "source": [
        "data['Prothrombin time'].fillna(-1,inplace=True)"
      ]
    },
    {
      "cell_type": "code",
      "execution_count": null,
      "id": "6cdc509b",
      "metadata": {
        "colab": {
          "base_uri": "https://localhost:8080/"
        },
        "id": "6cdc509b",
        "outputId": "212015b5-bfcc-4416-82a2-20148079e17f"
      },
      "outputs": [
        {
          "output_type": "execute_result",
          "data": {
            "text/plain": [
              "0"
            ]
          },
          "metadata": {},
          "execution_count": 143
        }
      ],
      "source": [
        "data['Prothrombin time'].isna().sum()"
      ]
    },
    {
      "cell_type": "markdown",
      "id": "1186f954",
      "metadata": {
        "id": "1186f954"
      },
      "source": [
        "### Urine protein (mg)"
      ]
    },
    {
      "cell_type": "code",
      "execution_count": null,
      "id": "998abcd4",
      "metadata": {
        "colab": {
          "base_uri": "https://localhost:8080/"
        },
        "id": "998abcd4",
        "outputId": "435ad04d-e163-4bf0-c0aa-7611a2644220"
      },
      "outputs": [
        {
          "output_type": "execute_result",
          "data": {
            "text/plain": [
              "Urine protein (mg)\n",
              "Negative    57\n",
              "Trace       13\n",
              "2+          12\n",
              "1+          11\n",
              "3+           4\n",
              "15           1\n",
              "7.4          1\n",
              "5.6          1\n",
              "4.6          1\n",
              "Name: count, dtype: int64"
            ]
          },
          "metadata": {},
          "execution_count": 144
        }
      ],
      "source": [
        "data['Urine protein (mg)'].value_counts()"
      ]
    },
    {
      "cell_type": "code",
      "execution_count": null,
      "id": "6997a046",
      "metadata": {
        "colab": {
          "base_uri": "https://localhost:8080/"
        },
        "id": "6997a046",
        "outputId": "26c1bef5-2d43-460e-e1d3-261fd1921ec6"
      },
      "outputs": [
        {
          "output_type": "execute_result",
          "data": {
            "text/plain": [
              "142"
            ]
          },
          "metadata": {},
          "execution_count": 145
        }
      ],
      "source": [
        "data['Urine protein (mg)'].isna().sum()"
      ]
    },
    {
      "cell_type": "code",
      "execution_count": null,
      "id": "8f4174f6",
      "metadata": {
        "id": "8f4174f6"
      },
      "outputs": [],
      "source": [
        "data['Urine protein (mg)'].fillna('-1',inplace=True)"
      ]
    },
    {
      "cell_type": "code",
      "execution_count": null,
      "id": "58ce5b19",
      "metadata": {
        "id": "58ce5b19"
      },
      "outputs": [],
      "source": [
        "def urinepr(column):\n",
        "    u=column\n",
        "    if u in ['Negative','Not Present','NP']:\n",
        "        return 0\n",
        "    elif u=='NANA' or u=='-1':\n",
        "        return -1\n",
        "    elif type(u)!=float:\n",
        "        return 1"
      ]
    },
    {
      "cell_type": "code",
      "execution_count": null,
      "id": "1a316e12",
      "metadata": {
        "id": "1a316e12"
      },
      "outputs": [],
      "source": [
        "data['Urine protein (mg)']=data['Urine protein (mg)'].apply(urinepr)"
      ]
    },
    {
      "cell_type": "code",
      "execution_count": null,
      "id": "9a211689",
      "metadata": {
        "colab": {
          "base_uri": "https://localhost:8080/"
        },
        "id": "9a211689",
        "outputId": "e02d6c49-b2de-402d-ec9b-dccfd5e435cc"
      },
      "outputs": [
        {
          "output_type": "execute_result",
          "data": {
            "text/plain": [
              "Urine protein (mg)\n",
              "-1    142\n",
              " 0     57\n",
              " 1     44\n",
              "Name: count, dtype: int64"
            ]
          },
          "metadata": {},
          "execution_count": 149
        }
      ],
      "source": [
        "data['Urine protein (mg)'].value_counts()"
      ]
    },
    {
      "cell_type": "code",
      "execution_count": null,
      "id": "b18cffa3",
      "metadata": {
        "colab": {
          "base_uri": "https://localhost:8080/"
        },
        "id": "b18cffa3",
        "outputId": "65527407-daf0-425b-d110-b4ade1fa3ba0"
      },
      "outputs": [
        {
          "output_type": "execute_result",
          "data": {
            "text/plain": [
              "Urine output (24 hr) (ml/Kg/Hr)\n",
              "Normal       19\n",
              "Increased     2\n",
              "Decreased     1\n",
              "Name: count, dtype: int64"
            ]
          },
          "metadata": {},
          "execution_count": 150
        }
      ],
      "source": [
        "data['Urine output (24 hr) (ml/Kg/Hr)'].value_counts()"
      ]
    },
    {
      "cell_type": "code",
      "execution_count": null,
      "id": "8e94177e",
      "metadata": {
        "colab": {
          "base_uri": "https://localhost:8080/"
        },
        "id": "8e94177e",
        "outputId": "659ef33a-14ca-4a8c-932c-22f924669872",
        "scrolled": true
      },
      "outputs": [
        {
          "output_type": "execute_result",
          "data": {
            "text/plain": [
              "221"
            ]
          },
          "metadata": {},
          "execution_count": 151
        }
      ],
      "source": [
        "data['Urine output (24 hr) (ml/Kg/Hr)'].isna().sum()"
      ]
    },
    {
      "cell_type": "code",
      "execution_count": null,
      "id": "e0375a66",
      "metadata": {
        "id": "e0375a66"
      },
      "outputs": [],
      "source": [
        "data['Urine output (24 hr) (ml/Kg/Hr)'].fillna('-1',inplace=True)"
      ]
    },
    {
      "cell_type": "code",
      "execution_count": null,
      "id": "16faaca9",
      "metadata": {
        "colab": {
          "base_uri": "https://localhost:8080/"
        },
        "id": "16faaca9",
        "outputId": "44b3ba1f-58ab-43a3-d997-31e91edd5f2b"
      },
      "outputs": [
        {
          "output_type": "execute_result",
          "data": {
            "text/plain": [
              "0"
            ]
          },
          "metadata": {},
          "execution_count": 153
        }
      ],
      "source": [
        "data['Urine output (24 hr) (ml/Kg/Hr)'].isna().sum()"
      ]
    },
    {
      "cell_type": "code",
      "execution_count": null,
      "id": "456429dd",
      "metadata": {
        "colab": {
          "base_uri": "https://localhost:8080/"
        },
        "id": "456429dd",
        "outputId": "2445d03b-9068-4982-fc51-1eee7aa1cc48"
      },
      "outputs": [
        {
          "output_type": "execute_result",
          "data": {
            "text/plain": [
              "Urine output (24 hr) (ml/Kg/Hr)\n",
              "-1           221\n",
              "Normal        19\n",
              "Increased      2\n",
              "Decreased      1\n",
              "Name: count, dtype: int64"
            ]
          },
          "metadata": {},
          "execution_count": 154
        }
      ],
      "source": [
        "data['Urine output (24 hr) (ml/Kg/Hr)'].value_counts()"
      ]
    },
    {
      "cell_type": "code",
      "execution_count": null,
      "id": "2d2f8a71",
      "metadata": {
        "id": "2d2f8a71"
      },
      "outputs": [],
      "source": [
        "def urout(column):\n",
        "    ur=column\n",
        "    if ur in ['Normal','Adequete','Adquete']:\n",
        "        return 1\n",
        "    elif ur in ['Decreased','oliguriya','oliguria']:\n",
        "        return 2\n",
        "    elif ur in ['Increased']:\n",
        "        return 3\n",
        "    elif ur=='Anuria':\n",
        "        return 0\n",
        "    else:\n",
        "        return -1"
      ]
    },
    {
      "cell_type": "code",
      "execution_count": null,
      "id": "57914398",
      "metadata": {
        "id": "57914398"
      },
      "outputs": [],
      "source": [
        "data['Urine output (24 hr) (ml/Kg/Hr)']=data['Urine output (24 hr) (ml/Kg/Hr)'].apply(urout)"
      ]
    },
    {
      "cell_type": "code",
      "execution_count": null,
      "id": "ea33e3e7",
      "metadata": {
        "colab": {
          "base_uri": "https://localhost:8080/"
        },
        "id": "ea33e3e7",
        "outputId": "04dc27a3-c7a4-4bf4-fb60-c6ff89ce924b"
      },
      "outputs": [
        {
          "output_type": "execute_result",
          "data": {
            "text/plain": [
              "Urine output (24 hr) (ml/Kg/Hr)\n",
              "-1    221\n",
              " 1     19\n",
              " 3      2\n",
              " 2      1\n",
              "Name: count, dtype: int64"
            ]
          },
          "metadata": {},
          "execution_count": 157
        }
      ],
      "source": [
        "data['Urine output (24 hr) (ml/Kg/Hr)'].value_counts()"
      ]
    },
    {
      "cell_type": "code",
      "execution_count": null,
      "id": "4841809c",
      "metadata": {
        "colab": {
          "base_uri": "https://localhost:8080/"
        },
        "id": "4841809c",
        "outputId": "df9e75e9-98dc-4d9d-c052-1de85d41c8e6"
      },
      "outputs": [
        {
          "output_type": "execute_result",
          "data": {
            "text/plain": [
              "Other Investigations if any\n",
              "Urine culture NG                                                                                                                                                                                                                                                                                                           20\n",
              "Outside done Dengue NS1 Positive                                                                                                                                                                                                                                                                                            3\n",
              "Urine culture- NG                                                                                                                                                                                                                                                                                                           3\n",
              "Acetaminophen levels WNL                                                                                                                                                                                                                                                                                                    2\n",
              "Urine culture Negative, Malarial parasite blood smear Negative, SARS- CoV2 IgM Negative IgG Positive, MRI brain and spine Normal, CSF biofire for meningoencephalitis panel- Negative                                                                                                                                       1\n",
              "Urine Culture NG; Pleural fluid culture- Streptococcus pneuminiae; DCT Negative; NBT Test is Normal uptake                                                                                                                                                                                                                  1\n",
              "Seum Ammonia <10 micro mol/L, Urine culture NG, Anti HAV IgM Negative, Anti HAV IgG positive, Anti HCG, HbsAg and HIV Negative                                                                                                                                                                                              1\n",
              "Free T4 and TSH Normal                                                                                                                                                                                                                                                                                                      1\n",
              "Dengue serology done outside NS1 and IgM Positive                                                                                                                                                                                                                                                                           1\n",
              "Urine culture NG, Dengue Igm and IgG done outside is Positive                                                                                                                                                                                                                                                               1\n",
              "Urine culture- Morganella Morganii 1,00,000 CFU/ml                                                                                                                                                                                                                                                                          1\n",
              "Urine culture NG; Serum Iron 10.3 (low), TIBC 304 (N), Reticulocyte count 1.9 (N), Serum ferritin 92 (N), S. LDH high, Bone marrow aspiration smear shows reactive marrow with trilineage hematopoiesis with depleted iron stores                                                                                           1\n",
              "Urine culture NG, Serum Amylase and Lipase Normal                                                                                                                                                                                                                                                                           1\n",
              "Serum Protein N; S.Albumin Low, S.Cholesterol Normal                                                                                                                                                                                                                                                                        1\n",
              "X Ray done outside- Bilateral bronchovascular markings with perihilar infiltrates seen                                                                                                                                                                                                                                      1\n",
              "Outside done CBC: TC- 5960, Hb/PCV- 11.8/35.4, Pl.ct- 3.69 L, CRP - 3.6, Dengue NS1 Ag, Positive, MP- Negative                                                                                                                                                                                                              1\n",
              "Urine culture NG, Ferritin- 20408 (H), HbsAg, Anti HCV and HIV- Negative, Outiside Dengue NS1- Positive                                                                                                                                                                                                                     1\n",
              "S. LDH High, S. Triglycerides- BL HIgh and S.Ferritin High                                                                                                                                                                                                                                                                  1\n",
              "Outside Dengue NS1 and IgM Positive                                                                                                                                                                                                                                                                                         1\n",
              "Urine cultutr NG                                                                                                                                                                                                                                                                                                            1\n",
              "S.IgE Normal; Sputum Culture- Staphylococcus Aureus                                                                                                                                                                                                                                                                         1\n",
              "S.LDL- elevated, S.TGL- Normal, HIV, HBsAg and Anti HCV- Negative, Outside Dengue serology- NS1 Positive                                                                                                                                                                                                                    1\n",
              "Urine culture NG, S.Amylase and S.Lipase elevated                                                                                                                                                                                                                                                                           1\n",
              "Outside diagnosed as Dengue                                                                                                                                                                                                                                                                                                 1\n",
              "Outside done Dengue serology positive (NS1 and IgM)                                                                                                                                                                                                                                                                         1\n",
              "EBV VCA IgM Negative                                                                                                                                                                                                                                                                                                        1\n",
              "Gene expert MTB Not detected                                                                                                                                                                                                                                                                                                1\n",
              "Biofire Multiplex PCR- Adenovirus and Parainfluenza virus 3 detected                                                                                                                                                                                                                                                        1\n",
              "Hepatitis A virus- negative; EBV Igm- negative                                                                                                                                                                                                                                                                              1\n",
              "Bone marrow culture- Negative and Urine culture - Negative                                                                                                                                                                                                                                                                  1\n",
              "HbsAg Negative, Anti HAV IgM Negative, Urine culture NG                                                                                                                                                                                                                                                                     1\n",
              "COVID 19 TrueNAT Negative                                                                                                                                                                                                                                                                                                   1\n",
              "S.Ferritin- 17152ng/ml (H), Plasma Fibrinogen- 253 (N), S.Triglycerides- 254 (H), PCT- 2.41 (H),                                                                                                                                                                                                                            1\n",
              "S.Ferritin- 2813 (H), Urine culture NG                                                                                                                                                                                                                                                                                      1\n",
              "NPA for H1N1 Positive; mantoux Negative                                                                                                                                                                                                                                                                                     1\n",
              "CT Brain Normal                                                                                                                                                                                                                                                                                                             1\n",
              "Urine Culture Enterococcus species and Candida Albicans                                                                                                                                                                                                                                                                     1\n",
              "Urine culture- NG, CSF Culture NG, MTB Gene expert Negative                                                                                                                                                                                                                                                                 1\n",
              "Urine culture Insignificant growth of Klebsiella Pneumoniae; EBV VCA IgM Negative                                                                                                                                                                                                                                           1\n",
              "Urine ciluture NG                                                                                                                                                                                                                                                                                                           1\n",
              "Salmonella Typhi IgM Negative                                                                                                                                                                                                                                                                                               1\n",
              "Urine culture NG, Throat swab culture NG                                                                                                                                                                                                                                                                                    1\n",
              "Anti HCV Negative; Urine culture Negative                                                                                                                                                                                                                                                                                   1\n",
              "Rapid antigen detection teat for Strep. Pnemio Negative                                                                                                                                                                                                                                                                     1\n",
              "X Ray done outside- Had right sided pleural effusion                                                                                                                                                                                                                                                                        1\n",
              "Mantoux Negative                                                                                                                                                                                                                                                                                                            1\n",
              "Urine culture- No growth                                                                                                                                                                                                                                                                                                    1\n",
              "CBC done ouside- TC- 4400, (N65,L31,M3,B1), Hb/PCV- 11.4/34.9, Pl.ct- 2.22L, CRP- 32.90, ESR- 31 mm/hr, SGOT/SGPT- 49/23, Urine routine- 12-15 Pus cells, Ketone 3+, Dengue NS1/ IgM - Negative, Blood culture- NG. Respiratory Biofire (Nasopharyngeal swab) at KKCTH- Adenovirus Positive, Urine culture at KKCTH- NG     1\n",
              "Name: count, dtype: int64"
            ]
          },
          "metadata": {},
          "execution_count": 158
        }
      ],
      "source": [
        "data['Other Investigations if any'].value_counts()"
      ]
    },
    {
      "cell_type": "code",
      "execution_count": null,
      "id": "9a3ab683",
      "metadata": {
        "colab": {
          "base_uri": "https://localhost:8080/"
        },
        "id": "9a3ab683",
        "outputId": "6dcc3769-58ad-415f-e282-b2977c67ee4c"
      },
      "outputs": [
        {
          "output_type": "execute_result",
          "data": {
            "text/plain": [
              "171"
            ]
          },
          "metadata": {},
          "execution_count": 159
        }
      ],
      "source": [
        "data['Other Investigations if any'].isna().sum()"
      ]
    },
    {
      "cell_type": "code",
      "execution_count": null,
      "id": "84bc3b87",
      "metadata": {
        "id": "84bc3b87"
      },
      "outputs": [],
      "source": [
        "data['Other Investigations if any'].fillna('0',inplace=True)"
      ]
    },
    {
      "cell_type": "code",
      "execution_count": null,
      "id": "71759159",
      "metadata": {
        "id": "71759159"
      },
      "outputs": [],
      "source": [
        "data['Other Investigations if any']=le.fit_transform(data['Other Investigations if any'])"
      ]
    },
    {
      "cell_type": "code",
      "execution_count": null,
      "id": "90508106",
      "metadata": {
        "colab": {
          "base_uri": "https://localhost:8080/"
        },
        "id": "90508106",
        "outputId": "df61ee7b-9fd8-4ff7-e279-60c8f3f54ee3"
      },
      "outputs": [
        {
          "output_type": "execute_result",
          "data": {
            "text/plain": [
              "Bacterial culture & sensitivity (Positive / Negative / not done )\n",
              "D           113\n",
              "P            21\n",
              "Positive      4\n",
              "N             1\n",
              "positive      1\n",
              "Name: count, dtype: int64"
            ]
          },
          "metadata": {},
          "execution_count": 162
        }
      ],
      "source": [
        "data['Bacterial culture & sensitivity (Positive / Negative / not done )'].value_counts()"
      ]
    },
    {
      "cell_type": "code",
      "execution_count": null,
      "id": "b17f2f1e",
      "metadata": {
        "colab": {
          "base_uri": "https://localhost:8080/"
        },
        "id": "b17f2f1e",
        "outputId": "36167e81-dfe6-4cef-c9e6-8b7b2127fc14"
      },
      "outputs": [
        {
          "output_type": "execute_result",
          "data": {
            "text/plain": [
              "103"
            ]
          },
          "metadata": {},
          "execution_count": 163
        }
      ],
      "source": [
        "data['Bacterial culture & sensitivity (Positive / Negative / not done )'].isna().sum()"
      ]
    },
    {
      "cell_type": "code",
      "execution_count": null,
      "id": "3b55748b",
      "metadata": {
        "id": "3b55748b"
      },
      "outputs": [],
      "source": [
        "data['Bacterial culture & sensitivity (Positive / Negative / not done )'].fillna('ND',inplace=True)"
      ]
    },
    {
      "cell_type": "code",
      "execution_count": null,
      "id": "22ca1141",
      "metadata": {
        "colab": {
          "base_uri": "https://localhost:8080/"
        },
        "id": "22ca1141",
        "outputId": "98084e4a-b7df-4dca-ea29-0399c905085b"
      },
      "outputs": [
        {
          "output_type": "execute_result",
          "data": {
            "text/plain": [
              "Bacterial culture & sensitivity (Positive / Negative / not done )\n",
              "D           113\n",
              "ND          103\n",
              "P            21\n",
              "Positive      4\n",
              "N             1\n",
              "positive      1\n",
              "Name: count, dtype: int64"
            ]
          },
          "metadata": {},
          "execution_count": 165
        }
      ],
      "source": [
        "data['Bacterial culture & sensitivity (Positive / Negative / not done )'].value_counts()"
      ]
    },
    {
      "cell_type": "code",
      "execution_count": null,
      "id": "ed32f97f",
      "metadata": {
        "id": "ed32f97f"
      },
      "outputs": [],
      "source": [
        "def bact(column):\n",
        "    ba=column\n",
        "    if ba=='D':\n",
        "        return 1\n",
        "    if ba=='ND':\n",
        "        return 0\n",
        "    if ba in ['positive','P','Positive']:\n",
        "        return 2\n",
        "    if ba=='N':\n",
        "        return 3\n",
        "\n"
      ]
    },
    {
      "cell_type": "code",
      "execution_count": null,
      "id": "d5050649",
      "metadata": {
        "colab": {
          "base_uri": "https://localhost:8080/"
        },
        "id": "d5050649",
        "outputId": "d67c5f6f-4e97-4503-e02b-8d3b68b0bc2a"
      },
      "outputs": [
        {
          "output_type": "execute_result",
          "data": {
            "text/plain": [
              "0"
            ]
          },
          "metadata": {},
          "execution_count": 167
        }
      ],
      "source": [
        "data['Bacterial culture & sensitivity (Positive / Negative / not done )'].isna().sum()"
      ]
    },
    {
      "cell_type": "code",
      "execution_count": null,
      "id": "e5a67506",
      "metadata": {
        "id": "e5a67506"
      },
      "outputs": [],
      "source": [
        "data['Bacterial culture & sensitivity (Positive / Negative / not done )']=data['Bacterial culture & sensitivity (Positive / Negative / not done )'].apply(bact)"
      ]
    },
    {
      "cell_type": "code",
      "execution_count": null,
      "id": "c7387bec",
      "metadata": {
        "colab": {
          "base_uri": "https://localhost:8080/"
        },
        "id": "c7387bec",
        "outputId": "15742cd8-086b-4999-803f-ba076fad33ce"
      },
      "outputs": [
        {
          "output_type": "execute_result",
          "data": {
            "text/plain": [
              "0      NO GROWTH\n",
              "1      NO GROWTH\n",
              "12     NO GROWTH\n",
              "13     NO GROWTH\n",
              "14     NO GROWTH\n",
              "         ...    \n",
              "356          NaN\n",
              "357          NaN\n",
              "358    NO GROWTH\n",
              "359    NO GROWTH\n",
              "360          NaN\n",
              "Name: If positive, Organism, Length: 243, dtype: object"
            ]
          },
          "metadata": {},
          "execution_count": 169
        }
      ],
      "source": [
        "data['If positive, Organism']"
      ]
    },
    {
      "cell_type": "code",
      "execution_count": null,
      "id": "5cc13a01",
      "metadata": {
        "colab": {
          "base_uri": "https://localhost:8080/"
        },
        "id": "5cc13a01",
        "outputId": "fd224275-510c-4b3b-e043-57c99d5e9557"
      },
      "outputs": [
        {
          "output_type": "execute_result",
          "data": {
            "text/plain": [
              "If positive, Organism\n",
              "NO GROWTH                   105\n",
              "Salmonella Typhi             22\n",
              "Salmonella typhi              5\n",
              "Salmonella Paratyphi A        4\n",
              "-NA                           3\n",
              "Pseudomonas Stutgeri          1\n",
              "-                             1\n",
              "Streptococcus pneumoniae      1\n",
              "Name: count, dtype: int64"
            ]
          },
          "metadata": {},
          "execution_count": 170
        }
      ],
      "source": [
        "data['If positive, Organism'].value_counts()"
      ]
    },
    {
      "cell_type": "code",
      "execution_count": null,
      "id": "f38acb06",
      "metadata": {
        "colab": {
          "base_uri": "https://localhost:8080/"
        },
        "id": "f38acb06",
        "outputId": "5bfd1d33-f613-4e97-f723-70cf5e36a799"
      },
      "outputs": [
        {
          "output_type": "execute_result",
          "data": {
            "text/plain": [
              "101"
            ]
          },
          "metadata": {},
          "execution_count": 171
        }
      ],
      "source": [
        "data['If positive, Organism'].isna().sum()"
      ]
    },
    {
      "cell_type": "code",
      "execution_count": null,
      "id": "40dc74ff",
      "metadata": {
        "id": "40dc74ff"
      },
      "outputs": [],
      "source": [
        "def orgenc(column):\n",
        "    org=column\n",
        "    if org=='NO GROWTH':\n",
        "        return 0\n",
        "    elif type(org)!=float and (org!='-NA' or org!='-'):\n",
        "        return strencodegeneral(org)\n",
        "    else:\n",
        "        return -1"
      ]
    },
    {
      "cell_type": "code",
      "execution_count": null,
      "id": "90f203d0",
      "metadata": {
        "id": "90f203d0"
      },
      "outputs": [],
      "source": [
        "data['If positive, Organism']=data['If positive, Organism'].apply(orgenc)"
      ]
    },
    {
      "cell_type": "code",
      "execution_count": null,
      "id": "7fd942d0",
      "metadata": {
        "colab": {
          "base_uri": "https://localhost:8080/"
        },
        "id": "7fd942d0",
        "outputId": "2a39718b-a0bb-4df0-a620-60110a434883"
      },
      "outputs": [
        {
          "output_type": "execute_result",
          "data": {
            "text/plain": [
              "0"
            ]
          },
          "metadata": {},
          "execution_count": 174
        }
      ],
      "source": [
        "data['If positive, Organism'].isna().sum()"
      ]
    },
    {
      "cell_type": "code",
      "execution_count": null,
      "id": "5e442908",
      "metadata": {
        "colab": {
          "base_uri": "https://localhost:8080/"
        },
        "id": "5e442908",
        "outputId": "648cf804-bc93-43f7-e92e-561cc3a6381e"
      },
      "outputs": [
        {
          "output_type": "execute_result",
          "data": {
            "text/plain": [
              "If positive, Organism\n",
              " 0       105\n",
              "-1       101\n",
              " 1590     22\n",
              " 1622      5\n",
              " 2107      4\n",
              " 188       3\n",
              " 2053      1\n",
              " 45        1\n",
              " 2498      1\n",
              "Name: count, dtype: int64"
            ]
          },
          "metadata": {},
          "execution_count": 175
        }
      ],
      "source": [
        "data['If positive, Organism'].value_counts()"
      ]
    },
    {
      "cell_type": "code",
      "execution_count": null,
      "id": "130de2ba",
      "metadata": {
        "colab": {
          "base_uri": "https://localhost:8080/"
        },
        "id": "130de2ba",
        "outputId": "c21e4a55-47a5-4eeb-ca80-33d5034c9038"
      },
      "outputs": [
        {
          "output_type": "execute_result",
          "data": {
            "text/plain": [
              "0      133\n",
              "1       -1\n",
              "12     133\n",
              "13      -1\n",
              "14      -1\n",
              "      ... \n",
              "356    223\n",
              "357    323\n",
              "358    122\n",
              "359    133\n",
              "360    323\n",
              "Name: Dengue Viral Immunoassay (IgM) (Positive/Negative), Length: 243, dtype: int64"
            ]
          },
          "metadata": {},
          "execution_count": 176
        }
      ],
      "source": [
        "data['Dengue Viral Immunoassay (IgM) (Positive/Negative)']"
      ]
    },
    {
      "cell_type": "code",
      "execution_count": null,
      "id": "04fe4a3a",
      "metadata": {
        "colab": {
          "base_uri": "https://localhost:8080/"
        },
        "id": "04fe4a3a",
        "outputId": "a96c64b9-63d1-4c32-fe8d-a207de9c24ac"
      },
      "outputs": [
        {
          "output_type": "execute_result",
          "data": {
            "text/plain": [
              "0       NaN\n",
              "1       NaN\n",
              "12     1.86\n",
              "13      NaN\n",
              "14      NaN\n",
              "       ... \n",
              "356     NaN\n",
              "357     NaN\n",
              "358     NaN\n",
              "359     NaN\n",
              "360     NaN\n",
              "Name: A/G ratio, Length: 243, dtype: object"
            ]
          },
          "metadata": {},
          "execution_count": 177
        }
      ],
      "source": [
        "data['A/G ratio']"
      ]
    },
    {
      "cell_type": "code",
      "execution_count": null,
      "id": "78055e4f",
      "metadata": {
        "colab": {
          "base_uri": "https://localhost:8080/"
        },
        "id": "78055e4f",
        "outputId": "e0a3ba59-80bd-4657-b114-227d9bdaf9b7"
      },
      "outputs": [
        {
          "output_type": "execute_result",
          "data": {
            "text/plain": [
              "A/G ratio\n",
              "1.86    4\n",
              "1.43    3\n",
              "1.14    3\n",
              "1       3\n",
              "1.32    3\n",
              "1.27    3\n",
              "1.26    3\n",
              "1.62    2\n",
              "1.6     2\n",
              "0.85    2\n",
              "1.25    2\n",
              "1.07    2\n",
              "1.79    2\n",
              "1.46    2\n",
              "1.29    2\n",
              "A       2\n",
              "1.4     2\n",
              "1.75    2\n",
              "1.34    2\n",
              "0.81    2\n",
              "0.92    2\n",
              "0.86    1\n",
              "1.44    1\n",
              "1.67    1\n",
              "1.69    1\n",
              "1.2     1\n",
              "0.96    1\n",
              "0.64    1\n",
              "0.88    1\n",
              "1.17    1\n",
              "1.41    1\n",
              "1.15    1\n",
              "1.53    1\n",
              "0.78    1\n",
              "1.33    1\n",
              "1.3     1\n",
              "2.25    1\n",
              "1.09    1\n",
              "1.73    1\n",
              "1.18    1\n",
              "1.31    1\n",
              "1.16    1\n",
              "0.95    1\n",
              "2       1\n",
              "1.52    1\n",
              "1.56    1\n",
              "0.93    1\n",
              "1.47    1\n",
              "1.08    1\n",
              "0.97    1\n",
              "0.77    1\n",
              "0.84    1\n",
              "1.42    1\n",
              "1.05    1\n",
              "1.11    1\n",
              "1.19    1\n",
              "1.12    1\n",
              "0.87    1\n",
              "0.76    1\n",
              "Name: count, dtype: int64"
            ]
          },
          "metadata": {},
          "execution_count": 178
        }
      ],
      "source": [
        "data['A/G ratio'].value_counts()"
      ]
    },
    {
      "cell_type": "code",
      "execution_count": null,
      "id": "02d155df",
      "metadata": {
        "colab": {
          "base_uri": "https://localhost:8080/"
        },
        "id": "02d155df",
        "outputId": "207e2698-6cfa-4a63-c467-425daba17e7f"
      },
      "outputs": [
        {
          "output_type": "execute_result",
          "data": {
            "text/plain": [
              "155"
            ]
          },
          "metadata": {},
          "execution_count": 179
        }
      ],
      "source": [
        "data['A/G ratio'].isna().sum()"
      ]
    },
    {
      "cell_type": "code",
      "execution_count": null,
      "id": "50b73bfc",
      "metadata": {
        "id": "50b73bfc"
      },
      "outputs": [],
      "source": [
        "def agrat(column):\n",
        "    ag=column\n",
        "    if type(ag)!=float and ag.isalpha()==False and ag!='-':\n",
        "        return float(ag)\n",
        "    else:\n",
        "        return None"
      ]
    },
    {
      "cell_type": "code",
      "execution_count": null,
      "id": "d5dc79ca",
      "metadata": {
        "id": "d5dc79ca"
      },
      "outputs": [],
      "source": [
        "data['A/G ratio']=data['A/G ratio'].apply(agrat)"
      ]
    },
    {
      "cell_type": "code",
      "execution_count": null,
      "id": "93aa57d7",
      "metadata": {
        "colab": {
          "base_uri": "https://localhost:8080/"
        },
        "id": "93aa57d7",
        "outputId": "8c8ed3ed-820c-4768-bde4-38682aa2eed0"
      },
      "outputs": [
        {
          "output_type": "execute_result",
          "data": {
            "text/plain": [
              "157"
            ]
          },
          "metadata": {},
          "execution_count": 182
        }
      ],
      "source": [
        "data['A/G ratio'].isna().sum()"
      ]
    },
    {
      "cell_type": "code",
      "execution_count": null,
      "id": "2d31c354",
      "metadata": {
        "id": "2d31c354"
      },
      "outputs": [],
      "source": [
        "data['A/G ratio'].fillna(data['A/G ratio'].median(),inplace=True\n",
        "\n",
        "                        )"
      ]
    },
    {
      "cell_type": "code",
      "execution_count": null,
      "id": "5aec0fc2",
      "metadata": {
        "colab": {
          "base_uri": "https://localhost:8080/"
        },
        "id": "5aec0fc2",
        "outputId": "819acf9e-6837-4594-fd5e-71d3a737fed0"
      },
      "outputs": [
        {
          "output_type": "execute_result",
          "data": {
            "text/plain": [
              "0"
            ]
          },
          "metadata": {},
          "execution_count": 184
        }
      ],
      "source": [
        "data['A/G ratio'].isna().sum()"
      ]
    },
    {
      "cell_type": "code",
      "execution_count": null,
      "id": "9f94b2fa",
      "metadata": {
        "colab": {
          "base_uri": "https://localhost:8080/"
        },
        "id": "9f94b2fa",
        "outputId": "46b95e1d-8e2a-4190-97cf-dcfa521f39c0"
      },
      "outputs": [
        {
          "output_type": "execute_result",
          "data": {
            "text/plain": [
              "0                                           Normal study\n",
              "1      Mild diffude bladder wall thickening s/o Dysfu...\n",
              "12                                          Normal study\n",
              "13                              Minor Hepatosplenomegaly\n",
              "14                                                   NaN\n",
              "                             ...                        \n",
              "356    GB wall thickening; Moderate Ascites and Right...\n",
              "357    Mild moderate ascities with bilateral pleural ...\n",
              "358                                                  NaN\n",
              "359                                                  NaN\n",
              "360                                                  NaN\n",
              "Name: USG Abd report, Length: 243, dtype: object"
            ]
          },
          "metadata": {},
          "execution_count": 185
        }
      ],
      "source": [
        "data['USG Abd report']"
      ]
    },
    {
      "cell_type": "code",
      "execution_count": null,
      "id": "a52261d7",
      "metadata": {
        "colab": {
          "base_uri": "https://localhost:8080/"
        },
        "id": "a52261d7",
        "outputId": "f1f03577-dd48-4361-bfcf-51c9ca221392"
      },
      "outputs": [
        {
          "output_type": "execute_result",
          "data": {
            "text/plain": [
              "USG Abd report\n",
              "Normal study                                                                                                                                                                                                                                                                                        10\n",
              "Mild hepatomegaly                                                                                                                                                                                                                                                                                    3\n",
              "GB wall thickening; Moderate Ascites and Right pleural effussion S/O Dengue                                                                                                                                                                                                                          2\n",
              "Normal                                                                                                                                                                                                                                                                                               2\n",
              "Moderate hepatosplenomegaly. Small volume ascites in lower abdomen. Tiny Right pleural effusion                                                                                                                                                                                                      2\n",
              "Minor Hepatosplenomegaly                                                                                                                                                                                                                                                                             2\n",
              "Mild hepatomegaly minimal left pelvicalyceal dilatation                                                                                                                                                                                                                                              1\n",
              "Liver, pancreas normal, spleen showed two small cysts                                                                                                                                                                                                                                                1\n",
              "Mild hepatomegaly with significant gall bladder wall thickening                                                                                                                                                                                                                                      1\n",
              "Mild hepatosplenomegaly, gall bladder wall thickening, moderate volume ascitis, bilateral small pleural effusion                                                                                                                                                                                     1\n",
              "Mild hepatosplenomegaly, homogenous liver echotexture, No ascites                                                                                                                                                                                                                                    1\n",
              "Mild to moderate ascites, GB wall thickened and edematous                                                                                                                                                                                                                                            1\n",
              "Mild spenomegaly with fecal loadind                                                                                                                                                                                                                                                                  1\n",
              "Mild hepatosplenomegaly, bilateral nephromegaly                                                                                                                                                                                                                                                      1\n",
              "Marked GB wall thickening, moderate volume ascites with small right pleural effusion- features suggestive of Dengue                                                                                                                                                                                  1\n",
              "Mild hepatosplenomegaly, gall bladder wall thickening, multiple enlarged mesentric nodes in right iliac fossa, small volume free fluid                                                                                                                                                               1\n",
              "K/C/O Enteric fever/possible contained perforation                                                                                                                                                                                                                                                   1\n",
              "Mild hepatomegaly GB wall thickening,B/l Nephrosplenomegaly mulitiple enlarged mesenteric nodes in RIF                                                                                                                                                                                               1\n",
              "Minimal GB wall thickening, Moderate Hepatosplenomegaly, bilateral Nephromegaly with minor increase in cortical echogenecity                                                                                                                                                                         1\n",
              "Moderate GB wall thickening. Moderate volume ascites. Bilateral moderate size pleural effussion. Features of Dengue. Small right kidney with parenchymal thinning in lower pole. Minor right calyceal dilatation with a mildly dialted extra renal pelvis. Likely sequelae of reflux nephropathy     1\n",
              "Minimal right pleural effussion                                                                                                                                                                                                                                                                      1\n",
              "Marked GB wall thickening, moderate volume ascites with small right pleural effussion- features suggestive of Dengue                                                                                                                                                                                 1\n",
              "Mild hepatosplenomegaly, gall bladder wall thickening, nephromegaly, small volume ascitis- features suggestive of complicated enteric                                                                                                                                                                1\n",
              "Extensive GB wall edema, Minimal bilateral pleural effussion, moderate ascites, IVC and hepatic vein partially collapsed- Probable dengue related serositis                                                                                                                                          1\n",
              "Mild hepatosplenomegaly                                                                                                                                                                                                                                                                              1\n",
              "Mild Hepatomegaly, Non-specific mesenteric adenitis, minimal fluid seen in the pelvis                                                                                                                                                                                                                1\n",
              "Grossly edematous anterior abdominal wall, minimal free fluid abdomen, grossly distened bowel loops, mild hepatomegaly, bulky kidneys                                                                                                                                                                1\n",
              "Right sided ascitis (2.5cm)                                                                                                                                                                                                                                                                          1\n",
              "Bilateral mild Nephromegaly. Small amount of free fluid in lower abdomen                                                                                                                                                                                                                             1\n",
              "Bilateral minimal hydrocele and reactive scrotal wall edema. Vascularity of testes normal                                                                                                                                                                                                            1\n",
              "Mild Splenomegaly, mild GB wall thickening, enlarged mesentric nodes in right iliac fossa, small amount of free fluid abdomen, minimal left pelvicalyceal dialtion                                                                                                                                   1\n",
              "Minor Hepatosplenomegaly with duplex moiety in left kidney                                                                                                                                                                                                                                           1\n",
              "Left Pyelonephritis                                                                                                                                                                                                                                                                                  1\n",
              "Mild Hepatosplenomegaly; Bilateral Nephromegaly                                                                                                                                                                                                                                                      1\n",
              "Mild Hepatosplenomegaly                                                                                                                                                                                                                                                                              1\n",
              "Hepatosplenomegaly                                                                                                                                                                                                                                                                                   1\n",
              "Mild hepatomegaly, mild GB wall thickening, mild minor pelvicalyceal dilation                                                                                                                                                                                                                        1\n",
              "Significant fecal loading                                                                                                                                                                                                                                                                            1\n",
              "Mild splenomegaly                                                                                                                                                                                                                                                                                    1\n",
              "Bladder features s/o Dysfunctional voiding. Minor Left Pelvicalyceal Dilatation                                                                                                                                                                                                                      1\n",
              "Mild Hepatomegaly                                                                                                                                                                                                                                                                                    1\n",
              "Moderate hepatosplenomegaly with thin left pleural effusion                                                                                                                                                                                                                                          1\n",
              "A large multiseptated cystic lesion in the midline of upprt abdomen suggestive of Lymphatic malformation                                                                                                                                                                                             1\n",
              "Mild Hepatosplenomegaly/ GB edema/Probable mesenteric adenopathy                                                                                                                                                                                                                                     1\n",
              "Mild Hepatosplenomegaly/ GB edema/ small volume ascites                                                                                                                                                                                                                                              1\n",
              "Mild splenomegaly, enlarged mesenteric nodes in Right iliac fossa, mural thickening in terminal ileum and caecum- features suggestive of enteric fever                                                                                                                                               1\n",
              "Increased liver echogenicity with hepatomegaly without any evidence of Portal Hypertension, moderate splenomegaly, Bilateral nephromegaly. Marked gall bladder wall thickening with bilateral pleural effussion (Right > Left). Large volume ascites                                                 1\n",
              "Mild right nephromegaly to consider right pyelonephritis                                                                                                                                                                                                                                             1\n",
              "Mild hepatomegaliy with minimal volume ascites; USG chest: left lower lobe consolidation with minimal synpneumonic effusion                                                                                                                                                                          1\n",
              "Mild right Hydroureteronephrosis                                                                                                                                                                                                                                                                     1\n",
              "Ascites with GB wall edema                                                                                                                                                                                                                                                                           1\n",
              "Mild diffude bladder wall thickening s/o Dysfunctional voiding                                                                                                                                                                                                                                       1\n",
              "Mild moderate ascities with bilateral pleural effusion                                                                                                                                                                                                                                               1\n",
              "Name: count, dtype: int64"
            ]
          },
          "metadata": {},
          "execution_count": 186
        }
      ],
      "source": [
        "data['USG Abd report'].value_counts()"
      ]
    },
    {
      "cell_type": "code",
      "execution_count": null,
      "id": "8839f573",
      "metadata": {
        "id": "8839f573"
      },
      "outputs": [],
      "source": [
        "def usg(column):\n",
        "    us=column\n",
        "    if us in ['Normal study','Normal']:\n",
        "        return 0\n",
        "    elif type(us)!=float:\n",
        "        return strencodegeneral(us)"
      ]
    },
    {
      "cell_type": "code",
      "execution_count": null,
      "id": "8061674b",
      "metadata": {
        "id": "8061674b"
      },
      "outputs": [],
      "source": [
        "data['USG Abd report']=data['USG Abd report'].apply(usg)"
      ]
    },
    {
      "cell_type": "code",
      "execution_count": null,
      "id": "3036fad9",
      "metadata": {
        "colab": {
          "base_uri": "https://localhost:8080/"
        },
        "id": "3036fad9",
        "outputId": "a06f2145-db45-4d3f-9471-1306d6420403"
      },
      "outputs": [
        {
          "output_type": "execute_result",
          "data": {
            "text/plain": [
              "175"
            ]
          },
          "metadata": {},
          "execution_count": 189
        }
      ],
      "source": [
        "data['USG Abd report'].isna().sum()"
      ]
    },
    {
      "cell_type": "code",
      "execution_count": null,
      "id": "d6f22fbb",
      "metadata": {
        "id": "d6f22fbb"
      },
      "outputs": [],
      "source": [
        "data['USG Abd report'].fillna('-1',inplace=True)"
      ]
    },
    {
      "cell_type": "code",
      "execution_count": null,
      "id": "295b0e78",
      "metadata": {
        "colab": {
          "base_uri": "https://localhost:8080/"
        },
        "id": "295b0e78",
        "outputId": "1d278f0c-0dd8-4ee4-ce7b-6c192910a11a"
      },
      "outputs": [
        {
          "output_type": "execute_result",
          "data": {
            "text/plain": [
              "USG Abd report\n",
              "-1         175\n",
              "0.0         12\n",
              "1702.0       3\n",
              "2454.0       2\n",
              "6902.0       2\n",
              "9159.0       2\n",
              "4747.0       1\n",
              "2317.0       1\n",
              "6131.0       1\n",
              "10835.0      1\n",
              "6382.0       1\n",
              "5300.0       1\n",
              "3388.0       1\n",
              "4702.0       1\n",
              "12808.0      1\n",
              "5066.0       1\n",
              "3084.0       1\n",
              "11939.0      1\n",
              "8571.0       1\n",
              "11083.0      1\n",
              "12895.0      1\n",
              "14607.0      1\n",
              "2359.0       1\n",
              "8045.0       1\n",
              "12805.0      1\n",
              "9695.0       1\n",
              "5439.0       1\n",
              "10968.0      1\n",
              "27310.0      1\n",
              "2365.0       1\n",
              "15219.0      1\n",
              "1670.0       1\n",
              "5697.0       1\n",
              "1930.0       1\n",
              "4621.0       1\n",
              "2327.0       1\n",
              "1905.0       1\n",
              "7294.0       1\n",
              "2440.0       1\n",
              "1718.0       1\n",
              "7542.0       1\n",
              "5872.0       1\n",
              "6781.0       1\n",
              "10073.0      1\n",
              "6141.0       1\n",
              "5175.0       1\n",
              "14281.0      1\n",
              "23285.0      1\n",
              "5574.0       1\n",
              "11911.0      1\n",
              "3275.0       1\n",
              "5955.0       1\n",
              "5292.0       1\n",
              "Name: count, dtype: int64"
            ]
          },
          "metadata": {},
          "execution_count": 191
        }
      ],
      "source": [
        "data['USG Abd report'].value_counts()"
      ]
    },
    {
      "cell_type": "code",
      "execution_count": null,
      "id": "5ed22835",
      "metadata": {
        "colab": {
          "base_uri": "https://localhost:8080/"
        },
        "id": "5ed22835",
        "outputId": "09d387cd-8d6d-40a8-ef9b-b8ed453e4c4f"
      },
      "outputs": [
        {
          "output_type": "execute_result",
          "data": {
            "text/plain": [
              "0                                 Probable viral illness\n",
              "1                                 Probable viral illness\n",
              "12              Probably partially treated Enteric fever\n",
              "13         Fever under evaluation/ Probable scrub typhus\n",
              "14                                Probable viral illness\n",
              "                             ...                        \n",
              "356                            Dengue with warning signs\n",
              "357    Severe Dengue (Resolved )mild intermittent asthma\n",
              "358                    Acute viral illness/ Dengue fever\n",
              "359                                                   ND\n",
              "360                            Dengue with warning signs\n",
              "Name: Final Diagnosis, Length: 243, dtype: object"
            ]
          },
          "metadata": {},
          "execution_count": 192
        }
      ],
      "source": [
        "data['Final Diagnosis']"
      ]
    },
    {
      "cell_type": "code",
      "execution_count": null,
      "id": "c2605b74",
      "metadata": {
        "colab": {
          "base_uri": "https://localhost:8080/"
        },
        "id": "c2605b74",
        "outputId": "3f0c3a6c-d676-4bfb-bb4f-4e5e78f3439d"
      },
      "outputs": [
        {
          "output_type": "execute_result",
          "data": {
            "text/plain": [
              "{'Dengue with warning signs': 54,\n",
              " 'Probable viral illness': 16,\n",
              " 'Severe Dengue': 13,\n",
              " 'Dengue fever': 9,\n",
              " 'Severe Dengue with compensated shock': 4,\n",
              " 'Scrub Typhus': 4,\n",
              " 'Enteric fever': 4,\n",
              " 'Occult Bacteremia': 3,\n",
              " 'Enteric Fever': 3,\n",
              " 'Culture positive enteric fever': 3,\n",
              " 'Confirmed enteric fever': 3,\n",
              " 'Probable Dengue fever': 2,\n",
              " 'Culture proven enteric fever': 2,\n",
              " 'Probable enteric fever': 2,\n",
              " 'Secondary Dengue with warning signs': 2,\n",
              " 'Culture proven Enteric Fever': 2,\n",
              " 'Lower Respiratory Tract Infection': 2,\n",
              " 'Probable Enteric fever': 2,\n",
              " 'Dengue with warning signs/ Primary Nocturnal Eneuresis': 1,\n",
              " 'Severe pneumococcal pneumonia with sepsis/ Left empyema and pneumothorax/ Bronchopleural fistula': 1,\n",
              " 'Complicated Urinary Tract Infection/ Grade 4 Vesicouretric reflux/ Constipation/ Iron deficiency anemia': 1,\n",
              " 'Dengue with warning signs (recovered)': 1,\n",
              " 'Acute onset liver failure with hepatice encephalopathy with superadded dengue infection': 1,\n",
              " 'Secondary Dengue with compensated shock/ Right sided massive pleural effussion/ Acute liver failure (Resolving)/ Hypokalemia (Resolved)': 1,\n",
              " 'Severe Dengue with acute hepatitis (recovered) with exaggerated inflammatory response': 1,\n",
              " 'Enteric fever (Salmonella Typhi)': 1,\n",
              " 'Confirmed Enteric Fever- Paratyphoid A': 1,\n",
              " 'Left Lower Lobe Pneumonia': 1,\n",
              " 'Severe Dengue recovered': 1,\n",
              " 'Pyrexia of unknown origin under evealuation': 1,\n",
              " 'K/C/O Type-1 DM/ Dengue with warning signs': 1,\n",
              " 'Probable Scrub Typhus': 1,\n",
              " 'Severe Dengue with secondary Hemophagocytic Lymphohistiocytosis': 1,\n",
              " 'Infantile Dengue': 1,\n",
              " 'Vanishing white matter disease/progressive leucoencephalopathy/Adenoviral/Parainfluenza Pneumonia': 1,\n",
              " 'Infantile Dengue with warning signs': 1,\n",
              " 'Dengue with warning signs- recovered': 1,\n",
              " 'Acute febrile illness/Probably enteric fever': 1,\n",
              " 'Acute Febrile illness': 1,\n",
              " 'Infantile Dengue with warning signs with acute hepatitis': 1,\n",
              " 'Severe Dengue with decompensated shock/ Acute liver failure (resolving)': 1,\n",
              " 'Acute encephalopathy  cause': 1,\n",
              " 'Dengue fever/ fever triggered seizures': 1,\n",
              " 'Severe Dengue/ Multiorgan dysfunction- Acute Liver failure, Acute Kidney injury and coagulopathy/ Gastro intestinal sepsis': 1,\n",
              " 'Acute viral illness/ Dengue fever': 1,\n",
              " 'Severe Dengue (Resolved )mild intermittent asthma': 1,\n",
              " 'Infantile Dengue fever': 1,\n",
              " 'Dengue fever (IGM POSITIVE)': 1,\n",
              " 'Probable viral illness with wheeze': 1,\n",
              " 'Enteric Fever Salmonella paratyphi -A': 1,\n",
              " 'Enteric Fever ( Culture positive)': 1,\n",
              " 'Confirmed enteric fever salmonella thphi': 1,\n",
              " 'Dengue like illness /K/C/O developmental delay autistic spectrum disorder': 1,\n",
              " 'Dengue fever with compensated shock': 1,\n",
              " 'Multi triggered wheeze/ Acute exacerbation with viral lower respiratory tract infection': 1,\n",
              " 'Viral Fever (Adenovirus Positive)': 1,\n",
              " 'Viral illness': 1,\n",
              " 'Viral Illness (Upper Respiratory infection with conjunctivitis)': 1,\n",
              " 'Scrub Typhus with Anemia/  Infection associated/  Iron deficiency': 1,\n",
              " 'Viral Lower Respiratory Tract Infection': 1,\n",
              " 'Probable Viral illness': 1,\n",
              " 'Acute febrile illness (Viral)': 1,\n",
              " 'Severe Dengue with secondary HLH': 1,\n",
              " 'Severe Dengue/ Multiorgan dysfunction- Acute Liver failure/ Acute Kidney injury- on CRRT/ Shock- recovered': 1,\n",
              " 'Complicated Enteric/ SIRS': 1,\n",
              " 'Scrub typhus': 1,\n",
              " 'Dengue fever/ Occult Bacteremia': 1,\n",
              " 'Dengue with warning signs/ Scrub Typhus': 1,\n",
              " 'Complicated Enteric fever/ small bowel perforation': 1,\n",
              " 'Acute Bacterial Rhinosinusitis': 1,\n",
              " 'Severe Dengue with hepatitis- Recovered': 1,\n",
              " 'Complicated Enteric Fever': 1,\n",
              " 'Dengue with warning signs/ Right Pyelonephritis': 1,\n",
              " 'Viral Illness with conjunctivitis': 1,\n",
              " 'Dengue with warning signs-Recovered/ VSD on followup': 1,\n",
              " 'Probable Acute Meningo Encephalitis': 1,\n",
              " 'Swine Flu H1N1 Positive with Probable Myositis': 1,\n",
              " 'RSV Positive/ Severe Dengue Coinfection': 1,\n",
              " 'Culture Positive Enteric Fever': 1,\n",
              " 'Severe Infantile dengue': 1,\n",
              " 'Scrub Typhus with hospital acquired infection- viral illness': 1,\n",
              " 'Recurrent fever with pancytopenia- probable Immune Cytopenia': 1,\n",
              " 'Probable Enteric/ Viral': 1,\n",
              " 'Viral Illness/ Iron Deficienct Anemia': 1,\n",
              " 'Right upper lobe Pneumonia/ Dengue Co-infection': 1,\n",
              " 'Left lower lobe pneumonia with minimal pleural effusion': 1,\n",
              " 'Bilateral severe pneumonia with Bilateral pneumatocele': 1,\n",
              " 'Probable viral Illness/ Multitriggered wheeze': 1,\n",
              " 'Viral Illness': 1,\n",
              " 'Culture positive Enteric fever- Salmonella Typhi': 1,\n",
              " 'PUO under evaluation/Auto-inflammatory condition': 1,\n",
              " 'Acute febrile illness with anicteric severe hepatitis': 1,\n",
              " 'Viral Fever': 1,\n",
              " 'Scrub Typhus with ARDS': 1,\n",
              " 'Acute bacterial sinusitis': 1,\n",
              " 'Maxillary sinusitis with Right preseptal cellulitis': 1,\n",
              " 'Urinary tract infection': 1,\n",
              " 'Probable Scrub Typhus/ Left Pyelonephritis': 1,\n",
              " '1st epiode febrile seizure/ fever without focus': 1,\n",
              " 'Pyrexia of unknown origin/Non-infective Inflammatory': 1,\n",
              " 'Fever under evaluation/ Probable scrub typhus': 1,\n",
              " 'Dengue febrile illness': 1,\n",
              " 'K/C/O Autoimmune thyroiditis with Severe Dengue': 1,\n",
              " 'Confirmed Enteric Fever': 1,\n",
              " 'Severe Dengue with encephalopathy/ Fulminant Hepatic failure/ Acute Kidney Injury-Resolved/ Jacquet Erosive Dermatitis': 1,\n",
              " 'Severe Dengue with acute liver failure/ Secondary Hemophagocytic lymphohistiocytosis/ Sepsis': 1,\n",
              " 'Multiorgan dysfunction syndrome/Severe Dengue/ Secondary HLH': 1,\n",
              " 'Confirmed Enteric fever': 1,\n",
              " 'Dengue without warning signs': 1,\n",
              " 'Probable Enteric Fever': 1,\n",
              " 'Probably partially treated Enteric fever': 1,\n",
              " 'Severe Dengue Fever with hypotensive shock/ organ impairement- Acute liver failure (Recovered)/ Third spacing': 1,\n",
              " 'Acute febrile illness': 1,\n",
              " 'Dengue fever with warning sign (Dengue NS1-Positive); Pending Enteric culture': 1,\n",
              " 'Pyrexia of unknown origin': 1,\n",
              " 'Left Acute Parotitis/ Dengue with warning signs': 1,\n",
              " 'Probable Viral Illness': 1,\n",
              " 'Confirmed Enteric Fever- Salmonella Typhi': 1,\n",
              " 'Acute Febrile illness/ 1st episode simple febrile seizures/ Probable Viral illness': 1,\n",
              " 'Dengue Fever with Viral lower respiratory tract infcetion': 1,\n",
              " 'Scrub Typhus/ Pulmonary Edema (Recovered)': 1,\n",
              " 'Nephrotic Syndrom- Frequent relapse/ Scrub Typhus': 1,\n",
              " 'Severe Dengu/ Secondary Dengue': 1,\n",
              " 'Scrub Typhus with MODS and ARDS': 1,\n",
              " 'Scrub Meningoencephalitis': 1,\n",
              " 'Viral Fever/ Simple Febrile Seizures': 1,\n",
              " ' Dengue/  Dengue like viral illness': 1,\n",
              " 'Severe Dengue/Sepsis/Anemia/Poland Anamoly': 1,\n",
              " 'Prolonged febrile illness': 1,\n",
              " 'Paratyphoid fever': 1,\n",
              " 'ND': 1}"
            ]
          },
          "metadata": {},
          "execution_count": 193
        }
      ],
      "source": [
        "dict(data['Final Diagnosis'].value_counts())"
      ]
    },
    {
      "cell_type": "code",
      "execution_count": null,
      "id": "b90cfed1",
      "metadata": {
        "id": "b90cfed1"
      },
      "outputs": [],
      "source": [
        "data['Final Diagnosis']=le.fit_transform(data['Final Diagnosis'])"
      ]
    },
    {
      "cell_type": "code",
      "execution_count": null,
      "id": "be49bb5f",
      "metadata": {
        "colab": {
          "base_uri": "https://localhost:8080/"
        },
        "id": "be49bb5f",
        "outputId": "54f13a04-632c-4a99-a7bc-da94338eb084"
      },
      "outputs": [
        {
          "output_type": "execute_result",
          "data": {
            "text/plain": [
              "0       81\n",
              "1       81\n",
              "12      83\n",
              "13      51\n",
              "14      81\n",
              "      ... \n",
              "356     38\n",
              "357    103\n",
              "358     12\n",
              "359     65\n",
              "360     38\n",
              "Name: Final Diagnosis, Length: 243, dtype: int64"
            ]
          },
          "metadata": {},
          "execution_count": 195
        }
      ],
      "source": [
        "data['Final Diagnosis']"
      ]
    },
    {
      "cell_type": "code",
      "execution_count": null,
      "id": "1ad01603",
      "metadata": {
        "colab": {
          "base_uri": "https://localhost:8080/"
        },
        "id": "1ad01603",
        "outputId": "e4c351f0-a77f-466f-fc90-78f01897ee6d"
      },
      "outputs": [
        {
          "output_type": "execute_result",
          "data": {
            "text/plain": [
              "0                                               Negative\n",
              "1      Positive for Dengue (Serotype DEN3) and Ricket...\n",
              "12                                              Negative\n",
              "13                                              Negative\n",
              "14                                              Negative\n",
              "                             ...                        \n",
              "356                                             Negative\n",
              "357                  Positive for Dengue (Serotype DEN1)\n",
              "358                                             Negative\n",
              "359                                             Negative\n",
              "360                  Positive for Dengue (Serotype DEN3)\n",
              "Name: AUF Result, Length: 243, dtype: object"
            ]
          },
          "metadata": {},
          "execution_count": 196
        }
      ],
      "source": [
        "data['AUF Result']"
      ]
    },
    {
      "cell_type": "code",
      "execution_count": null,
      "id": "05f999cb",
      "metadata": {
        "colab": {
          "base_uri": "https://localhost:8080/"
        },
        "id": "05f999cb",
        "outputId": "68b72a59-b41c-4bbe-c968-e406e5735a83"
      },
      "outputs": [
        {
          "output_type": "execute_result",
          "data": {
            "text/plain": [
              "AUF Result\n",
              "Negative                                                               123\n",
              "Positive for Dengue (Serotype DEN2)                                     34\n",
              "Positive for Dengue (Serotype DEN3)                                     29\n",
              "Positive for Dengue (Serotype DEN2) and Inconclusive for Rickettsia     11\n",
              "Positive for Dengue (Serotype DEN1)                                     11\n",
              "Positive for Dengue (Serotype DEN2) and Rickettsia                       8\n",
              "Positive for Salmonella                                                  5\n",
              "Positive for Rickettsia                                                  4\n",
              "Inconclusive for Dengue                                                  3\n",
              "Inconclusive for Dengue (Serotype DEN3)                                  3\n",
              "Positive for Dengue (Serotype DEN3) and Rickettsiae                      3\n",
              "Positive for Dengue                                                      2\n",
              "Inconclusive for Rickettsia                                              1\n",
              "Inconclusive for Dengue (Serotype DEN2)                                  1\n",
              "Inconclusive for Salmonella                                              1\n",
              "Positive for Dengue (Serotype DEN3) and Salmonella                       1\n",
              "Positive for Dengue (Serotype DEN3), Inconclusive for Rickettsiae        1\n",
              "Inconclusive for Plasmodium                                              1\n",
              "Name: count, dtype: int64"
            ]
          },
          "metadata": {},
          "execution_count": 197
        }
      ],
      "source": [
        "data['AUF Result'].value_counts()"
      ]
    },
    {
      "cell_type": "code",
      "execution_count": null,
      "id": "522e9c72",
      "metadata": {
        "id": "522e9c72"
      },
      "outputs": [],
      "source": [
        "def aufresult(column):\n",
        "    auf=column\n",
        "    if auf=='NEGATIVE':\n",
        "        return 'Negative'\n",
        "    else:\n",
        "        return"
      ]
    },
    {
      "cell_type": "code",
      "execution_count": null,
      "id": "f26403f6",
      "metadata": {
        "colab": {
          "base_uri": "https://localhost:8080/"
        },
        "id": "f26403f6",
        "outputId": "a47501eb-47f6-4938-b2c3-8278480a7f32"
      },
      "outputs": [
        {
          "output_type": "execute_result",
          "data": {
            "text/plain": [
              "1"
            ]
          },
          "metadata": {},
          "execution_count": 199
        }
      ],
      "source": [
        "data['AUF Result'].isna().sum()"
      ]
    },
    {
      "cell_type": "code",
      "execution_count": null,
      "id": "d12d2a74",
      "metadata": {
        "id": "d12d2a74"
      },
      "outputs": [],
      "source": [
        "data['AUF Result'].fillna('Not Done',inplace=True)"
      ]
    },
    {
      "cell_type": "code",
      "execution_count": null,
      "id": "a1f340a8",
      "metadata": {
        "id": "a1f340a8"
      },
      "outputs": [],
      "source": [
        "data['AUF Result']=le.fit_transform(data['AUF Result'])"
      ]
    },
    {
      "cell_type": "code",
      "execution_count": null,
      "id": "f6326fba",
      "metadata": {
        "colab": {
          "base_uri": "https://localhost:8080/"
        },
        "id": "f6326fba",
        "outputId": "6d1b1e2f-bce7-4efc-aace-1021fa3bca71"
      },
      "outputs": [
        {
          "output_type": "execute_result",
          "data": {
            "text/plain": [
              "0"
            ]
          },
          "metadata": {},
          "execution_count": 202
        }
      ],
      "source": [
        "data['AUF Result'].isna().sum()"
      ]
    },
    {
      "cell_type": "code",
      "execution_count": null,
      "id": "91e05e9e",
      "metadata": {
        "colab": {
          "base_uri": "https://localhost:8080/"
        },
        "id": "91e05e9e",
        "outputId": "91abbb58-e2d0-4d20-b35a-b6d2c775b258"
      },
      "outputs": [
        {
          "output_type": "execute_result",
          "data": {
            "text/plain": [
              "AUF Result\n",
              "6     123\n",
              "10     34\n",
              "13     29\n",
              "11     11\n",
              "9      11\n",
              "12      8\n",
              "18      5\n",
              "17      4\n",
              "0       3\n",
              "2       3\n",
              "14      3\n",
              "8       2\n",
              "4       1\n",
              "7       1\n",
              "1       1\n",
              "5       1\n",
              "15      1\n",
              "16      1\n",
              "3       1\n",
              "Name: count, dtype: int64"
            ]
          },
          "metadata": {},
          "execution_count": 203
        }
      ],
      "source": [
        "data['AUF Result'].value_counts()"
      ]
    },
    {
      "cell_type": "code",
      "execution_count": null,
      "id": "a65f9876",
      "metadata": {
        "id": "a65f9876"
      },
      "outputs": [],
      "source": []
    },
    {
      "cell_type": "code",
      "execution_count": null,
      "id": "711e6758",
      "metadata": {
        "id": "711e6758"
      },
      "outputs": [],
      "source": []
    },
    {
      "cell_type": "markdown",
      "id": "757033b0",
      "metadata": {
        "id": "757033b0"
      },
      "source": [
        "## Numerical Columns"
      ]
    },
    {
      "cell_type": "markdown",
      "id": "db3a7be8",
      "metadata": {
        "id": "db3a7be8"
      },
      "source": [
        "### RR and PR"
      ]
    },
    {
      "cell_type": "code",
      "execution_count": null,
      "id": "b05e575b",
      "metadata": {
        "colab": {
          "base_uri": "https://localhost:8080/"
        },
        "id": "b05e575b",
        "outputId": "7c9ba2f2-13b5-48ba-eca5-625a5fef5362"
      },
      "outputs": [
        {
          "output_type": "execute_result",
          "data": {
            "text/plain": [
              "0"
            ]
          },
          "metadata": {},
          "execution_count": 204
        }
      ],
      "source": [
        "data['RR'].isna().sum()"
      ]
    },
    {
      "cell_type": "code",
      "execution_count": null,
      "id": "c2717197",
      "metadata": {
        "colab": {
          "base_uri": "https://localhost:8080/"
        },
        "id": "c2717197",
        "outputId": "06bd31cd-20e0-438b-8ac1-2c6f7efcf5ff"
      },
      "outputs": [
        {
          "output_type": "stream",
          "name": "stdout",
          "text": [
            "-\n"
          ]
        }
      ],
      "source": [
        "for i in data['RR']:\n",
        "    if type(i)==float or i.isnumeric()==False:\n",
        "        print(i)"
      ]
    },
    {
      "cell_type": "markdown",
      "id": "fc4cc1fd",
      "metadata": {
        "id": "fc4cc1fd"
      },
      "source": [
        "### Function to convert str to int values if int strings"
      ]
    },
    {
      "cell_type": "code",
      "execution_count": null,
      "id": "5fd41290",
      "metadata": {
        "id": "5fd41290"
      },
      "outputs": [],
      "source": [
        "def rrpr(column):\n",
        "    rrpr=column\n",
        "    if type(rrpr)!=float and rrpr.isnumeric():\n",
        "        return int(rrpr)\n",
        "    else:\n",
        "        return None"
      ]
    },
    {
      "cell_type": "code",
      "execution_count": null,
      "id": "7f7a2196",
      "metadata": {
        "id": "7f7a2196"
      },
      "outputs": [],
      "source": [
        "data['RR']=data['RR'].apply(rrpr)"
      ]
    },
    {
      "cell_type": "code",
      "execution_count": null,
      "id": "aa40e272",
      "metadata": {
        "colab": {
          "base_uri": "https://localhost:8080/"
        },
        "id": "aa40e272",
        "outputId": "2f81d6c4-1e00-45da-92bd-431026507af8"
      },
      "outputs": [
        {
          "output_type": "execute_result",
          "data": {
            "text/plain": [
              "1"
            ]
          },
          "metadata": {},
          "execution_count": 208
        }
      ],
      "source": [
        "data['RR'].isna().sum()"
      ]
    },
    {
      "cell_type": "code",
      "execution_count": null,
      "id": "b961bbb7",
      "metadata": {
        "id": "b961bbb7"
      },
      "outputs": [],
      "source": [
        "data['RR'].fillna(data['RR'].median(),inplace=True)"
      ]
    },
    {
      "cell_type": "code",
      "execution_count": null,
      "id": "4fbf7f3b",
      "metadata": {
        "colab": {
          "base_uri": "https://localhost:8080/"
        },
        "id": "4fbf7f3b",
        "outputId": "d2559932-77f0-4cd8-cd47-1987dcfa26a9"
      },
      "outputs": [
        {
          "output_type": "execute_result",
          "data": {
            "text/plain": [
              "0"
            ]
          },
          "metadata": {},
          "execution_count": 210
        }
      ],
      "source": [
        "data['RR'].isna().sum()"
      ]
    },
    {
      "cell_type": "code",
      "execution_count": null,
      "id": "fe2b9261",
      "metadata": {
        "colab": {
          "base_uri": "https://localhost:8080/"
        },
        "id": "fe2b9261",
        "outputId": "1cc2207a-3fab-43a2-b644-0a575adae375"
      },
      "outputs": [
        {
          "output_type": "execute_result",
          "data": {
            "text/plain": [
              "0"
            ]
          },
          "metadata": {},
          "execution_count": 211
        }
      ],
      "source": [
        "data['PR'].isna().sum()"
      ]
    },
    {
      "cell_type": "code",
      "execution_count": null,
      "id": "61ffab60",
      "metadata": {
        "colab": {
          "base_uri": "https://localhost:8080/"
        },
        "id": "61ffab60",
        "outputId": "9fa92cda-63ff-4f15-e75b-74277bfd1ebe"
      },
      "outputs": [
        {
          "output_type": "stream",
          "name": "stdout",
          "text": [
            "-\n"
          ]
        }
      ],
      "source": [
        "for i in data['PR']:\n",
        "    if type(i)==float or i.isnumeric()==False:\n",
        "        print(i)"
      ]
    },
    {
      "cell_type": "code",
      "execution_count": null,
      "id": "9ffeb72a",
      "metadata": {
        "id": "9ffeb72a"
      },
      "outputs": [],
      "source": [
        "data['PR']=data['PR'].apply(rrpr)"
      ]
    },
    {
      "cell_type": "code",
      "execution_count": null,
      "id": "2996189b",
      "metadata": {
        "colab": {
          "base_uri": "https://localhost:8080/"
        },
        "id": "2996189b",
        "outputId": "28f5d8f6-235d-4de9-bc42-ab013565511c"
      },
      "outputs": [
        {
          "output_type": "execute_result",
          "data": {
            "text/plain": [
              "1"
            ]
          },
          "metadata": {},
          "execution_count": 214
        }
      ],
      "source": [
        "data['PR'].isna().sum()"
      ]
    },
    {
      "cell_type": "code",
      "execution_count": null,
      "id": "5f330bd9",
      "metadata": {
        "id": "5f330bd9"
      },
      "outputs": [],
      "source": [
        "data['PR'].fillna(data['PR'].median(),inplace=True)"
      ]
    },
    {
      "cell_type": "code",
      "execution_count": null,
      "id": "54c4da6e",
      "metadata": {
        "colab": {
          "base_uri": "https://localhost:8080/"
        },
        "id": "54c4da6e",
        "outputId": "14493ef4-435b-4524-a9ab-1e8e853633f1"
      },
      "outputs": [
        {
          "output_type": "execute_result",
          "data": {
            "text/plain": [
              "0"
            ]
          },
          "metadata": {},
          "execution_count": 216
        }
      ],
      "source": [
        "data['PR'].isna().sum()"
      ]
    },
    {
      "cell_type": "markdown",
      "id": "534c692a",
      "metadata": {
        "id": "534c692a"
      },
      "source": [
        "### Temperature"
      ]
    },
    {
      "cell_type": "code",
      "execution_count": null,
      "id": "0bedf927",
      "metadata": {
        "colab": {
          "base_uri": "https://localhost:8080/"
        },
        "id": "0bedf927",
        "outputId": "c8db93c5-9518-42f6-b87b-4003ad254f40"
      },
      "outputs": [
        {
          "output_type": "execute_result",
          "data": {
            "text/plain": [
              "0      100.6\n",
              "1        104\n",
              "12      98.4\n",
              "13      98.4\n",
              "14     100.8\n",
              "       ...  \n",
              "356     98.4\n",
              "357      100\n",
              "358    100.5\n",
              "359      101\n",
              "360     98.4\n",
              "Name: Temperature, Length: 243, dtype: object"
            ]
          },
          "metadata": {},
          "execution_count": 217
        }
      ],
      "source": [
        "data['Temperature']"
      ]
    },
    {
      "cell_type": "code",
      "execution_count": null,
      "id": "645957d7",
      "metadata": {
        "colab": {
          "base_uri": "https://localhost:8080/"
        },
        "id": "645957d7",
        "outputId": "349c2543-6586-4302-c237-d2d3c68179bf"
      },
      "outputs": [
        {
          "output_type": "execute_result",
          "data": {
            "text/plain": [
              "0"
            ]
          },
          "metadata": {},
          "execution_count": 218
        }
      ],
      "source": [
        "data['Temperature'].isna().sum()"
      ]
    },
    {
      "cell_type": "code",
      "execution_count": null,
      "id": "cd99def5",
      "metadata": {
        "colab": {
          "base_uri": "https://localhost:8080/"
        },
        "id": "cd99def5",
        "outputId": "beda6702-6598-4f1f-e748-044dab56293d"
      },
      "outputs": [
        {
          "output_type": "execute_result",
          "data": {
            "text/plain": [
              "False"
            ]
          },
          "metadata": {},
          "execution_count": 219
        }
      ],
      "source": [
        "data['Temperature'][0].isnumeric()"
      ]
    },
    {
      "cell_type": "code",
      "execution_count": null,
      "id": "fd5b2a83",
      "metadata": {
        "id": "fd5b2a83"
      },
      "outputs": [],
      "source": [
        "def temp(column):\n",
        "    t=column\n",
        "    try:\n",
        "        float(t)\n",
        "        return float(t)\n",
        "    except ValueError:\n",
        "        return None\n",
        "    return None"
      ]
    },
    {
      "cell_type": "code",
      "execution_count": null,
      "id": "cc188958",
      "metadata": {
        "id": "cc188958"
      },
      "outputs": [],
      "source": [
        "data['Temperature']=data['Temperature'].apply(temp)"
      ]
    },
    {
      "cell_type": "code",
      "execution_count": null,
      "id": "913985da",
      "metadata": {
        "colab": {
          "base_uri": "https://localhost:8080/"
        },
        "id": "913985da",
        "outputId": "f32fa923-dda6-439f-c8b8-50a4e824d7aa"
      },
      "outputs": [
        {
          "output_type": "execute_result",
          "data": {
            "text/plain": [
              "1"
            ]
          },
          "metadata": {},
          "execution_count": 222
        }
      ],
      "source": [
        "data['Temperature'].isna().sum()"
      ]
    },
    {
      "cell_type": "code",
      "execution_count": null,
      "id": "fe2b4780",
      "metadata": {
        "id": "fe2b4780"
      },
      "outputs": [],
      "source": [
        "data['Temperature'].fillna(data['Temperature'].median(),inplace=True)"
      ]
    },
    {
      "cell_type": "code",
      "execution_count": null,
      "id": "4e8954c6",
      "metadata": {
        "colab": {
          "base_uri": "https://localhost:8080/"
        },
        "id": "4e8954c6",
        "outputId": "c381abb0-a07e-4a97-f694-4e9a95c33b21"
      },
      "outputs": [
        {
          "output_type": "execute_result",
          "data": {
            "text/plain": [
              "0"
            ]
          },
          "metadata": {},
          "execution_count": 224
        }
      ],
      "source": [
        "data['Temperature'].isna().sum()"
      ]
    },
    {
      "cell_type": "markdown",
      "id": "27a556e0",
      "metadata": {
        "id": "27a556e0"
      },
      "source": [
        "### Blood Pressure"
      ]
    },
    {
      "cell_type": "code",
      "execution_count": null,
      "id": "dd82a75e",
      "metadata": {
        "colab": {
          "base_uri": "https://localhost:8080/"
        },
        "id": "dd82a75e",
        "outputId": "9e565c6d-af8b-43d2-f5f5-2ab8bce4eca8"
      },
      "outputs": [
        {
          "output_type": "execute_result",
          "data": {
            "text/plain": [
              "['108/60',\n",
              " '95/57',\n",
              " '103/63',\n",
              " '109/59',\n",
              " '81/47',\n",
              " '100/60',\n",
              " '98/62',\n",
              " '101/56',\n",
              " '118/68',\n",
              " '82/40',\n",
              " '106/58',\n",
              " '98/57',\n",
              " '110/62',\n",
              " '106/67',\n",
              " '102/60',\n",
              " '94/59',\n",
              " '84/46',\n",
              " '106/50',\n",
              " '82/54',\n",
              " '97/54',\n",
              " '85/53',\n",
              " '98/58',\n",
              " '79/40',\n",
              " '112/60',\n",
              " '96/53',\n",
              " '81/43',\n",
              " '97/58',\n",
              " '97/45',\n",
              " '88/57',\n",
              " '108/67',\n",
              " '88/50',\n",
              " '88/50',\n",
              " '125/85',\n",
              " '93/67',\n",
              " '90/60',\n",
              " '102/50',\n",
              " '91/69',\n",
              " '98/32',\n",
              " '104/60',\n",
              " '96/63',\n",
              " '96/63',\n",
              " '97/57',\n",
              " '90/56',\n",
              " '105/65',\n",
              " '92/54',\n",
              " '105/62',\n",
              " '99/52',\n",
              " '94/54',\n",
              " '102/65',\n",
              " '97/70',\n",
              " '106/66',\n",
              " '92/56',\n",
              " '100/59',\n",
              " '113/68',\n",
              " '110/60',\n",
              " '100/59',\n",
              " '110/60',\n",
              " '90/60',\n",
              " '104/70',\n",
              " '105/47',\n",
              " '138/58',\n",
              " '107/68',\n",
              " '98/60',\n",
              " '118/73',\n",
              " '96/48',\n",
              " '114/72',\n",
              " '98/56',\n",
              " '83/40',\n",
              " '85/69',\n",
              " '109/68',\n",
              " '94/62',\n",
              " '92/63',\n",
              " '109/70',\n",
              " '107/58',\n",
              " '103/47',\n",
              " '84/39',\n",
              " '92/51',\n",
              " nan,\n",
              " '101/52',\n",
              " '92/47',\n",
              " '90/60',\n",
              " '102/59',\n",
              " '104/78',\n",
              " '101/59',\n",
              " '100/60',\n",
              " '97/62',\n",
              " '122/74',\n",
              " '103/84',\n",
              " '107/66',\n",
              " '90/50',\n",
              " '106/54',\n",
              " '100/60',\n",
              " '90/50',\n",
              " '94/62',\n",
              " '123/63',\n",
              " '106/68',\n",
              " '91/66',\n",
              " '102/76',\n",
              " '107/69',\n",
              " '99/52',\n",
              " '94/60',\n",
              " '117/68',\n",
              " '115/64',\n",
              " '103/77',\n",
              " '98/58',\n",
              " '58/38',\n",
              " '94/62',\n",
              " '96/52',\n",
              " '123/88',\n",
              " '98/65',\n",
              " '102/60',\n",
              " '124/78',\n",
              " '127/92',\n",
              " '90/57',\n",
              " '100/60',\n",
              " '100/70',\n",
              " '101/60',\n",
              " '105/69',\n",
              " '98/67',\n",
              " '97/69',\n",
              " '113/77',\n",
              " '110/78',\n",
              " '120/80',\n",
              " '109/50',\n",
              " '93/56',\n",
              " '90/26',\n",
              " '118/68',\n",
              " '135/81',\n",
              " '98/68',\n",
              " '119/73',\n",
              " '103/74',\n",
              " '115/95',\n",
              " '94/49',\n",
              " '117/72',\n",
              " '103/74',\n",
              " '104/74',\n",
              " '115/94',\n",
              " '92/68',\n",
              " '112/70',\n",
              " '99/69',\n",
              " '100/50',\n",
              " '100/60',\n",
              " '110/62',\n",
              " '104/74',\n",
              " '110/64',\n",
              " '86/60',\n",
              " '86/50',\n",
              " '103/62',\n",
              " '96/50',\n",
              " '88/53',\n",
              " '110/80',\n",
              " '104/68',\n",
              " '97/63',\n",
              " '98/67',\n",
              " '117/65',\n",
              " '101/58',\n",
              " '108/71',\n",
              " '70/54',\n",
              " '92/58',\n",
              " '116/88',\n",
              " '118/83',\n",
              " '101/77',\n",
              " '106/60',\n",
              " '118/64',\n",
              " '105/77',\n",
              " '100/60',\n",
              " '100/64',\n",
              " '119/74',\n",
              " '82/43',\n",
              " '120/80',\n",
              " '128/86',\n",
              " '88/50',\n",
              " '120/82',\n",
              " '97/50',\n",
              " '110/80',\n",
              " '119/73',\n",
              " '80/50',\n",
              " '102/61',\n",
              " '120/80',\n",
              " '103/58',\n",
              " '109/45',\n",
              " '92/62',\n",
              " '95/65',\n",
              " '98/56',\n",
              " '96/52',\n",
              " '98/58',\n",
              " '94/56',\n",
              " '102/80',\n",
              " '100/60',\n",
              " '104/69',\n",
              " '98/48',\n",
              " '120/80',\n",
              " '105/77',\n",
              " '104/66',\n",
              " '100/68',\n",
              " '102/64',\n",
              " '98/58',\n",
              " '93/53',\n",
              " '102/53',\n",
              " '114/79',\n",
              " '121/89',\n",
              " '106/65',\n",
              " '96/42',\n",
              " '98/51',\n",
              " '110/80',\n",
              " '89/52',\n",
              " '100/70',\n",
              " '101/68',\n",
              " '101/63',\n",
              " '102/53',\n",
              " '113/91',\n",
              " '100/60',\n",
              " '120/62',\n",
              " '97/65',\n",
              " '130/70',\n",
              " '99/60',\n",
              " '125/76',\n",
              " '109/65',\n",
              " '114/74',\n",
              " '100/70',\n",
              " '98/60',\n",
              " '103/59',\n",
              " '107/67',\n",
              " '95/64',\n",
              " '101/68',\n",
              " '125/76',\n",
              " '90/56',\n",
              " '104/75',\n",
              " '125/76',\n",
              " '114/56',\n",
              " '118/81',\n",
              " '101/60',\n",
              " '106/67',\n",
              " '110/68',\n",
              " '110/60',\n",
              " '100/70',\n",
              " '110/66',\n",
              " '100/60',\n",
              " '94/68',\n",
              " '120/62',\n",
              " '107/73',\n",
              " '100/70',\n",
              " '113/74']"
            ]
          },
          "metadata": {},
          "execution_count": 225
        }
      ],
      "source": [
        "list(data['BP'])"
      ]
    },
    {
      "cell_type": "code",
      "execution_count": null,
      "id": "ff67931e",
      "metadata": {
        "colab": {
          "base_uri": "https://localhost:8080/"
        },
        "id": "ff67931e",
        "outputId": "41d11b64-e3e0-4b63-abfd-aa0372a6c535"
      },
      "outputs": [
        {
          "output_type": "execute_result",
          "data": {
            "text/plain": [
              "1"
            ]
          },
          "metadata": {},
          "execution_count": 226
        }
      ],
      "source": [
        "data['BP'].isna().sum()"
      ]
    },
    {
      "cell_type": "code",
      "execution_count": null,
      "id": "32c96925",
      "metadata": {
        "id": "32c96925"
      },
      "outputs": [],
      "source": [
        "def bp(column):\n",
        "    b=column\n",
        "    if type(b)!=float:\n",
        "        bpl=[float(i) for i in b.split('/')]\n",
        "        if bpl[0]<=120 and bpl[1]<=80:\n",
        "            #NORMAL\n",
        "            return 1\n",
        "        elif (bpl[0]>120 and bpl[0]<=129) and bpl[1]<=80:\n",
        "            # ELEVATED\n",
        "            return 2\n",
        "        elif (bpl[0]>=130 and bpl[0]<=139) or (bpl[1]>80 and bpl[1]<=89):\n",
        "            # HIGH BP STAGE 1\n",
        "            return 3\n",
        "        elif (bpl[0]>=140 and bpl[0]<=180) or (bpl[1]>=90 and bpl[1]<=120):\n",
        "            # HIGH BP STAGE 2\n",
        "            return 4\n",
        "        elif (bpl[0]>180) or (bpl[1]>120):\n",
        "            #HYPERTENSIVE CRISIS\n",
        "            return 5\n",
        "    else:\n",
        "        return 0"
      ]
    },
    {
      "cell_type": "code",
      "execution_count": null,
      "id": "f3477b93",
      "metadata": {
        "id": "f3477b93"
      },
      "outputs": [],
      "source": [
        "data['BP']=data['BP'].apply(bp)"
      ]
    },
    {
      "cell_type": "code",
      "execution_count": null,
      "id": "f7e579f2",
      "metadata": {
        "colab": {
          "base_uri": "https://localhost:8080/"
        },
        "id": "f7e579f2",
        "outputId": "3f96ca7d-4411-4804-e54d-72d6a06dd0ce"
      },
      "outputs": [
        {
          "output_type": "execute_result",
          "data": {
            "text/plain": [
              "0"
            ]
          },
          "metadata": {},
          "execution_count": 229
        }
      ],
      "source": [
        "data['BP'].isna().sum()"
      ]
    },
    {
      "cell_type": "code",
      "execution_count": null,
      "id": "f5773441",
      "metadata": {
        "colab": {
          "base_uri": "https://localhost:8080/"
        },
        "id": "f5773441",
        "outputId": "1c928a91-2f82-44a6-954d-5628fb6c104f"
      },
      "outputs": [
        {
          "output_type": "execute_result",
          "data": {
            "text/plain": [
              "Total count\n",
              "5300.0    4\n",
              "6200.0    4\n",
              "5200.0    4\n",
              "5000.0    3\n",
              "3200.0    3\n",
              "         ..\n",
              "3780.0    1\n",
              "8000.0    1\n",
              "5070.0    1\n",
              "7300.0    1\n",
              "2660.0    1\n",
              "Name: count, Length: 185, dtype: int64"
            ]
          },
          "metadata": {},
          "execution_count": 230
        }
      ],
      "source": [
        "data['Total count'].value_counts()"
      ]
    },
    {
      "cell_type": "code",
      "execution_count": null,
      "id": "985efe45",
      "metadata": {
        "colab": {
          "base_uri": "https://localhost:8080/"
        },
        "id": "985efe45",
        "outputId": "66925e7a-78c3-42e7-f5a4-fca56e8c070f"
      },
      "outputs": [
        {
          "output_type": "execute_result",
          "data": {
            "text/plain": [
              "9"
            ]
          },
          "metadata": {},
          "execution_count": 231
        }
      ],
      "source": [
        "data['Total count'].isna().sum()"
      ]
    },
    {
      "cell_type": "code",
      "execution_count": null,
      "id": "53dcd478",
      "metadata": {
        "colab": {
          "base_uri": "https://localhost:8080/"
        },
        "id": "53dcd478",
        "outputId": "1cb17e39-8046-4ef2-ac51-814b1ecc201b"
      },
      "outputs": [
        {
          "output_type": "stream",
          "name": "stdout",
          "text": [
            "7410.0\n",
            "5500.0\n",
            "9900.0\n",
            "9800.0\n",
            "8200.0\n",
            "8200.0\n",
            "7500.0\n",
            "13100.0\n",
            "7900.0\n",
            "24700.0\n",
            "14980.0\n",
            "21600.0\n",
            "16100.0\n",
            "7000.0\n",
            "15100.0\n",
            "21700.0\n",
            "9940.0\n",
            "4520.0\n",
            "9500.0\n",
            "22600.0\n",
            "9360.0\n",
            "9160.0\n",
            "9730.0\n",
            "8100.0\n",
            "11300.0\n",
            "11700.0\n",
            "10300.0\n",
            "4900.0\n",
            "5260.0\n",
            "7670.0\n",
            "3770.0\n",
            "8420.0\n",
            "11210.0\n",
            "6810.0\n",
            "5000.0\n",
            "16400.0\n",
            "4900.0\n",
            "2200.0\n",
            "16000.0\n",
            "5800.0\n",
            "5800.0\n",
            "3900.0\n",
            "23300.0\n",
            "1700.0\n",
            "5300.0\n",
            "5600.0\n",
            "15180.0\n",
            "7700.0\n",
            "8900.0\n",
            "3200.0\n",
            "2970.0\n",
            "17800.0\n",
            "10510.0\n",
            "4160.0\n",
            "7290.0\n",
            "4600.0\n",
            "25400.0\n",
            "2700.0\n",
            "2440.0\n",
            "7200.0\n",
            "14680.0\n",
            "4100.0\n",
            "5700.0\n",
            "11600.0\n",
            "5900.0\n",
            "3500.0\n",
            "11150.0\n",
            "17160.0\n",
            "7360.0\n",
            "9200.0\n",
            "10980.0\n",
            "5300.0\n",
            "1600.0\n",
            "3830.0\n",
            "3620.0\n",
            "15530.0\n",
            "2320.0\n",
            "5660.0\n",
            "8100.0\n",
            "2710.0\n",
            "3780.0\n",
            "8000.0\n",
            "3900.0\n",
            "5070.0\n",
            "2700.0\n",
            "7300.0\n",
            "2100.0\n",
            "14600.0\n",
            "3700.0\n",
            "26370.0\n",
            "10400.0\n",
            "1660.0\n",
            "5170.0\n",
            "2150.0\n",
            "2330.0\n",
            "15180.0\n",
            "4970.0\n",
            "2900.0\n",
            "7630.0\n",
            "9010.0\n",
            "3770.0\n",
            "7600.0\n",
            "4200.0\n",
            "2500.0\n",
            "18050.0\n",
            "11690.0\n",
            "2000.0\n",
            "8870.0\n",
            "1440.0\n",
            "8620.0\n",
            "4290.0\n",
            "12930.0\n",
            "3050.0\n",
            "10600.0\n",
            "5500.0\n",
            "3450.0\n",
            "4930.0\n",
            "4200.0\n",
            "4100.0\n",
            "10250.0\n",
            "6560.0\n",
            "5030.0\n",
            "6173.0\n",
            "7910.0\n",
            "12470.0\n",
            "9000.0\n",
            "13000.0\n",
            "5400.0\n",
            "14000.0\n",
            "8930.0\n",
            "23600.0\n",
            "6600.0\n",
            "21790.0\n",
            "6200.0\n",
            "5290.0\n",
            "4490.0\n",
            "5100.0\n",
            "7900.0\n",
            "nan\n",
            "6100.0\n",
            "9670.0\n",
            "5800.0\n",
            "6120.0\n",
            "4600.0\n",
            "5300.0\n",
            "3300.0\n",
            "7160.0\n",
            "13720.0\n",
            "6120.0\n",
            "6700.0\n",
            "5000.0\n",
            "10680.0\n",
            "5600.0\n",
            "5710.0\n",
            "7200.0\n",
            "6200.0\n",
            "5810.0\n",
            "5200.0\n",
            "6000.0\n",
            "62100.0\n",
            "9000.0\n",
            "2730.0\n",
            "3200.0\n",
            "6720.0\n",
            "1400.0\n",
            "14720.0\n",
            "1800.0\n",
            "11460.0\n",
            "7200.0\n",
            "2430.0\n",
            "8100.0\n",
            "6260.0\n",
            "7000.0\n",
            "13300.0\n",
            "7900.0\n",
            "nan\n",
            "17000.0\n",
            "3200.0\n",
            "2270.0\n",
            "17700.0\n",
            "5830.0\n",
            "6000.0\n",
            "3400.0\n",
            "11700.0\n",
            "4500.0\n",
            "nan\n",
            "11600.0\n",
            "2000.0\n",
            "4170.0\n",
            "8660.0\n",
            "2240.0\n",
            "6620.0\n",
            "2600.0\n",
            "6200.0\n",
            "5610.0\n",
            "18730.0\n",
            "5550.0\n",
            "7100.0\n",
            "12100.0\n",
            "20490.0\n",
            "5700.0\n",
            "12760.0\n",
            "6430.0\n",
            "nan\n",
            "nan\n",
            "18240.0\n",
            "8700.0\n",
            "4800.0\n",
            "5310.0\n",
            "2600.0\n",
            "1410.0\n",
            "5000.0\n",
            "8800.0\n",
            "5300.0\n",
            "3380.0\n",
            "2420.0\n",
            "nan\n",
            "nan\n",
            "nan\n",
            "3810.0\n",
            "7000.0\n",
            "4000.0\n",
            "5200.0\n",
            "6200.0\n",
            "6100.0\n",
            "3450.0\n",
            "5200.0\n",
            "5200.0\n",
            "2800.0\n",
            "6000.0\n",
            "12800.0\n",
            "6500.0\n",
            "9400.0\n",
            "10000.0\n",
            "4780.0\n",
            "nan\n",
            "13810.0\n",
            "4000.0\n",
            "4000.0\n",
            "13900.0\n",
            "2800.0\n",
            "6620.0\n",
            "2660.0\n",
            "243\n"
          ]
        }
      ],
      "source": [
        "count=0\n",
        "for i in data['Total count']:\n",
        "    if type(i)==float:\n",
        "        print(i)\n",
        "        count+=1\n",
        "\n",
        "print(count)"
      ]
    },
    {
      "cell_type": "code",
      "execution_count": null,
      "id": "9630758a",
      "metadata": {
        "id": "9630758a"
      },
      "outputs": [],
      "source": [
        "data['Total count'].fillna(data['Total count'].median(),inplace=True)"
      ]
    },
    {
      "cell_type": "code",
      "execution_count": null,
      "id": "69981b06",
      "metadata": {
        "colab": {
          "base_uri": "https://localhost:8080/"
        },
        "id": "69981b06",
        "outputId": "767fc642-4f90-44ce-94d3-22732461aaec"
      },
      "outputs": [
        {
          "output_type": "execute_result",
          "data": {
            "text/plain": [
              "0"
            ]
          },
          "metadata": {},
          "execution_count": 234
        }
      ],
      "source": [
        "data['Total count'].isna().sum()"
      ]
    },
    {
      "cell_type": "markdown",
      "id": "03a98e5e",
      "metadata": {
        "id": "03a98e5e"
      },
      "source": [
        "### Platelet count"
      ]
    },
    {
      "cell_type": "code",
      "execution_count": null,
      "id": "4bfe45d2",
      "metadata": {
        "colab": {
          "base_uri": "https://localhost:8080/"
        },
        "id": "4bfe45d2",
        "outputId": "d26f29bd-3ab2-49a6-d803-d6b92ab53c5c"
      },
      "outputs": [
        {
          "output_type": "execute_result",
          "data": {
            "text/plain": [
              "0       3170\n",
              "1       2870\n",
              "12      3820\n",
              "13     83000\n",
              "14      3010\n",
              "       ...  \n",
              "356       24\n",
              "357       88\n",
              "358      124\n",
              "359      261\n",
              "360       72\n",
              "Name: Platelet count, Length: 243, dtype: object"
            ]
          },
          "metadata": {},
          "execution_count": 235
        }
      ],
      "source": [
        "data['Platelet count']"
      ]
    },
    {
      "cell_type": "code",
      "execution_count": null,
      "id": "a71bd263",
      "metadata": {
        "colab": {
          "base_uri": "https://localhost:8080/"
        },
        "id": "a71bd263",
        "outputId": "acdbde09-acf5-4f22-c8ee-63d9e4152b5c"
      },
      "outputs": [
        {
          "output_type": "execute_result",
          "data": {
            "text/plain": [
              "2"
            ]
          },
          "metadata": {},
          "execution_count": 236
        }
      ],
      "source": [
        "data['Platelet count'].isna().sum()"
      ]
    },
    {
      "cell_type": "code",
      "execution_count": null,
      "id": "0b542f7b",
      "metadata": {
        "id": "0b542f7b"
      },
      "outputs": [],
      "source": [
        "data['Platelet count']=data['Platelet count'].apply(rrpr)"
      ]
    },
    {
      "cell_type": "code",
      "execution_count": null,
      "id": "5f0e8044",
      "metadata": {
        "id": "5f0e8044"
      },
      "outputs": [],
      "source": [
        "data['Platelet count'].fillna(data['Platelet count'].median(),inplace=True)"
      ]
    },
    {
      "cell_type": "code",
      "execution_count": null,
      "id": "958a195b",
      "metadata": {
        "colab": {
          "base_uri": "https://localhost:8080/"
        },
        "id": "958a195b",
        "outputId": "fb7549cc-6c6a-49e6-c3f9-81c66079257f"
      },
      "outputs": [
        {
          "output_type": "execute_result",
          "data": {
            "text/plain": [
              "0"
            ]
          },
          "metadata": {},
          "execution_count": 239
        }
      ],
      "source": [
        "data['Platelet count'].isna().sum()"
      ]
    },
    {
      "cell_type": "code",
      "execution_count": null,
      "id": "9376397b",
      "metadata": {
        "colab": {
          "base_uri": "https://localhost:8080/"
        },
        "id": "9376397b",
        "outputId": "cb094e7a-457d-4b45-9824-a78dcfc692e3"
      },
      "outputs": [
        {
          "output_type": "execute_result",
          "data": {
            "text/plain": [
              "0       3170.0\n",
              "1       2870.0\n",
              "12      3820.0\n",
              "13     83000.0\n",
              "14      3010.0\n",
              "        ...   \n",
              "356       24.0\n",
              "357       88.0\n",
              "358      124.0\n",
              "359      261.0\n",
              "360       72.0\n",
              "Name: Platelet count, Length: 243, dtype: float64"
            ]
          },
          "metadata": {},
          "execution_count": 240
        }
      ],
      "source": [
        "data['Platelet count']"
      ]
    },
    {
      "cell_type": "markdown",
      "id": "7c5a34a0",
      "metadata": {
        "id": "7c5a34a0"
      },
      "source": [
        "### SGOT"
      ]
    },
    {
      "cell_type": "code",
      "execution_count": null,
      "id": "0e5be4cc",
      "metadata": {
        "colab": {
          "base_uri": "https://localhost:8080/"
        },
        "id": "0e5be4cc",
        "outputId": "358daa4d-20b8-4dbf-be23-94c706a89998"
      },
      "outputs": [
        {
          "output_type": "execute_result",
          "data": {
            "text/plain": [
              "0       42\n",
              "1       26\n",
              "12      37\n",
              "13     238\n",
              "14      43\n",
              "      ... \n",
              "356    247\n",
              "357    888\n",
              "358     27\n",
              "359     30\n",
              "360    308\n",
              "Name: SGOT, Length: 243, dtype: object"
            ]
          },
          "metadata": {},
          "execution_count": 241
        }
      ],
      "source": [
        "data['SGOT']"
      ]
    },
    {
      "cell_type": "code",
      "execution_count": null,
      "id": "d4084120",
      "metadata": {
        "colab": {
          "base_uri": "https://localhost:8080/"
        },
        "id": "d4084120",
        "outputId": "e6aa158d-d99f-4a37-adf0-1739850ebb9e"
      },
      "outputs": [
        {
          "output_type": "execute_result",
          "data": {
            "text/plain": [
              "14"
            ]
          },
          "metadata": {},
          "execution_count": 242
        }
      ],
      "source": [
        "data['SGOT'].isna().sum()"
      ]
    },
    {
      "cell_type": "code",
      "execution_count": null,
      "id": "e700b6bb",
      "metadata": {
        "id": "e700b6bb"
      },
      "outputs": [],
      "source": [
        "data['SGOT']=data['SGOT'].apply(rrpr)"
      ]
    },
    {
      "cell_type": "code",
      "execution_count": null,
      "id": "5408afd4",
      "metadata": {
        "id": "5408afd4"
      },
      "outputs": [],
      "source": [
        "data['SGOT'].fillna(data['SGOT'].median(),inplace=True)"
      ]
    },
    {
      "cell_type": "code",
      "execution_count": null,
      "id": "4ea8f52d",
      "metadata": {
        "colab": {
          "base_uri": "https://localhost:8080/"
        },
        "id": "4ea8f52d",
        "outputId": "06cfa0e6-ab07-4503-cd00-d0bee026eba7"
      },
      "outputs": [
        {
          "output_type": "execute_result",
          "data": {
            "text/plain": [
              "0"
            ]
          },
          "metadata": {},
          "execution_count": 245
        }
      ],
      "source": [
        "data['SGOT'].isna().sum()"
      ]
    },
    {
      "cell_type": "markdown",
      "id": "54da646a",
      "metadata": {
        "id": "54da646a"
      },
      "source": [
        "### SGPT"
      ]
    },
    {
      "cell_type": "code",
      "execution_count": null,
      "id": "16401a62",
      "metadata": {
        "colab": {
          "base_uri": "https://localhost:8080/"
        },
        "id": "16401a62",
        "outputId": "cbc1f4fa-303c-456f-e3ed-63450b06a344"
      },
      "outputs": [
        {
          "output_type": "execute_result",
          "data": {
            "text/plain": [
              "0       12\n",
              "1       11\n",
              "12      56\n",
              "13     135\n",
              "14      27\n",
              "      ... \n",
              "356     59\n",
              "357    519\n",
              "358     58\n",
              "359     16\n",
              "360    279\n",
              "Name: SGPT, Length: 243, dtype: object"
            ]
          },
          "metadata": {},
          "execution_count": 246
        }
      ],
      "source": [
        "data['SGPT']"
      ]
    },
    {
      "cell_type": "code",
      "execution_count": null,
      "id": "8a348ffd",
      "metadata": {
        "colab": {
          "base_uri": "https://localhost:8080/"
        },
        "id": "8a348ffd",
        "outputId": "670bd73c-95e9-4009-90ac-2906a7fce940"
      },
      "outputs": [
        {
          "output_type": "execute_result",
          "data": {
            "text/plain": [
              "14"
            ]
          },
          "metadata": {},
          "execution_count": 247
        }
      ],
      "source": [
        "data['SGPT'].isna().sum()"
      ]
    },
    {
      "cell_type": "code",
      "execution_count": null,
      "id": "0398ab16",
      "metadata": {
        "id": "0398ab16"
      },
      "outputs": [],
      "source": [
        "data['SGPT']=data['SGPT'].apply(rrpr)"
      ]
    },
    {
      "cell_type": "code",
      "execution_count": null,
      "id": "86508781",
      "metadata": {
        "id": "86508781"
      },
      "outputs": [],
      "source": [
        "data['SGPT'].fillna(data['SGPT'].median(),inplace=True)"
      ]
    },
    {
      "cell_type": "code",
      "execution_count": null,
      "id": "4aa37d62",
      "metadata": {
        "colab": {
          "base_uri": "https://localhost:8080/"
        },
        "id": "4aa37d62",
        "outputId": "dc145ddd-e4e8-4def-dae6-c696c5775083"
      },
      "outputs": [
        {
          "output_type": "execute_result",
          "data": {
            "text/plain": [
              "0"
            ]
          },
          "metadata": {},
          "execution_count": 250
        }
      ],
      "source": [
        "data['SGPT'].isna().sum()"
      ]
    },
    {
      "cell_type": "code",
      "execution_count": null,
      "id": "e5875487",
      "metadata": {
        "colab": {
          "base_uri": "https://localhost:8080/"
        },
        "id": "e5875487",
        "outputId": "e4b59ee4-1966-4a6d-dd3a-9a3019bcd947"
      },
      "outputs": [
        {
          "output_type": "execute_result",
          "data": {
            "text/plain": [
              "[0.25,\n",
              " 0.35,\n",
              " 0.55,\n",
              " 0.43,\n",
              " nan,\n",
              " 0.49,\n",
              " 0.29,\n",
              " 0.57,\n",
              " 0.62,\n",
              " 0.2,\n",
              " 0.31,\n",
              " 0.47,\n",
              " 0.38,\n",
              " nan,\n",
              " 0.54,\n",
              " 0.42,\n",
              " 0.28,\n",
              " 0.69,\n",
              " nan,\n",
              " 0.62,\n",
              " 0.58,\n",
              " 0.63,\n",
              " 0.6,\n",
              " nan,\n",
              " nan,\n",
              " 0.36,\n",
              " nan,\n",
              " 0.4,\n",
              " 0.59,\n",
              " nan,\n",
              " nan,\n",
              " 0.25,\n",
              " 0.38,\n",
              " 0.5,\n",
              " nan,\n",
              " 0.41,\n",
              " 0.38,\n",
              " 0.2,\n",
              " nan,\n",
              " 0.14,\n",
              " 0.14,\n",
              " 0.56,\n",
              " 0.37,\n",
              " 0.63,\n",
              " 0.13,\n",
              " 0.2,\n",
              " nan,\n",
              " 0.26,\n",
              " 0.31,\n",
              " 0.46,\n",
              " 0.63,\n",
              " 0.43,\n",
              " 0.47,\n",
              " nan,\n",
              " 0.68,\n",
              " nan,\n",
              " 0.55,\n",
              " 0.51,\n",
              " 0.66,\n",
              " 0.81,\n",
              " 0.85,\n",
              " 0.48,\n",
              " 0.44,\n",
              " nan,\n",
              " 0.55,\n",
              " 1.01,\n",
              " 0.45,\n",
              " 0.43,\n",
              " 0.58,\n",
              " 0.7,\n",
              " 0.61,\n",
              " nan,\n",
              " 0.46,\n",
              " 0.34,\n",
              " 0.57,\n",
              " 0.24,\n",
              " 0.57,\n",
              " 0.6,\n",
              " 0.55,\n",
              " nan,\n",
              " 0.49,\n",
              " 0.19,\n",
              " 0.49,\n",
              " 0.87,\n",
              " nan,\n",
              " 0.83,\n",
              " 0.56,\n",
              " 0.29,\n",
              " 0.3,\n",
              " nan,\n",
              " 0.5,\n",
              " nan,\n",
              " 0.83,\n",
              " 0.6,\n",
              " 0.77,\n",
              " 0.42,\n",
              " 0.63,\n",
              " nan,\n",
              " nan,\n",
              " 0.19,\n",
              " 0.18,\n",
              " 0.95,\n",
              " 0.35,\n",
              " 0.42,\n",
              " nan,\n",
              " 1.29,\n",
              " 0.74,\n",
              " 0.37,\n",
              " 0.52,\n",
              " nan,\n",
              " 0.48,\n",
              " 0.62,\n",
              " 1.02,\n",
              " 0.39,\n",
              " 0.56,\n",
              " 0.89,\n",
              " nan,\n",
              " nan,\n",
              " 0.65,\n",
              " nan,\n",
              " 1.1,\n",
              " 0.7,\n",
              " nan,\n",
              " nan,\n",
              " 0.45,\n",
              " 0.47,\n",
              " 1.07,\n",
              " 1.1,\n",
              " 0.61,\n",
              " 0.37,\n",
              " nan,\n",
              " 0.31,\n",
              " 0.67,\n",
              " 0.2,\n",
              " 0.51,\n",
              " nan,\n",
              " 0.23,\n",
              " 0.43,\n",
              " nan,\n",
              " nan,\n",
              " nan,\n",
              " 0.55,\n",
              " 0.64,\n",
              " 0.26,\n",
              " 0.7,\n",
              " 0.71,\n",
              " nan,\n",
              " 0.36,\n",
              " 0.14,\n",
              " 0.3,\n",
              " 0.41,\n",
              " 0.39,\n",
              " 0.45,\n",
              " 0.41,\n",
              " 0.56,\n",
              " 0.98,\n",
              " 0.89,\n",
              " 0.37,\n",
              " nan,\n",
              " 0.42,\n",
              " 0.51,\n",
              " 0.55,\n",
              " 0.54,\n",
              " 0.23,\n",
              " 0.56,\n",
              " 0.49,\n",
              " 0.56,\n",
              " 0.61,\n",
              " 0.14,\n",
              " nan,\n",
              " 0.18,\n",
              " 0.46,\n",
              " nan,\n",
              " 0.31,\n",
              " 0.43,\n",
              " nan,\n",
              " 0.53,\n",
              " 0.35,\n",
              " nan,\n",
              " 0.43,\n",
              " 0.23,\n",
              " 0.29,\n",
              " nan,\n",
              " 0.38,\n",
              " nan,\n",
              " 0.34,\n",
              " 0.15,\n",
              " 0.44,\n",
              " 0.71,\n",
              " 0.28,\n",
              " 0.77,\n",
              " nan,\n",
              " 0.46,\n",
              " 0.38,\n",
              " nan,\n",
              " nan,\n",
              " 0.57,\n",
              " nan,\n",
              " nan,\n",
              " 0.8,\n",
              " 0.43,\n",
              " 0.94,\n",
              " 0.41,\n",
              " nan,\n",
              " 0.98,\n",
              " 0.61,\n",
              " 0.48,\n",
              " 0.67,\n",
              " 0.33,\n",
              " nan,\n",
              " 0.56,\n",
              " 0.42,\n",
              " nan,\n",
              " nan,\n",
              " 0.96,\n",
              " 0.82,\n",
              " nan,\n",
              " nan,\n",
              " 0.88,\n",
              " 38.0,\n",
              " 17.0,\n",
              " 0.55,\n",
              " nan,\n",
              " 0.55,\n",
              " 0.58,\n",
              " 0.7,\n",
              " 0.53,\n",
              " 0.98,\n",
              " 0.81,\n",
              " nan,\n",
              " 0.81,\n",
              " nan,\n",
              " 0.54,\n",
              " 0.3,\n",
              " 0.44,\n",
              " nan,\n",
              " 0.39,\n",
              " 0.44,\n",
              " nan,\n",
              " 0.62,\n",
              " 0.64,\n",
              " 0.56,\n",
              " 0.62]"
            ]
          },
          "metadata": {},
          "execution_count": 251
        }
      ],
      "source": [
        "list(data['S. creatinine (mg%)'])"
      ]
    },
    {
      "cell_type": "code",
      "execution_count": null,
      "id": "47fab624",
      "metadata": {
        "colab": {
          "base_uri": "https://localhost:8080/"
        },
        "id": "47fab624",
        "outputId": "f59e7b64-f824-4b7e-bb49-fc4a70f7b470"
      },
      "outputs": [
        {
          "output_type": "execute_result",
          "data": {
            "text/plain": [
              "S. creatinine (mg%)\n",
              "0.55     8\n",
              "0.56     8\n",
              "0.43     7\n",
              "0.38     5\n",
              "0.42     5\n",
              "        ..\n",
              "0.13     1\n",
              "0.59     1\n",
              "0.40     1\n",
              "0.69     1\n",
              "17.00    1\n",
              "Name: count, Length: 74, dtype: int64"
            ]
          },
          "metadata": {},
          "execution_count": 252
        }
      ],
      "source": [
        "data['S. creatinine (mg%)'].value_counts()"
      ]
    },
    {
      "cell_type": "code",
      "execution_count": null,
      "id": "5cabc3dd",
      "metadata": {
        "colab": {
          "base_uri": "https://localhost:8080/"
        },
        "id": "5cabc3dd",
        "outputId": "86326ed8-c1a8-487f-b80f-adfc6f41200b"
      },
      "outputs": [
        {
          "output_type": "execute_result",
          "data": {
            "text/plain": [
              "57"
            ]
          },
          "metadata": {},
          "execution_count": 253
        }
      ],
      "source": [
        "data['S. creatinine (mg%)'].isna().sum()"
      ]
    },
    {
      "cell_type": "code",
      "execution_count": null,
      "id": "bdbcb90f",
      "metadata": {
        "id": "bdbcb90f"
      },
      "outputs": [],
      "source": [
        "def floathandle(column):\n",
        "    fh=column\n",
        "    if fh!=float:\n",
        "        return float(fh)"
      ]
    },
    {
      "cell_type": "code",
      "execution_count": null,
      "id": "3c2b2848",
      "metadata": {
        "id": "3c2b2848"
      },
      "outputs": [],
      "source": [
        "data['S. creatinine (mg%)']=data['S. creatinine (mg%)'].apply(floathandle)"
      ]
    },
    {
      "cell_type": "code",
      "execution_count": null,
      "id": "2dc9cf89",
      "metadata": {
        "id": "2dc9cf89"
      },
      "outputs": [],
      "source": [
        "data['S. creatinine (mg%)'].fillna(data['S. creatinine (mg%)'].median(),inplace=True)"
      ]
    },
    {
      "cell_type": "code",
      "execution_count": null,
      "id": "3e2a8a2f",
      "metadata": {
        "colab": {
          "base_uri": "https://localhost:8080/"
        },
        "id": "3e2a8a2f",
        "outputId": "22fe91e6-ded8-463b-8be6-40db9de0b89a"
      },
      "outputs": [
        {
          "output_type": "execute_result",
          "data": {
            "text/plain": [
              "0"
            ]
          },
          "metadata": {},
          "execution_count": 257
        }
      ],
      "source": [
        "data['S. creatinine (mg%)'].isna().sum()"
      ]
    },
    {
      "cell_type": "code",
      "execution_count": null,
      "id": "8169ccb8",
      "metadata": {
        "colab": {
          "base_uri": "https://localhost:8080/"
        },
        "id": "8169ccb8",
        "outputId": "a0b53473-63df-404e-8170-96ddea09654c"
      },
      "outputs": [
        {
          "output_type": "execute_result",
          "data": {
            "text/plain": [
              "0      11.6/36.2\n",
              "1      11.2/35.4\n",
              "12     12.6/39.3\n",
              "13     12.4/38.9\n",
              "14      9.8/30.9\n",
              "         ...    \n",
              "356    13.4/40.6\n",
              "357    11.6/35.6\n",
              "358    12.7/39.4\n",
              "359    11.0/34.2\n",
              "360    15.6/46.1\n",
              "Name: Hb/PCV, Length: 243, dtype: object"
            ]
          },
          "metadata": {},
          "execution_count": 258
        }
      ],
      "source": [
        "data['Hb/PCV']"
      ]
    },
    {
      "cell_type": "markdown",
      "id": "8a7950f2",
      "metadata": {
        "id": "8a7950f2"
      },
      "source": [
        "### Making separate PCV column"
      ]
    },
    {
      "cell_type": "code",
      "execution_count": null,
      "id": "d8ffc6ea",
      "metadata": {
        "id": "d8ffc6ea"
      },
      "outputs": [],
      "source": [
        "l=list(data['Hb/PCV'])"
      ]
    },
    {
      "cell_type": "code",
      "execution_count": null,
      "id": "3f99ab54",
      "metadata": {
        "colab": {
          "base_uri": "https://localhost:8080/"
        },
        "id": "3f99ab54",
        "outputId": "3d2b3344-65e1-4495-9c9d-f17e86dc8fb0"
      },
      "outputs": [
        {
          "output_type": "execute_result",
          "data": {
            "text/plain": [
              "['11.6/36.2',\n",
              " '11.2/35.4',\n",
              " '12.6/39.3',\n",
              " '12.4/38.9',\n",
              " '9.8/30.9',\n",
              " '9.2/30.7',\n",
              " '10.7/33.8',\n",
              " '9.9/31.8',\n",
              " '12.6/38.8',\n",
              " '11/35.1',\n",
              " '11/34.3',\n",
              " '8.9/27.8',\n",
              " '9.8/30.5',\n",
              " '12.9/39.5',\n",
              " '10.8/36.1',\n",
              " '11.9/36.9',\n",
              " '9.4/28.9',\n",
              " '11.5/35.6',\n",
              " '11.7/36.4',\n",
              " '11.2/34.1',\n",
              " '13.1/40.9',\n",
              " '10.7/33.8',\n",
              " '11.8/36.7',\n",
              " '12.5/38.4',\n",
              " '12.2/37.9',\n",
              " '11/34.4',\n",
              " '10/31.6',\n",
              " '11.9/37',\n",
              " '11.9/36.9',\n",
              " '13.1/40.7',\n",
              " '12.8/39.3',\n",
              " '7.6/24.8',\n",
              " '10.3/32.3',\n",
              " '12.5/38.5',\n",
              " '10.2/31.8',\n",
              " '10.9/35',\n",
              " '7.4/25.1',\n",
              " '11.1/34.5',\n",
              " '12.2/38.4',\n",
              " '6.5/20.2',\n",
              " '6.5/20.2',\n",
              " '5.9/20.2',\n",
              " '6.3/20.2',\n",
              " '11.8/35.6',\n",
              " '13.5/41',\n",
              " '9.8/30.5',\n",
              " '11.1/34',\n",
              " '9.5/ 29.8',\n",
              " '12.6/37.5',\n",
              " '15.1/51',\n",
              " '12.9/37.3',\n",
              " '10.7/32.2',\n",
              " '11.7/33.5',\n",
              " '16.6/46.4',\n",
              " '15.4/43.9',\n",
              " '12.3/37.1',\n",
              " '10.4/32.3',\n",
              " '13.7/41',\n",
              " '13.8/40',\n",
              " '12.1/36.4',\n",
              " '16.6/47.3',\n",
              " '12.2/35.9',\n",
              " '9.5/29.9',\n",
              " '12.2/36.9',\n",
              " '10.6/32.3',\n",
              " '13.3/40.2',\n",
              " '10.7/33.2',\n",
              " '8.1/24.5',\n",
              " '14.0/39.8',\n",
              " '11.7/34.1',\n",
              " '16.5/48.3',\n",
              " '15.1/43.6',\n",
              " '13.5/38.7',\n",
              " '13.2/38.2',\n",
              " '11.6/34.8',\n",
              " '6.4/20.6',\n",
              " '11.3/34.2',\n",
              " '13.6/40.5',\n",
              " '11.9/36.3',\n",
              " '11.7/34.2',\n",
              " '9.4/28.4',\n",
              " '8/22.7',\n",
              " '12.7/38',\n",
              " '13.2/39.2',\n",
              " '10.6/32.6',\n",
              " '13.3/38.9',\n",
              " '10.6/31.1',\n",
              " '8.4/26.5',\n",
              " '12.3/36.7',\n",
              " '11.8/35.9',\n",
              " '11/32.9',\n",
              " '10.8/32.8',\n",
              " '12.7/38.1',\n",
              " '13.7/40.8',\n",
              " '15.4/46.8',\n",
              " '10/30.3',\n",
              " '15.2/45.1',\n",
              " '11.4/33.4',\n",
              " '12.9/38.9',\n",
              " '10.3/30.9',\n",
              " '11.8/33.3',\n",
              " '13/38.9',\n",
              " '10.9/33.8',\n",
              " '12.7/38.4',\n",
              " '12/36.3',\n",
              " '13.5/39.5',\n",
              " '12.3/36.7',\n",
              " '10.2/30.6',\n",
              " '13.7/41.7',\n",
              " '10.6/32.1',\n",
              " '10.2/31.4',\n",
              " '13.5/39.3',\n",
              " '16.7/51',\n",
              " '11.4/36.1',\n",
              " '11/33.5',\n",
              " '13.2/39.6',\n",
              " '14/42.3',\n",
              " '13/39',\n",
              " '10.8/32',\n",
              " '12.4/37.1',\n",
              " '16.4/48.6',\n",
              " '9.3/28.1',\n",
              " '39.9',\n",
              " '11.6/34.5',\n",
              " '11.1/33.3',\n",
              " '11.2/33.5',\n",
              " '14.2/42.2',\n",
              " '16.3/49.1',\n",
              " '12.1/36.6',\n",
              " '16.3/45.6',\n",
              " '11/34.0',\n",
              " '11.9/36.5',\n",
              " '12.3/36.6',\n",
              " '9.7/30.8',\n",
              " '12.1/36.2',\n",
              " '7.1/23',\n",
              " '11.4/33.7',\n",
              " '18.2/52.6',\n",
              " nan,\n",
              " '10.1/29.8',\n",
              " '8.6/26.2',\n",
              " '12.6/38',\n",
              " '14.8/44.2',\n",
              " '10.7/33.1',\n",
              " '16.5/48.5',\n",
              " '15/45.5',\n",
              " '11.4/33.6',\n",
              " '12.5/37.4',\n",
              " '10.4/29.7',\n",
              " '10.4/31.8',\n",
              " '11.7/35',\n",
              " '10.8/32.4',\n",
              " '14.1/42.4',\n",
              " '17.2/50.1',\n",
              " '8.5/28.6',\n",
              " '13.2/41.5',\n",
              " '15.5/45.1',\n",
              " '9.1/28.6',\n",
              " '8.7/28.6',\n",
              " '10.6/31.8',\n",
              " '11.3/33',\n",
              " '15.3/44.9',\n",
              " '12.8/39.6',\n",
              " '11.1/32.7',\n",
              " '12.3/38.2',\n",
              " '8.5/25.6',\n",
              " '13.5/41.1',\n",
              " '13.3/38.6',\n",
              " '10/30.5',\n",
              " '10.6/31.5',\n",
              " '8.2/27.2',\n",
              " '10.6/32',\n",
              " '13.1/40.1',\n",
              " '10.7/34.1',\n",
              " '14.3/42.6',\n",
              " '40.4',\n",
              " '9.4/29.4',\n",
              " '9.4/29.2',\n",
              " '11.2/33.5',\n",
              " '11.1/34.9',\n",
              " '5.4/17.7',\n",
              " '11.9/37',\n",
              " '10.5/32.2',\n",
              " '13.9/41.8',\n",
              " '10.9/33.5',\n",
              " '36.5',\n",
              " '8.6/26.1',\n",
              " '10/30.9',\n",
              " '14.3/41.9',\n",
              " '9.1/26.4',\n",
              " '13.4/39.8',\n",
              " '11.3/34.7',\n",
              " '13.4/40.6',\n",
              " '10.7/32.9',\n",
              " '12.7/38.3',\n",
              " '11.9/36.2',\n",
              " '11.2/33.5',\n",
              " '11.6/34.5',\n",
              " '10.2/31.6',\n",
              " '12.3/37.1',\n",
              " '11.2/34.9',\n",
              " '17.2/50.8',\n",
              " '8.7/26.8',\n",
              " nan,\n",
              " '6.8',\n",
              " '11.1/32.7',\n",
              " '10.5/33.4',\n",
              " '14.3/43.5',\n",
              " '13.9/40.2',\n",
              " '12.1/35.7',\n",
              " '12.6/37.3',\n",
              " '14.6/44.0',\n",
              " '12.8/36.3',\n",
              " '14.2/40.8',\n",
              " '16.6/48.6',\n",
              " '16.4/48.6',\n",
              " nan,\n",
              " nan,\n",
              " nan,\n",
              " '10.2/32',\n",
              " '11.8/35.3',\n",
              " '12.8/37.7',\n",
              " '12.2/36.5',\n",
              " '10.4/31.8',\n",
              " '13.2/39.9',\n",
              " '12.9/39.5',\n",
              " '11.9/35.2',\n",
              " '14.6/44.6',\n",
              " '10.8/33.3',\n",
              " '12.4/37.4',\n",
              " '13.5/40.9',\n",
              " '13.1/39.4',\n",
              " '12.2/37.5',\n",
              " '14.6/42.6',\n",
              " '11.6/34.7',\n",
              " '00/38.7',\n",
              " '10.8/32.8',\n",
              " '13.4/40.6',\n",
              " '13.4/40.6',\n",
              " '11.6/35.6',\n",
              " '12.7/39.4',\n",
              " '11.0/34.2',\n",
              " '15.6/46.1']"
            ]
          },
          "metadata": {},
          "execution_count": 260
        }
      ],
      "source": [
        "l"
      ]
    },
    {
      "cell_type": "code",
      "execution_count": null,
      "id": "fc162d98",
      "metadata": {
        "colab": {
          "base_uri": "https://localhost:8080/"
        },
        "id": "fc162d98",
        "outputId": "0f1f2037-d74e-452d-8e9b-d98ffd357da4"
      },
      "outputs": [
        {
          "output_type": "execute_result",
          "data": {
            "text/plain": [
              "[36.2,\n",
              " 35.4,\n",
              " 39.3,\n",
              " 38.9,\n",
              " 30.9,\n",
              " 30.7,\n",
              " 33.8,\n",
              " 31.8,\n",
              " 38.8,\n",
              " 35.1,\n",
              " 34.3,\n",
              " 27.8,\n",
              " 30.5,\n",
              " 39.5,\n",
              " 36.1,\n",
              " 36.9,\n",
              " 28.9,\n",
              " 35.6,\n",
              " 36.4,\n",
              " 34.1,\n",
              " 40.9,\n",
              " 33.8,\n",
              " 36.7,\n",
              " 38.4,\n",
              " 37.9,\n",
              " 34.4,\n",
              " 31.6,\n",
              " 37.0,\n",
              " 36.9,\n",
              " 40.7,\n",
              " 39.3,\n",
              " 24.8,\n",
              " 32.3,\n",
              " 38.5,\n",
              " 31.8,\n",
              " 35.0,\n",
              " 25.1,\n",
              " 34.5,\n",
              " 38.4,\n",
              " 20.2,\n",
              " 20.2,\n",
              " 20.2,\n",
              " 20.2,\n",
              " 35.6,\n",
              " 41.0,\n",
              " 30.5,\n",
              " 34.0,\n",
              " 29.8,\n",
              " 37.5,\n",
              " 51.0,\n",
              " 37.3,\n",
              " 32.2,\n",
              " 33.5,\n",
              " 46.4,\n",
              " 43.9,\n",
              " 37.1,\n",
              " 32.3,\n",
              " 41.0,\n",
              " 40.0,\n",
              " 36.4,\n",
              " 47.3,\n",
              " 35.9,\n",
              " 29.9,\n",
              " 36.9,\n",
              " 32.3,\n",
              " 40.2,\n",
              " 33.2,\n",
              " 24.5,\n",
              " 39.8,\n",
              " 34.1,\n",
              " 48.3,\n",
              " 43.6,\n",
              " 38.7,\n",
              " 38.2,\n",
              " 34.8,\n",
              " 20.6,\n",
              " 34.2,\n",
              " 40.5,\n",
              " 36.3,\n",
              " 34.2,\n",
              " 28.4,\n",
              " 22.7,\n",
              " 38.0,\n",
              " 39.2,\n",
              " 32.6,\n",
              " 38.9,\n",
              " 31.1,\n",
              " 26.5,\n",
              " 36.7,\n",
              " 35.9,\n",
              " 32.9,\n",
              " 32.8,\n",
              " 38.1,\n",
              " 40.8,\n",
              " 46.8,\n",
              " 30.3,\n",
              " 45.1,\n",
              " 33.4,\n",
              " 38.9,\n",
              " 30.9,\n",
              " 33.3,\n",
              " 38.9,\n",
              " 33.8,\n",
              " 38.4,\n",
              " 36.3,\n",
              " 39.5,\n",
              " 36.7,\n",
              " 30.6,\n",
              " 41.7,\n",
              " 32.1,\n",
              " 31.4,\n",
              " 39.3,\n",
              " 51.0,\n",
              " 36.1,\n",
              " 33.5,\n",
              " 39.6,\n",
              " 42.3,\n",
              " 39.0,\n",
              " 32.0,\n",
              " 37.1,\n",
              " 48.6,\n",
              " 28.1,\n",
              " None,\n",
              " 34.5,\n",
              " 33.3,\n",
              " 33.5,\n",
              " 42.2,\n",
              " 49.1,\n",
              " 36.6,\n",
              " 45.6,\n",
              " 34.0,\n",
              " 36.5,\n",
              " 36.6,\n",
              " 30.8,\n",
              " 36.2,\n",
              " 23.0,\n",
              " 33.7,\n",
              " 52.6,\n",
              " None,\n",
              " 29.8,\n",
              " 26.2,\n",
              " 38.0,\n",
              " 44.2,\n",
              " 33.1,\n",
              " 48.5,\n",
              " 45.5,\n",
              " 33.6,\n",
              " 37.4,\n",
              " 29.7,\n",
              " 31.8,\n",
              " 35.0,\n",
              " 32.4,\n",
              " 42.4,\n",
              " 50.1,\n",
              " 28.6,\n",
              " 41.5,\n",
              " 45.1,\n",
              " 28.6,\n",
              " 28.6,\n",
              " 31.8,\n",
              " 33.0,\n",
              " 44.9,\n",
              " 39.6,\n",
              " 32.7,\n",
              " 38.2,\n",
              " 25.6,\n",
              " 41.1,\n",
              " 38.6,\n",
              " 30.5,\n",
              " 31.5,\n",
              " 27.2,\n",
              " 32.0,\n",
              " 40.1,\n",
              " 34.1,\n",
              " 42.6,\n",
              " None,\n",
              " 29.4,\n",
              " 29.2,\n",
              " 33.5,\n",
              " 34.9,\n",
              " 17.7,\n",
              " 37.0,\n",
              " 32.2,\n",
              " 41.8,\n",
              " 33.5,\n",
              " None,\n",
              " 26.1,\n",
              " 30.9,\n",
              " 41.9,\n",
              " 26.4,\n",
              " 39.8,\n",
              " 34.7,\n",
              " 40.6,\n",
              " 32.9,\n",
              " 38.3,\n",
              " 36.2,\n",
              " 33.5,\n",
              " 34.5,\n",
              " 31.6,\n",
              " 37.1,\n",
              " 34.9,\n",
              " 50.8,\n",
              " 26.8,\n",
              " None,\n",
              " None,\n",
              " 32.7,\n",
              " 33.4,\n",
              " 43.5,\n",
              " 40.2,\n",
              " 35.7,\n",
              " 37.3,\n",
              " 44.0,\n",
              " 36.3,\n",
              " 40.8,\n",
              " 48.6,\n",
              " 48.6,\n",
              " None,\n",
              " None,\n",
              " None,\n",
              " 32.0,\n",
              " 35.3,\n",
              " 37.7,\n",
              " 36.5,\n",
              " 31.8,\n",
              " 39.9,\n",
              " 39.5,\n",
              " 35.2,\n",
              " 44.6,\n",
              " 33.3,\n",
              " 37.4,\n",
              " 40.9,\n",
              " 39.4,\n",
              " 37.5,\n",
              " 42.6,\n",
              " 34.7,\n",
              " 38.7,\n",
              " 32.8,\n",
              " 40.6,\n",
              " 40.6,\n",
              " 35.6,\n",
              " 39.4,\n",
              " 34.2,\n",
              " 46.1]"
            ]
          },
          "metadata": {},
          "execution_count": 261
        }
      ],
      "source": [
        "pcv=[]\n",
        "for i in l:\n",
        "    if type(i)!=float and '/' in i:\n",
        "\n",
        "        pcv.append(float(i.split('/')[1]))\n",
        "    else:\n",
        "        pcv.append(None)\n",
        "pcv"
      ]
    },
    {
      "cell_type": "code",
      "execution_count": null,
      "id": "3d0a6f50",
      "metadata": {
        "id": "3d0a6f50"
      },
      "outputs": [],
      "source": [
        "def hbpcv(column):\n",
        "    hp=column\n",
        "    if type(hp)!=float and '/' in hp:\n",
        "        return hp.split('/')[0]\n",
        "    elif type(hp)!=float and '/' not in hp:\n",
        "        return hp\n",
        "    else:\n",
        "        return None"
      ]
    },
    {
      "cell_type": "code",
      "execution_count": null,
      "id": "4c26fbac",
      "metadata": {
        "id": "4c26fbac"
      },
      "outputs": [],
      "source": [
        "data['Hb/PCV']=data['Hb/PCV'].apply(hbpcv)"
      ]
    },
    {
      "cell_type": "code",
      "execution_count": null,
      "id": "65da6374",
      "metadata": {
        "id": "65da6374"
      },
      "outputs": [],
      "source": [
        "data.rename(columns={\"Hb/PCV\": \"Hb\"},inplace=True)"
      ]
    },
    {
      "cell_type": "code",
      "execution_count": null,
      "id": "26a33dff",
      "metadata": {
        "colab": {
          "base_uri": "https://localhost:8080/"
        },
        "id": "26a33dff",
        "outputId": "825c8400-ad29-434d-ca5d-d670028046ee"
      },
      "outputs": [
        {
          "output_type": "execute_result",
          "data": {
            "text/plain": [
              "0      11.6\n",
              "1      11.2\n",
              "12     12.6\n",
              "13     12.4\n",
              "14      9.8\n",
              "       ... \n",
              "356    13.4\n",
              "357    11.6\n",
              "358    12.7\n",
              "359    11.0\n",
              "360    15.6\n",
              "Name: Hb, Length: 243, dtype: object"
            ]
          },
          "metadata": {},
          "execution_count": 265
        }
      ],
      "source": [
        "data['Hb']"
      ]
    },
    {
      "cell_type": "code",
      "execution_count": null,
      "id": "6b7a2a1f",
      "metadata": {
        "colab": {
          "base_uri": "https://localhost:8080/"
        },
        "id": "6b7a2a1f",
        "outputId": "6622d936-e0c5-4fd5-885b-067bd942388a"
      },
      "outputs": [
        {
          "output_type": "execute_result",
          "data": {
            "text/plain": [
              "5"
            ]
          },
          "metadata": {},
          "execution_count": 266
        }
      ],
      "source": [
        "data['Hb'].isna().sum()"
      ]
    },
    {
      "cell_type": "markdown",
      "id": "bb93be76",
      "metadata": {
        "id": "bb93be76"
      },
      "source": [
        "### String to Float"
      ]
    },
    {
      "cell_type": "code",
      "execution_count": null,
      "id": "979ccc06",
      "metadata": {
        "id": "979ccc06"
      },
      "outputs": [],
      "source": [
        "def hb(column):\n",
        "    t=column\n",
        "    try:\n",
        "        float(t)\n",
        "        return float(t)\n",
        "    except TypeError:\n",
        "        return None\n",
        "    return None"
      ]
    },
    {
      "cell_type": "code",
      "execution_count": null,
      "id": "55362150",
      "metadata": {
        "id": "55362150"
      },
      "outputs": [],
      "source": [
        "data['Hb']=data['Hb'].apply(hb)"
      ]
    },
    {
      "cell_type": "code",
      "execution_count": null,
      "id": "b17fcbd3",
      "metadata": {
        "colab": {
          "base_uri": "https://localhost:8080/"
        },
        "id": "b17fcbd3",
        "outputId": "b79ac128-5fd6-4689-e345-73b53e42197b"
      },
      "outputs": [
        {
          "output_type": "execute_result",
          "data": {
            "text/plain": [
              "5"
            ]
          },
          "metadata": {},
          "execution_count": 269
        }
      ],
      "source": [
        "data['Hb'].isna().sum()"
      ]
    },
    {
      "cell_type": "code",
      "execution_count": null,
      "id": "8c2b4598",
      "metadata": {
        "id": "8c2b4598"
      },
      "outputs": [],
      "source": [
        "data['Hb'].fillna(data['Hb'].median(),inplace=True)"
      ]
    },
    {
      "cell_type": "code",
      "execution_count": null,
      "id": "482591a3",
      "metadata": {
        "colab": {
          "base_uri": "https://localhost:8080/"
        },
        "id": "482591a3",
        "outputId": "02b653ca-6037-417e-b13c-a8cf6977602f"
      },
      "outputs": [
        {
          "output_type": "execute_result",
          "data": {
            "text/plain": [
              "0"
            ]
          },
          "metadata": {},
          "execution_count": 271
        }
      ],
      "source": [
        "data['Hb'].isna().sum()"
      ]
    },
    {
      "cell_type": "code",
      "execution_count": null,
      "id": "97d7e607",
      "metadata": {
        "colab": {
          "base_uri": "https://localhost:8080/"
        },
        "id": "97d7e607",
        "outputId": "5b826d1a-97d3-4f04-e92c-228d38b315d9"
      },
      "outputs": [
        {
          "output_type": "execute_result",
          "data": {
            "text/plain": [
              "36"
            ]
          },
          "metadata": {},
          "execution_count": 272
        }
      ],
      "source": [
        "list(data.columns).index('Hb')"
      ]
    },
    {
      "cell_type": "code",
      "execution_count": null,
      "id": "079ef7ab",
      "metadata": {
        "id": "079ef7ab"
      },
      "outputs": [],
      "source": [
        "data.insert(37, \"PCV\", pcv)"
      ]
    },
    {
      "cell_type": "code",
      "execution_count": null,
      "id": "76e2dcc4",
      "metadata": {
        "colab": {
          "base_uri": "https://localhost:8080/"
        },
        "id": "76e2dcc4",
        "outputId": "74f1c2de-b2f6-453b-b79a-4ac7f879952b"
      },
      "outputs": [
        {
          "output_type": "execute_result",
          "data": {
            "text/plain": [
              "9"
            ]
          },
          "metadata": {},
          "execution_count": 274
        }
      ],
      "source": [
        "data['PCV'].isna().sum()"
      ]
    },
    {
      "cell_type": "code",
      "execution_count": null,
      "id": "32c48dd8",
      "metadata": {
        "id": "32c48dd8"
      },
      "outputs": [],
      "source": [
        "data['PCV'].fillna(data['PCV'].median(),inplace=True)"
      ]
    },
    {
      "cell_type": "code",
      "execution_count": null,
      "id": "10451ad6",
      "metadata": {
        "colab": {
          "base_uri": "https://localhost:8080/"
        },
        "id": "10451ad6",
        "outputId": "b2d5e9da-6fe5-48de-b3aa-20854b189d33"
      },
      "outputs": [
        {
          "output_type": "execute_result",
          "data": {
            "text/plain": [
              "0"
            ]
          },
          "metadata": {},
          "execution_count": 276
        }
      ],
      "source": [
        "data['PCV'].isna().sum()"
      ]
    },
    {
      "cell_type": "code",
      "execution_count": null,
      "id": "720a4c10",
      "metadata": {
        "id": "720a4c10"
      },
      "outputs": [],
      "source": [
        "def yt(column):\n",
        "    i = column\n",
        "    if i==2:\n",
        "        return int(i-1)\n",
        "    elif i in [4,5,6]:\n",
        "        return int(i-2)\n",
        "    elif i in [8,9,10,11,12,13,14,15,16]:\n",
        "        return int(i-3)\n",
        "    elif i in [18,19,20]:\n",
        "        return int(i-4)\n",
        "    else:\n",
        "        return i"
      ]
    },
    {
      "cell_type": "code",
      "source": [
        "df = data[data['Months'] <= 216]\n"
      ],
      "metadata": {
        "id": "Y6CqaPx751py"
      },
      "id": "Y6CqaPx751py",
      "execution_count": null,
      "outputs": []
    },
    {
      "cell_type": "code",
      "source": [
        "df['Months'].value_counts()"
      ],
      "metadata": {
        "colab": {
          "base_uri": "https://localhost:8080/"
        },
        "id": "whsntogn6AhW",
        "outputId": "c8f31ea2-6dd7-418a-9694-a329e22c52b5"
      },
      "id": "whsntogn6AhW",
      "execution_count": null,
      "outputs": [
        {
          "output_type": "execute_result",
          "data": {
            "text/plain": [
              "Months\n",
              "60     8\n",
              "59     5\n",
              "120    5\n",
              "24     4\n",
              "40     4\n",
              "      ..\n",
              "97     1\n",
              "190    1\n",
              "171    1\n",
              "35     1\n",
              "87     1\n",
              "Name: count, Length: 126, dtype: int64"
            ]
          },
          "metadata": {},
          "execution_count": 279
        }
      ]
    },
    {
      "cell_type": "markdown",
      "id": "0ea003b5",
      "metadata": {
        "id": "0ea003b5"
      },
      "source": [
        "# Final Data"
      ]
    },
    {
      "cell_type": "code",
      "execution_count": null,
      "id": "90d1ee76",
      "metadata": {
        "colab": {
          "base_uri": "https://localhost:8080/",
          "height": 307
        },
        "id": "90d1ee76",
        "outputId": "2b2607a7-7bdd-4637-827e-9b58ad899c04"
      },
      "outputs": [
        {
          "output_type": "execute_result",
          "data": {
            "text/plain": [
              "    Months  Sex     DOA  Fever (P/A)  Duration of fever (days)  \\\n",
              "0       24    1  190622            1                       3.0   \n",
              "1       59    0  210622            1                       4.0   \n",
              "12     108    0  270622            1                       7.0   \n",
              "13      99    1  270622            1                       5.0   \n",
              "14      65    1  290622            1                      12.0   \n",
              "\n",
              "    Headache (P/A)  Duration of headache  Myalgia (P/A)  Duration of myalgia  \\\n",
              "0                0                   2.0              0                  2.0   \n",
              "1                0                   2.0              0                  2.0   \n",
              "12               0                   2.0              0                  2.0   \n",
              "13               0                   2.0              0                  2.0   \n",
              "14               0                   2.0              0                  2.0   \n",
              "\n",
              "    Cough (P/A)  ...  Malarial parasites (Done/Not done)  Malaria report  \\\n",
              "0             0  ...                                   0              -1   \n",
              "1             0  ...                                   0              -1   \n",
              "12            0  ...                                   0              -1   \n",
              "13            0  ...                                   0              -1   \n",
              "14            0  ...                                   0              -1   \n",
              "\n",
              "    ELISA for leptospirosis (Done/Not done)  Lepto report  \\\n",
              "0                                         0            -1   \n",
              "1                                         0            -1   \n",
              "12                                        0            -1   \n",
              "13                                        0            -1   \n",
              "14                                        0            -1   \n",
              "\n",
              "    CXR (Done/Not done)  Xray report  USG Abdomen (Done/Not done)  \\\n",
              "0                     0           -1                            1   \n",
              "1                     1            0                            1   \n",
              "12                    0           -1                            1   \n",
              "13                    0           -1                            1   \n",
              "14                    0           -1                            0   \n",
              "\n",
              "    USG Abd report  Final Diagnosis  AUF Result  \n",
              "0              0.0               81           6  \n",
              "1           5955.0               81          14  \n",
              "12             0.0               83           6  \n",
              "13          2454.0               51           6  \n",
              "14              -1               81           6  \n",
              "\n",
              "[5 rows x 69 columns]"
            ],
            "text/html": [
              "\n",
              "  <div id=\"df-a02e1c89-6ea1-4262-884b-01da6731ba77\" class=\"colab-df-container\">\n",
              "    <div>\n",
              "<style scoped>\n",
              "    .dataframe tbody tr th:only-of-type {\n",
              "        vertical-align: middle;\n",
              "    }\n",
              "\n",
              "    .dataframe tbody tr th {\n",
              "        vertical-align: top;\n",
              "    }\n",
              "\n",
              "    .dataframe thead th {\n",
              "        text-align: right;\n",
              "    }\n",
              "</style>\n",
              "<table border=\"1\" class=\"dataframe\">\n",
              "  <thead>\n",
              "    <tr style=\"text-align: right;\">\n",
              "      <th></th>\n",
              "      <th>Months</th>\n",
              "      <th>Sex</th>\n",
              "      <th>DOA</th>\n",
              "      <th>Fever (P/A)</th>\n",
              "      <th>Duration of fever (days)</th>\n",
              "      <th>Headache (P/A)</th>\n",
              "      <th>Duration of headache</th>\n",
              "      <th>Myalgia (P/A)</th>\n",
              "      <th>Duration of myalgia</th>\n",
              "      <th>Cough (P/A)</th>\n",
              "      <th>...</th>\n",
              "      <th>Malarial parasites (Done/Not done)</th>\n",
              "      <th>Malaria report</th>\n",
              "      <th>ELISA for leptospirosis (Done/Not done)</th>\n",
              "      <th>Lepto report</th>\n",
              "      <th>CXR (Done/Not done)</th>\n",
              "      <th>Xray report</th>\n",
              "      <th>USG Abdomen (Done/Not done)</th>\n",
              "      <th>USG Abd report</th>\n",
              "      <th>Final Diagnosis</th>\n",
              "      <th>AUF Result</th>\n",
              "    </tr>\n",
              "  </thead>\n",
              "  <tbody>\n",
              "    <tr>\n",
              "      <th>0</th>\n",
              "      <td>24</td>\n",
              "      <td>1</td>\n",
              "      <td>190622</td>\n",
              "      <td>1</td>\n",
              "      <td>3.0</td>\n",
              "      <td>0</td>\n",
              "      <td>2.0</td>\n",
              "      <td>0</td>\n",
              "      <td>2.0</td>\n",
              "      <td>0</td>\n",
              "      <td>...</td>\n",
              "      <td>0</td>\n",
              "      <td>-1</td>\n",
              "      <td>0</td>\n",
              "      <td>-1</td>\n",
              "      <td>0</td>\n",
              "      <td>-1</td>\n",
              "      <td>1</td>\n",
              "      <td>0.0</td>\n",
              "      <td>81</td>\n",
              "      <td>6</td>\n",
              "    </tr>\n",
              "    <tr>\n",
              "      <th>1</th>\n",
              "      <td>59</td>\n",
              "      <td>0</td>\n",
              "      <td>210622</td>\n",
              "      <td>1</td>\n",
              "      <td>4.0</td>\n",
              "      <td>0</td>\n",
              "      <td>2.0</td>\n",
              "      <td>0</td>\n",
              "      <td>2.0</td>\n",
              "      <td>0</td>\n",
              "      <td>...</td>\n",
              "      <td>0</td>\n",
              "      <td>-1</td>\n",
              "      <td>0</td>\n",
              "      <td>-1</td>\n",
              "      <td>1</td>\n",
              "      <td>0</td>\n",
              "      <td>1</td>\n",
              "      <td>5955.0</td>\n",
              "      <td>81</td>\n",
              "      <td>14</td>\n",
              "    </tr>\n",
              "    <tr>\n",
              "      <th>12</th>\n",
              "      <td>108</td>\n",
              "      <td>0</td>\n",
              "      <td>270622</td>\n",
              "      <td>1</td>\n",
              "      <td>7.0</td>\n",
              "      <td>0</td>\n",
              "      <td>2.0</td>\n",
              "      <td>0</td>\n",
              "      <td>2.0</td>\n",
              "      <td>0</td>\n",
              "      <td>...</td>\n",
              "      <td>0</td>\n",
              "      <td>-1</td>\n",
              "      <td>0</td>\n",
              "      <td>-1</td>\n",
              "      <td>0</td>\n",
              "      <td>-1</td>\n",
              "      <td>1</td>\n",
              "      <td>0.0</td>\n",
              "      <td>83</td>\n",
              "      <td>6</td>\n",
              "    </tr>\n",
              "    <tr>\n",
              "      <th>13</th>\n",
              "      <td>99</td>\n",
              "      <td>1</td>\n",
              "      <td>270622</td>\n",
              "      <td>1</td>\n",
              "      <td>5.0</td>\n",
              "      <td>0</td>\n",
              "      <td>2.0</td>\n",
              "      <td>0</td>\n",
              "      <td>2.0</td>\n",
              "      <td>0</td>\n",
              "      <td>...</td>\n",
              "      <td>0</td>\n",
              "      <td>-1</td>\n",
              "      <td>0</td>\n",
              "      <td>-1</td>\n",
              "      <td>0</td>\n",
              "      <td>-1</td>\n",
              "      <td>1</td>\n",
              "      <td>2454.0</td>\n",
              "      <td>51</td>\n",
              "      <td>6</td>\n",
              "    </tr>\n",
              "    <tr>\n",
              "      <th>14</th>\n",
              "      <td>65</td>\n",
              "      <td>1</td>\n",
              "      <td>290622</td>\n",
              "      <td>1</td>\n",
              "      <td>12.0</td>\n",
              "      <td>0</td>\n",
              "      <td>2.0</td>\n",
              "      <td>0</td>\n",
              "      <td>2.0</td>\n",
              "      <td>0</td>\n",
              "      <td>...</td>\n",
              "      <td>0</td>\n",
              "      <td>-1</td>\n",
              "      <td>0</td>\n",
              "      <td>-1</td>\n",
              "      <td>0</td>\n",
              "      <td>-1</td>\n",
              "      <td>0</td>\n",
              "      <td>-1</td>\n",
              "      <td>81</td>\n",
              "      <td>6</td>\n",
              "    </tr>\n",
              "  </tbody>\n",
              "</table>\n",
              "<p>5 rows × 69 columns</p>\n",
              "</div>\n",
              "    <div class=\"colab-df-buttons\">\n",
              "\n",
              "  <div class=\"colab-df-container\">\n",
              "    <button class=\"colab-df-convert\" onclick=\"convertToInteractive('df-a02e1c89-6ea1-4262-884b-01da6731ba77')\"\n",
              "            title=\"Convert this dataframe to an interactive table.\"\n",
              "            style=\"display:none;\">\n",
              "\n",
              "  <svg xmlns=\"http://www.w3.org/2000/svg\" height=\"24px\" viewBox=\"0 -960 960 960\">\n",
              "    <path d=\"M120-120v-720h720v720H120Zm60-500h600v-160H180v160Zm220 220h160v-160H400v160Zm0 220h160v-160H400v160ZM180-400h160v-160H180v160Zm440 0h160v-160H620v160ZM180-180h160v-160H180v160Zm440 0h160v-160H620v160Z\"/>\n",
              "  </svg>\n",
              "    </button>\n",
              "\n",
              "  <style>\n",
              "    .colab-df-container {\n",
              "      display:flex;\n",
              "      gap: 12px;\n",
              "    }\n",
              "\n",
              "    .colab-df-convert {\n",
              "      background-color: #E8F0FE;\n",
              "      border: none;\n",
              "      border-radius: 50%;\n",
              "      cursor: pointer;\n",
              "      display: none;\n",
              "      fill: #1967D2;\n",
              "      height: 32px;\n",
              "      padding: 0 0 0 0;\n",
              "      width: 32px;\n",
              "    }\n",
              "\n",
              "    .colab-df-convert:hover {\n",
              "      background-color: #E2EBFA;\n",
              "      box-shadow: 0px 1px 2px rgba(60, 64, 67, 0.3), 0px 1px 3px 1px rgba(60, 64, 67, 0.15);\n",
              "      fill: #174EA6;\n",
              "    }\n",
              "\n",
              "    .colab-df-buttons div {\n",
              "      margin-bottom: 4px;\n",
              "    }\n",
              "\n",
              "    [theme=dark] .colab-df-convert {\n",
              "      background-color: #3B4455;\n",
              "      fill: #D2E3FC;\n",
              "    }\n",
              "\n",
              "    [theme=dark] .colab-df-convert:hover {\n",
              "      background-color: #434B5C;\n",
              "      box-shadow: 0px 1px 3px 1px rgba(0, 0, 0, 0.15);\n",
              "      filter: drop-shadow(0px 1px 2px rgba(0, 0, 0, 0.3));\n",
              "      fill: #FFFFFF;\n",
              "    }\n",
              "  </style>\n",
              "\n",
              "    <script>\n",
              "      const buttonEl =\n",
              "        document.querySelector('#df-a02e1c89-6ea1-4262-884b-01da6731ba77 button.colab-df-convert');\n",
              "      buttonEl.style.display =\n",
              "        google.colab.kernel.accessAllowed ? 'block' : 'none';\n",
              "\n",
              "      async function convertToInteractive(key) {\n",
              "        const element = document.querySelector('#df-a02e1c89-6ea1-4262-884b-01da6731ba77');\n",
              "        const dataTable =\n",
              "          await google.colab.kernel.invokeFunction('convertToInteractive',\n",
              "                                                    [key], {});\n",
              "        if (!dataTable) return;\n",
              "\n",
              "        const docLinkHtml = 'Like what you see? Visit the ' +\n",
              "          '<a target=\"_blank\" href=https://colab.research.google.com/notebooks/data_table.ipynb>data table notebook</a>'\n",
              "          + ' to learn more about interactive tables.';\n",
              "        element.innerHTML = '';\n",
              "        dataTable['output_type'] = 'display_data';\n",
              "        await google.colab.output.renderOutput(dataTable, element);\n",
              "        const docLink = document.createElement('div');\n",
              "        docLink.innerHTML = docLinkHtml;\n",
              "        element.appendChild(docLink);\n",
              "      }\n",
              "    </script>\n",
              "  </div>\n",
              "\n",
              "\n",
              "<div id=\"df-43b74173-d36f-4cde-bb2c-ce151d966561\">\n",
              "  <button class=\"colab-df-quickchart\" onclick=\"quickchart('df-43b74173-d36f-4cde-bb2c-ce151d966561')\"\n",
              "            title=\"Suggest charts\"\n",
              "            style=\"display:none;\">\n",
              "\n",
              "<svg xmlns=\"http://www.w3.org/2000/svg\" height=\"24px\"viewBox=\"0 0 24 24\"\n",
              "     width=\"24px\">\n",
              "    <g>\n",
              "        <path d=\"M19 3H5c-1.1 0-2 .9-2 2v14c0 1.1.9 2 2 2h14c1.1 0 2-.9 2-2V5c0-1.1-.9-2-2-2zM9 17H7v-7h2v7zm4 0h-2V7h2v10zm4 0h-2v-4h2v4z\"/>\n",
              "    </g>\n",
              "</svg>\n",
              "  </button>\n",
              "\n",
              "<style>\n",
              "  .colab-df-quickchart {\n",
              "      --bg-color: #E8F0FE;\n",
              "      --fill-color: #1967D2;\n",
              "      --hover-bg-color: #E2EBFA;\n",
              "      --hover-fill-color: #174EA6;\n",
              "      --disabled-fill-color: #AAA;\n",
              "      --disabled-bg-color: #DDD;\n",
              "  }\n",
              "\n",
              "  [theme=dark] .colab-df-quickchart {\n",
              "      --bg-color: #3B4455;\n",
              "      --fill-color: #D2E3FC;\n",
              "      --hover-bg-color: #434B5C;\n",
              "      --hover-fill-color: #FFFFFF;\n",
              "      --disabled-bg-color: #3B4455;\n",
              "      --disabled-fill-color: #666;\n",
              "  }\n",
              "\n",
              "  .colab-df-quickchart {\n",
              "    background-color: var(--bg-color);\n",
              "    border: none;\n",
              "    border-radius: 50%;\n",
              "    cursor: pointer;\n",
              "    display: none;\n",
              "    fill: var(--fill-color);\n",
              "    height: 32px;\n",
              "    padding: 0;\n",
              "    width: 32px;\n",
              "  }\n",
              "\n",
              "  .colab-df-quickchart:hover {\n",
              "    background-color: var(--hover-bg-color);\n",
              "    box-shadow: 0 1px 2px rgba(60, 64, 67, 0.3), 0 1px 3px 1px rgba(60, 64, 67, 0.15);\n",
              "    fill: var(--button-hover-fill-color);\n",
              "  }\n",
              "\n",
              "  .colab-df-quickchart-complete:disabled,\n",
              "  .colab-df-quickchart-complete:disabled:hover {\n",
              "    background-color: var(--disabled-bg-color);\n",
              "    fill: var(--disabled-fill-color);\n",
              "    box-shadow: none;\n",
              "  }\n",
              "\n",
              "  .colab-df-spinner {\n",
              "    border: 2px solid var(--fill-color);\n",
              "    border-color: transparent;\n",
              "    border-bottom-color: var(--fill-color);\n",
              "    animation:\n",
              "      spin 1s steps(1) infinite;\n",
              "  }\n",
              "\n",
              "  @keyframes spin {\n",
              "    0% {\n",
              "      border-color: transparent;\n",
              "      border-bottom-color: var(--fill-color);\n",
              "      border-left-color: var(--fill-color);\n",
              "    }\n",
              "    20% {\n",
              "      border-color: transparent;\n",
              "      border-left-color: var(--fill-color);\n",
              "      border-top-color: var(--fill-color);\n",
              "    }\n",
              "    30% {\n",
              "      border-color: transparent;\n",
              "      border-left-color: var(--fill-color);\n",
              "      border-top-color: var(--fill-color);\n",
              "      border-right-color: var(--fill-color);\n",
              "    }\n",
              "    40% {\n",
              "      border-color: transparent;\n",
              "      border-right-color: var(--fill-color);\n",
              "      border-top-color: var(--fill-color);\n",
              "    }\n",
              "    60% {\n",
              "      border-color: transparent;\n",
              "      border-right-color: var(--fill-color);\n",
              "    }\n",
              "    80% {\n",
              "      border-color: transparent;\n",
              "      border-right-color: var(--fill-color);\n",
              "      border-bottom-color: var(--fill-color);\n",
              "    }\n",
              "    90% {\n",
              "      border-color: transparent;\n",
              "      border-bottom-color: var(--fill-color);\n",
              "    }\n",
              "  }\n",
              "</style>\n",
              "\n",
              "  <script>\n",
              "    async function quickchart(key) {\n",
              "      const quickchartButtonEl =\n",
              "        document.querySelector('#' + key + ' button');\n",
              "      quickchartButtonEl.disabled = true;  // To prevent multiple clicks.\n",
              "      quickchartButtonEl.classList.add('colab-df-spinner');\n",
              "      try {\n",
              "        const charts = await google.colab.kernel.invokeFunction(\n",
              "            'suggestCharts', [key], {});\n",
              "      } catch (error) {\n",
              "        console.error('Error during call to suggestCharts:', error);\n",
              "      }\n",
              "      quickchartButtonEl.classList.remove('colab-df-spinner');\n",
              "      quickchartButtonEl.classList.add('colab-df-quickchart-complete');\n",
              "    }\n",
              "    (() => {\n",
              "      let quickchartButtonEl =\n",
              "        document.querySelector('#df-43b74173-d36f-4cde-bb2c-ce151d966561 button');\n",
              "      quickchartButtonEl.style.display =\n",
              "        google.colab.kernel.accessAllowed ? 'block' : 'none';\n",
              "    })();\n",
              "  </script>\n",
              "</div>\n",
              "\n",
              "    </div>\n",
              "  </div>\n"
            ],
            "application/vnd.google.colaboratory.intrinsic+json": {
              "type": "dataframe",
              "variable_name": "data"
            }
          },
          "metadata": {},
          "execution_count": 280
        }
      ],
      "source": [
        "data.head()"
      ]
    },
    {
      "cell_type": "code",
      "execution_count": null,
      "id": "029775ea",
      "metadata": {
        "id": "029775ea"
      },
      "outputs": [],
      "source": [
        "from sklearn.model_selection import train_test_split"
      ]
    },
    {
      "cell_type": "code",
      "execution_count": null,
      "id": "26c4d153",
      "metadata": {
        "colab": {
          "base_uri": "https://localhost:8080/"
        },
        "id": "26c4d153",
        "outputId": "e42ee524-8eb7-4ab0-bd68-4068e2041130"
      },
      "outputs": [
        {
          "output_type": "execute_result",
          "data": {
            "text/plain": [
              "Index(['Months', 'Sex', 'DOA', 'Fever (P/A)', 'Duration of fever (days)',\n",
              "       'Headache (P/A)', 'Duration of headache', 'Myalgia (P/A)',\n",
              "       'Duration of myalgia', 'Cough (P/A)', 'Duration of cough',\n",
              "       'Productive/Non productive (P/NP)', 'Dyspnea (P/A)',\n",
              "       'Duration of dyspnea', 'Vomiting (P/A)', 'Duration of vomiting',\n",
              "       'Hematuria (P/A)', 'Duration of hematuria', 'Edema (P/A)',\n",
              "       'Duration of edema', 'Anorexia (P/A)', 'Nausea (P/A)',\n",
              "       'Diarrhoea (P/A)', 'Past illness (P/A)', 'Comorbidities',\n",
              "       'Similar illness in family (P/A)',\n",
              "       'Any rodent bite/scratch/contact with rodent droppings (Y/N)', 'BP',\n",
              "       'RR', 'PR', 'Temperature', 'Crepitus/Rhonchi (P/A)', 'Petechiae (P/A)',\n",
              "       'Additional physical finding', 'Any specific renal sign', 'Total count',\n",
              "       'Hb', 'PCV', 'Differential count', 'Platelet count', 'Prothrombin time',\n",
              "       'SGOT', 'SGPT', 'Bilirubin', 'S. protein (g%)', 'S. albumin (g%)',\n",
              "       'A/G ratio', 'S. creatinine (mg%)', 'Urine protein (mg)',\n",
              "       'Urine output (24 hr) (ml/Kg/Hr)', 'Other Investigations if any',\n",
              "       'Bacterial culture & sensitivity (Positive / Negative / not done )',\n",
              "       'If positive, Organism', 'Dengue Viral Immunoassay (IgM) (Done/NA )',\n",
              "       'Dengue Viral Immunoassay (IgM) (Positive/Negative)',\n",
              "       'Typhidot / Widal (Done/Not done)', 'Typhi dot/ WIDAL Report',\n",
              "       'Weil Felix/Scrub typhus IgM (Done/Not done)', 'Scrub typhus Report',\n",
              "       'Malarial parasites (Done/Not done)', 'Malaria report',\n",
              "       'ELISA for leptospirosis (Done/Not done)', 'Lepto report',\n",
              "       'CXR (Done/Not done)', 'Xray report', 'USG Abdomen (Done/Not done)',\n",
              "       'USG Abd report', 'Final Diagnosis', 'AUF Result'],\n",
              "      dtype='object')"
            ]
          },
          "metadata": {},
          "execution_count": 282
        }
      ],
      "source": [
        "data.columns"
      ]
    },
    {
      "cell_type": "code",
      "execution_count": null,
      "id": "f98b2c45",
      "metadata": {
        "id": "f98b2c45"
      },
      "outputs": [],
      "source": [
        "x=data[['Months', 'Sex', 'DOA', 'Fever (P/A)', 'Duration of fever (days)',\n",
        "       'Headache (P/A)', 'Duration of headache', 'Myalgia (P/A)',\n",
        "       'Duration of myalgia', 'Cough (P/A)', 'Duration of cough',\n",
        "       'Productive/Non productive (P/NP)', 'Dyspnea (P/A)',\n",
        "       'Duration of dyspnea', 'Vomiting (P/A)', 'Duration of vomiting',\n",
        "       'Hematuria (P/A)', 'Duration of hematuria', 'Edema (P/A)',\n",
        "       'Duration of edema', 'Anorexia (P/A)', 'Nausea (P/A)',\n",
        "       'Diarrhoea (P/A)', 'Past illness (P/A)', 'Comorbidities',\n",
        "       'Similar illness in family (P/A)',\n",
        "       'Any rodent bite/scratch/contact with rodent droppings (Y/N)', 'BP',\n",
        "       'RR', 'PR', 'Temperature', 'Crepitus/Rhonchi (P/A)', 'Petechiae (P/A)',\n",
        "       'Additional physical finding', 'Any specific renal sign', 'Total count',\n",
        "       'Hb', 'PCV', 'Differential count', 'Platelet count', 'Prothrombin time',\n",
        "       'SGOT', 'SGPT', 'Bilirubin', 'S. protein (g%)', 'S. albumin (g%)',\n",
        "       'A/G ratio', 'S. creatinine (mg%)', 'Urine protein (mg)',\n",
        "       'Urine output (24 hr) (ml/Kg/Hr)', 'Other Investigations if any',\n",
        "       'Bacterial culture & sensitivity (Positive / Negative / not done )',\n",
        "       'If positive, Organism', 'Dengue Viral Immunoassay (IgM) (Done/NA )',\n",
        "       'Dengue Viral Immunoassay (IgM) (Positive/Negative)',\n",
        "       'Typhidot / Widal (Done/Not done)', 'Typhi dot/ WIDAL Report',\n",
        "       'Weil Felix/Scrub typhus IgM (Done/Not done)', 'Scrub typhus Report',\n",
        "       'Malarial parasites (Done/Not done)', 'Malaria report',\n",
        "       'ELISA for leptospirosis (Done/Not done)', 'Lepto report',\n",
        "       'CXR (Done/Not done)', 'Xray report', 'USG Abdomen (Done/Not done)',\n",
        "       'USG Abd report', 'Final Diagnosis']]\n",
        "y=data['AUF Result']"
      ]
    },
    {
      "cell_type": "code",
      "execution_count": null,
      "id": "zPIgTlfl-ZoI",
      "metadata": {
        "colab": {
          "base_uri": "https://localhost:8080/"
        },
        "id": "zPIgTlfl-ZoI",
        "outputId": "91ede733-eeb0-4baf-f72a-d15100508d85"
      },
      "outputs": [
        {
          "output_type": "execute_result",
          "data": {
            "text/plain": [
              "AUF Result\n",
              "6     123\n",
              "10     34\n",
              "13     29\n",
              "11     11\n",
              "9      11\n",
              "12      8\n",
              "18      5\n",
              "17      4\n",
              "0       3\n",
              "2       3\n",
              "14      3\n",
              "8       2\n",
              "4       1\n",
              "7       1\n",
              "1       1\n",
              "5       1\n",
              "15      1\n",
              "16      1\n",
              "3       1\n",
              "Name: count, dtype: int64"
            ]
          },
          "metadata": {},
          "execution_count": 284
        }
      ],
      "source": [
        "data['AUF Result'].value_counts()"
      ]
    },
    {
      "cell_type": "code",
      "execution_count": null,
      "id": "0fe297b3",
      "metadata": {
        "id": "0fe297b3"
      },
      "outputs": [],
      "source": [
        "#y=y.apply(yt)"
      ]
    },
    {
      "cell_type": "code",
      "execution_count": null,
      "id": "8c8d2856",
      "metadata": {
        "id": "8c8d2856"
      },
      "outputs": [],
      "source": [
        "#data.to_csv(\"Encoded_data.csv\")"
      ]
    },
    {
      "cell_type": "markdown",
      "id": "659c461d",
      "metadata": {
        "id": "659c461d"
      },
      "source": [
        "# 80:20 Fixed Neural Net"
      ]
    },
    {
      "cell_type": "code",
      "source": [
        "from tensorflow.keras.metrics import Recall,Precision\n",
        "\n",
        "from sklearn.metrics import accuracy_score,recall_score"
      ],
      "metadata": {
        "id": "N5VxIWq5UlAT"
      },
      "id": "N5VxIWq5UlAT",
      "execution_count": null,
      "outputs": []
    },
    {
      "cell_type": "code",
      "execution_count": null,
      "id": "5b5568e2",
      "metadata": {
        "id": "5b5568e2"
      },
      "outputs": [],
      "source": [
        "x_train,x_test,y_train,y_test=train_test_split(x,y,test_size=0.2,random_state=101)"
      ]
    },
    {
      "cell_type": "code",
      "source": [
        "type(y_train)"
      ],
      "metadata": {
        "colab": {
          "base_uri": "https://localhost:8080/",
          "height": 203
        },
        "id": "P6Zt7osaJK2F",
        "outputId": "704b7a91-7738-40f3-a7d1-047acfda34b6"
      },
      "id": "P6Zt7osaJK2F",
      "execution_count": null,
      "outputs": [
        {
          "output_type": "execute_result",
          "data": {
            "text/plain": [
              "pandas.core.series.Series"
            ],
            "text/html": [
              "<div style=\"max-width:800px; border: 1px solid var(--colab-border-color);\"><style>\n",
              "      pre.function-repr-contents {\n",
              "        overflow-x: auto;\n",
              "        padding: 8px 12px;\n",
              "        max-height: 500px;\n",
              "      }\n",
              "\n",
              "      pre.function-repr-contents.function-repr-contents-collapsed {\n",
              "        cursor: pointer;\n",
              "        max-height: 100px;\n",
              "      }\n",
              "    </style>\n",
              "    <pre style=\"white-space: initial; background:\n",
              "         var(--colab-secondary-surface-color); padding: 8px 12px;\n",
              "         border-bottom: 1px solid var(--colab-border-color);\"><b>pandas.core.series.Series</b><br/>def __init__(data=None, index=None, dtype: Dtype | None=None, name=None, copy: bool | None=None, fastpath: bool=False) -&gt; None</pre><pre class=\"function-repr-contents function-repr-contents-collapsed\" style=\"\"><a class=\"filepath\" style=\"display:none\" href=\"#\">/usr/local/lib/python3.10/dist-packages/pandas/core/series.py</a>One-dimensional ndarray with axis labels (including time series).\n",
              "\n",
              "Labels need not be unique but must be a hashable type. The object\n",
              "supports both integer- and label-based indexing and provides a host of\n",
              "methods for performing operations involving the index. Statistical\n",
              "methods from ndarray have been overridden to automatically exclude\n",
              "missing data (currently represented as NaN).\n",
              "\n",
              "Operations between Series (+, -, /, \\*, \\*\\*) align values based on their\n",
              "associated index values-- they need not be the same length. The result\n",
              "index will be the sorted union of the two indexes.\n",
              "\n",
              "Parameters\n",
              "----------\n",
              "data : array-like, Iterable, dict, or scalar value\n",
              "    Contains data stored in Series. If data is a dict, argument order is\n",
              "    maintained.\n",
              "index : array-like or Index (1d)\n",
              "    Values must be hashable and have the same length as `data`.\n",
              "    Non-unique index values are allowed. Will default to\n",
              "    RangeIndex (0, 1, 2, ..., n) if not provided. If data is dict-like\n",
              "    and index is None, then the keys in the data are used as the index. If the\n",
              "    index is not None, the resulting Series is reindexed with the index values.\n",
              "dtype : str, numpy.dtype, or ExtensionDtype, optional\n",
              "    Data type for the output Series. If not specified, this will be\n",
              "    inferred from `data`.\n",
              "    See the :ref:`user guide &lt;basics.dtypes&gt;` for more usages.\n",
              "name : Hashable, default None\n",
              "    The name to give to the Series.\n",
              "copy : bool, default False\n",
              "    Copy input data. Only affects Series or 1d ndarray input. See examples.\n",
              "\n",
              "Notes\n",
              "-----\n",
              "Please reference the :ref:`User Guide &lt;basics.series&gt;` for more information.\n",
              "\n",
              "Examples\n",
              "--------\n",
              "Constructing Series from a dictionary with an Index specified\n",
              "\n",
              "&gt;&gt;&gt; d = {&#x27;a&#x27;: 1, &#x27;b&#x27;: 2, &#x27;c&#x27;: 3}\n",
              "&gt;&gt;&gt; ser = pd.Series(data=d, index=[&#x27;a&#x27;, &#x27;b&#x27;, &#x27;c&#x27;])\n",
              "&gt;&gt;&gt; ser\n",
              "a   1\n",
              "b   2\n",
              "c   3\n",
              "dtype: int64\n",
              "\n",
              "The keys of the dictionary match with the Index values, hence the Index\n",
              "values have no effect.\n",
              "\n",
              "&gt;&gt;&gt; d = {&#x27;a&#x27;: 1, &#x27;b&#x27;: 2, &#x27;c&#x27;: 3}\n",
              "&gt;&gt;&gt; ser = pd.Series(data=d, index=[&#x27;x&#x27;, &#x27;y&#x27;, &#x27;z&#x27;])\n",
              "&gt;&gt;&gt; ser\n",
              "x   NaN\n",
              "y   NaN\n",
              "z   NaN\n",
              "dtype: float64\n",
              "\n",
              "Note that the Index is first build with the keys from the dictionary.\n",
              "After this the Series is reindexed with the given Index values, hence we\n",
              "get all NaN as a result.\n",
              "\n",
              "Constructing Series from a list with `copy=False`.\n",
              "\n",
              "&gt;&gt;&gt; r = [1, 2]\n",
              "&gt;&gt;&gt; ser = pd.Series(r, copy=False)\n",
              "&gt;&gt;&gt; ser.iloc[0] = 999\n",
              "&gt;&gt;&gt; r\n",
              "[1, 2]\n",
              "&gt;&gt;&gt; ser\n",
              "0    999\n",
              "1      2\n",
              "dtype: int64\n",
              "\n",
              "Due to input data type the Series has a `copy` of\n",
              "the original data even though `copy=False`, so\n",
              "the data is unchanged.\n",
              "\n",
              "Constructing Series from a 1d ndarray with `copy=False`.\n",
              "\n",
              "&gt;&gt;&gt; r = np.array([1, 2])\n",
              "&gt;&gt;&gt; ser = pd.Series(r, copy=False)\n",
              "&gt;&gt;&gt; ser.iloc[0] = 999\n",
              "&gt;&gt;&gt; r\n",
              "array([999,   2])\n",
              "&gt;&gt;&gt; ser\n",
              "0    999\n",
              "1      2\n",
              "dtype: int64\n",
              "\n",
              "Due to input data type the Series has a `view` on\n",
              "the original data, so\n",
              "the data is changed as well.</pre>\n",
              "      <script>\n",
              "      if (google.colab.kernel.accessAllowed && google.colab.files && google.colab.files.view) {\n",
              "        for (const element of document.querySelectorAll('.filepath')) {\n",
              "          element.style.display = 'block'\n",
              "          element.onclick = (event) => {\n",
              "            event.preventDefault();\n",
              "            event.stopPropagation();\n",
              "            google.colab.files.view(element.textContent, 244);\n",
              "          };\n",
              "        }\n",
              "      }\n",
              "      for (const element of document.querySelectorAll('.function-repr-contents')) {\n",
              "        element.onclick = (event) => {\n",
              "          event.preventDefault();\n",
              "          event.stopPropagation();\n",
              "          element.classList.toggle('function-repr-contents-collapsed');\n",
              "        };\n",
              "      }\n",
              "      </script>\n",
              "      </div>"
            ]
          },
          "metadata": {},
          "execution_count": 289
        }
      ]
    },
    {
      "cell_type": "code",
      "execution_count": null,
      "id": "0d7909c2",
      "metadata": {
        "id": "0d7909c2"
      },
      "outputs": [],
      "source": [
        "from sklearn import preprocessing"
      ]
    },
    {
      "cell_type": "code",
      "source": [
        "set(y)"
      ],
      "metadata": {
        "colab": {
          "base_uri": "https://localhost:8080/"
        },
        "id": "kyFlNGzICEmO",
        "outputId": "148c7255-5b98-4363-e26c-f169e3b7e98e"
      },
      "id": "kyFlNGzICEmO",
      "execution_count": null,
      "outputs": [
        {
          "output_type": "execute_result",
          "data": {
            "text/plain": [
              "{0, 1, 2, 3, 4, 5, 6, 7, 8, 9, 10, 11, 12, 13, 14, 15, 16, 17, 18}"
            ]
          },
          "metadata": {},
          "execution_count": 291
        }
      ]
    },
    {
      "cell_type": "code",
      "source": [
        "\n",
        "# # Placeholder for your data\n",
        "# # Example data for demonstration purposes\n",
        "# # X = np.random.rand(100, 5)\n",
        "# # y = np.random.randint(0, 22, 100)\n",
        "# # Initial train-test split (if not already split)\n",
        "# # x_train, x_test, y_train, y_test = train_test_split(X, y, test_size=0.2, random_state=42)\n",
        "\n",
        "# # Identify unique values in y, y_train, and y_test\n",
        "# unique_y = set(y)\n",
        "# train_values = set(y_train)\n",
        "# test_values = set(y_test)\n",
        "\n",
        "# # Find missing values\n",
        "# missing_train = unique_y - train_values\n",
        "# missing_test = unique_y - test_values\n",
        "\n",
        "# # Combine train and test data for easier manipulation\n",
        "# combined_X = pd.concat([x_train, x_test])\n",
        "# combined_y = pd.concat([y_train, y_test])\n",
        "\n",
        "# # Function to add missing values\n",
        "# def add_missing_values(value, x_train, y_train, x_test, y_test):\n",
        "#     indices = combined_y[combined_y == value].index\n",
        "#     if len(indices) == 1:\n",
        "#         x_train = pd.concat([x_train, combined_X.loc[indices]])\n",
        "#         y_train = pd.concat([y_train, combined_y.loc[indices]])\n",
        "#         x_test = pd.concat([x_test, combined_X.loc[indices]])\n",
        "#         y_test = pd.concat([y_test, combined_y.loc[indices]])\n",
        "#     else:\n",
        "#         split_index = len(indices) // 2\n",
        "#         train_indices = indices[:split_index]\n",
        "#         test_indices = indices[split_index:]\n",
        "#         x_train = pd.concat([x_train, combined_X.loc[train_indices]])\n",
        "#         y_train = pd.concat([y_train, combined_y.loc[train_indices]])\n",
        "#         x_test = pd.concat([x_test, combined_X.loc[test_indices]])\n",
        "#         y_test = pd.concat([y_test, combined_y.loc[test_indices]])\n",
        "#     return x_train, y_train, x_test, y_test\n",
        "\n",
        "# # Add missing values to train and test sets\n",
        "# for value in missing_train | missing_test:\n",
        "#     x_train, y_train, x_test, y_test = add_missing_values(value, x_train, y_train, x_test, y_test)\n",
        "\n",
        "# # Ensure no duplicate entries\n",
        "# x_train = x_train.drop_duplicates().reset_index(drop=True)\n",
        "# y_train = y_train.loc[x_train.index].reset_index(drop=True)\n",
        "# x_test = x_test.drop_duplicates().reset_index(drop=True)\n",
        "# y_test = y_test.loc[x_test.index].reset_index(drop=True)\n",
        "\n",
        "# # # Convert y_train and y_test to categorical form\n",
        "# # y_train_categorical = to_categorical(y_train, num_classes=len(unique_y))\n",
        "# # y_test_categorical = to_categorical(y_test, num_classes=len(unique_y))\n",
        "\n",
        "# # Display the results\n",
        "# print(\"x_train:\", x_train)\n",
        "# print(\"y_train:\", y_train)\n",
        "# # print(\"y_train_categorical:\", y_train_categorical)\n",
        "# print(\"x_test:\", x_test)\n",
        "# print(\"y_test:\", y_test)\n",
        "# # print(\"y_test_categorical:\", y_test_categorical)\n"
      ],
      "metadata": {
        "id": "GCVw1hPQ3tvN"
      },
      "id": "GCVw1hPQ3tvN",
      "execution_count": null,
      "outputs": []
    },
    {
      "cell_type": "code",
      "execution_count": null,
      "id": "1cef50c3",
      "metadata": {
        "id": "1cef50c3"
      },
      "outputs": [],
      "source": [
        "min_max_scaler = preprocessing.MinMaxScaler()\n",
        "X_train_minmax = min_max_scaler.fit_transform(x_train)"
      ]
    },
    {
      "cell_type": "code",
      "execution_count": null,
      "id": "c58af689",
      "metadata": {
        "id": "c58af689"
      },
      "outputs": [],
      "source": [
        "X_test_minmax = min_max_scaler.transform(x_test)"
      ]
    },
    {
      "cell_type": "code",
      "execution_count": null,
      "id": "XnY42etSsuyr",
      "metadata": {
        "id": "XnY42etSsuyr"
      },
      "outputs": [],
      "source": [
        "# from keras.models import Sequential\n",
        "# from keras.layers import Dense\n",
        "\n",
        "# # Define the model\n",
        "# model = Sequential()\n",
        "\n",
        "# # Add input layer\n",
        "# model.add(Dense(128, input_dim=68, activation='relu'))  # 68 input features, 128 neurons in the first hidden layer\n",
        "\n",
        "# # Add a second hidden layer\n",
        "# # model.add(Dense(64, activation='relu'))  # 64 neurons in the second hidden layer\n",
        "\n",
        "# # Add output layer\n",
        "# model.add(Dense(19, activation='sigmoid'))  # 21 output classes, softmax activation for classification\n",
        "\n",
        "# # Compile the model\n",
        "# model.compile(loss='categorical_crossentropy', optimizer='adam', metrics=['accuracy',Recall(),Precision()])\n",
        "\n",
        "# # Print model summary\n",
        "# model.summary()\n"
      ]
    },
    {
      "cell_type": "code",
      "source": [
        "# y_train=pd.Series(y_train)\n",
        "# y_test=pd.Series(y_test)"
      ],
      "metadata": {
        "id": "ulKeE0fn9wNG"
      },
      "id": "ulKeE0fn9wNG",
      "execution_count": null,
      "outputs": []
    },
    {
      "cell_type": "code",
      "source": [
        "# y_train.value_counts()"
      ],
      "metadata": {
        "id": "N5XhcR9b__L8"
      },
      "id": "N5XhcR9b__L8",
      "execution_count": null,
      "outputs": []
    },
    {
      "cell_type": "code",
      "source": [
        "from pycaret.classification import *\n",
        "\n"
      ],
      "metadata": {
        "id": "lN-WcMvPFaTf"
      },
      "id": "lN-WcMvPFaTf",
      "execution_count": null,
      "outputs": []
    },
    {
      "cell_type": "code",
      "source": [
        "#!pip install catboost"
      ],
      "metadata": {
        "id": "QqEev2HAI0Oj"
      },
      "id": "QqEev2HAI0Oj",
      "execution_count": null,
      "outputs": []
    },
    {
      "cell_type": "code",
      "source": [
        "import pandas as pd\n",
        "from sklearn.model_selection import train_test_split\n",
        "from sklearn.preprocessing import StandardScaler\n",
        "from sklearn.metrics import accuracy_score, roc_auc_score, recall_score, precision_score, f1_score, cohen_kappa_score, matthews_corrcoef\n",
        "from sklearn.ensemble import RandomForestClassifier, ExtraTreesClassifier, GradientBoostingClassifier, AdaBoostClassifier\n",
        "from sklearn.tree import DecisionTreeClassifier\n",
        "from sklearn.neighbors import KNeighborsClassifier\n",
        "from sklearn.naive_bayes import GaussianNB\n",
        "from sklearn.discriminant_analysis import QuadraticDiscriminantAnalysis, LinearDiscriminantAnalysis\n",
        "from sklearn.linear_model import LogisticRegression, RidgeClassifier\n",
        "from sklearn.svm import SVC\n",
        "from sklearn.dummy import DummyClassifier\n",
        "from catboost import CatBoostClassifier\n",
        "import time\n",
        "\n",
        "# Load your dataset\n",
        "# df = pd.read_csv('your_dataset.csv')\n",
        "# X = df.drop('target', axis=1)\n",
        "# y = df['target']\n",
        "\n",
        "# Split the data\n",
        "# X_train, X_test, y_train, y_test = train_test_split(X, y, test_size=0.2, random_state=42)\n",
        "\n",
        "# # Standardize the data\n",
        "# scaler = StandardScaler()\n",
        "# X_train = scaler.fit_transform(X_train)\n",
        "# X_test = scaler.transform(X_test)\n",
        "\n",
        "# Define the classifiers\n",
        "classifiers = {\n",
        "    'Random Forest': RandomForestClassifier(),\n",
        "    'Extra Trees': ExtraTreesClassifier(),\n",
        "    'Gradient Boosting': GradientBoostingClassifier(),\n",
        "    'Ada Boost': AdaBoostClassifier(),\n",
        "    'Decision Tree': DecisionTreeClassifier(),\n",
        "    'K Neighbors': KNeighborsClassifier(),\n",
        "    'Naive Bayes': GaussianNB(),\n",
        "    #'Quadratic Discriminant Analysis': QuadraticDiscriminantAnalysis(),\n",
        "    'Linear Discriminant Analysis': LinearDiscriminantAnalysis(),\n",
        "    'Logistic Regression': LogisticRegression(),\n",
        "    'Ridge Classifier': RidgeClassifier(),\n",
        "    #'SVM - Linear Kernel': SVC(kernel='linear', probability=True),\n",
        "    'CatBoost': CatBoostClassifier(verbose=0),\n",
        "    'Dummy Classifier': DummyClassifier(strategy='most_frequent')\n",
        "}\n",
        "\n",
        "# Prepare the results table\n",
        "results = []\n",
        "\n",
        "for name, clf in classifiers.items():\n",
        "    start_time = time.time()\n",
        "    clf.fit(X_train_minmax, y_train)\n",
        "    print(name)\n",
        "    y_pred = clf.predict(X_test_minmax)\n",
        "    y_prob = clf.predict_proba(X_test_minmax)[:, 1] if hasattr(clf, 'predict_proba') else None\n",
        "    end_time = time.time()\n",
        "\n",
        "    accuracy = accuracy_score(y_test, y_pred)\n",
        "    #auc = roc_auc_score(y_test, y_prob,multi_class='ovr', average='macro') if y_prob is not None else None\n",
        "    recall = recall_score(y_test, y_pred,average='micro')\n",
        "    precision = precision_score(y_test, y_pred,average='micro')\n",
        "    f1 = f1_score(y_test, y_pred,average='micro')\n",
        "    kappa = cohen_kappa_score(y_test, y_pred)\n",
        "    #mcc = matthews_corrcoef(y_test, y_pred)\n",
        "    #tt = end_time - start_time\n",
        "\n",
        "    results.append({\n",
        "        'Model': name,\n",
        "        'Accuracy': accuracy,\n",
        "        'Recall': recall,\n",
        "        'Precision': precision,\n",
        "        'F1': f1,\n",
        "        'Kappa': kappa\n",
        "    })\n",
        "\n",
        "# Convert results to DataFrame\n",
        "results_df = pd.DataFrame(results)\n",
        "\n",
        "# Display the results\n",
        "print(results_df)\n"
      ],
      "metadata": {
        "colab": {
          "base_uri": "https://localhost:8080/"
        },
        "id": "ORF0nG1uFaQl",
        "outputId": "ddf96c0d-a9bb-4b8a-9364-44f75e098828"
      },
      "id": "ORF0nG1uFaQl",
      "execution_count": null,
      "outputs": [
        {
          "output_type": "stream",
          "name": "stdout",
          "text": [
            "Random Forest\n",
            "Extra Trees\n",
            "Gradient Boosting\n",
            "Ada Boost\n",
            "Decision Tree\n",
            "K Neighbors\n",
            "Naive Bayes\n",
            "Linear Discriminant Analysis\n",
            "Logistic Regression\n",
            "Ridge Classifier\n",
            "CatBoost\n",
            "Dummy Classifier\n",
            "                           Model  Accuracy    Recall  Precision        F1  \\\n",
            "0                  Random Forest  0.530612  0.530612   0.530612  0.530612   \n",
            "1                    Extra Trees  0.591837  0.591837   0.591837  0.591837   \n",
            "2              Gradient Boosting  0.551020  0.551020   0.551020  0.551020   \n",
            "3                      Ada Boost  0.489796  0.489796   0.489796  0.489796   \n",
            "4                  Decision Tree  0.551020  0.551020   0.551020  0.551020   \n",
            "5                    K Neighbors  0.469388  0.469388   0.469388  0.469388   \n",
            "6                    Naive Bayes  0.204082  0.204082   0.204082  0.204082   \n",
            "7   Linear Discriminant Analysis  0.448980  0.448980   0.448980  0.448980   \n",
            "8            Logistic Regression  0.571429  0.571429   0.571429  0.571429   \n",
            "9               Ridge Classifier  0.591837  0.591837   0.591837  0.591837   \n",
            "10                      CatBoost  0.632653  0.632653   0.632653  0.632653   \n",
            "11              Dummy Classifier  0.510204  0.510204   0.510204  0.510204   \n",
            "\n",
            "       Kappa  \n",
            "0   0.211337  \n",
            "1   0.311314  \n",
            "2   0.323714  \n",
            "3   0.122493  \n",
            "4   0.335388  \n",
            "5   0.174870  \n",
            "6   0.061856  \n",
            "7   0.219469  \n",
            "8   0.276371  \n",
            "9   0.331514  \n",
            "10  0.388773  \n",
            "11  0.000000  \n"
          ]
        }
      ]
    },
    {
      "cell_type": "code",
      "source": [],
      "metadata": {
        "id": "PdoWzziZFaNx"
      },
      "id": "PdoWzziZFaNx",
      "execution_count": null,
      "outputs": []
    },
    {
      "cell_type": "code",
      "source": [],
      "metadata": {
        "id": "W_T6AEYKFaLF"
      },
      "id": "W_T6AEYKFaLF",
      "execution_count": null,
      "outputs": []
    },
    {
      "cell_type": "code",
      "source": [],
      "metadata": {
        "id": "zg2m9TbzFaId"
      },
      "id": "zg2m9TbzFaId",
      "execution_count": null,
      "outputs": []
    }
  ],
  "metadata": {
    "colab": {
      "provenance": [],
      "include_colab_link": true
    },
    "kernelspec": {
      "display_name": "Python 3 (ipykernel)",
      "language": "python",
      "name": "python3"
    },
    "language_info": {
      "codemirror_mode": {
        "name": "ipython",
        "version": 3
      },
      "file_extension": ".py",
      "mimetype": "text/x-python",
      "name": "python",
      "nbconvert_exporter": "python",
      "pygments_lexer": "ipython3",
      "version": "3.11.5"
    }
  },
  "nbformat": 4,
  "nbformat_minor": 5
}